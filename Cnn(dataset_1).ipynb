{
  "nbformat": 4,
  "nbformat_minor": 0,
  "metadata": {
    "colab": {
      "provenance": []
    },
    "kernelspec": {
      "name": "python3",
      "display_name": "Python 3"
    },
    "language_info": {
      "name": "python"
    }
  },
  "cells": [
    {
      "cell_type": "code",
      "execution_count": null,
      "metadata": {
        "id": "k01ZJWHrzeuH"
      },
      "outputs": [],
      "source": [
        "import numpy as np # linear algebra\n",
        "import pandas as pd\n",
        "import re\n",
        "from nltk.corpus import stopwords\n",
        "from textblob import TextBlob\n",
        "from textblob import Word\n",
        "import nltk\n",
        "import re\n",
        "import os\n",
        "import sys\n",
        "import seaborn as sns\n",
        "import matplotlib.pyplot as plt"
      ]
    },
    {
      "cell_type": "code",
      "source": [
        "df=pd.read_csv(\"/content/Book1.csv\")"
      ],
      "metadata": {
        "id": "Ti5YMoGJ0KEL"
      },
      "execution_count": null,
      "outputs": []
    },
    {
      "cell_type": "code",
      "source": [
        "from google.colab import drive\n",
        "drive.mount('/content/drive')"
      ],
      "metadata": {
        "colab": {
          "base_uri": "https://localhost:8080/"
        },
        "id": "fUNCUjd34wQV",
        "outputId": "06978013-5493-4154-de22-bc3782bbf695"
      },
      "execution_count": null,
      "outputs": [
        {
          "output_type": "stream",
          "name": "stdout",
          "text": [
            "Mounted at /content/drive\n"
          ]
        }
      ]
    },
    {
      "cell_type": "code",
      "source": [
        "!pip install stopwords"
      ],
      "metadata": {
        "colab": {
          "base_uri": "https://localhost:8080/"
        },
        "id": "_29joTv262Ug",
        "outputId": "0c905b5d-d10c-42f7-901d-2dbd68ea2923"
      },
      "execution_count": null,
      "outputs": [
        {
          "output_type": "stream",
          "name": "stdout",
          "text": [
            "Collecting stopwords\n",
            "  Downloading stopwords-1.0.0-py2.py3-none-any.whl (37 kB)\n",
            "Installing collected packages: stopwords\n",
            "Successfully installed stopwords-1.0.0\n"
          ]
        }
      ]
    },
    {
      "cell_type": "code",
      "source": [
        "!pip install nltk"
      ],
      "metadata": {
        "colab": {
          "base_uri": "https://localhost:8080/"
        },
        "id": "t-xcGMQL6-xY",
        "outputId": "d8e11aaf-28e7-422b-bfe7-d55838de7811"
      },
      "execution_count": null,
      "outputs": [
        {
          "output_type": "stream",
          "name": "stdout",
          "text": [
            "Requirement already satisfied: nltk in /usr/local/lib/python3.10/dist-packages (3.8.1)\n",
            "Requirement already satisfied: click in /usr/local/lib/python3.10/dist-packages (from nltk) (8.1.7)\n",
            "Requirement already satisfied: joblib in /usr/local/lib/python3.10/dist-packages (from nltk) (1.3.2)\n",
            "Requirement already satisfied: regex>=2021.8.3 in /usr/local/lib/python3.10/dist-packages (from nltk) (2023.6.3)\n",
            "Requirement already satisfied: tqdm in /usr/local/lib/python3.10/dist-packages (from nltk) (4.66.1)\n"
          ]
        }
      ]
    },
    {
      "cell_type": "code",
      "source": [
        "nltk.download('stopwords')"
      ],
      "metadata": {
        "colab": {
          "base_uri": "https://localhost:8080/"
        },
        "id": "3GwGgf987D3p",
        "outputId": "f3e4bdd7-66d3-4d49-d130-89bad68e5b70"
      },
      "execution_count": null,
      "outputs": [
        {
          "output_type": "stream",
          "name": "stderr",
          "text": [
            "[nltk_data] Downloading package stopwords to /root/nltk_data...\n",
            "[nltk_data]   Unzipping corpora/stopwords.zip.\n"
          ]
        },
        {
          "output_type": "execute_result",
          "data": {
            "text/plain": [
              "True"
            ]
          },
          "metadata": {},
          "execution_count": 11
        }
      ]
    },
    {
      "cell_type": "code",
      "source": [
        "nltk.download('wordnet')"
      ],
      "metadata": {
        "colab": {
          "base_uri": "https://localhost:8080/"
        },
        "id": "Cx2CYWWH7KUI",
        "outputId": "4a0c098d-02f5-465d-f79b-64f3afad96fb"
      },
      "execution_count": null,
      "outputs": [
        {
          "output_type": "stream",
          "name": "stderr",
          "text": [
            "[nltk_data] Downloading package wordnet to /root/nltk_data...\n"
          ]
        },
        {
          "output_type": "execute_result",
          "data": {
            "text/plain": [
              "True"
            ]
          },
          "metadata": {},
          "execution_count": 12
        }
      ]
    },
    {
      "cell_type": "code",
      "source": [
        "df.head()"
      ],
      "metadata": {
        "colab": {
          "base_uri": "https://localhost:8080/",
          "height": 486
        },
        "id": "oPKj-gPP0Qa1",
        "outputId": "1bec7b59-d3e0-4e26-f59d-fe892e69703d"
      },
      "execution_count": null,
      "outputs": [
        {
          "output_type": "execute_result",
          "data": {
            "text/plain": [
              "   Column1 urlDrugName  rating           effectiveness          sideEffects  \\\n",
              "0     1366      biaxin       9  Considerably Effective    Mild Side Effects   \n",
              "1     3724    lamictal       9        Highly Effective    Mild Side Effects   \n",
              "2     3824    depakene       4    Moderately Effective  Severe Side Effects   \n",
              "3      969     sarafem      10        Highly Effective      No Side Effects   \n",
              "4      696    accutane      10        Highly Effective    Mild Side Effects   \n",
              "\n",
              "            condition                                     benefitsReview  \\\n",
              "0     sinus infection  The antibiotic may have destroyed bacteria cau...   \n",
              "1    bipolar disorder  Lamictal stabilized my serious mood swings. On...   \n",
              "2    bipolar disorder  Initial benefits were comparable to the brand ...   \n",
              "3  bi-polar / anxiety  It controlls my mood swings. It helps me think...   \n",
              "4        nodular acne  Within one week of treatment superficial acne ...   \n",
              "\n",
              "                                   sideEffectsReview  \\\n",
              "0                      Some back pain, some nauseau.   \n",
              "1  Drowsiness, a bit of mental numbness. If you t...   \n",
              "2  Depakene has a very thin coating, which caused...   \n",
              "3            I didnt really notice any side effects.   \n",
              "4  Side effects included moderate to severe dry s...   \n",
              "\n",
              "                                      commentsReview  \n",
              "0  Took the antibiotics for 14 days. Sinus infect...  \n",
              "1  Severe mood swings between hypomania and depre...  \n",
              "2  Depakote was prescribed to me by a Kaiser psyc...  \n",
              "3  This drug may not be for everyone but its wond...  \n",
              "4  Drug was taken in gelatin tablet at 0.5 mg per...  "
            ],
            "text/html": [
              "\n",
              "  <div id=\"df-b207fc64-92eb-42ae-aa5d-9740a367176a\" class=\"colab-df-container\">\n",
              "    <div>\n",
              "<style scoped>\n",
              "    .dataframe tbody tr th:only-of-type {\n",
              "        vertical-align: middle;\n",
              "    }\n",
              "\n",
              "    .dataframe tbody tr th {\n",
              "        vertical-align: top;\n",
              "    }\n",
              "\n",
              "    .dataframe thead th {\n",
              "        text-align: right;\n",
              "    }\n",
              "</style>\n",
              "<table border=\"1\" class=\"dataframe\">\n",
              "  <thead>\n",
              "    <tr style=\"text-align: right;\">\n",
              "      <th></th>\n",
              "      <th>Column1</th>\n",
              "      <th>urlDrugName</th>\n",
              "      <th>rating</th>\n",
              "      <th>effectiveness</th>\n",
              "      <th>sideEffects</th>\n",
              "      <th>condition</th>\n",
              "      <th>benefitsReview</th>\n",
              "      <th>sideEffectsReview</th>\n",
              "      <th>commentsReview</th>\n",
              "    </tr>\n",
              "  </thead>\n",
              "  <tbody>\n",
              "    <tr>\n",
              "      <th>0</th>\n",
              "      <td>1366</td>\n",
              "      <td>biaxin</td>\n",
              "      <td>9</td>\n",
              "      <td>Considerably Effective</td>\n",
              "      <td>Mild Side Effects</td>\n",
              "      <td>sinus infection</td>\n",
              "      <td>The antibiotic may have destroyed bacteria cau...</td>\n",
              "      <td>Some back pain, some nauseau.</td>\n",
              "      <td>Took the antibiotics for 14 days. Sinus infect...</td>\n",
              "    </tr>\n",
              "    <tr>\n",
              "      <th>1</th>\n",
              "      <td>3724</td>\n",
              "      <td>lamictal</td>\n",
              "      <td>9</td>\n",
              "      <td>Highly Effective</td>\n",
              "      <td>Mild Side Effects</td>\n",
              "      <td>bipolar disorder</td>\n",
              "      <td>Lamictal stabilized my serious mood swings. On...</td>\n",
              "      <td>Drowsiness, a bit of mental numbness. If you t...</td>\n",
              "      <td>Severe mood swings between hypomania and depre...</td>\n",
              "    </tr>\n",
              "    <tr>\n",
              "      <th>2</th>\n",
              "      <td>3824</td>\n",
              "      <td>depakene</td>\n",
              "      <td>4</td>\n",
              "      <td>Moderately Effective</td>\n",
              "      <td>Severe Side Effects</td>\n",
              "      <td>bipolar disorder</td>\n",
              "      <td>Initial benefits were comparable to the brand ...</td>\n",
              "      <td>Depakene has a very thin coating, which caused...</td>\n",
              "      <td>Depakote was prescribed to me by a Kaiser psyc...</td>\n",
              "    </tr>\n",
              "    <tr>\n",
              "      <th>3</th>\n",
              "      <td>969</td>\n",
              "      <td>sarafem</td>\n",
              "      <td>10</td>\n",
              "      <td>Highly Effective</td>\n",
              "      <td>No Side Effects</td>\n",
              "      <td>bi-polar / anxiety</td>\n",
              "      <td>It controlls my mood swings. It helps me think...</td>\n",
              "      <td>I didnt really notice any side effects.</td>\n",
              "      <td>This drug may not be for everyone but its wond...</td>\n",
              "    </tr>\n",
              "    <tr>\n",
              "      <th>4</th>\n",
              "      <td>696</td>\n",
              "      <td>accutane</td>\n",
              "      <td>10</td>\n",
              "      <td>Highly Effective</td>\n",
              "      <td>Mild Side Effects</td>\n",
              "      <td>nodular acne</td>\n",
              "      <td>Within one week of treatment superficial acne ...</td>\n",
              "      <td>Side effects included moderate to severe dry s...</td>\n",
              "      <td>Drug was taken in gelatin tablet at 0.5 mg per...</td>\n",
              "    </tr>\n",
              "  </tbody>\n",
              "</table>\n",
              "</div>\n",
              "    <div class=\"colab-df-buttons\">\n",
              "\n",
              "  <div class=\"colab-df-container\">\n",
              "    <button class=\"colab-df-convert\" onclick=\"convertToInteractive('df-b207fc64-92eb-42ae-aa5d-9740a367176a')\"\n",
              "            title=\"Convert this dataframe to an interactive table.\"\n",
              "            style=\"display:none;\">\n",
              "\n",
              "  <svg xmlns=\"http://www.w3.org/2000/svg\" height=\"24px\" viewBox=\"0 -960 960 960\">\n",
              "    <path d=\"M120-120v-720h720v720H120Zm60-500h600v-160H180v160Zm220 220h160v-160H400v160Zm0 220h160v-160H400v160ZM180-400h160v-160H180v160Zm440 0h160v-160H620v160ZM180-180h160v-160H180v160Zm440 0h160v-160H620v160Z\"/>\n",
              "  </svg>\n",
              "    </button>\n",
              "\n",
              "  <style>\n",
              "    .colab-df-container {\n",
              "      display:flex;\n",
              "      gap: 12px;\n",
              "    }\n",
              "\n",
              "    .colab-df-convert {\n",
              "      background-color: #E8F0FE;\n",
              "      border: none;\n",
              "      border-radius: 50%;\n",
              "      cursor: pointer;\n",
              "      display: none;\n",
              "      fill: #1967D2;\n",
              "      height: 32px;\n",
              "      padding: 0 0 0 0;\n",
              "      width: 32px;\n",
              "    }\n",
              "\n",
              "    .colab-df-convert:hover {\n",
              "      background-color: #E2EBFA;\n",
              "      box-shadow: 0px 1px 2px rgba(60, 64, 67, 0.3), 0px 1px 3px 1px rgba(60, 64, 67, 0.15);\n",
              "      fill: #174EA6;\n",
              "    }\n",
              "\n",
              "    .colab-df-buttons div {\n",
              "      margin-bottom: 4px;\n",
              "    }\n",
              "\n",
              "    [theme=dark] .colab-df-convert {\n",
              "      background-color: #3B4455;\n",
              "      fill: #D2E3FC;\n",
              "    }\n",
              "\n",
              "    [theme=dark] .colab-df-convert:hover {\n",
              "      background-color: #434B5C;\n",
              "      box-shadow: 0px 1px 3px 1px rgba(0, 0, 0, 0.15);\n",
              "      filter: drop-shadow(0px 1px 2px rgba(0, 0, 0, 0.3));\n",
              "      fill: #FFFFFF;\n",
              "    }\n",
              "  </style>\n",
              "\n",
              "    <script>\n",
              "      const buttonEl =\n",
              "        document.querySelector('#df-b207fc64-92eb-42ae-aa5d-9740a367176a button.colab-df-convert');\n",
              "      buttonEl.style.display =\n",
              "        google.colab.kernel.accessAllowed ? 'block' : 'none';\n",
              "\n",
              "      async function convertToInteractive(key) {\n",
              "        const element = document.querySelector('#df-b207fc64-92eb-42ae-aa5d-9740a367176a');\n",
              "        const dataTable =\n",
              "          await google.colab.kernel.invokeFunction('convertToInteractive',\n",
              "                                                    [key], {});\n",
              "        if (!dataTable) return;\n",
              "\n",
              "        const docLinkHtml = 'Like what you see? Visit the ' +\n",
              "          '<a target=\"_blank\" href=https://colab.research.google.com/notebooks/data_table.ipynb>data table notebook</a>'\n",
              "          + ' to learn more about interactive tables.';\n",
              "        element.innerHTML = '';\n",
              "        dataTable['output_type'] = 'display_data';\n",
              "        await google.colab.output.renderOutput(dataTable, element);\n",
              "        const docLink = document.createElement('div');\n",
              "        docLink.innerHTML = docLinkHtml;\n",
              "        element.appendChild(docLink);\n",
              "      }\n",
              "    </script>\n",
              "  </div>\n",
              "\n",
              "\n",
              "<div id=\"df-55a6293a-fb05-410c-b750-21ed87d1f8bb\">\n",
              "  <button class=\"colab-df-quickchart\" onclick=\"quickchart('df-55a6293a-fb05-410c-b750-21ed87d1f8bb')\"\n",
              "            title=\"Suggest charts\"\n",
              "            style=\"display:none;\">\n",
              "\n",
              "<svg xmlns=\"http://www.w3.org/2000/svg\" height=\"24px\"viewBox=\"0 0 24 24\"\n",
              "     width=\"24px\">\n",
              "    <g>\n",
              "        <path d=\"M19 3H5c-1.1 0-2 .9-2 2v14c0 1.1.9 2 2 2h14c1.1 0 2-.9 2-2V5c0-1.1-.9-2-2-2zM9 17H7v-7h2v7zm4 0h-2V7h2v10zm4 0h-2v-4h2v4z\"/>\n",
              "    </g>\n",
              "</svg>\n",
              "  </button>\n",
              "\n",
              "<style>\n",
              "  .colab-df-quickchart {\n",
              "      --bg-color: #E8F0FE;\n",
              "      --fill-color: #1967D2;\n",
              "      --hover-bg-color: #E2EBFA;\n",
              "      --hover-fill-color: #174EA6;\n",
              "      --disabled-fill-color: #AAA;\n",
              "      --disabled-bg-color: #DDD;\n",
              "  }\n",
              "\n",
              "  [theme=dark] .colab-df-quickchart {\n",
              "      --bg-color: #3B4455;\n",
              "      --fill-color: #D2E3FC;\n",
              "      --hover-bg-color: #434B5C;\n",
              "      --hover-fill-color: #FFFFFF;\n",
              "      --disabled-bg-color: #3B4455;\n",
              "      --disabled-fill-color: #666;\n",
              "  }\n",
              "\n",
              "  .colab-df-quickchart {\n",
              "    background-color: var(--bg-color);\n",
              "    border: none;\n",
              "    border-radius: 50%;\n",
              "    cursor: pointer;\n",
              "    display: none;\n",
              "    fill: var(--fill-color);\n",
              "    height: 32px;\n",
              "    padding: 0;\n",
              "    width: 32px;\n",
              "  }\n",
              "\n",
              "  .colab-df-quickchart:hover {\n",
              "    background-color: var(--hover-bg-color);\n",
              "    box-shadow: 0 1px 2px rgba(60, 64, 67, 0.3), 0 1px 3px 1px rgba(60, 64, 67, 0.15);\n",
              "    fill: var(--button-hover-fill-color);\n",
              "  }\n",
              "\n",
              "  .colab-df-quickchart-complete:disabled,\n",
              "  .colab-df-quickchart-complete:disabled:hover {\n",
              "    background-color: var(--disabled-bg-color);\n",
              "    fill: var(--disabled-fill-color);\n",
              "    box-shadow: none;\n",
              "  }\n",
              "\n",
              "  .colab-df-spinner {\n",
              "    border: 2px solid var(--fill-color);\n",
              "    border-color: transparent;\n",
              "    border-bottom-color: var(--fill-color);\n",
              "    animation:\n",
              "      spin 1s steps(1) infinite;\n",
              "  }\n",
              "\n",
              "  @keyframes spin {\n",
              "    0% {\n",
              "      border-color: transparent;\n",
              "      border-bottom-color: var(--fill-color);\n",
              "      border-left-color: var(--fill-color);\n",
              "    }\n",
              "    20% {\n",
              "      border-color: transparent;\n",
              "      border-left-color: var(--fill-color);\n",
              "      border-top-color: var(--fill-color);\n",
              "    }\n",
              "    30% {\n",
              "      border-color: transparent;\n",
              "      border-left-color: var(--fill-color);\n",
              "      border-top-color: var(--fill-color);\n",
              "      border-right-color: var(--fill-color);\n",
              "    }\n",
              "    40% {\n",
              "      border-color: transparent;\n",
              "      border-right-color: var(--fill-color);\n",
              "      border-top-color: var(--fill-color);\n",
              "    }\n",
              "    60% {\n",
              "      border-color: transparent;\n",
              "      border-right-color: var(--fill-color);\n",
              "    }\n",
              "    80% {\n",
              "      border-color: transparent;\n",
              "      border-right-color: var(--fill-color);\n",
              "      border-bottom-color: var(--fill-color);\n",
              "    }\n",
              "    90% {\n",
              "      border-color: transparent;\n",
              "      border-bottom-color: var(--fill-color);\n",
              "    }\n",
              "  }\n",
              "</style>\n",
              "\n",
              "  <script>\n",
              "    async function quickchart(key) {\n",
              "      const quickchartButtonEl =\n",
              "        document.querySelector('#' + key + ' button');\n",
              "      quickchartButtonEl.disabled = true;  // To prevent multiple clicks.\n",
              "      quickchartButtonEl.classList.add('colab-df-spinner');\n",
              "      try {\n",
              "        const charts = await google.colab.kernel.invokeFunction(\n",
              "            'suggestCharts', [key], {});\n",
              "      } catch (error) {\n",
              "        console.error('Error during call to suggestCharts:', error);\n",
              "      }\n",
              "      quickchartButtonEl.classList.remove('colab-df-spinner');\n",
              "      quickchartButtonEl.classList.add('colab-df-quickchart-complete');\n",
              "    }\n",
              "    (() => {\n",
              "      let quickchartButtonEl =\n",
              "        document.querySelector('#df-55a6293a-fb05-410c-b750-21ed87d1f8bb button');\n",
              "      quickchartButtonEl.style.display =\n",
              "        google.colab.kernel.accessAllowed ? 'block' : 'none';\n",
              "    })();\n",
              "  </script>\n",
              "</div>\n",
              "    </div>\n",
              "  </div>\n"
            ]
          },
          "metadata": {},
          "execution_count": 4
        }
      ]
    },
    {
      "cell_type": "code",
      "source": [
        "columns=df.columns\n",
        "columns"
      ],
      "metadata": {
        "colab": {
          "base_uri": "https://localhost:8080/"
        },
        "id": "1wpU8w530UJa",
        "outputId": "059e5a7e-d148-47b7-b206-bbdfb5ae9136"
      },
      "execution_count": null,
      "outputs": [
        {
          "output_type": "execute_result",
          "data": {
            "text/plain": [
              "Index(['Column1', 'urlDrugName', 'rating', 'effectiveness', 'sideEffects',\n",
              "       'condition', 'benefitsReview', 'sideEffectsReview', 'commentsReview'],\n",
              "      dtype='object')"
            ]
          },
          "metadata": {},
          "execution_count": 5
        }
      ]
    },
    {
      "cell_type": "code",
      "source": [
        "df.groupby(['rating']).size().plot(kind='pie',ylabel='Counts', autopct='%1.0f%%', title='percentage rating of drugs')"
      ],
      "metadata": {
        "colab": {
          "base_uri": "https://localhost:8080/",
          "height": 445
        },
        "id": "dJvaULyl6qgC",
        "outputId": "53da0d83-ac87-450d-c87d-823383207993"
      },
      "execution_count": null,
      "outputs": [
        {
          "output_type": "execute_result",
          "data": {
            "text/plain": [
              "<Axes: title={'center': 'percentage rating of drugs'}, ylabel='Counts'>"
            ]
          },
          "metadata": {},
          "execution_count": 7
        },
        {
          "output_type": "display_data",
          "data": {
            "text/plain": [
              "<Figure size 640x480 with 1 Axes>"
            ],
            "image/png": "[encoded data removed]"
          },
          "metadata": {}
        }
      ]
    },
    {
      "cell_type": "code",
      "source": [
        "#lowercasing first 10 texts\n",
        "df['commentsReview'] = df['commentsReview'].apply(lambda x: \" \".join(x.lower() for x in x.split()))\n",
        "df['commentsReview'] = df['commentsReview'].str.replace('[^\\w\\s]',\"\")\n",
        "df.commentsReview"
      ],
      "metadata": {
        "colab": {
          "base_uri": "https://localhost:8080/"
        },
        "id": "dYj3J1hw7QKd",
        "outputId": "223a0048-c795-4b54-d32a-f01196ac1fe4"
      },
      "execution_count": null,
      "outputs": [
        {
          "output_type": "stream",
          "name": "stderr",
          "text": [
            "<ipython-input-15-b306ee4925a6>:3: FutureWarning: The default value of regex will change from True to False in a future version.\n",
            "  df['commentsReview'] = df['commentsReview'].str.replace('[^\\w\\s]',\"\")\n"
          ]
        },
        {
          "output_type": "execute_result",
          "data": {
            "text/plain": [
              "0       took the antibiotics for 14 days sinus infecti...\n",
              "1       severe mood swings between hypomania and depre...\n",
              "2       depakote was prescribed to me by a kaiser psyc...\n",
              "3       this drug may not be for everyone but its wond...\n",
              "4       drug was taken in gelatin tablet at 05 mg per ...\n",
              "                              ...                        \n",
              "1031    treatment period is 3 months12 weeks dosage is...\n",
              "1032    i use the albuterol as needed because of aller...\n",
              "1033    this drug is highly teratogenic females must t...\n",
              "1034    divigel is a topically applied bioidentical ho...\n",
              "1035                  stopped using it for the time being\n",
              "Name: commentsReview, Length: 1036, dtype: object"
            ]
          },
          "metadata": {},
          "execution_count": 15
        }
      ]
    },
    {
      "cell_type": "code",
      "source": [
        "#removing stopwords\n",
        "stop = stopwords.words('english')\n",
        "df['commentsReview'] = df['commentsReview'].apply(lambda x: \" \".join(x for x in x.split() if x not in stop))\n",
        "df.commentsReview"
      ],
      "metadata": {
        "colab": {
          "base_uri": "https://localhost:8080/"
        },
        "id": "d_cNLW7Q7rw3",
        "outputId": "cac17d0e-2dbc-40da-9b9e-d5212076c484"
      },
      "execution_count": null,
      "outputs": [
        {
          "output_type": "execute_result",
          "data": {
            "text/plain": [
              "0       took antibiotics 14 days sinus infection gone ...\n",
              "1       severe mood swings hypomania depression suicid...\n",
              "2       depakote prescribed kaiser psychiatrist pleasa...\n",
              "3       drug may everyone wonderful makes totally diff...\n",
              "4       drug taken gelatin tablet 05 mg per day drug t...\n",
              "                              ...                        \n",
              "1031    treatment period 3 months12 weeks dosage 2 tab...\n",
              "1032    use albuterol needed allergies seasonal dust e...\n",
              "1033    drug highly teratogenic females must take cont...\n",
              "1034    divigel topically applied bioidentical hormone...\n",
              "1035                                   stopped using time\n",
              "Name: commentsReview, Length: 1036, dtype: object"
            ]
          },
          "metadata": {},
          "execution_count": 17
        }
      ]
    },
    {
      "cell_type": "code",
      "source": [
        "#lemmatizing\n",
        "df['commentsReview'] = df['commentsReview'].apply(lambda x: \" \".join([Word(word).lemmatize()\n",
        "for word in x.split()]))\n",
        "df.commentsReview"
      ],
      "metadata": {
        "colab": {
          "base_uri": "https://localhost:8080/"
        },
        "id": "x5ECRAvB708S",
        "outputId": "751a9817-0ce0-4581-9038-da59f61fe729"
      },
      "execution_count": null,
      "outputs": [
        {
          "output_type": "execute_result",
          "data": {
            "text/plain": [
              "0       took antibiotic 14 day sinus infection gone 6t...\n",
              "1       severe mood swing hypomania depression suicide...\n",
              "2       depakote prescribed kaiser psychiatrist pleasa...\n",
              "3       drug may everyone wonderful make totally diffe...\n",
              "4       drug taken gelatin tablet 05 mg per day drug t...\n",
              "                              ...                        \n",
              "1031    treatment period 3 months12 week dosage 2 tabl...\n",
              "1032    use albuterol needed allergy seasonal dust exe...\n",
              "1033    drug highly teratogenic female must take contr...\n",
              "1034    divigel topically applied bioidentical hormone...\n",
              "1035                                   stopped using time\n",
              "Name: commentsReview, Length: 1036, dtype: object"
            ]
          },
          "metadata": {},
          "execution_count": 18
        }
      ]
    },
    {
      "cell_type": "code",
      "source": [
        "y=df['rating']"
      ],
      "metadata": {
        "id": "cJBbiDC10Xm2"
      },
      "execution_count": null,
      "outputs": []
    },
    {
      "cell_type": "code",
      "source": [
        "from sklearn.model_selection import train_test_split\n",
        "df_train,df_test,y_train,y_test=train_test_split(df['commentsReview'],y,test_size=0.33,random_state=42)\n",
        "print('DF Train Shape: ',df_train.shape)\n",
        "print('DF Test Shape: ',df_test.shape)\n",
        "print('Y Train Shape: ',y_train.shape)\n",
        "print('Y Test Shape: ',y_test.shape)"
      ],
      "metadata": {
        "colab": {
          "base_uri": "https://localhost:8080/"
        },
        "id": "w7SPrHyM1eyQ",
        "outputId": "adb94c4f-25ae-4ac1-96d0-c20bb9c4a741"
      },
      "execution_count": null,
      "outputs": [
        {
          "output_type": "stream",
          "name": "stdout",
          "text": [
            "DF Train Shape:  (694,)\n",
            "DF Test Shape:  (342,)\n",
            "Y Train Shape:  (694,)\n",
            "Y Test Shape:  (342,)\n"
          ]
        }
      ]
    },
    {
      "cell_type": "code",
      "source": [
        "from tensorflow.keras.preprocessing.text import Tokenizer\n",
        "max_words=10000\n",
        "tokenizer=Tokenizer(max_words)\n",
        "tokenizer.fit_on_texts(df_train)\n",
        "sequence_train=tokenizer.texts_to_sequences(df_train)\n",
        "sequence_test=tokenizer.texts_to_sequences(df_test)"
      ],
      "metadata": {
        "id": "gXwjTYwU1q0U"
      },
      "execution_count": null,
      "outputs": []
    },
    {
      "cell_type": "code",
      "source": [
        "word2vec=tokenizer.word_index\n",
        "V=len(word2vec)\n",
        "print('dataset has %s number of independent tokens' %V)"
      ],
      "metadata": {
        "colab": {
          "base_uri": "https://localhost:8080/"
        },
        "id": "bdw1KCNU1sOZ",
        "outputId": "3ea66e8e-1e79-4f4a-9c94-8cc05713634b"
      },
      "execution_count": null,
      "outputs": [
        {
          "output_type": "stream",
          "name": "stdout",
          "text": [
            "dataset has 4193 number of independent tokens\n"
          ]
        }
      ]
    },
    {
      "cell_type": "code",
      "source": [
        "from tensorflow.keras.preprocessing.sequence import pad_sequences\n",
        "data_train=pad_sequences(sequence_train)\n",
        "data_train.shape"
      ],
      "metadata": {
        "colab": {
          "base_uri": "https://localhost:8080/"
        },
        "id": "kPddLaAY1vQ4",
        "outputId": "22d2a839-92cb-483a-8621-42a4a7f5bff8"
      },
      "execution_count": null,
      "outputs": [
        {
          "output_type": "execute_result",
          "data": {
            "text/plain": [
              "(694, 278)"
            ]
          },
          "metadata": {},
          "execution_count": 22
        }
      ]
    },
    {
      "cell_type": "code",
      "source": [
        "T=data_train.shape[1]\n",
        "data_test=pad_sequences(sequence_test,maxlen=T)\n",
        "data_test.shape"
      ],
      "metadata": {
        "colab": {
          "base_uri": "https://localhost:8080/"
        },
        "id": "RBRvpMEO1ylj",
        "outputId": "21870cb1-286f-400b-b58f-19d73ffcbd7f"
      },
      "execution_count": null,
      "outputs": [
        {
          "output_type": "execute_result",
          "data": {
            "text/plain": [
              "(342, 278)"
            ]
          },
          "metadata": {},
          "execution_count": 23
        }
      ]
    },
    {
      "cell_type": "code",
      "source": [
        "from tensorflow.keras.models import Model\n",
        "from tensorflow.keras.layers import Input, Embedding, Conv1D, MaxPooling1D, GlobalMaxPooling1D, Dense\n",
        "\n",
        "# Define the input layer\n",
        "input_layer = Input(shape=(428,), name='input_1')\n",
        "\n",
        "# Embedding layer\n",
        "embedding_layer = Embedding(input_dim=9558, output_dim=20, input_length=428, name='embedding')(input_layer)\n",
        "\n",
        "# Convolutional layers with max pooling\n",
        "conv1d_1 = Conv1D(32, kernel_size=3, activation='relu', name='conv1d')(embedding_layer)\n",
        "max_pooling_1 = MaxPooling1D(pool_size=3, name='max_pooling1d')(conv1d_1)\n",
        "\n",
        "conv1d_2 = Conv1D(64, kernel_size=3, activation='relu', name='conv1d_1')(max_pooling_1)\n",
        "max_pooling_2 = MaxPooling1D(pool_size=3, name='max_pooling1d_1')(conv1d_2)\n",
        "\n",
        "conv1d_3 = Conv1D(128, kernel_size=3, activation='relu', name='conv1d_2')(max_pooling_2)\n",
        "\n",
        "# Global max pooling\n",
        "global_max_pooling = GlobalMaxPooling1D(name='global_max_pooling1d')(conv1d_3)\n",
        "\n",
        "# Fully connected layer\n",
        "dense_layer = Dense(5, activation='softmax', name='dense')(global_max_pooling)\n",
        "\n",
        "# Create the model\n",
        "model = Model(inputs=input_layer, outputs=dense_layer)\n",
        "\n",
        "# Compile the model (you can customize the optimizer, loss, and metrics)\n",
        "model.compile(optimizer='adam', loss='categorical_crossentropy', metrics=['accuracy'])\n",
        "\n",
        "# Display the model summary\n",
        "model.summary()\n",
        "\n"
      ],
      "metadata": {
        "colab": {
          "base_uri": "https://localhost:8080/"
        },
        "id": "m-5tvRUF16pz",
        "outputId": "98b1e1bb-3124-4def-81bc-aaac3d1efca4"
      },
      "execution_count": null,
      "outputs": [
        {
          "output_type": "stream",
          "name": "stdout",
          "text": [
            "Model: \"model\"\n",
            "_________________________________________________________________\n",
            " Layer (type)                Output Shape              Param #   \n",
            "=================================================================\n",
            " input_1 (InputLayer)        [(None, 428)]             0         \n",
            "                                                                 \n",
            " embedding (Embedding)       (None, 428, 20)           191160    \n",
            "                                                                 \n",
            " conv1d (Conv1D)             (None, 426, 32)           1952      \n",
            "                                                                 \n",
            " max_pooling1d (MaxPooling1  (None, 142, 32)           0         \n",
            " D)                                                              \n",
            "                                                                 \n",
            " conv1d_1 (Conv1D)           (None, 140, 64)           6208      \n",
            "                                                                 \n",
            " max_pooling1d_1 (MaxPoolin  (None, 46, 64)            0         \n",
            " g1D)                                                            \n",
            "                                                                 \n",
            " conv1d_2 (Conv1D)           (None, 44, 128)           24704     \n",
            "                                                                 \n",
            " global_max_pooling1d (Glob  (None, 128)               0         \n",
            " alMaxPooling1D)                                                 \n",
            "                                                                 \n",
            " dense (Dense)               (None, 5)                 645       \n",
            "                                                                 \n",
            "=================================================================\n",
            "Total params: 224669 (877.61 KB)\n",
            "Trainable params: 224669 (877.61 KB)\n",
            "Non-trainable params: 0 (0.00 Byte)\n",
            "_________________________________________________________________\n"
          ]
        }
      ]
    },
    {
      "cell_type": "code",
      "source": [
        "import tensorflow as tf\n",
        "from tensorflow.keras.models import Sequential\n",
        "from tensorflow.keras.layers import Conv2D, MaxPooling2D, Flatten, Dense\n",
        "from tensorflow.keras.utils import to_categorical\n",
        "from tensorflow.keras.datasets import cifar10\n",
        "\n",
        "# Load and preprocess the CIFAR-10 dataset\n",
        "(x_train, y_train), (x_test, y_test) = cifar10.load_data()\n",
        "x_train = x_train / 255.0  # Normalize pixel values to be between 0 and 1\n",
        "x_test = x_test / 255.0\n",
        "y_train = to_categorical(y_train, num_classes=10)  # One-hot encode the labels\n",
        "y_test = to_categorical(y_test, num_classes=10)\n",
        "\n",
        "# Define the model architecture\n",
        "model = Sequential()\n",
        "model.add(Conv2D(32, (3, 3), activation='relu', input_shape=(32, 32, 3)))\n",
        "model.add(MaxPooling2D((2, 2)))\n",
        "model.add(Conv2D(64, (3, 3), activation='relu'))\n",
        "model.add(MaxPooling2D((2, 2)))\n",
        "model.add(Conv2D(64, (3, 3), activation='relu'))\n",
        "model.add(Flatten())\n",
        "model.add(Dense(128, activation='relu'))\n",
        "model.add(Dense(10, activation='softmax'))\n",
        "\n",
        "# Compile the model\n",
        "model.compile(optimizer='adam', loss='categorical_crossentropy', metrics=['accuracy'])\n",
        "\n",
        "# Train the model\n",
        "model.fit(x_train, y_train, epochs=10, batch_size=64, validation_data=(x_test, y_test))\n",
        "\n",
        "# Evaluate the model on the test set\n",
        "test_loss, test_accuracy = model.evaluate(x_test, y_test)\n",
        "print(f'Test Accuracy: {test_accuracy * 100:.2f}%')\n"
      ],
      "metadata": {
        "id": "VKyASTuL19nB",
        "colab": {
          "base_uri": "https://localhost:8080/"
        },
        "outputId": "ba929479-ebaa-460c-bfcd-262d665de3a7"
      },
      "execution_count": null,
      "outputs": [
        {
          "output_type": "stream",
          "name": "stdout",
          "text": [
            "Epoch 1/10\n",
            "782/782 [==============================] - 68s 85ms/step - loss: 1.5329 - accuracy: 0.4428 - val_loss: 1.3093 - val_accuracy: 0.5327\n",
            "Epoch 2/10\n",
            "782/782 [==============================] - 66s 84ms/step - loss: 1.1790 - accuracy: 0.5820 - val_loss: 1.1235 - val_accuracy: 0.5990\n",
            "Epoch 3/10\n",
            "782/782 [==============================] - 67s 86ms/step - loss: 1.0297 - accuracy: 0.6390 - val_loss: 0.9807 - val_accuracy: 0.6541\n",
            "Epoch 4/10\n",
            "782/782 [==============================] - 65s 83ms/step - loss: 0.9275 - accuracy: 0.6746 - val_loss: 0.9823 - val_accuracy: 0.6589\n",
            "Epoch 5/10\n",
            "782/782 [==============================] - 66s 84ms/step - loss: 0.8537 - accuracy: 0.6983 - val_loss: 0.8974 - val_accuracy: 0.6886\n",
            "Epoch 6/10\n",
            "782/782 [==============================] - 67s 85ms/step - loss: 0.7862 - accuracy: 0.7255 - val_loss: 0.8701 - val_accuracy: 0.6997\n",
            "Epoch 7/10\n",
            "782/782 [==============================] - 66s 85ms/step - loss: 0.7300 - accuracy: 0.7460 - val_loss: 0.9714 - val_accuracy: 0.6692\n",
            "Epoch 8/10\n",
            "782/782 [==============================] - 66s 84ms/step - loss: 0.6845 - accuracy: 0.7610 - val_loss: 0.9018 - val_accuracy: 0.6958\n",
            "Epoch 9/10\n",
            "782/782 [==============================] - 65s 84ms/step - loss: 0.6311 - accuracy: 0.7801 - val_loss: 0.8509 - val_accuracy: 0.7179\n",
            "Epoch 10/10\n",
            "782/782 [==============================] - 67s 85ms/step - loss: 0.5932 - accuracy: 0.7921 - val_loss: 0.8383 - val_accuracy: 0.7194\n",
            "313/313 [==============================] - 4s 14ms/step - loss: 0.8383 - accuracy: 0.7194\n",
            "Test Accuracy: 71.94%\n"
          ]
        }
      ]
    }
  ]
}