{
  "nbformat": 4,
  "nbformat_minor": 0,
  "metadata": {
    "colab": {
      "provenance": [],
      "gpuType": "T4"
    },
    "kernelspec": {
      "name": "python3",
      "display_name": "Python 3"
    },
    "language_info": {
      "name": "python"
    },
    "accelerator": "GPU"
  },
  "cells": [
    {
      "cell_type": "code",
      "execution_count": null,
      "metadata": {
        "colab": {
          "base_uri": "https://localhost:8080/",
          "height": 770
        },
        "id": "BPMZUxeNrPFu",
        "outputId": "0087620f-850e-4f5b-fad1-2b7a39047702"
      },
      "outputs": [
        {
          "output_type": "execute_result",
          "data": {
            "text/plain": [
              "      uniqueID                             drugName  \\\n",
              "0       206461                            Valsartan   \n",
              "1        95260                           Guanfacine   \n",
              "2        92703                               Lybrel   \n",
              "3       138000                           Ortho Evra   \n",
              "4        35696             Buprenorphine / naloxone   \n",
              "...        ...                                  ...   \n",
              "4212     84100     Ethinyl estradiol / norgestimate   \n",
              "4213    146853                           Alprazolam   \n",
              "4214    124779  Omega-3 polyunsaturated fatty acids   \n",
              "4215     13778      Amphetamine / dextroamphetamine   \n",
              "4216    127681                          Phentermine   \n",
              "\n",
              "                         condition  \\\n",
              "0     Left Ventricular Dysfunction   \n",
              "1                             ADHD   \n",
              "2                    Birth Control   \n",
              "3                    Birth Control   \n",
              "4                Opiate Dependence   \n",
              "...                            ...   \n",
              "4212                 Birth Control   \n",
              "4213                       Anxiety   \n",
              "4214          Hypertriglyceridemia   \n",
              "4215                          ADHD   \n",
              "4216                   Weight Loss   \n",
              "\n",
              "                                                 review  rating        date  \\\n",
              "0     \"It has no side effect, I take it in combinati...       9   5/20/2012   \n",
              "1     \"My son is halfway through his fourth week of ...       8   4/27/2010   \n",
              "2     \"I used to take another oral contraceptive, wh...       5  12/14/2009   \n",
              "3     \"This is my first time using any form of birth...       8   11/3/2015   \n",
              "4     \"Suboxone has completely turned my life around...       9  11/27/2016   \n",
              "...                                                 ...     ...         ...   \n",
              "4212  \"This will be the 6th month I&#039;ve been on ...       5    4/9/2017   \n",
              "4213  \"I suffer from complicated grief and PTSD, I l...       8    1/8/2017   \n",
              "4214  \"I&#039;ve used Lovaza for about 8 months and ...      10   6/22/2008   \n",
              "4215  \"I used to take a high dosage time release tab...       9  10/29/2008   \n",
              "4216  \"I started phentermine in 2015 weighing in at ...       9   4/11/2017   \n",
              "\n",
              "      usefulCount  \n",
              "0              27  \n",
              "1             192  \n",
              "2              17  \n",
              "3              10  \n",
              "4              37  \n",
              "...           ...  \n",
              "4212            6  \n",
              "4213           30  \n",
              "4214          140  \n",
              "4215           19  \n",
              "4216           28  \n",
              "\n",
              "[4217 rows x 7 columns]"
            ],
            "text/html": [
              "\n",
              "  <div id=\"df-306a345b-1937-4074-a664-b6e5c2f7605a\" class=\"colab-df-container\">\n",
              "    <div>\n",
              "<style scoped>\n",
              "    .dataframe tbody tr th:only-of-type {\n",
              "        vertical-align: middle;\n",
              "    }\n",
              "\n",
              "    .dataframe tbody tr th {\n",
              "        vertical-align: top;\n",
              "    }\n",
              "\n",
              "    .dataframe thead th {\n",
              "        text-align: right;\n",
              "    }\n",
              "</style>\n",
              "<table border=\"1\" class=\"dataframe\">\n",
              "  <thead>\n",
              "    <tr style=\"text-align: right;\">\n",
              "      <th></th>\n",
              "      <th>uniqueID</th>\n",
              "      <th>drugName</th>\n",
              "      <th>condition</th>\n",
              "      <th>review</th>\n",
              "      <th>rating</th>\n",
              "      <th>date</th>\n",
              "      <th>usefulCount</th>\n",
              "    </tr>\n",
              "  </thead>\n",
              "  <tbody>\n",
              "    <tr>\n",
              "      <th>0</th>\n",
              "      <td>206461</td>\n",
              "      <td>Valsartan</td>\n",
              "      <td>Left Ventricular Dysfunction</td>\n",
              "      <td>\"It has no side effect, I take it in combinati...</td>\n",
              "      <td>9</td>\n",
              "      <td>5/20/2012</td>\n",
              "      <td>27</td>\n",
              "    </tr>\n",
              "    <tr>\n",
              "      <th>1</th>\n",
              "      <td>95260</td>\n",
              "      <td>Guanfacine</td>\n",
              "      <td>ADHD</td>\n",
              "      <td>\"My son is halfway through his fourth week of ...</td>\n",
              "      <td>8</td>\n",
              "      <td>4/27/2010</td>\n",
              "      <td>192</td>\n",
              "    </tr>\n",
              "    <tr>\n",
              "      <th>2</th>\n",
              "      <td>92703</td>\n",
              "      <td>Lybrel</td>\n",
              "      <td>Birth Control</td>\n",
              "      <td>\"I used to take another oral contraceptive, wh...</td>\n",
              "      <td>5</td>\n",
              "      <td>12/14/2009</td>\n",
              "      <td>17</td>\n",
              "    </tr>\n",
              "    <tr>\n",
              "      <th>3</th>\n",
              "      <td>138000</td>\n",
              "      <td>Ortho Evra</td>\n",
              "      <td>Birth Control</td>\n",
              "      <td>\"This is my first time using any form of birth...</td>\n",
              "      <td>8</td>\n",
              "      <td>11/3/2015</td>\n",
              "      <td>10</td>\n",
              "    </tr>\n",
              "    <tr>\n",
              "      <th>4</th>\n",
              "      <td>35696</td>\n",
              "      <td>Buprenorphine / naloxone</td>\n",
              "      <td>Opiate Dependence</td>\n",
              "      <td>\"Suboxone has completely turned my life around...</td>\n",
              "      <td>9</td>\n",
              "      <td>11/27/2016</td>\n",
              "      <td>37</td>\n",
              "    </tr>\n",
              "    <tr>\n",
              "      <th>...</th>\n",
              "      <td>...</td>\n",
              "      <td>...</td>\n",
              "      <td>...</td>\n",
              "      <td>...</td>\n",
              "      <td>...</td>\n",
              "      <td>...</td>\n",
              "      <td>...</td>\n",
              "    </tr>\n",
              "    <tr>\n",
              "      <th>4212</th>\n",
              "      <td>84100</td>\n",
              "      <td>Ethinyl estradiol / norgestimate</td>\n",
              "      <td>Birth Control</td>\n",
              "      <td>\"This will be the 6th month I&amp;#039;ve been on ...</td>\n",
              "      <td>5</td>\n",
              "      <td>4/9/2017</td>\n",
              "      <td>6</td>\n",
              "    </tr>\n",
              "    <tr>\n",
              "      <th>4213</th>\n",
              "      <td>146853</td>\n",
              "      <td>Alprazolam</td>\n",
              "      <td>Anxiety</td>\n",
              "      <td>\"I suffer from complicated grief and PTSD, I l...</td>\n",
              "      <td>8</td>\n",
              "      <td>1/8/2017</td>\n",
              "      <td>30</td>\n",
              "    </tr>\n",
              "    <tr>\n",
              "      <th>4214</th>\n",
              "      <td>124779</td>\n",
              "      <td>Omega-3 polyunsaturated fatty acids</td>\n",
              "      <td>Hypertriglyceridemia</td>\n",
              "      <td>\"I&amp;#039;ve used Lovaza for about 8 months and ...</td>\n",
              "      <td>10</td>\n",
              "      <td>6/22/2008</td>\n",
              "      <td>140</td>\n",
              "    </tr>\n",
              "    <tr>\n",
              "      <th>4215</th>\n",
              "      <td>13778</td>\n",
              "      <td>Amphetamine / dextroamphetamine</td>\n",
              "      <td>ADHD</td>\n",
              "      <td>\"I used to take a high dosage time release tab...</td>\n",
              "      <td>9</td>\n",
              "      <td>10/29/2008</td>\n",
              "      <td>19</td>\n",
              "    </tr>\n",
              "    <tr>\n",
              "      <th>4216</th>\n",
              "      <td>127681</td>\n",
              "      <td>Phentermine</td>\n",
              "      <td>Weight Loss</td>\n",
              "      <td>\"I started phentermine in 2015 weighing in at ...</td>\n",
              "      <td>9</td>\n",
              "      <td>4/11/2017</td>\n",
              "      <td>28</td>\n",
              "    </tr>\n",
              "  </tbody>\n",
              "</table>\n",
              "<p>4217 rows × 7 columns</p>\n",
              "</div>\n",
              "    <div class=\"colab-df-buttons\">\n",
              "\n",
              "  <div class=\"colab-df-container\">\n",
              "    <button class=\"colab-df-convert\" onclick=\"convertToInteractive('df-306a345b-1937-4074-a664-b6e5c2f7605a')\"\n",
              "            title=\"Convert this dataframe to an interactive table.\"\n",
              "            style=\"display:none;\">\n",
              "\n",
              "  <svg xmlns=\"http://www.w3.org/2000/svg\" height=\"24px\" viewBox=\"0 -960 960 960\">\n",
              "    <path d=\"M120-120v-720h720v720H120Zm60-500h600v-160H180v160Zm220 220h160v-160H400v160Zm0 220h160v-160H400v160ZM180-400h160v-160H180v160Zm440 0h160v-160H620v160ZM180-180h160v-160H180v160Zm440 0h160v-160H620v160Z\"/>\n",
              "  </svg>\n",
              "    </button>\n",
              "\n",
              "  <style>\n",
              "    .colab-df-container {\n",
              "      display:flex;\n",
              "      gap: 12px;\n",
              "    }\n",
              "\n",
              "    .colab-df-convert {\n",
              "      background-color: #E8F0FE;\n",
              "      border: none;\n",
              "      border-radius: 50%;\n",
              "      cursor: pointer;\n",
              "      display: none;\n",
              "      fill: #1967D2;\n",
              "      height: 32px;\n",
              "      padding: 0 0 0 0;\n",
              "      width: 32px;\n",
              "    }\n",
              "\n",
              "    .colab-df-convert:hover {\n",
              "      background-color: #E2EBFA;\n",
              "      box-shadow: 0px 1px 2px rgba(60, 64, 67, 0.3), 0px 1px 3px 1px rgba(60, 64, 67, 0.15);\n",
              "      fill: #174EA6;\n",
              "    }\n",
              "\n",
              "    .colab-df-buttons div {\n",
              "      margin-bottom: 4px;\n",
              "    }\n",
              "\n",
              "    [theme=dark] .colab-df-convert {\n",
              "      background-color: #3B4455;\n",
              "      fill: #D2E3FC;\n",
              "    }\n",
              "\n",
              "    [theme=dark] .colab-df-convert:hover {\n",
              "      background-color: #434B5C;\n",
              "      box-shadow: 0px 1px 3px 1px rgba(0, 0, 0, 0.15);\n",
              "      filter: drop-shadow(0px 1px 2px rgba(0, 0, 0, 0.3));\n",
              "      fill: #FFFFFF;\n",
              "    }\n",
              "  </style>\n",
              "\n",
              "    <script>\n",
              "      const buttonEl =\n",
              "        document.querySelector('#df-306a345b-1937-4074-a664-b6e5c2f7605a button.colab-df-convert');\n",
              "      buttonEl.style.display =\n",
              "        google.colab.kernel.accessAllowed ? 'block' : 'none';\n",
              "\n",
              "      async function convertToInteractive(key) {\n",
              "        const element = document.querySelector('#df-306a345b-1937-4074-a664-b6e5c2f7605a');\n",
              "        const dataTable =\n",
              "          await google.colab.kernel.invokeFunction('convertToInteractive',\n",
              "                                                    [key], {});\n",
              "        if (!dataTable) return;\n",
              "\n",
              "        const docLinkHtml = 'Like what you see? Visit the ' +\n",
              "          '<a target=\"_blank\" href=https://colab.research.google.com/notebooks/data_table.ipynb>data table notebook</a>'\n",
              "          + ' to learn more about interactive tables.';\n",
              "        element.innerHTML = '';\n",
              "        dataTable['output_type'] = 'display_data';\n",
              "        await google.colab.output.renderOutput(dataTable, element);\n",
              "        const docLink = document.createElement('div');\n",
              "        docLink.innerHTML = docLinkHtml;\n",
              "        element.appendChild(docLink);\n",
              "      }\n",
              "    </script>\n",
              "  </div>\n",
              "\n",
              "\n",
              "<div id=\"df-0ce462af-7b85-4b0d-b459-3bd5f268a3d6\">\n",
              "  <button class=\"colab-df-quickchart\" onclick=\"quickchart('df-0ce462af-7b85-4b0d-b459-3bd5f268a3d6')\"\n",
              "            title=\"Suggest charts\"\n",
              "            style=\"display:none;\">\n",
              "\n",
              "<svg xmlns=\"http://www.w3.org/2000/svg\" height=\"24px\"viewBox=\"0 0 24 24\"\n",
              "     width=\"24px\">\n",
              "    <g>\n",
              "        <path d=\"M19 3H5c-1.1 0-2 .9-2 2v14c0 1.1.9 2 2 2h14c1.1 0 2-.9 2-2V5c0-1.1-.9-2-2-2zM9 17H7v-7h2v7zm4 0h-2V7h2v10zm4 0h-2v-4h2v4z\"/>\n",
              "    </g>\n",
              "</svg>\n",
              "  </button>\n",
              "\n",
              "<style>\n",
              "  .colab-df-quickchart {\n",
              "      --bg-color: #E8F0FE;\n",
              "      --fill-color: #1967D2;\n",
              "      --hover-bg-color: #E2EBFA;\n",
              "      --hover-fill-color: #174EA6;\n",
              "      --disabled-fill-color: #AAA;\n",
              "      --disabled-bg-color: #DDD;\n",
              "  }\n",
              "\n",
              "  [theme=dark] .colab-df-quickchart {\n",
              "      --bg-color: #3B4455;\n",
              "      --fill-color: #D2E3FC;\n",
              "      --hover-bg-color: #434B5C;\n",
              "      --hover-fill-color: #FFFFFF;\n",
              "      --disabled-bg-color: #3B4455;\n",
              "      --disabled-fill-color: #666;\n",
              "  }\n",
              "\n",
              "  .colab-df-quickchart {\n",
              "    background-color: var(--bg-color);\n",
              "    border: none;\n",
              "    border-radius: 50%;\n",
              "    cursor: pointer;\n",
              "    display: none;\n",
              "    fill: var(--fill-color);\n",
              "    height: 32px;\n",
              "    padding: 0;\n",
              "    width: 32px;\n",
              "  }\n",
              "\n",
              "  .colab-df-quickchart:hover {\n",
              "    background-color: var(--hover-bg-color);\n",
              "    box-shadow: 0 1px 2px rgba(60, 64, 67, 0.3), 0 1px 3px 1px rgba(60, 64, 67, 0.15);\n",
              "    fill: var(--button-hover-fill-color);\n",
              "  }\n",
              "\n",
              "  .colab-df-quickchart-complete:disabled,\n",
              "  .colab-df-quickchart-complete:disabled:hover {\n",
              "    background-color: var(--disabled-bg-color);\n",
              "    fill: var(--disabled-fill-color);\n",
              "    box-shadow: none;\n",
              "  }\n",
              "\n",
              "  .colab-df-spinner {\n",
              "    border: 2px solid var(--fill-color);\n",
              "    border-color: transparent;\n",
              "    border-bottom-color: var(--fill-color);\n",
              "    animation:\n",
              "      spin 1s steps(1) infinite;\n",
              "  }\n",
              "\n",
              "  @keyframes spin {\n",
              "    0% {\n",
              "      border-color: transparent;\n",
              "      border-bottom-color: var(--fill-color);\n",
              "      border-left-color: var(--fill-color);\n",
              "    }\n",
              "    20% {\n",
              "      border-color: transparent;\n",
              "      border-left-color: var(--fill-color);\n",
              "      border-top-color: var(--fill-color);\n",
              "    }\n",
              "    30% {\n",
              "      border-color: transparent;\n",
              "      border-left-color: var(--fill-color);\n",
              "      border-top-color: var(--fill-color);\n",
              "      border-right-color: var(--fill-color);\n",
              "    }\n",
              "    40% {\n",
              "      border-color: transparent;\n",
              "      border-right-color: var(--fill-color);\n",
              "      border-top-color: var(--fill-color);\n",
              "    }\n",
              "    60% {\n",
              "      border-color: transparent;\n",
              "      border-right-color: var(--fill-color);\n",
              "    }\n",
              "    80% {\n",
              "      border-color: transparent;\n",
              "      border-right-color: var(--fill-color);\n",
              "      border-bottom-color: var(--fill-color);\n",
              "    }\n",
              "    90% {\n",
              "      border-color: transparent;\n",
              "      border-bottom-color: var(--fill-color);\n",
              "    }\n",
              "  }\n",
              "</style>\n",
              "\n",
              "  <script>\n",
              "    async function quickchart(key) {\n",
              "      const quickchartButtonEl =\n",
              "        document.querySelector('#' + key + ' button');\n",
              "      quickchartButtonEl.disabled = true;  // To prevent multiple clicks.\n",
              "      quickchartButtonEl.classList.add('colab-df-spinner');\n",
              "      try {\n",
              "        const charts = await google.colab.kernel.invokeFunction(\n",
              "            'suggestCharts', [key], {});\n",
              "      } catch (error) {\n",
              "        console.error('Error during call to suggestCharts:', error);\n",
              "      }\n",
              "      quickchartButtonEl.classList.remove('colab-df-spinner');\n",
              "      quickchartButtonEl.classList.add('colab-df-quickchart-complete');\n",
              "    }\n",
              "    (() => {\n",
              "      let quickchartButtonEl =\n",
              "        document.querySelector('#df-0ce462af-7b85-4b0d-b459-3bd5f268a3d6 button');\n",
              "      quickchartButtonEl.style.display =\n",
              "        google.colab.kernel.accessAllowed ? 'block' : 'none';\n",
              "    })();\n",
              "  </script>\n",
              "</div>\n",
              "    </div>\n",
              "  </div>\n"
            ]
          },
          "metadata": {},
          "execution_count": 11
        }
      ],
      "source": [
        "import numpy as np # linear algebra\n",
        "import pandas as pd # data processing, CSV file I/O (e.g. pd.read_csv)\n",
        "import seaborn as sns\n",
        "import matplotlib.pyplot as plt\n",
        "\n",
        "from sklearn.feature_extraction.text import CountVectorizer\n",
        "from sklearn.linear_model import LinearRegression\n",
        "from keras.preprocessing.sequence import pad_sequences\n",
        "\n",
        "\n",
        "from collections import Counter\n",
        "import nltk\n",
        "import seaborn as sns\n",
        "import string\n",
        "from nltk.corpus import stopwords\n",
        "# import re\n",
        "# from autocorrect import spell\n",
        "import regex as re\n",
        "\n",
        "from keras.preprocessing.text import Tokenizer\n",
        "from keras.preprocessing.sequence import pad_sequences\n",
        "\n",
        "from keras.models import Sequential\n",
        "from keras.layers import Dense\n",
        "from keras.backend import eval\n",
        "from keras.optimizers import Adam\n",
        "from keras.layers import LSTM\n",
        "from keras.layers import Embedding\n",
        "from keras.layers import Dropout\n",
        "from keras.layers import Conv1D,MaxPooling1D\n",
        "# Input data files are available in the \"../input/\" directory.\n",
        "# For example, running this (by clicking run or pressing Shift+Enter) will list the files in the input directory\n",
        "\n",
        "\n",
        "# Any results you write to the current directory are saved as output.\n",
        "data=pd.read_csv('/content/drug.com 2.csv')\n",
        "data\n"
      ]
    },
    {
      "cell_type": "code",
      "source": [
        "review=pd.DataFrame(data.groupby('rating').size().sort_values(ascending=False).rename('No of Users').reset_index())\n",
        "review.head()"
      ],
      "metadata": {
        "colab": {
          "base_uri": "https://localhost:8080/",
          "height": 206
        },
        "id": "DSvrkmtsrgNn",
        "outputId": "1246ff96-4e98-4ac8-e8a7-338c1a9ded2a"
      },
      "execution_count": null,
      "outputs": [
        {
          "output_type": "execute_result",
          "data": {
            "text/plain": [
              "   rating  No of Users\n",
              "0      10         1370\n",
              "1       9          712\n",
              "2       1          554\n",
              "3       8          471\n",
              "4       7          236"
            ],
            "text/html": [
              "\n",
              "  <div id=\"df-5c44e220-2e8c-4097-8c74-2999ec906eb2\" class=\"colab-df-container\">\n",
              "    <div>\n",
              "<style scoped>\n",
              "    .dataframe tbody tr th:only-of-type {\n",
              "        vertical-align: middle;\n",
              "    }\n",
              "\n",
              "    .dataframe tbody tr th {\n",
              "        vertical-align: top;\n",
              "    }\n",
              "\n",
              "    .dataframe thead th {\n",
              "        text-align: right;\n",
              "    }\n",
              "</style>\n",
              "<table border=\"1\" class=\"dataframe\">\n",
              "  <thead>\n",
              "    <tr style=\"text-align: right;\">\n",
              "      <th></th>\n",
              "      <th>rating</th>\n",
              "      <th>No of Users</th>\n",
              "    </tr>\n",
              "  </thead>\n",
              "  <tbody>\n",
              "    <tr>\n",
              "      <th>0</th>\n",
              "      <td>10</td>\n",
              "      <td>1370</td>\n",
              "    </tr>\n",
              "    <tr>\n",
              "      <th>1</th>\n",
              "      <td>9</td>\n",
              "      <td>712</td>\n",
              "    </tr>\n",
              "    <tr>\n",
              "      <th>2</th>\n",
              "      <td>1</td>\n",
              "      <td>554</td>\n",
              "    </tr>\n",
              "    <tr>\n",
              "      <th>3</th>\n",
              "      <td>8</td>\n",
              "      <td>471</td>\n",
              "    </tr>\n",
              "    <tr>\n",
              "      <th>4</th>\n",
              "      <td>7</td>\n",
              "      <td>236</td>\n",
              "    </tr>\n",
              "  </tbody>\n",
              "</table>\n",
              "</div>\n",
              "    <div class=\"colab-df-buttons\">\n",
              "\n",
              "  <div class=\"colab-df-container\">\n",
              "    <button class=\"colab-df-convert\" onclick=\"convertToInteractive('df-5c44e220-2e8c-4097-8c74-2999ec906eb2')\"\n",
              "            title=\"Convert this dataframe to an interactive table.\"\n",
              "            style=\"display:none;\">\n",
              "\n",
              "  <svg xmlns=\"http://www.w3.org/2000/svg\" height=\"24px\" viewBox=\"0 -960 960 960\">\n",
              "    <path d=\"M120-120v-720h720v720H120Zm60-500h600v-160H180v160Zm220 220h160v-160H400v160Zm0 220h160v-160H400v160ZM180-400h160v-160H180v160Zm440 0h160v-160H620v160ZM180-180h160v-160H180v160Zm440 0h160v-160H620v160Z\"/>\n",
              "  </svg>\n",
              "    </button>\n",
              "\n",
              "  <style>\n",
              "    .colab-df-container {\n",
              "      display:flex;\n",
              "      gap: 12px;\n",
              "    }\n",
              "\n",
              "    .colab-df-convert {\n",
              "      background-color: #E8F0FE;\n",
              "      border: none;\n",
              "      border-radius: 50%;\n",
              "      cursor: pointer;\n",
              "      display: none;\n",
              "      fill: #1967D2;\n",
              "      height: 32px;\n",
              "      padding: 0 0 0 0;\n",
              "      width: 32px;\n",
              "    }\n",
              "\n",
              "    .colab-df-convert:hover {\n",
              "      background-color: #E2EBFA;\n",
              "      box-shadow: 0px 1px 2px rgba(60, 64, 67, 0.3), 0px 1px 3px 1px rgba(60, 64, 67, 0.15);\n",
              "      fill: #174EA6;\n",
              "    }\n",
              "\n",
              "    .colab-df-buttons div {\n",
              "      margin-bottom: 4px;\n",
              "    }\n",
              "\n",
              "    [theme=dark] .colab-df-convert {\n",
              "      background-color: #3B4455;\n",
              "      fill: #D2E3FC;\n",
              "    }\n",
              "\n",
              "    [theme=dark] .colab-df-convert:hover {\n",
              "      background-color: #434B5C;\n",
              "      box-shadow: 0px 1px 3px 1px rgba(0, 0, 0, 0.15);\n",
              "      filter: drop-shadow(0px 1px 2px rgba(0, 0, 0, 0.3));\n",
              "      fill: #FFFFFF;\n",
              "    }\n",
              "  </style>\n",
              "\n",
              "    <script>\n",
              "      const buttonEl =\n",
              "        document.querySelector('#df-5c44e220-2e8c-4097-8c74-2999ec906eb2 button.colab-df-convert');\n",
              "      buttonEl.style.display =\n",
              "        google.colab.kernel.accessAllowed ? 'block' : 'none';\n",
              "\n",
              "      async function convertToInteractive(key) {\n",
              "        const element = document.querySelector('#df-5c44e220-2e8c-4097-8c74-2999ec906eb2');\n",
              "        const dataTable =\n",
              "          await google.colab.kernel.invokeFunction('convertToInteractive',\n",
              "                                                    [key], {});\n",
              "        if (!dataTable) return;\n",
              "\n",
              "        const docLinkHtml = 'Like what you see? Visit the ' +\n",
              "          '<a target=\"_blank\" href=https://colab.research.google.com/notebooks/data_table.ipynb>data table notebook</a>'\n",
              "          + ' to learn more about interactive tables.';\n",
              "        element.innerHTML = '';\n",
              "        dataTable['output_type'] = 'display_data';\n",
              "        await google.colab.output.renderOutput(dataTable, element);\n",
              "        const docLink = document.createElement('div');\n",
              "        docLink.innerHTML = docLinkHtml;\n",
              "        element.appendChild(docLink);\n",
              "      }\n",
              "    </script>\n",
              "  </div>\n",
              "\n",
              "\n",
              "<div id=\"df-cd94fb99-5765-4412-bd79-cab906db83f1\">\n",
              "  <button class=\"colab-df-quickchart\" onclick=\"quickchart('df-cd94fb99-5765-4412-bd79-cab906db83f1')\"\n",
              "            title=\"Suggest charts\"\n",
              "            style=\"display:none;\">\n",
              "\n",
              "<svg xmlns=\"http://www.w3.org/2000/svg\" height=\"24px\"viewBox=\"0 0 24 24\"\n",
              "     width=\"24px\">\n",
              "    <g>\n",
              "        <path d=\"M19 3H5c-1.1 0-2 .9-2 2v14c0 1.1.9 2 2 2h14c1.1 0 2-.9 2-2V5c0-1.1-.9-2-2-2zM9 17H7v-7h2v7zm4 0h-2V7h2v10zm4 0h-2v-4h2v4z\"/>\n",
              "    </g>\n",
              "</svg>\n",
              "  </button>\n",
              "\n",
              "<style>\n",
              "  .colab-df-quickchart {\n",
              "      --bg-color: #E8F0FE;\n",
              "      --fill-color: #1967D2;\n",
              "      --hover-bg-color: #E2EBFA;\n",
              "      --hover-fill-color: #174EA6;\n",
              "      --disabled-fill-color: #AAA;\n",
              "      --disabled-bg-color: #DDD;\n",
              "  }\n",
              "\n",
              "  [theme=dark] .colab-df-quickchart {\n",
              "      --bg-color: #3B4455;\n",
              "      --fill-color: #D2E3FC;\n",
              "      --hover-bg-color: #434B5C;\n",
              "      --hover-fill-color: #FFFFFF;\n",
              "      --disabled-bg-color: #3B4455;\n",
              "      --disabled-fill-color: #666;\n",
              "  }\n",
              "\n",
              "  .colab-df-quickchart {\n",
              "    background-color: var(--bg-color);\n",
              "    border: none;\n",
              "    border-radius: 50%;\n",
              "    cursor: pointer;\n",
              "    display: none;\n",
              "    fill: var(--fill-color);\n",
              "    height: 32px;\n",
              "    padding: 0;\n",
              "    width: 32px;\n",
              "  }\n",
              "\n",
              "  .colab-df-quickchart:hover {\n",
              "    background-color: var(--hover-bg-color);\n",
              "    box-shadow: 0 1px 2px rgba(60, 64, 67, 0.3), 0 1px 3px 1px rgba(60, 64, 67, 0.15);\n",
              "    fill: var(--button-hover-fill-color);\n",
              "  }\n",
              "\n",
              "  .colab-df-quickchart-complete:disabled,\n",
              "  .colab-df-quickchart-complete:disabled:hover {\n",
              "    background-color: var(--disabled-bg-color);\n",
              "    fill: var(--disabled-fill-color);\n",
              "    box-shadow: none;\n",
              "  }\n",
              "\n",
              "  .colab-df-spinner {\n",
              "    border: 2px solid var(--fill-color);\n",
              "    border-color: transparent;\n",
              "    border-bottom-color: var(--fill-color);\n",
              "    animation:\n",
              "      spin 1s steps(1) infinite;\n",
              "  }\n",
              "\n",
              "  @keyframes spin {\n",
              "    0% {\n",
              "      border-color: transparent;\n",
              "      border-bottom-color: var(--fill-color);\n",
              "      border-left-color: var(--fill-color);\n",
              "    }\n",
              "    20% {\n",
              "      border-color: transparent;\n",
              "      border-left-color: var(--fill-color);\n",
              "      border-top-color: var(--fill-color);\n",
              "    }\n",
              "    30% {\n",
              "      border-color: transparent;\n",
              "      border-left-color: var(--fill-color);\n",
              "      border-top-color: var(--fill-color);\n",
              "      border-right-color: var(--fill-color);\n",
              "    }\n",
              "    40% {\n",
              "      border-color: transparent;\n",
              "      border-right-color: var(--fill-color);\n",
              "      border-top-color: var(--fill-color);\n",
              "    }\n",
              "    60% {\n",
              "      border-color: transparent;\n",
              "      border-right-color: var(--fill-color);\n",
              "    }\n",
              "    80% {\n",
              "      border-color: transparent;\n",
              "      border-right-color: var(--fill-color);\n",
              "      border-bottom-color: var(--fill-color);\n",
              "    }\n",
              "    90% {\n",
              "      border-color: transparent;\n",
              "      border-bottom-color: var(--fill-color);\n",
              "    }\n",
              "  }\n",
              "</style>\n",
              "\n",
              "  <script>\n",
              "    async function quickchart(key) {\n",
              "      const quickchartButtonEl =\n",
              "        document.querySelector('#' + key + ' button');\n",
              "      quickchartButtonEl.disabled = true;  // To prevent multiple clicks.\n",
              "      quickchartButtonEl.classList.add('colab-df-spinner');\n",
              "      try {\n",
              "        const charts = await google.colab.kernel.invokeFunction(\n",
              "            'suggestCharts', [key], {});\n",
              "      } catch (error) {\n",
              "        console.error('Error during call to suggestCharts:', error);\n",
              "      }\n",
              "      quickchartButtonEl.classList.remove('colab-df-spinner');\n",
              "      quickchartButtonEl.classList.add('colab-df-quickchart-complete');\n",
              "    }\n",
              "    (() => {\n",
              "      let quickchartButtonEl =\n",
              "        document.querySelector('#df-cd94fb99-5765-4412-bd79-cab906db83f1 button');\n",
              "      quickchartButtonEl.style.display =\n",
              "        google.colab.kernel.accessAllowed ? 'block' : 'none';\n",
              "    })();\n",
              "  </script>\n",
              "</div>\n",
              "    </div>\n",
              "  </div>\n"
            ]
          },
          "metadata": {},
          "execution_count": 6
        }
      ]
    },
    {
      "cell_type": "code",
      "source": [
        "permanent = data[['rating' , 'review' , 'condition' , 'uniqueID']]\n",
        "mpermanent=permanent.dropna()\n",
        "mpermanent.head()"
      ],
      "metadata": {
        "colab": {
          "base_uri": "https://localhost:8080/",
          "height": 206
        },
        "id": "l8OQpuWkr-l3",
        "outputId": "ecdd1dc1-f212-4024-ce68-f18f7f758de6"
      },
      "execution_count": null,
      "outputs": [
        {
          "output_type": "execute_result",
          "data": {
            "text/plain": [
              "   rating                                             review  \\\n",
              "0       9  \"It has no side effect, I take it in combinati...   \n",
              "1       8  \"My son is halfway through his fourth week of ...   \n",
              "2       5  \"I used to take another oral contraceptive, wh...   \n",
              "3       8  \"This is my first time using any form of birth...   \n",
              "4       9  \"Suboxone has completely turned my life around...   \n",
              "\n",
              "                      condition  uniqueID  \n",
              "0  Left Ventricular Dysfunction    206461  \n",
              "1                          ADHD     95260  \n",
              "2                 Birth Control     92703  \n",
              "3                 Birth Control    138000  \n",
              "4             Opiate Dependence     35696  "
            ],
            "text/html": [
              "\n",
              "  <div id=\"df-53a42e18-0818-4a07-827e-9d497242bf4d\" class=\"colab-df-container\">\n",
              "    <div>\n",
              "<style scoped>\n",
              "    .dataframe tbody tr th:only-of-type {\n",
              "        vertical-align: middle;\n",
              "    }\n",
              "\n",
              "    .dataframe tbody tr th {\n",
              "        vertical-align: top;\n",
              "    }\n",
              "\n",
              "    .dataframe thead th {\n",
              "        text-align: right;\n",
              "    }\n",
              "</style>\n",
              "<table border=\"1\" class=\"dataframe\">\n",
              "  <thead>\n",
              "    <tr style=\"text-align: right;\">\n",
              "      <th></th>\n",
              "      <th>rating</th>\n",
              "      <th>review</th>\n",
              "      <th>condition</th>\n",
              "      <th>uniqueID</th>\n",
              "    </tr>\n",
              "  </thead>\n",
              "  <tbody>\n",
              "    <tr>\n",
              "      <th>0</th>\n",
              "      <td>9</td>\n",
              "      <td>\"It has no side effect, I take it in combinati...</td>\n",
              "      <td>Left Ventricular Dysfunction</td>\n",
              "      <td>206461</td>\n",
              "    </tr>\n",
              "    <tr>\n",
              "      <th>1</th>\n",
              "      <td>8</td>\n",
              "      <td>\"My son is halfway through his fourth week of ...</td>\n",
              "      <td>ADHD</td>\n",
              "      <td>95260</td>\n",
              "    </tr>\n",
              "    <tr>\n",
              "      <th>2</th>\n",
              "      <td>5</td>\n",
              "      <td>\"I used to take another oral contraceptive, wh...</td>\n",
              "      <td>Birth Control</td>\n",
              "      <td>92703</td>\n",
              "    </tr>\n",
              "    <tr>\n",
              "      <th>3</th>\n",
              "      <td>8</td>\n",
              "      <td>\"This is my first time using any form of birth...</td>\n",
              "      <td>Birth Control</td>\n",
              "      <td>138000</td>\n",
              "    </tr>\n",
              "    <tr>\n",
              "      <th>4</th>\n",
              "      <td>9</td>\n",
              "      <td>\"Suboxone has completely turned my life around...</td>\n",
              "      <td>Opiate Dependence</td>\n",
              "      <td>35696</td>\n",
              "    </tr>\n",
              "  </tbody>\n",
              "</table>\n",
              "</div>\n",
              "    <div class=\"colab-df-buttons\">\n",
              "\n",
              "  <div class=\"colab-df-container\">\n",
              "    <button class=\"colab-df-convert\" onclick=\"convertToInteractive('df-53a42e18-0818-4a07-827e-9d497242bf4d')\"\n",
              "            title=\"Convert this dataframe to an interactive table.\"\n",
              "            style=\"display:none;\">\n",
              "\n",
              "  <svg xmlns=\"http://www.w3.org/2000/svg\" height=\"24px\" viewBox=\"0 -960 960 960\">\n",
              "    <path d=\"M120-120v-720h720v720H120Zm60-500h600v-160H180v160Zm220 220h160v-160H400v160Zm0 220h160v-160H400v160ZM180-400h160v-160H180v160Zm440 0h160v-160H620v160ZM180-180h160v-160H180v160Zm440 0h160v-160H620v160Z\"/>\n",
              "  </svg>\n",
              "    </button>\n",
              "\n",
              "  <style>\n",
              "    .colab-df-container {\n",
              "      display:flex;\n",
              "      gap: 12px;\n",
              "    }\n",
              "\n",
              "    .colab-df-convert {\n",
              "      background-color: #E8F0FE;\n",
              "      border: none;\n",
              "      border-radius: 50%;\n",
              "      cursor: pointer;\n",
              "      display: none;\n",
              "      fill: #1967D2;\n",
              "      height: 32px;\n",
              "      padding: 0 0 0 0;\n",
              "      width: 32px;\n",
              "    }\n",
              "\n",
              "    .colab-df-convert:hover {\n",
              "      background-color: #E2EBFA;\n",
              "      box-shadow: 0px 1px 2px rgba(60, 64, 67, 0.3), 0px 1px 3px 1px rgba(60, 64, 67, 0.15);\n",
              "      fill: #174EA6;\n",
              "    }\n",
              "\n",
              "    .colab-df-buttons div {\n",
              "      margin-bottom: 4px;\n",
              "    }\n",
              "\n",
              "    [theme=dark] .colab-df-convert {\n",
              "      background-color: #3B4455;\n",
              "      fill: #D2E3FC;\n",
              "    }\n",
              "\n",
              "    [theme=dark] .colab-df-convert:hover {\n",
              "      background-color: #434B5C;\n",
              "      box-shadow: 0px 1px 3px 1px rgba(0, 0, 0, 0.15);\n",
              "      filter: drop-shadow(0px 1px 2px rgba(0, 0, 0, 0.3));\n",
              "      fill: #FFFFFF;\n",
              "    }\n",
              "  </style>\n",
              "\n",
              "    <script>\n",
              "      const buttonEl =\n",
              "        document.querySelector('#df-53a42e18-0818-4a07-827e-9d497242bf4d button.colab-df-convert');\n",
              "      buttonEl.style.display =\n",
              "        google.colab.kernel.accessAllowed ? 'block' : 'none';\n",
              "\n",
              "      async function convertToInteractive(key) {\n",
              "        const element = document.querySelector('#df-53a42e18-0818-4a07-827e-9d497242bf4d');\n",
              "        const dataTable =\n",
              "          await google.colab.kernel.invokeFunction('convertToInteractive',\n",
              "                                                    [key], {});\n",
              "        if (!dataTable) return;\n",
              "\n",
              "        const docLinkHtml = 'Like what you see? Visit the ' +\n",
              "          '<a target=\"_blank\" href=https://colab.research.google.com/notebooks/data_table.ipynb>data table notebook</a>'\n",
              "          + ' to learn more about interactive tables.';\n",
              "        element.innerHTML = '';\n",
              "        dataTable['output_type'] = 'display_data';\n",
              "        await google.colab.output.renderOutput(dataTable, element);\n",
              "        const docLink = document.createElement('div');\n",
              "        docLink.innerHTML = docLinkHtml;\n",
              "        element.appendChild(docLink);\n",
              "      }\n",
              "    </script>\n",
              "  </div>\n",
              "\n",
              "\n",
              "<div id=\"df-d5a0e155-a4a2-4439-b513-4ec3a21cd3c8\">\n",
              "  <button class=\"colab-df-quickchart\" onclick=\"quickchart('df-d5a0e155-a4a2-4439-b513-4ec3a21cd3c8')\"\n",
              "            title=\"Suggest charts\"\n",
              "            style=\"display:none;\">\n",
              "\n",
              "<svg xmlns=\"http://www.w3.org/2000/svg\" height=\"24px\"viewBox=\"0 0 24 24\"\n",
              "     width=\"24px\">\n",
              "    <g>\n",
              "        <path d=\"M19 3H5c-1.1 0-2 .9-2 2v14c0 1.1.9 2 2 2h14c1.1 0 2-.9 2-2V5c0-1.1-.9-2-2-2zM9 17H7v-7h2v7zm4 0h-2V7h2v10zm4 0h-2v-4h2v4z\"/>\n",
              "    </g>\n",
              "</svg>\n",
              "  </button>\n",
              "\n",
              "<style>\n",
              "  .colab-df-quickchart {\n",
              "      --bg-color: #E8F0FE;\n",
              "      --fill-color: #1967D2;\n",
              "      --hover-bg-color: #E2EBFA;\n",
              "      --hover-fill-color: #174EA6;\n",
              "      --disabled-fill-color: #AAA;\n",
              "      --disabled-bg-color: #DDD;\n",
              "  }\n",
              "\n",
              "  [theme=dark] .colab-df-quickchart {\n",
              "      --bg-color: #3B4455;\n",
              "      --fill-color: #D2E3FC;\n",
              "      --hover-bg-color: #434B5C;\n",
              "      --hover-fill-color: #FFFFFF;\n",
              "      --disabled-bg-color: #3B4455;\n",
              "      --disabled-fill-color: #666;\n",
              "  }\n",
              "\n",
              "  .colab-df-quickchart {\n",
              "    background-color: var(--bg-color);\n",
              "    border: none;\n",
              "    border-radius: 50%;\n",
              "    cursor: pointer;\n",
              "    display: none;\n",
              "    fill: var(--fill-color);\n",
              "    height: 32px;\n",
              "    padding: 0;\n",
              "    width: 32px;\n",
              "  }\n",
              "\n",
              "  .colab-df-quickchart:hover {\n",
              "    background-color: var(--hover-bg-color);\n",
              "    box-shadow: 0 1px 2px rgba(60, 64, 67, 0.3), 0 1px 3px 1px rgba(60, 64, 67, 0.15);\n",
              "    fill: var(--button-hover-fill-color);\n",
              "  }\n",
              "\n",
              "  .colab-df-quickchart-complete:disabled,\n",
              "  .colab-df-quickchart-complete:disabled:hover {\n",
              "    background-color: var(--disabled-bg-color);\n",
              "    fill: var(--disabled-fill-color);\n",
              "    box-shadow: none;\n",
              "  }\n",
              "\n",
              "  .colab-df-spinner {\n",
              "    border: 2px solid var(--fill-color);\n",
              "    border-color: transparent;\n",
              "    border-bottom-color: var(--fill-color);\n",
              "    animation:\n",
              "      spin 1s steps(1) infinite;\n",
              "  }\n",
              "\n",
              "  @keyframes spin {\n",
              "    0% {\n",
              "      border-color: transparent;\n",
              "      border-bottom-color: var(--fill-color);\n",
              "      border-left-color: var(--fill-color);\n",
              "    }\n",
              "    20% {\n",
              "      border-color: transparent;\n",
              "      border-left-color: var(--fill-color);\n",
              "      border-top-color: var(--fill-color);\n",
              "    }\n",
              "    30% {\n",
              "      border-color: transparent;\n",
              "      border-left-color: var(--fill-color);\n",
              "      border-top-color: var(--fill-color);\n",
              "      border-right-color: var(--fill-color);\n",
              "    }\n",
              "    40% {\n",
              "      border-color: transparent;\n",
              "      border-right-color: var(--fill-color);\n",
              "      border-top-color: var(--fill-color);\n",
              "    }\n",
              "    60% {\n",
              "      border-color: transparent;\n",
              "      border-right-color: var(--fill-color);\n",
              "    }\n",
              "    80% {\n",
              "      border-color: transparent;\n",
              "      border-right-color: var(--fill-color);\n",
              "      border-bottom-color: var(--fill-color);\n",
              "    }\n",
              "    90% {\n",
              "      border-color: transparent;\n",
              "      border-bottom-color: var(--fill-color);\n",
              "    }\n",
              "  }\n",
              "</style>\n",
              "\n",
              "  <script>\n",
              "    async function quickchart(key) {\n",
              "      const quickchartButtonEl =\n",
              "        document.querySelector('#' + key + ' button');\n",
              "      quickchartButtonEl.disabled = true;  // To prevent multiple clicks.\n",
              "      quickchartButtonEl.classList.add('colab-df-spinner');\n",
              "      try {\n",
              "        const charts = await google.colab.kernel.invokeFunction(\n",
              "            'suggestCharts', [key], {});\n",
              "      } catch (error) {\n",
              "        console.error('Error during call to suggestCharts:', error);\n",
              "      }\n",
              "      quickchartButtonEl.classList.remove('colab-df-spinner');\n",
              "      quickchartButtonEl.classList.add('colab-df-quickchart-complete');\n",
              "    }\n",
              "    (() => {\n",
              "      let quickchartButtonEl =\n",
              "        document.querySelector('#df-d5a0e155-a4a2-4439-b513-4ec3a21cd3c8 button');\n",
              "      quickchartButtonEl.style.display =\n",
              "        google.colab.kernel.accessAllowed ? 'block' : 'none';\n",
              "    })();\n",
              "  </script>\n",
              "</div>\n",
              "    </div>\n",
              "  </div>\n"
            ]
          },
          "metadata": {},
          "execution_count": 7
        }
      ]
    },
    {
      "cell_type": "code",
      "source": [
        "check =  mpermanent[mpermanent[\"review\"].isnull()]\n",
        "check.head()"
      ],
      "metadata": {
        "colab": {
          "base_uri": "https://localhost:8080/",
          "height": 53
        },
        "id": "DseOvaWDsFlS",
        "outputId": "0b2f9732-a8f4-46c6-a361-58691a6a959e"
      },
      "execution_count": null,
      "outputs": [
        {
          "output_type": "execute_result",
          "data": {
            "text/plain": [
              "Empty DataFrame\n",
              "Columns: [rating, review, condition, uniqueID]\n",
              "Index: []"
            ],
            "text/html": [
              "\n",
              "  <div id=\"df-d0e1a6b4-bc8b-4ed8-953d-76281f60bf76\" class=\"colab-df-container\">\n",
              "    <div>\n",
              "<style scoped>\n",
              "    .dataframe tbody tr th:only-of-type {\n",
              "        vertical-align: middle;\n",
              "    }\n",
              "\n",
              "    .dataframe tbody tr th {\n",
              "        vertical-align: top;\n",
              "    }\n",
              "\n",
              "    .dataframe thead th {\n",
              "        text-align: right;\n",
              "    }\n",
              "</style>\n",
              "<table border=\"1\" class=\"dataframe\">\n",
              "  <thead>\n",
              "    <tr style=\"text-align: right;\">\n",
              "      <th></th>\n",
              "      <th>rating</th>\n",
              "      <th>review</th>\n",
              "      <th>condition</th>\n",
              "      <th>uniqueID</th>\n",
              "    </tr>\n",
              "  </thead>\n",
              "  <tbody>\n",
              "  </tbody>\n",
              "</table>\n",
              "</div>\n",
              "    <div class=\"colab-df-buttons\">\n",
              "\n",
              "  <div class=\"colab-df-container\">\n",
              "    <button class=\"colab-df-convert\" onclick=\"convertToInteractive('df-d0e1a6b4-bc8b-4ed8-953d-76281f60bf76')\"\n",
              "            title=\"Convert this dataframe to an interactive table.\"\n",
              "            style=\"display:none;\">\n",
              "\n",
              "  <svg xmlns=\"http://www.w3.org/2000/svg\" height=\"24px\" viewBox=\"0 -960 960 960\">\n",
              "    <path d=\"M120-120v-720h720v720H120Zm60-500h600v-160H180v160Zm220 220h160v-160H400v160Zm0 220h160v-160H400v160ZM180-400h160v-160H180v160Zm440 0h160v-160H620v160ZM180-180h160v-160H180v160Zm440 0h160v-160H620v160Z\"/>\n",
              "  </svg>\n",
              "    </button>\n",
              "\n",
              "  <style>\n",
              "    .colab-df-container {\n",
              "      display:flex;\n",
              "      gap: 12px;\n",
              "    }\n",
              "\n",
              "    .colab-df-convert {\n",
              "      background-color: #E8F0FE;\n",
              "      border: none;\n",
              "      border-radius: 50%;\n",
              "      cursor: pointer;\n",
              "      display: none;\n",
              "      fill: #1967D2;\n",
              "      height: 32px;\n",
              "      padding: 0 0 0 0;\n",
              "      width: 32px;\n",
              "    }\n",
              "\n",
              "    .colab-df-convert:hover {\n",
              "      background-color: #E2EBFA;\n",
              "      box-shadow: 0px 1px 2px rgba(60, 64, 67, 0.3), 0px 1px 3px 1px rgba(60, 64, 67, 0.15);\n",
              "      fill: #174EA6;\n",
              "    }\n",
              "\n",
              "    .colab-df-buttons div {\n",
              "      margin-bottom: 4px;\n",
              "    }\n",
              "\n",
              "    [theme=dark] .colab-df-convert {\n",
              "      background-color: #3B4455;\n",
              "      fill: #D2E3FC;\n",
              "    }\n",
              "\n",
              "    [theme=dark] .colab-df-convert:hover {\n",
              "      background-color: #434B5C;\n",
              "      box-shadow: 0px 1px 3px 1px rgba(0, 0, 0, 0.15);\n",
              "      filter: drop-shadow(0px 1px 2px rgba(0, 0, 0, 0.3));\n",
              "      fill: #FFFFFF;\n",
              "    }\n",
              "  </style>\n",
              "\n",
              "    <script>\n",
              "      const buttonEl =\n",
              "        document.querySelector('#df-d0e1a6b4-bc8b-4ed8-953d-76281f60bf76 button.colab-df-convert');\n",
              "      buttonEl.style.display =\n",
              "        google.colab.kernel.accessAllowed ? 'block' : 'none';\n",
              "\n",
              "      async function convertToInteractive(key) {\n",
              "        const element = document.querySelector('#df-d0e1a6b4-bc8b-4ed8-953d-76281f60bf76');\n",
              "        const dataTable =\n",
              "          await google.colab.kernel.invokeFunction('convertToInteractive',\n",
              "                                                    [key], {});\n",
              "        if (!dataTable) return;\n",
              "\n",
              "        const docLinkHtml = 'Like what you see? Visit the ' +\n",
              "          '<a target=\"_blank\" href=https://colab.research.google.com/notebooks/data_table.ipynb>data table notebook</a>'\n",
              "          + ' to learn more about interactive tables.';\n",
              "        element.innerHTML = '';\n",
              "        dataTable['output_type'] = 'display_data';\n",
              "        await google.colab.output.renderOutput(dataTable, element);\n",
              "        const docLink = document.createElement('div');\n",
              "        docLink.innerHTML = docLinkHtml;\n",
              "        element.appendChild(docLink);\n",
              "      }\n",
              "    </script>\n",
              "  </div>\n",
              "\n",
              "    </div>\n",
              "  </div>\n"
            ]
          },
          "metadata": {},
          "execution_count": 8
        }
      ]
    },
    {
      "cell_type": "code",
      "source": [
        "actualrating = mpermanent[(mpermanent['rating'] == 1) | (mpermanent['rating'] == 10)]\n",
        "actualrating.shape\n"
      ],
      "metadata": {
        "colab": {
          "base_uri": "https://localhost:8080/"
        },
        "id": "va61oqvMsG21",
        "outputId": "4c2c8664-ff8a-4c17-b003-33a88ee5d3f2"
      },
      "execution_count": null,
      "outputs": [
        {
          "output_type": "execute_result",
          "data": {
            "text/plain": [
              "(1913, 4)"
            ]
          },
          "metadata": {},
          "execution_count": 10
        }
      ]
    },
    {
      "cell_type": "code",
      "source": [
        "y = actualrating['rating']\n",
        "x = actualrating['review'].reset_index()\n",
        "len(y)\n",
        "X = x['review']\n",
        "print(X)"
      ],
      "metadata": {
        "colab": {
          "base_uri": "https://localhost:8080/"
        },
        "id": "MhGBpWSksJpx",
        "outputId": "72135f5a-d63a-4c00-8485-516241d551f0"
      },
      "execution_count": null,
      "outputs": [
        {
          "output_type": "stream",
          "name": "stdout",
          "text": [
            "0       \"He pulled out, but he cummed a bit in me. I t...\n",
            "1       \"Abilify changed my life. There is hope. I was...\n",
            "2       \" I Ve had  nothing but problems with the Kepp...\n",
            "3       \"I have taken anti-depressants for years, with...\n",
            "4       \"I&#039;ve been on every medicine under the su...\n",
            "                              ...                        \n",
            "1908    \"I&#039;m a 24 y/o female that had been dealin...\n",
            "1909    \"Have been on this for four weeks.  First two ...\n",
            "1910    \"I&#039;ve tried the patch, the shot, Ortho Cy...\n",
            "1911    \"Didn&#039;t improve any symptoms.\\r\\n\\r\\nSide...\n",
            "1912    \"I&#039;ve used Lovaza for about 8 months and ...\n",
            "Name: review, Length: 1913, dtype: object\n"
          ]
        }
      ]
    },
    {
      "cell_type": "code",
      "source": [
        "import string\n",
        "from nltk.corpus import stopwords\n",
        "# stop=set(stopwords.words('english'))\n",
        "def text_process(text):\n",
        "    '''\n",
        "    Takes in a string of text, then performs the following:\n",
        "    1. Remove all punctuation\n",
        "    2. Remove all stopwords\n",
        "    3. Return the cleaned text as a list of words\n",
        "    '''\n",
        "    nopunc = [char for char in text if char not in string.punctuation]\n",
        "    nopunc = ''.join(nopunc)\n",
        "\n",
        "    return [word for word in nopunc.split() if word.lower() not in stopwords.words('english')]\n",
        "\n",
        "tokens = X[0].split()\n",
        "print(tokens)"
      ],
      "metadata": {
        "colab": {
          "base_uri": "https://localhost:8080/"
        },
        "id": "EwArC0ldsO_p",
        "outputId": "bf8ba2c8-96d0-45ae-b80f-4503af8ab976"
      },
      "execution_count": null,
      "outputs": [
        {
          "output_type": "stream",
          "name": "stdout",
          "text": [
            "['\"He', 'pulled', 'out,', 'but', 'he', 'cummed', 'a', 'bit', 'in', 'me.', 'I', 'took', 'the', 'Plan', 'B', '26', 'hours', 'later,', 'and', 'took', 'a', 'pregnancy', 'test', 'two', 'weeks', 'later', '-', '-', 'I&#039;m', 'pregnant.\"']\n"
          ]
        }
      ]
    },
    {
      "cell_type": "code",
      "source": [
        "import nltk\n",
        "nltk.download('stopwords')\n",
        "from sklearn.feature_extraction.text import CountVectorizer\n",
        "# next we need to vectorize our input variable (X)\n",
        "#we use the count vectoriser function and the analyser we use is the above lines of code\n",
        "# this should return a vector array\n",
        "bow_transformer = CountVectorizer(analyzer=text_process).fit(X)"
      ],
      "metadata": {
        "colab": {
          "base_uri": "https://localhost:8080/"
        },
        "id": "f0nvnr_-sTKa",
        "outputId": "f5497fd8-975c-4577-ac4d-861239440c44"
      },
      "execution_count": null,
      "outputs": [
        {
          "output_type": "stream",
          "name": "stderr",
          "text": [
            "[nltk_data] Downloading package stopwords to /root/nltk_data...\n",
            "[nltk_data]   Unzipping corpora/stopwords.zip.\n"
          ]
        }
      ]
    },
    {
      "cell_type": "code",
      "source": [
        "from sklearn.feature_extraction.text import CountVectorizer\n",
        "# next we need to vectorize our input variable (X)\n",
        "#we use the count vectoriser function and the analyser we use is the above lines of code\n",
        "# this should return a vector array\n",
        "bow_transformer = CountVectorizer(analyzer=text_process).fit(X)"
      ],
      "metadata": {
        "id": "D_cgffmXsX39"
      },
      "execution_count": null,
      "outputs": []
    },
    {
      "cell_type": "code",
      "source": [
        "import pandas as pd\n",
        "from sklearn.feature_extraction.text import CountVectorizer\n",
        "from sklearn.model_selection import train_test_split\n",
        "from scipy.sparse import csr_matrix\n",
        "import string\n",
        "\n",
        "# Assuming you have a DataFrame with a column named 'text' and a column named 'target'\n",
        "# Replace it with your actual column names if they are different\n",
        "data = pd.read_csv('/content/drug.com 2.csv')\n",
        "X = data['review']\n",
        "y = data['rating']\n",
        "\n",
        "# Bag of Words (BoW) Transformation\n",
        "vectorizer = CountVectorizer(analyzer='word')\n",
        "X = vectorizer.fit_transform(X)\n",
        "\n",
        "# Split the data into training and testing sets\n",
        "X_train, X_test, y_train, y_test = train_test_split(X, y, test_size=0.3, random_state=101)\n",
        "\n",
        "# The rest of your code for training and testing the model goes here\n",
        "# ...\n",
        "\n",
        "# The clean_text function\n",
        "def clean_text(review):\n",
        "    '''\n",
        "    1. Remove punctuation\n",
        "    2. Remove stopwords\n",
        "    3. Return the cleaned text as a list of words\n",
        "    '''\n",
        "    if isinstance(review, csr_matrix):\n",
        "        # Convert sparse matrix to dense array\n",
        "        review = review.toarray()\n",
        "\n",
        "    cleaned_text = []\n",
        "    for doc in review:\n",
        "        nopunc = [char for char in doc if char not in string.punctuation]\n",
        "        nopunc = ''.join(nopunc)\n",
        "        cleaned_text.append(nopunc)\n",
        "\n",
        "    return cleaned_text\n"
      ],
      "metadata": {
        "id": "D7E4uIqgsjXN"
      },
      "execution_count": null,
      "outputs": []
    },
    {
      "cell_type": "code",
      "source": [
        "#from sklearn.naive_bayes import MultinomialNB\n",
        "#nb = MultinomialNB()\n",
        "#nan_indices = np.isnan(y)\n",
        "#nb.fit(X_train, y_train)"
      ],
      "metadata": {
        "colab": {
          "base_uri": "https://localhost:8080/",
          "height": 74
        },
        "id": "H3BHvKhvs7SC",
        "outputId": "1dcc8eed-129c-4923-896e-9d1b897e45e6"
      },
      "execution_count": null,
      "outputs": [
        {
          "output_type": "execute_result",
          "data": {
            "text/plain": [
              "MultinomialNB()"
            ],
            "text/html": [
              "<style>#sk-container-id-1 {color: black;background-color: white;}#sk-container-id-1 pre{padding: 0;}#sk-container-id-1 div.sk-toggleable {background-color: white;}#sk-container-id-1 label.sk-toggleable__label {cursor: pointer;display: block;width: 100%;margin-bottom: 0;padding: 0.3em;box-sizing: border-box;text-align: center;}#sk-container-id-1 label.sk-toggleable__label-arrow:before {content: \"▸\";float: left;margin-right: 0.25em;color: #696969;}#sk-container-id-1 label.sk-toggleable__label-arrow:hover:before {color: black;}#sk-container-id-1 div.sk-estimator:hover label.sk-toggleable__label-arrow:before {color: black;}#sk-container-id-1 div.sk-toggleable__content {max-height: 0;max-width: 0;overflow: hidden;text-align: left;background-color: #f0f8ff;}#sk-container-id-1 div.sk-toggleable__content pre {margin: 0.2em;color: black;border-radius: 0.25em;background-color: #f0f8ff;}#sk-container-id-1 input.sk-toggleable__control:checked~div.sk-toggleable__content {max-height: 200px;max-width: 100%;overflow: auto;}#sk-container-id-1 input.sk-toggleable__control:checked~label.sk-toggleable__label-arrow:before {content: \"▾\";}#sk-container-id-1 div.sk-estimator input.sk-toggleable__control:checked~label.sk-toggleable__label {background-color: #d4ebff;}#sk-container-id-1 div.sk-label input.sk-toggleable__control:checked~label.sk-toggleable__label {background-color: #d4ebff;}#sk-container-id-1 input.sk-hidden--visually {border: 0;clip: rect(1px 1px 1px 1px);clip: rect(1px, 1px, 1px, 1px);height: 1px;margin: -1px;overflow: hidden;padding: 0;position: absolute;width: 1px;}#sk-container-id-1 div.sk-estimator {font-family: monospace;background-color: #f0f8ff;border: 1px dotted black;border-radius: 0.25em;box-sizing: border-box;margin-bottom: 0.5em;}#sk-container-id-1 div.sk-estimator:hover {background-color: #d4ebff;}#sk-container-id-1 div.sk-parallel-item::after {content: \"\";width: 100%;border-bottom: 1px solid gray;flex-grow: 1;}#sk-container-id-1 div.sk-label:hover label.sk-toggleable__label {background-color: #d4ebff;}#sk-container-id-1 div.sk-serial::before {content: \"\";position: absolute;border-left: 1px solid gray;box-sizing: border-box;top: 0;bottom: 0;left: 50%;z-index: 0;}#sk-container-id-1 div.sk-serial {display: flex;flex-direction: column;align-items: center;background-color: white;padding-right: 0.2em;padding-left: 0.2em;position: relative;}#sk-container-id-1 div.sk-item {position: relative;z-index: 1;}#sk-container-id-1 div.sk-parallel {display: flex;align-items: stretch;justify-content: center;background-color: white;position: relative;}#sk-container-id-1 div.sk-item::before, #sk-container-id-1 div.sk-parallel-item::before {content: \"\";position: absolute;border-left: 1px solid gray;box-sizing: border-box;top: 0;bottom: 0;left: 50%;z-index: -1;}#sk-container-id-1 div.sk-parallel-item {display: flex;flex-direction: column;z-index: 1;position: relative;background-color: white;}#sk-container-id-1 div.sk-parallel-item:first-child::after {align-self: flex-end;width: 50%;}#sk-container-id-1 div.sk-parallel-item:last-child::after {align-self: flex-start;width: 50%;}#sk-container-id-1 div.sk-parallel-item:only-child::after {width: 0;}#sk-container-id-1 div.sk-dashed-wrapped {border: 1px dashed gray;margin: 0 0.4em 0.5em 0.4em;box-sizing: border-box;padding-bottom: 0.4em;background-color: white;}#sk-container-id-1 div.sk-label label {font-family: monospace;font-weight: bold;display: inline-block;line-height: 1.2em;}#sk-container-id-1 div.sk-label-container {text-align: center;}#sk-container-id-1 div.sk-container {/* jupyter's `normalize.less` sets `[hidden] { display: none; }` but bootstrap.min.css set `[hidden] { display: none !important; }` so we also need the `!important` here to be able to override the default hidden behavior on the sphinx rendered scikit-learn.org. See: https://github.com/scikit-learn/scikit-learn/issues/21755 */display: inline-block !important;position: relative;}#sk-container-id-1 div.sk-text-repr-fallback {display: none;}</style><div id=\"sk-container-id-1\" class=\"sk-top-container\"><div class=\"sk-text-repr-fallback\"><pre>MultinomialNB()</pre><b>In a Jupyter environment, please rerun this cell to show the HTML representation or trust the notebook. <br />On GitHub, the HTML representation is unable to render, please try loading this page with nbviewer.org.</b></div><div class=\"sk-container\" hidden><div class=\"sk-item\"><div class=\"sk-estimator sk-toggleable\"><input class=\"sk-toggleable__control sk-hidden--visually\" id=\"sk-estimator-id-1\" type=\"checkbox\" checked><label for=\"sk-estimator-id-1\" class=\"sk-toggleable__label sk-toggleable__label-arrow\">MultinomialNB</label><div class=\"sk-toggleable__content\"><pre>MultinomialNB()</pre></div></div></div></div></div>"
            ]
          },
          "metadata": {},
          "execution_count": 20
        }
      ]
    },
    {
      "cell_type": "code",
      "source": [
        "#preds = nb.predict(X_test)\n",
        "#from sklearn.metrics import confusion_matrix, classification_report\n",
        "#print(confusion_matrix(y_test, preds))\n",
        "#print('\\n')\n",
        "#print(classification_report(y_test, preds))\n",
        "#nb.score(X_train, y_train)"
      ],
      "metadata": {
        "colab": {
          "base_uri": "https://localhost:8080/"
        },
        "id": "hHlSTvu2s-Bh",
        "outputId": "54b61b5b-52de-4978-904c-c42c178090b3"
      },
      "execution_count": null,
      "outputs": [
        {
          "output_type": "stream",
          "name": "stdout",
          "text": [
            "[[ 45   0   0   0   0   0   0   2   5 112]\n",
            " [  8   0   0   0   0   0   0   1   6  36]\n",
            " [  5   0   0   0   0   0   0   0   6  41]\n",
            " [  5   0   0   0   0   0   0   1   6  34]\n",
            " [  2   0   0   0   0   0   0   2  10  50]\n",
            " [  2   0   0   0   1   0   0   1   6  35]\n",
            " [  3   1   0   0   0   0   0   0   8  54]\n",
            " [  2   0   0   0   0   0   0   2  17 136]\n",
            " [  0   0   0   0   0   0   0   5  14 203]\n",
            " [ 10   0   0   0   0   0   1   2  22 364]]\n",
            "\n",
            "\n",
            "              precision    recall  f1-score   support\n",
            "\n",
            "           1       0.55      0.27      0.37       164\n",
            "           2       0.00      0.00      0.00        51\n",
            "           3       0.00      0.00      0.00        52\n",
            "           4       0.00      0.00      0.00        46\n",
            "           5       0.00      0.00      0.00        64\n",
            "           6       0.00      0.00      0.00        45\n",
            "           7       0.00      0.00      0.00        66\n",
            "           8       0.12      0.01      0.02       157\n",
            "           9       0.14      0.06      0.09       222\n",
            "          10       0.34      0.91      0.50       399\n",
            "\n",
            "    accuracy                           0.34      1266\n",
            "   macro avg       0.12      0.13      0.10      1266\n",
            "weighted avg       0.22      0.34      0.22      1266\n",
            "\n"
          ]
        },
        {
          "output_type": "stream",
          "name": "stderr",
          "text": [
            "/usr/local/lib/python3.10/dist-packages/sklearn/metrics/_classification.py:1344: UndefinedMetricWarning: Precision and F-score are ill-defined and being set to 0.0 in labels with no predicted samples. Use `zero_division` parameter to control this behavior.\n",
            "  _warn_prf(average, modifier, msg_start, len(result))\n",
            "/usr/local/lib/python3.10/dist-packages/sklearn/metrics/_classification.py:1344: UndefinedMetricWarning: Precision and F-score are ill-defined and being set to 0.0 in labels with no predicted samples. Use `zero_division` parameter to control this behavior.\n",
            "  _warn_prf(average, modifier, msg_start, len(result))\n",
            "/usr/local/lib/python3.10/dist-packages/sklearn/metrics/_classification.py:1344: UndefinedMetricWarning: Precision and F-score are ill-defined and being set to 0.0 in labels with no predicted samples. Use `zero_division` parameter to control this behavior.\n",
            "  _warn_prf(average, modifier, msg_start, len(result))\n"
          ]
        },
        {
          "output_type": "execute_result",
          "data": {
            "text/plain": [
              "0.5682819383259912"
            ]
          },
          "metadata": {},
          "execution_count": 21
        }
      ]
    },
    {
      "cell_type": "code",
      "source": [],
      "metadata": {
        "id": "bKICb-zStDIV"
      },
      "execution_count": null,
      "outputs": []
    },
    {
      "cell_type": "code",
      "source": [
        "from sklearn.svm import SVC\n",
        "clf = SVC()\n",
        "clf.fit(X_train, y_train)\n",
        "predsvm=clf.predict(X_test)"
      ],
      "metadata": {
        "id": "K6UuhbTL1wLI"
      },
      "execution_count": null,
      "outputs": []
    },
    {
      "cell_type": "code",
      "source": [
        "from sklearn.metrics import confusion_matrix, classification_report\n",
        "print(confusion_matrix(y_test, preds))\n",
        "print('\\n')\n",
        "print(classification_report(y_test, predsvm))\n",
        "predsvm=clf.predict(X_test)\n",
        "clf.score(X_train,y_train)"
      ],
      "metadata": {
        "colab": {
          "base_uri": "https://localhost:8080/"
        },
        "id": "eW74q8SitNoY",
        "outputId": "33b4b33a-927a-43be-f174-e37106dbb393"
      },
      "execution_count": null,
      "outputs": [
        {
          "output_type": "stream",
          "name": "stdout",
          "text": [
            "[[ 45   0   0   0   0   0   0   2   5 112]\n",
            " [  8   0   0   0   0   0   0   1   6  36]\n",
            " [  5   0   0   0   0   0   0   0   6  41]\n",
            " [  5   0   0   0   0   0   0   1   6  34]\n",
            " [  2   0   0   0   0   0   0   2  10  50]\n",
            " [  2   0   0   0   1   0   0   1   6  35]\n",
            " [  3   1   0   0   0   0   0   0   8  54]\n",
            " [  2   0   0   0   0   0   0   2  17 136]\n",
            " [  0   0   0   0   0   0   0   5  14 203]\n",
            " [ 10   0   0   0   0   0   1   2  22 364]]\n",
            "\n",
            "\n",
            "              precision    recall  f1-score   support\n",
            "\n",
            "           1       0.51      0.16      0.24       164\n",
            "           2       1.00      0.02      0.04        51\n",
            "           3       1.00      0.02      0.04        52\n",
            "           4       0.00      0.00      0.00        46\n",
            "           5       0.00      0.00      0.00        64\n",
            "           6       0.00      0.00      0.00        45\n",
            "           7       0.00      0.00      0.00        66\n",
            "           8       0.00      0.00      0.00       157\n",
            "           9       0.17      0.00      0.01       222\n",
            "          10       0.32      0.98      0.49       399\n",
            "\n",
            "    accuracy                           0.33      1266\n",
            "   macro avg       0.30      0.12      0.08      1266\n",
            "weighted avg       0.28      0.33      0.19      1266\n",
            "\n"
          ]
        },
        {
          "output_type": "stream",
          "name": "stderr",
          "text": [
            "/usr/local/lib/python3.10/dist-packages/sklearn/metrics/_classification.py:1344: UndefinedMetricWarning: Precision and F-score are ill-defined and being set to 0.0 in labels with no predicted samples. Use `zero_division` parameter to control this behavior.\n",
            "  _warn_prf(average, modifier, msg_start, len(result))\n",
            "/usr/local/lib/python3.10/dist-packages/sklearn/metrics/_classification.py:1344: UndefinedMetricWarning: Precision and F-score are ill-defined and being set to 0.0 in labels with no predicted samples. Use `zero_division` parameter to control this behavior.\n",
            "  _warn_prf(average, modifier, msg_start, len(result))\n",
            "/usr/local/lib/python3.10/dist-packages/sklearn/metrics/_classification.py:1344: UndefinedMetricWarning: Precision and F-score are ill-defined and being set to 0.0 in labels with no predicted samples. Use `zero_division` parameter to control this behavior.\n",
            "  _warn_prf(average, modifier, msg_start, len(result))\n"
          ]
        },
        {
          "output_type": "execute_result",
          "data": {
            "text/plain": [
              "0.5520162656726534"
            ]
          },
          "metadata": {},
          "execution_count": 35
        }
      ]
    },
    {
      "cell_type": "code",
      "source": [
        "from sklearn.neighbors import KNeighborsClassifier\n",
        "neigh = KNeighborsClassifier(n_neighbors=3)\n",
        "neigh.fit(X, y)"
      ],
      "metadata": {
        "colab": {
          "base_uri": "https://localhost:8080/",
          "height": 74
        },
        "id": "LF7smBRStQO9",
        "outputId": "067d289b-9d3f-4f7d-ba23-bee0f379897f"
      },
      "execution_count": null,
      "outputs": [
        {
          "output_type": "execute_result",
          "data": {
            "text/plain": [
              "KNeighborsClassifier(n_neighbors=3)"
            ],
            "text/html": [
              "<style>#sk-container-id-2 {color: black;background-color: white;}#sk-container-id-2 pre{padding: 0;}#sk-container-id-2 div.sk-toggleable {background-color: white;}#sk-container-id-2 label.sk-toggleable__label {cursor: pointer;display: block;width: 100%;margin-bottom: 0;padding: 0.3em;box-sizing: border-box;text-align: center;}#sk-container-id-2 label.sk-toggleable__label-arrow:before {content: \"▸\";float: left;margin-right: 0.25em;color: #696969;}#sk-container-id-2 label.sk-toggleable__label-arrow:hover:before {color: black;}#sk-container-id-2 div.sk-estimator:hover label.sk-toggleable__label-arrow:before {color: black;}#sk-container-id-2 div.sk-toggleable__content {max-height: 0;max-width: 0;overflow: hidden;text-align: left;background-color: #f0f8ff;}#sk-container-id-2 div.sk-toggleable__content pre {margin: 0.2em;color: black;border-radius: 0.25em;background-color: #f0f8ff;}#sk-container-id-2 input.sk-toggleable__control:checked~div.sk-toggleable__content {max-height: 200px;max-width: 100%;overflow: auto;}#sk-container-id-2 input.sk-toggleable__control:checked~label.sk-toggleable__label-arrow:before {content: \"▾\";}#sk-container-id-2 div.sk-estimator input.sk-toggleable__control:checked~label.sk-toggleable__label {background-color: #d4ebff;}#sk-container-id-2 div.sk-label input.sk-toggleable__control:checked~label.sk-toggleable__label {background-color: #d4ebff;}#sk-container-id-2 input.sk-hidden--visually {border: 0;clip: rect(1px 1px 1px 1px);clip: rect(1px, 1px, 1px, 1px);height: 1px;margin: -1px;overflow: hidden;padding: 0;position: absolute;width: 1px;}#sk-container-id-2 div.sk-estimator {font-family: monospace;background-color: #f0f8ff;border: 1px dotted black;border-radius: 0.25em;box-sizing: border-box;margin-bottom: 0.5em;}#sk-container-id-2 div.sk-estimator:hover {background-color: #d4ebff;}#sk-container-id-2 div.sk-parallel-item::after {content: \"\";width: 100%;border-bottom: 1px solid gray;flex-grow: 1;}#sk-container-id-2 div.sk-label:hover label.sk-toggleable__label {background-color: #d4ebff;}#sk-container-id-2 div.sk-serial::before {content: \"\";position: absolute;border-left: 1px solid gray;box-sizing: border-box;top: 0;bottom: 0;left: 50%;z-index: 0;}#sk-container-id-2 div.sk-serial {display: flex;flex-direction: column;align-items: center;background-color: white;padding-right: 0.2em;padding-left: 0.2em;position: relative;}#sk-container-id-2 div.sk-item {position: relative;z-index: 1;}#sk-container-id-2 div.sk-parallel {display: flex;align-items: stretch;justify-content: center;background-color: white;position: relative;}#sk-container-id-2 div.sk-item::before, #sk-container-id-2 div.sk-parallel-item::before {content: \"\";position: absolute;border-left: 1px solid gray;box-sizing: border-box;top: 0;bottom: 0;left: 50%;z-index: -1;}#sk-container-id-2 div.sk-parallel-item {display: flex;flex-direction: column;z-index: 1;position: relative;background-color: white;}#sk-container-id-2 div.sk-parallel-item:first-child::after {align-self: flex-end;width: 50%;}#sk-container-id-2 div.sk-parallel-item:last-child::after {align-self: flex-start;width: 50%;}#sk-container-id-2 div.sk-parallel-item:only-child::after {width: 0;}#sk-container-id-2 div.sk-dashed-wrapped {border: 1px dashed gray;margin: 0 0.4em 0.5em 0.4em;box-sizing: border-box;padding-bottom: 0.4em;background-color: white;}#sk-container-id-2 div.sk-label label {font-family: monospace;font-weight: bold;display: inline-block;line-height: 1.2em;}#sk-container-id-2 div.sk-label-container {text-align: center;}#sk-container-id-2 div.sk-container {/* jupyter's `normalize.less` sets `[hidden] { display: none; }` but bootstrap.min.css set `[hidden] { display: none !important; }` so we also need the `!important` here to be able to override the default hidden behavior on the sphinx rendered scikit-learn.org. See: https://github.com/scikit-learn/scikit-learn/issues/21755 */display: inline-block !important;position: relative;}#sk-container-id-2 div.sk-text-repr-fallback {display: none;}</style><div id=\"sk-container-id-2\" class=\"sk-top-container\"><div class=\"sk-text-repr-fallback\"><pre>KNeighborsClassifier(n_neighbors=3)</pre><b>In a Jupyter environment, please rerun this cell to show the HTML representation or trust the notebook. <br />On GitHub, the HTML representation is unable to render, please try loading this page with nbviewer.org.</b></div><div class=\"sk-container\" hidden><div class=\"sk-item\"><div class=\"sk-estimator sk-toggleable\"><input class=\"sk-toggleable__control sk-hidden--visually\" id=\"sk-estimator-id-2\" type=\"checkbox\" checked><label for=\"sk-estimator-id-2\" class=\"sk-toggleable__label sk-toggleable__label-arrow\">KNeighborsClassifier</label><div class=\"sk-toggleable__content\"><pre>KNeighborsClassifier(n_neighbors=3)</pre></div></div></div></div></div>"
            ]
          },
          "metadata": {},
          "execution_count": 33
        }
      ]
    },
    {
      "cell_type": "code",
      "source": [
        "predsknn=neigh.predict(X_test)"
      ],
      "metadata": {
        "id": "Xsd48oGIthSC"
      },
      "execution_count": null,
      "outputs": []
    },
    {
      "cell_type": "code",
      "source": [
        "from sklearn.metrics import confusion_matrix, classification_report\n",
        "print(confusion_matrix(y_test, predsknn))\n",
        "print('\\n')\n",
        "print(classification_report(y_test, predsknn))\n",
        "neigh.score(X_train,y_train)"
      ],
      "metadata": {
        "colab": {
          "base_uri": "https://localhost:8080/"
        },
        "id": "o5vBpvTKtkr7",
        "outputId": "20f6fe62-4c2e-4211-978a-584a30ac0893"
      },
      "execution_count": null,
      "outputs": [
        {
          "output_type": "stream",
          "name": "stdout",
          "text": [
            "[[139   1   1   2   0   0   1   1   3  16]\n",
            " [ 20  27   0   0   0   0   0   1   0   3]\n",
            " [ 14   6  26   2   1   0   0   0   0   3]\n",
            " [ 14   4   2  18   0   0   0   1   4   3]\n",
            " [ 16   8   5   9  21   0   0   0   0   5]\n",
            " [ 13   3   4   1   1  17   0   0   0   6]\n",
            " [ 20   7   4   4   1   5  20   0   0   5]\n",
            " [ 30  11   8   8   8   5  10  55   9  13]\n",
            " [ 49  10   9  19   4   7  13  10  66  35]\n",
            " [ 60  21  11  17   0   5   7  10   9 259]]\n",
            "\n",
            "\n",
            "              precision    recall  f1-score   support\n",
            "\n",
            "           1       0.37      0.85      0.52       164\n",
            "           2       0.28      0.53      0.36        51\n",
            "           3       0.37      0.50      0.43        52\n",
            "           4       0.23      0.39      0.29        46\n",
            "           5       0.58      0.33      0.42        64\n",
            "           6       0.44      0.38      0.40        45\n",
            "           7       0.39      0.30      0.34        66\n",
            "           8       0.71      0.35      0.47       157\n",
            "           9       0.73      0.30      0.42       222\n",
            "          10       0.74      0.65      0.69       399\n",
            "\n",
            "    accuracy                           0.51      1266\n",
            "   macro avg       0.48      0.46      0.43      1266\n",
            "weighted avg       0.60      0.51      0.51      1266\n",
            "\n"
          ]
        },
        {
          "output_type": "execute_result",
          "data": {
            "text/plain": [
              "0.5028803795323619"
            ]
          },
          "metadata": {},
          "execution_count": 38
        }
      ]
    },
    {
      "cell_type": "code",
      "source": [
        "from sklearn.ensemble import GradientBoostingClassifier\n",
        "model= GradientBoostingClassifier(n_estimators=100, learning_rate=1.0, max_depth=1, random_state=0)\n",
        "model.fit(X_train, y_train)\n",
        "predicted= model.predict(X_test)"
      ],
      "metadata": {
        "id": "hSs0WkoOtniy"
      },
      "execution_count": null,
      "outputs": []
    },
    {
      "cell_type": "code",
      "source": [
        "from sklearn.metrics import confusion_matrix, classification_report\n",
        "print(confusion_matrix(y_test, predicted))\n",
        "print('\\n')\n",
        "print(classification_report(y_test, predicted))\n",
        "model.score(X_train,y_train)"
      ],
      "metadata": {
        "colab": {
          "base_uri": "https://localhost:8080/"
        },
        "id": "YLrOWaNftqAg",
        "outputId": "d94b6469-7216-4e58-a8d2-848150a6c104"
      },
      "execution_count": null,
      "outputs": [
        {
          "output_type": "stream",
          "name": "stdout",
          "text": [
            "[[ 51   0   0   1   2   1   0   5  21  83]\n",
            " [  9   1   0   0   1   0   4   1  10  25]\n",
            " [  8   0   1   1   0   1   0   5  10  26]\n",
            " [  7   0   0   0   0   2   1   4  10  22]\n",
            " [  8   0   0   0   1   1   1   0  16  37]\n",
            " [  4   0   0   0   0   1   1   2   9  28]\n",
            " [  6   1   0   0   1   1   0  10  11  36]\n",
            " [  9   1   0   0   1   1   3  21  21 100]\n",
            " [ 17   1   0   1   2   2   5  15  31 148]\n",
            " [ 34   1   0   1   4   3  11  16  32 297]]\n",
            "\n",
            "\n",
            "              precision    recall  f1-score   support\n",
            "\n",
            "           1       0.33      0.31      0.32       164\n",
            "           2       0.20      0.02      0.04        51\n",
            "           3       1.00      0.02      0.04        52\n",
            "           4       0.00      0.00      0.00        46\n",
            "           5       0.08      0.02      0.03        64\n",
            "           6       0.08      0.02      0.03        45\n",
            "           7       0.00      0.00      0.00        66\n",
            "           8       0.27      0.13      0.18       157\n",
            "           9       0.18      0.14      0.16       222\n",
            "          10       0.37      0.74      0.49       399\n",
            "\n",
            "    accuracy                           0.32      1266\n",
            "   macro avg       0.25      0.14      0.13      1266\n",
            "weighted avg       0.28      0.32      0.25      1266\n",
            "\n"
          ]
        },
        {
          "output_type": "execute_result",
          "data": {
            "text/plain": [
              "0.5008471704506947"
            ]
          },
          "metadata": {},
          "execution_count": 39
        }
      ]
    },
    {
      "cell_type": "code",
      "source": [
        "positive_review = actualrating['review'].iloc[2]\n",
        "positive_review"
      ],
      "metadata": {
        "colab": {
          "base_uri": "https://localhost:8080/",
          "height": 52
        },
        "id": "VS_aiFUDtttJ",
        "outputId": "1d52fe53-2576-4203-d848-1902e10f7bea"
      },
      "execution_count": null,
      "outputs": [
        {
          "output_type": "execute_result",
          "data": {
            "text/plain": [
              "'\" I Ve had  nothing but problems with the Keppera : constant shaking in my arms &amp; legs &amp; pins &amp; needles feeling in my arms &amp; legs severe light headedness no appetite &amp; etc.\"'"
            ],
            "application/vnd.google.colaboratory.intrinsic+json": {
              "type": "string"
            }
          },
          "metadata": {},
          "execution_count": 23
        }
      ]
    },
    {
      "cell_type": "code",
      "source": [
        "positive_review_transformed = vectorizer.transform([positive_review])\n",
        "nb.predict(positive_review_transformed)[0]"
      ],
      "metadata": {
        "colab": {
          "base_uri": "https://localhost:8080/"
        },
        "id": "nUN3BPVqtwIx",
        "outputId": "949b750b-5c21-4c89-e42a-011a77f974b7"
      },
      "execution_count": null,
      "outputs": [
        {
          "output_type": "execute_result",
          "data": {
            "text/plain": [
              "1"
            ]
          },
          "metadata": {},
          "execution_count": 24
        }
      ]
    },
    {
      "cell_type": "code",
      "source": [
        "positive_review = actualrating['review'].iloc[11]\n",
        "positive_review"
      ],
      "metadata": {
        "colab": {
          "base_uri": "https://localhost:8080/",
          "height": 87
        },
        "id": "qBjdpPM6txMM",
        "outputId": "9ddee907-2c86-4cf3-b45d-67f9278977e3"
      },
      "execution_count": null,
      "outputs": [
        {
          "output_type": "execute_result",
          "data": {
            "text/plain": [
              "'\"I am 30 years old. I had a multiple composite spinal injuries 15 years ago. The aches and pains unbearable. I started taking anti-inflammatories about 2 years ago. I started getting injections every month of Toradol and &quot;Depo&quot; something. I am almost off all pain meds I mean I still have bad days but I can function again.\"'"
            ],
            "application/vnd.google.colaboratory.intrinsic+json": {
              "type": "string"
            }
          },
          "metadata": {},
          "execution_count": 25
        }
      ]
    },
    {
      "cell_type": "code",
      "source": [
        "positive_review_transformed = vectorizer.transform([positive_review])\n",
        "model.predict(positive_review_transformed)[0]"
      ],
      "metadata": {
        "colab": {
          "base_uri": "https://localhost:8080/"
        },
        "id": "Gup8nKBct2Fv",
        "outputId": "cabcb874-50ce-44f0-f9cd-1d4231735831"
      },
      "execution_count": null,
      "outputs": [
        {
          "output_type": "execute_result",
          "data": {
            "text/plain": [
              "10"
            ]
          },
          "metadata": {},
          "execution_count": 28
        }
      ]
    },
    {
      "cell_type": "code",
      "source": [
        "negative_review = mpermanent['review'].iloc[1035]\n",
        "print(negative_review)\n"
      ],
      "metadata": {
        "colab": {
          "base_uri": "https://localhost:8080/"
        },
        "id": "21-miAEKuCFp",
        "outputId": "ced8e919-5f52-4252-afb2-5ddff331a0bd"
      },
      "execution_count": null,
      "outputs": [
        {
          "output_type": "stream",
          "name": "stdout",
          "text": [
            "\"I had been medication free for over 10 years when a series of traumatic events escalated in full blown psychosis and deep depression. I was suicidal, unable to sleep and experiencing 6 hour long panic attacks. I was put on olanzapine 5mg at night and have been taking it for just over 1 year. I was able to sleep through and the nightmarish world I inhabited slowly began to clear like a thick fog. At the time I thought there was no way I would make it out alive! The deep depression took longer to lift and after no luck combining it with proxac or citalopram I hit on the right combination with Effexor 225mg. Still, the Olanzapine was my &#039;daylight&#039; drug. Weight gain has been an issue but my appetite is more manageable now and am exercising.\"\n"
          ]
        }
      ]
    },
    {
      "cell_type": "code",
      "source": [
        "negative_review_transformed = vectorizer.transform([negative_review])\n",
        "nb.predict(negative_review_transformed)[0]"
      ],
      "metadata": {
        "colab": {
          "base_uri": "https://localhost:8080/"
        },
        "id": "gsoSujW7uEuo",
        "outputId": "9716634f-74be-4916-c8ff-c4b3d28e8151"
      },
      "execution_count": null,
      "outputs": [
        {
          "output_type": "execute_result",
          "data": {
            "text/plain": [
              "8"
            ]
          },
          "metadata": {},
          "execution_count": 30
        }
      ]
    },
    {
      "cell_type": "code",
      "source": [
        "negative_review_transformed = vectorizer.transform([negative_review])\n",
        "neigh.predict(negative_review_transformed)[0]"
      ],
      "metadata": {
        "colab": {
          "base_uri": "https://localhost:8080/"
        },
        "id": "HhlR_THWuHQP",
        "outputId": "4d4e5cca-78c0-4c48-c8be-e5887aa27b94"
      },
      "execution_count": null,
      "outputs": [
        {
          "output_type": "execute_result",
          "data": {
            "text/plain": [
              "6"
            ]
          },
          "metadata": {},
          "execution_count": 40
        }
      ]
    },
    {
      "cell_type": "code",
      "source": [
        "mpermanent['label'] = ['1' if star >= 7 else '0' for star in mpermanent['rating']];"
      ],
      "metadata": {
        "colab": {
          "base_uri": "https://localhost:8080/"
        },
        "id": "6FVvSgXZuKXZ",
        "outputId": "212ec70c-15b2-4926-dae6-0cdddb504b86"
      },
      "execution_count": null,
      "outputs": [
        {
          "output_type": "stream",
          "name": "stderr",
          "text": [
            "<ipython-input-41-7cc847841be2>:1: SettingWithCopyWarning: \n",
            "A value is trying to be set on a copy of a slice from a DataFrame.\n",
            "Try using .loc[row_indexer,col_indexer] = value instead\n",
            "\n",
            "See the caveats in the documentation: https://pandas.pydata.org/pandas-docs/stable/user_guide/indexing.html#returning-a-view-versus-a-copy\n",
            "  mpermanent['label'] = ['1' if star >= 7 else '0' for star in mpermanent['rating']];\n"
          ]
        }
      ]
    },
    {
      "cell_type": "code",
      "source": [
        "mpermanent"
      ],
      "metadata": {
        "colab": {
          "base_uri": "https://localhost:8080/",
          "height": 423
        },
        "id": "uUCZHcG_ucYk",
        "outputId": "1657c5b8-b65c-468b-ab23-7eac2da5adfc"
      },
      "execution_count": null,
      "outputs": [
        {
          "output_type": "execute_result",
          "data": {
            "text/plain": [
              "      rating                                             review  \\\n",
              "0          9  \"It has no side effect, I take it in combinati...   \n",
              "1          8  \"My son is halfway through his fourth week of ...   \n",
              "2          5  \"I used to take another oral contraceptive, wh...   \n",
              "3          8  \"This is my first time using any form of birth...   \n",
              "4          9  \"Suboxone has completely turned my life around...   \n",
              "...      ...                                                ...   \n",
              "4212       5  \"This will be the 6th month I&#039;ve been on ...   \n",
              "4213       8  \"I suffer from complicated grief and PTSD, I l...   \n",
              "4214      10  \"I&#039;ve used Lovaza for about 8 months and ...   \n",
              "4215       9  \"I used to take a high dosage time release tab...   \n",
              "4216       9  \"I started phentermine in 2015 weighing in at ...   \n",
              "\n",
              "                         condition  uniqueID label  \n",
              "0     Left Ventricular Dysfunction    206461     1  \n",
              "1                             ADHD     95260     1  \n",
              "2                    Birth Control     92703     0  \n",
              "3                    Birth Control    138000     1  \n",
              "4                Opiate Dependence     35696     1  \n",
              "...                            ...       ...   ...  \n",
              "4212                 Birth Control     84100     0  \n",
              "4213                       Anxiety    146853     1  \n",
              "4214          Hypertriglyceridemia    124779     1  \n",
              "4215                          ADHD     13778     1  \n",
              "4216                   Weight Loss    127681     1  \n",
              "\n",
              "[4194 rows x 5 columns]"
            ],
            "text/html": [
              "\n",
              "  <div id=\"df-14a4d3d0-abc9-437d-a500-32f945ddfa12\" class=\"colab-df-container\">\n",
              "    <div>\n",
              "<style scoped>\n",
              "    .dataframe tbody tr th:only-of-type {\n",
              "        vertical-align: middle;\n",
              "    }\n",
              "\n",
              "    .dataframe tbody tr th {\n",
              "        vertical-align: top;\n",
              "    }\n",
              "\n",
              "    .dataframe thead th {\n",
              "        text-align: right;\n",
              "    }\n",
              "</style>\n",
              "<table border=\"1\" class=\"dataframe\">\n",
              "  <thead>\n",
              "    <tr style=\"text-align: right;\">\n",
              "      <th></th>\n",
              "      <th>rating</th>\n",
              "      <th>review</th>\n",
              "      <th>condition</th>\n",
              "      <th>uniqueID</th>\n",
              "      <th>label</th>\n",
              "    </tr>\n",
              "  </thead>\n",
              "  <tbody>\n",
              "    <tr>\n",
              "      <th>0</th>\n",
              "      <td>9</td>\n",
              "      <td>\"It has no side effect, I take it in combinati...</td>\n",
              "      <td>Left Ventricular Dysfunction</td>\n",
              "      <td>206461</td>\n",
              "      <td>1</td>\n",
              "    </tr>\n",
              "    <tr>\n",
              "      <th>1</th>\n",
              "      <td>8</td>\n",
              "      <td>\"My son is halfway through his fourth week of ...</td>\n",
              "      <td>ADHD</td>\n",
              "      <td>95260</td>\n",
              "      <td>1</td>\n",
              "    </tr>\n",
              "    <tr>\n",
              "      <th>2</th>\n",
              "      <td>5</td>\n",
              "      <td>\"I used to take another oral contraceptive, wh...</td>\n",
              "      <td>Birth Control</td>\n",
              "      <td>92703</td>\n",
              "      <td>0</td>\n",
              "    </tr>\n",
              "    <tr>\n",
              "      <th>3</th>\n",
              "      <td>8</td>\n",
              "      <td>\"This is my first time using any form of birth...</td>\n",
              "      <td>Birth Control</td>\n",
              "      <td>138000</td>\n",
              "      <td>1</td>\n",
              "    </tr>\n",
              "    <tr>\n",
              "      <th>4</th>\n",
              "      <td>9</td>\n",
              "      <td>\"Suboxone has completely turned my life around...</td>\n",
              "      <td>Opiate Dependence</td>\n",
              "      <td>35696</td>\n",
              "      <td>1</td>\n",
              "    </tr>\n",
              "    <tr>\n",
              "      <th>...</th>\n",
              "      <td>...</td>\n",
              "      <td>...</td>\n",
              "      <td>...</td>\n",
              "      <td>...</td>\n",
              "      <td>...</td>\n",
              "    </tr>\n",
              "    <tr>\n",
              "      <th>4212</th>\n",
              "      <td>5</td>\n",
              "      <td>\"This will be the 6th month I&amp;#039;ve been on ...</td>\n",
              "      <td>Birth Control</td>\n",
              "      <td>84100</td>\n",
              "      <td>0</td>\n",
              "    </tr>\n",
              "    <tr>\n",
              "      <th>4213</th>\n",
              "      <td>8</td>\n",
              "      <td>\"I suffer from complicated grief and PTSD, I l...</td>\n",
              "      <td>Anxiety</td>\n",
              "      <td>146853</td>\n",
              "      <td>1</td>\n",
              "    </tr>\n",
              "    <tr>\n",
              "      <th>4214</th>\n",
              "      <td>10</td>\n",
              "      <td>\"I&amp;#039;ve used Lovaza for about 8 months and ...</td>\n",
              "      <td>Hypertriglyceridemia</td>\n",
              "      <td>124779</td>\n",
              "      <td>1</td>\n",
              "    </tr>\n",
              "    <tr>\n",
              "      <th>4215</th>\n",
              "      <td>9</td>\n",
              "      <td>\"I used to take a high dosage time release tab...</td>\n",
              "      <td>ADHD</td>\n",
              "      <td>13778</td>\n",
              "      <td>1</td>\n",
              "    </tr>\n",
              "    <tr>\n",
              "      <th>4216</th>\n",
              "      <td>9</td>\n",
              "      <td>\"I started phentermine in 2015 weighing in at ...</td>\n",
              "      <td>Weight Loss</td>\n",
              "      <td>127681</td>\n",
              "      <td>1</td>\n",
              "    </tr>\n",
              "  </tbody>\n",
              "</table>\n",
              "<p>4194 rows × 5 columns</p>\n",
              "</div>\n",
              "    <div class=\"colab-df-buttons\">\n",
              "\n",
              "  <div class=\"colab-df-container\">\n",
              "    <button class=\"colab-df-convert\" onclick=\"convertToInteractive('df-14a4d3d0-abc9-437d-a500-32f945ddfa12')\"\n",
              "            title=\"Convert this dataframe to an interactive table.\"\n",
              "            style=\"display:none;\">\n",
              "\n",
              "  <svg xmlns=\"http://www.w3.org/2000/svg\" height=\"24px\" viewBox=\"0 -960 960 960\">\n",
              "    <path d=\"M120-120v-720h720v720H120Zm60-500h600v-160H180v160Zm220 220h160v-160H400v160Zm0 220h160v-160H400v160ZM180-400h160v-160H180v160Zm440 0h160v-160H620v160ZM180-180h160v-160H180v160Zm440 0h160v-160H620v160Z\"/>\n",
              "  </svg>\n",
              "    </button>\n",
              "\n",
              "  <style>\n",
              "    .colab-df-container {\n",
              "      display:flex;\n",
              "      gap: 12px;\n",
              "    }\n",
              "\n",
              "    .colab-df-convert {\n",
              "      background-color: #E8F0FE;\n",
              "      border: none;\n",
              "      border-radius: 50%;\n",
              "      cursor: pointer;\n",
              "      display: none;\n",
              "      fill: #1967D2;\n",
              "      height: 32px;\n",
              "      padding: 0 0 0 0;\n",
              "      width: 32px;\n",
              "    }\n",
              "\n",
              "    .colab-df-convert:hover {\n",
              "      background-color: #E2EBFA;\n",
              "      box-shadow: 0px 1px 2px rgba(60, 64, 67, 0.3), 0px 1px 3px 1px rgba(60, 64, 67, 0.15);\n",
              "      fill: #174EA6;\n",
              "    }\n",
              "\n",
              "    .colab-df-buttons div {\n",
              "      margin-bottom: 4px;\n",
              "    }\n",
              "\n",
              "    [theme=dark] .colab-df-convert {\n",
              "      background-color: #3B4455;\n",
              "      fill: #D2E3FC;\n",
              "    }\n",
              "\n",
              "    [theme=dark] .colab-df-convert:hover {\n",
              "      background-color: #434B5C;\n",
              "      box-shadow: 0px 1px 3px 1px rgba(0, 0, 0, 0.15);\n",
              "      filter: drop-shadow(0px 1px 2px rgba(0, 0, 0, 0.3));\n",
              "      fill: #FFFFFF;\n",
              "    }\n",
              "  </style>\n",
              "\n",
              "    <script>\n",
              "      const buttonEl =\n",
              "        document.querySelector('#df-14a4d3d0-abc9-437d-a500-32f945ddfa12 button.colab-df-convert');\n",
              "      buttonEl.style.display =\n",
              "        google.colab.kernel.accessAllowed ? 'block' : 'none';\n",
              "\n",
              "      async function convertToInteractive(key) {\n",
              "        const element = document.querySelector('#df-14a4d3d0-abc9-437d-a500-32f945ddfa12');\n",
              "        const dataTable =\n",
              "          await google.colab.kernel.invokeFunction('convertToInteractive',\n",
              "                                                    [key], {});\n",
              "        if (!dataTable) return;\n",
              "\n",
              "        const docLinkHtml = 'Like what you see? Visit the ' +\n",
              "          '<a target=\"_blank\" href=https://colab.research.google.com/notebooks/data_table.ipynb>data table notebook</a>'\n",
              "          + ' to learn more about interactive tables.';\n",
              "        element.innerHTML = '';\n",
              "        dataTable['output_type'] = 'display_data';\n",
              "        await google.colab.output.renderOutput(dataTable, element);\n",
              "        const docLink = document.createElement('div');\n",
              "        docLink.innerHTML = docLinkHtml;\n",
              "        element.appendChild(docLink);\n",
              "      }\n",
              "    </script>\n",
              "  </div>\n",
              "\n",
              "\n",
              "<div id=\"df-d6f44571-5945-4260-8b73-294446707419\">\n",
              "  <button class=\"colab-df-quickchart\" onclick=\"quickchart('df-d6f44571-5945-4260-8b73-294446707419')\"\n",
              "            title=\"Suggest charts\"\n",
              "            style=\"display:none;\">\n",
              "\n",
              "<svg xmlns=\"http://www.w3.org/2000/svg\" height=\"24px\"viewBox=\"0 0 24 24\"\n",
              "     width=\"24px\">\n",
              "    <g>\n",
              "        <path d=\"M19 3H5c-1.1 0-2 .9-2 2v14c0 1.1.9 2 2 2h14c1.1 0 2-.9 2-2V5c0-1.1-.9-2-2-2zM9 17H7v-7h2v7zm4 0h-2V7h2v10zm4 0h-2v-4h2v4z\"/>\n",
              "    </g>\n",
              "</svg>\n",
              "  </button>\n",
              "\n",
              "<style>\n",
              "  .colab-df-quickchart {\n",
              "      --bg-color: #E8F0FE;\n",
              "      --fill-color: #1967D2;\n",
              "      --hover-bg-color: #E2EBFA;\n",
              "      --hover-fill-color: #174EA6;\n",
              "      --disabled-fill-color: #AAA;\n",
              "      --disabled-bg-color: #DDD;\n",
              "  }\n",
              "\n",
              "  [theme=dark] .colab-df-quickchart {\n",
              "      --bg-color: #3B4455;\n",
              "      --fill-color: #D2E3FC;\n",
              "      --hover-bg-color: #434B5C;\n",
              "      --hover-fill-color: #FFFFFF;\n",
              "      --disabled-bg-color: #3B4455;\n",
              "      --disabled-fill-color: #666;\n",
              "  }\n",
              "\n",
              "  .colab-df-quickchart {\n",
              "    background-color: var(--bg-color);\n",
              "    border: none;\n",
              "    border-radius: 50%;\n",
              "    cursor: pointer;\n",
              "    display: none;\n",
              "    fill: var(--fill-color);\n",
              "    height: 32px;\n",
              "    padding: 0;\n",
              "    width: 32px;\n",
              "  }\n",
              "\n",
              "  .colab-df-quickchart:hover {\n",
              "    background-color: var(--hover-bg-color);\n",
              "    box-shadow: 0 1px 2px rgba(60, 64, 67, 0.3), 0 1px 3px 1px rgba(60, 64, 67, 0.15);\n",
              "    fill: var(--button-hover-fill-color);\n",
              "  }\n",
              "\n",
              "  .colab-df-quickchart-complete:disabled,\n",
              "  .colab-df-quickchart-complete:disabled:hover {\n",
              "    background-color: var(--disabled-bg-color);\n",
              "    fill: var(--disabled-fill-color);\n",
              "    box-shadow: none;\n",
              "  }\n",
              "\n",
              "  .colab-df-spinner {\n",
              "    border: 2px solid var(--fill-color);\n",
              "    border-color: transparent;\n",
              "    border-bottom-color: var(--fill-color);\n",
              "    animation:\n",
              "      spin 1s steps(1) infinite;\n",
              "  }\n",
              "\n",
              "  @keyframes spin {\n",
              "    0% {\n",
              "      border-color: transparent;\n",
              "      border-bottom-color: var(--fill-color);\n",
              "      border-left-color: var(--fill-color);\n",
              "    }\n",
              "    20% {\n",
              "      border-color: transparent;\n",
              "      border-left-color: var(--fill-color);\n",
              "      border-top-color: var(--fill-color);\n",
              "    }\n",
              "    30% {\n",
              "      border-color: transparent;\n",
              "      border-left-color: var(--fill-color);\n",
              "      border-top-color: var(--fill-color);\n",
              "      border-right-color: var(--fill-color);\n",
              "    }\n",
              "    40% {\n",
              "      border-color: transparent;\n",
              "      border-right-color: var(--fill-color);\n",
              "      border-top-color: var(--fill-color);\n",
              "    }\n",
              "    60% {\n",
              "      border-color: transparent;\n",
              "      border-right-color: var(--fill-color);\n",
              "    }\n",
              "    80% {\n",
              "      border-color: transparent;\n",
              "      border-right-color: var(--fill-color);\n",
              "      border-bottom-color: var(--fill-color);\n",
              "    }\n",
              "    90% {\n",
              "      border-color: transparent;\n",
              "      border-bottom-color: var(--fill-color);\n",
              "    }\n",
              "  }\n",
              "</style>\n",
              "\n",
              "  <script>\n",
              "    async function quickchart(key) {\n",
              "      const quickchartButtonEl =\n",
              "        document.querySelector('#' + key + ' button');\n",
              "      quickchartButtonEl.disabled = true;  // To prevent multiple clicks.\n",
              "      quickchartButtonEl.classList.add('colab-df-spinner');\n",
              "      try {\n",
              "        const charts = await google.colab.kernel.invokeFunction(\n",
              "            'suggestCharts', [key], {});\n",
              "      } catch (error) {\n",
              "        console.error('Error during call to suggestCharts:', error);\n",
              "      }\n",
              "      quickchartButtonEl.classList.remove('colab-df-spinner');\n",
              "      quickchartButtonEl.classList.add('colab-df-quickchart-complete');\n",
              "    }\n",
              "    (() => {\n",
              "      let quickchartButtonEl =\n",
              "        document.querySelector('#df-d6f44571-5945-4260-8b73-294446707419 button');\n",
              "      quickchartButtonEl.style.display =\n",
              "        google.colab.kernel.accessAllowed ? 'block' : 'none';\n",
              "    })();\n",
              "  </script>\n",
              "</div>\n",
              "    </div>\n",
              "  </div>\n"
            ]
          },
          "metadata": {},
          "execution_count": 43
        }
      ]
    },
    {
      "cell_type": "code",
      "source": [
        "reviews = mpermanent['review']\n",
        "labels = mpermanent['label']\n",
        "print(len(reviews))\n",
        "print(len(labels))\n",
        "reviews[3]"
      ],
      "metadata": {
        "colab": {
          "base_uri": "https://localhost:8080/",
          "height": 139
        },
        "id": "niHrDGz-uewo",
        "outputId": "ba56809d-4abb-46e3-d862-8f9c69432aa6"
      },
      "execution_count": null,
      "outputs": [
        {
          "output_type": "stream",
          "name": "stdout",
          "text": [
            "4194\n",
            "4194\n"
          ]
        },
        {
          "output_type": "execute_result",
          "data": {
            "text/plain": [
              "'\"This is my first time using any form of birth control. I&#039;m glad I went with the patch, I have been on it for 8 months. At first It decreased my libido but that subsided. The only downside is that it made my periods longer (5-6 days to be exact) I used to only have periods for 3-4 days max also made my cramps intense for the first two days of my period, I never had cramps before using birth control. Other than that in happy with the patch\"'"
            ],
            "application/vnd.google.colaboratory.intrinsic+json": {
              "type": "string"
            }
          },
          "metadata": {},
          "execution_count": 44
        }
      ]
    },
    {
      "cell_type": "code",
      "source": [
        "stop = set(stopwords.words('english'))\n",
        "def clean_document(doco):\n",
        "    punctuation = string.punctuation\n",
        "    punc_replace = ''.join([' ' for s in punctuation])\n",
        "    doco_link_clean = re.sub(r'http\\S+', '', doco)\n",
        "    doco_clean_and = re.sub(r'&\\S+', '', doco_link_clean)\n",
        "    doco_clean_at = re.sub(r'@\\S+', '', doco_clean_and)\n",
        "    doco_clean = doco_clean_at.replace('-', ' ')\n",
        "    doco_alphas = re.sub(r'\\W +', ' ', doco_clean)\n",
        "    trans_table = str.maketrans(punctuation, punc_replace)\n",
        "    doco_clean = ' '.join([word.translate(trans_table) for word in doco_alphas.split(' ')])\n",
        "    doco_clean = doco_clean.split(' ')\n",
        "    p = re.compile(r'\\s*\\b(?=[a-z\\d]*([a-z\\d])\\1{3}|\\d+\\b)[a-z\\d]+', re.IGNORECASE)\n",
        "    doco_clean = ([p.sub(\"\", x).strip() for x in doco_clean])\n",
        "    doco_clean = [word.lower() for word in doco_clean if len(word) > 2]\n",
        "    doco_clean = ([i for i in doco_clean if i not in stop])\n",
        "#     doco_clean = [spell(word) for word in doco_clean]\n",
        "#     p = re.compile(r'\\s*\\b(?=[a-z\\d]*([a-z\\d])\\1{3}|\\d+\\b)[a-z\\d]+', re.IGNORECASE)\n",
        "    doco_clean = ([p.sub(\"\", x).strip() for x in doco_clean])\n",
        "#     doco_clean = ([spell(k) for k in doco_clean])\n",
        "    return doco_clean"
      ],
      "metadata": {
        "id": "hqddy11OugYs"
      },
      "execution_count": null,
      "outputs": []
    },
    {
      "cell_type": "code",
      "source": [
        "review_cleans = [clean_document(doc) for doc in reviews];\n",
        "sentences = [' '.join(r) for r in review_cleans ]"
      ],
      "metadata": {
        "id": "9-z5yjSlujcH"
      },
      "execution_count": null,
      "outputs": []
    },
    {
      "cell_type": "code",
      "source": [
        "print(sentences[7])\n",
        "print(reviews[7])\n",
        "reviews.shape"
      ],
      "metadata": {
        "colab": {
          "base_uri": "https://localhost:8080/"
        },
        "id": "m49r5MZNunr9",
        "outputId": "17afbfd2-270a-414b-867c-e19e3ad90f14"
      },
      "execution_count": null,
      "outputs": [
        {
          "output_type": "stream",
          "name": "stdout",
          "text": [
            "abilify changed life hope zoloft clonidine first started abilify age zoloft depression clondine manage complete rage moods control depressed hopeless one second mean irrational full rage next prescribed 2mg abilify point feel like cured though know polar disorder constant battle know abilify works tried get lost complete control emotions went back golden 5mg daily better ever past side effect like eat lot\n",
            "\"Abilify changed my life. There is hope. I was on Zoloft and Clonidine when I first started Abilify at the age of 15.. Zoloft for depression and Clondine to manage my complete rage. My moods were out of control. I was depressed and hopeless one second and then mean, irrational, and full of rage the next. My Dr. prescribed me 2mg of Abilify and from that point on I feel like I have been cured though I know I&#039;m not.. Bi-polar disorder is a constant battle. I know Abilify works for me because I have tried to get off it and lost complete control over my emotions. Went back on it and I was golden again.  I am on 5mg 2x daily. I am now 21 and better than I have ever been in the past. Only side effect is I like to eat a lot.\"\n"
          ]
        },
        {
          "output_type": "execute_result",
          "data": {
            "text/plain": [
              "(4194,)"
            ]
          },
          "metadata": {},
          "execution_count": 47
        }
      ]
    },
    {
      "cell_type": "code",
      "source": [
        "#Keras\n",
        "tokenizer = Tokenizer()\n",
        "tokenizer.fit_on_texts(sentences)\n",
        "text_sequences = np.array(tokenizer.texts_to_sequences(sentences))\n",
        "sequence_dict = tokenizer.word_index\n",
        "word_dict = dict((num, val) for (val, num) in sequence_dict.items())"
      ],
      "metadata": {
        "colab": {
          "base_uri": "https://localhost:8080/"
        },
        "id": "Ow4zw0mOusEu",
        "outputId": "205e4dd0-f1fd-41fc-f6e7-7ce7afec521f"
      },
      "execution_count": null,
      "outputs": [
        {
          "output_type": "stream",
          "name": "stderr",
          "text": [
            "<ipython-input-48-9263946c92e7>:4: VisibleDeprecationWarning: Creating an ndarray from ragged nested sequences (which is a list-or-tuple of lists-or-tuples-or ndarrays with different lengths or shapes) is deprecated. If you meant to do this, you must specify 'dtype=object' when creating the ndarray.\n",
            "  text_sequences = np.array(tokenizer.texts_to_sequences(sentences))\n"
          ]
        }
      ]
    },
    {
      "cell_type": "code",
      "source": [
        "print(text_sequences)\n",
        "print(sequence_dict)\n",
        "print(word_dict)"
      ],
      "metadata": {
        "colab": {
          "base_uri": "https://localhost:8080/"
        },
        "id": "O9MRYURJutVa",
        "outputId": "abc3b374-e8a5-4899-b808-4f56818eafdb"
      },
      "execution_count": null,
      "outputs": [
        {
          "output_type": "stream",
          "name": "stdout",
          "text": [
            "[list([2, 99, 11, 710, 3774, 2924, 1063])\n",
            " list([394, 3304, 1474, 20, 2438, 284, 1200, 228, 65, 20, 9, 3, 1912, 62, 41, 10, 78, 711, 12, 233, 2925, 615, 542, 58, 189, 328, 389, 1913, 3305, 390, 24, 1101, 124, 158, 789, 10, 101, 389, 70, 124, 65, 41, 10, 191, 243, 36, 4555, 83, 140, 395, 51, 132, 140, 2925, 2075, 164, 281, 1914, 40, 55, 122, 133, 303, 84, 213])\n",
            " list([67, 11, 143, 827, 1693, 18, 484, 147, 168, 80, 1475, 10, 2, 6, 6083, 1201, 6084, 1102, 195, 3306, 2926, 853, 112, 400, 9, 3306, 275, 5, 1, 21, 2076, 158, 21, 292, 41, 22, 3, 159, 313, 41, 22, 365, 313, 164, 29, 49, 102, 365, 21, 292, 41, 22, 314, 365, 20, 32, 145, 877, 878, 373, 2, 2, 6, 927, 21, 243, 6085, 6086])\n",
            " ...\n",
            " list([67, 10745, 8, 3014, 391, 2382, 1569, 211, 3014, 64, 83, 56, 67, 29, 2382, 325, 24, 68, 10746, 37, 8, 739, 924, 1262])\n",
            " list([67, 11, 211, 258, 13, 1210, 788, 143, 64, 23, 352, 115, 15, 10747, 333, 2781, 21, 296, 113, 2525, 669, 74, 773, 773, 101, 21, 36, 731, 773, 10748, 757, 140, 2689, 3443, 3197, 2, 6, 29, 64, 190, 2689, 3646])\n",
            " list([9, 1244, 2776, 6026, 120, 22, 10749, 19, 117, 2, 6, 239, 200, 1306, 2223, 2162, 11, 166, 18, 400, 494, 582, 5572, 140, 8, 494, 28, 29, 175, 173, 17, 3, 1747, 70, 28, 159, 13, 1098, 517, 93, 244, 114, 142, 28, 262, 1136, 288, 18, 213, 1098, 885, 24, 5])]\n",
            "{'day': 1, 'side': 2, 'taking': 3, 'years': 4, 'first': 5, 'effects': 6, 'pain': 7, 'months': 8, 'started': 9, 'days': 10, 'take': 11, 'get': 12, 'time': 13, 'like': 14, 'would': 15, 'feel': 16, 'back': 17, 'pill': 18, 'one': 19, 'week': 20, 'period': 21, 'weeks': 22, 'took': 23, 'doctor': 24, 'also': 25, 'medication': 26, 'month': 27, 'weight': 28, 'got': 29, 'life': 30, 'since': 31, 'still': 32, 'anxiety': 33, 'bad': 34, 'really': 35, 'much': 36, 'went': 37, 'work': 38, 'never': 39, 'better': 40, 'two': 41, 'control': 42, 'felt': 43, 'year': 44, 'medicine': 45, 'well': 46, 'every': 47, 'great': 48, 'even': 49, 'night': 50, 'good': 51, 'ago': 52, 'sleep': 53, 'birth': 54, 'tried': 55, 'worked': 56, 'depression': 57, 'hours': 58, 'works': 59, 'little': 60, 'made': 61, 'dose': 62, 'almost': 63, 'drug': 64, 'last': 65, 'acne': 66, 'used': 67, 'put': 68, 'feeling': 69, 'getting': 70, 'severe': 71, 'help': 72, 'going': 73, 'prescribed': 74, 'use': 75, 'nausea': 76, 'skin': 77, 'could': 78, 'symptoms': 79, 'periods': 80, 'away': 81, 'nothing': 82, 'ever': 83, 'far': 84, 'using': 85, 'stopped': 86, 'cramps': 87, 'recommend': 88, 'try': 89, 'times': 90, 'sex': 91, 'experience': 92, 'lot': 93, 'mood': 94, 'lost': 95, 'normal': 96, 'think': 97, 'know': 98, 'effect': 99, 'gain': 100, 'see': 101, 'worse': 102, 'due': 103, 'taken': 104, 'long': 105, 'body': 106, 'bleeding': 107, 'old': 108, 'helped': 109, 'stop': 110, 'always': 111, 'pills': 112, 'around': 113, 'working': 114, 'say': 115, 'without': 116, 'horrible': 117, 'however': 118, 'headaches': 119, 'within': 120, 'stomach': 121, 'many': 122, 'gone': 123, 'morning': 124, 'later': 125, 'finally': 126, 'blood': 127, 'found': 128, 'noticed': 129, 'three': 130, 'right': 131, 'thing': 132, 'different': 133, 'gave': 134, 'next': 135, 'able': 136, 'problems': 137, 'best': 138, 'thought': 139, 'less': 140, 'sure': 141, 'make': 142, 'another': 143, 'though': 144, 'daily': 145, 'experienced': 146, 'happy': 147, 'eat': 148, 'people': 149, 'love': 150, 'completely': 151, 'want': 152, 'give': 153, 'something': 154, 'need': 155, 'couple': 156, 'pounds': 157, 'said': 158, 'second': 159, 'swings': 160, 'everything': 161, 'anything': 162, 'told': 163, 'things': 164, 'face': 165, 'half': 166, 'shot': 167, 'light': 168, 'painful': 169, 'bit': 170, 'today': 171, 'panic': 172, 'gained': 173, 'tired': 174, 'pregnant': 175, 'helps': 176, 'headache': 177, 'diagnosed': 178, 'extremely': 179, 'spotting': 180, 'worst': 181, 'new': 182, 'meds': 183, 'may': 184, 'way': 185, 'dry': 186, 'pretty': 187, 'start': 188, 'drive': 189, 'appetite': 190, 'problem': 191, 'relief': 192, 'terrible': 193, 'issues': 194, 'switched': 195, 'worth': 196, 'longer': 197, 'hope': 198, 'keep': 199, 'decided': 200, 'mouth': 201, 'actually': 202, 'loss': 203, 'trying': 204, 'sometimes': 205, 'past': 206, 'heart': 207, 'starting': 208, 'makes': 209, 'lbs': 210, 'high': 211, 'definitely': 212, 'effective': 213, 'infection': 214, 'everyone': 215, 'came': 216, 'given': 217, 'depressed': 218, 'migraines': 219, 'heavy': 220, 'minutes': 221, 'hour': 222, 'low': 223, 'reviews': 224, 'several': 225, 'anyone': 226, 'cramping': 227, 'began': 228, 'twice': 229, 'insurance': 230, 'seems': 231, 'enough': 232, 'bed': 233, 'changed': 234, 'point': 235, 'change': 236, 'fine': 237, 'already': 238, 'insomnia': 239, 'energy': 240, 'find': 241, 'attacks': 242, 'free': 243, 'water': 244, 'product': 245, 'results': 246, 'pressure': 247, 'increased': 248, 'caused': 249, 'needed': 250, 'sick': 251, 'clear': 252, 'diarrhea': 253, 'least': 254, 'amazing': 255, 'full': 256, 'suffered': 257, 'dosage': 258, 'zoloft': 259, 'eating': 260, 'anymore': 261, 'come': 262, 'else': 263, 'patch': 264, 'soon': 265, 'absolutely': 266, 'wanted': 267, 'difference': 268, 'awful': 269, 'reason': 270, 'med': 271, 'read': 272, 'mild': 273, 'usually': 274, 'immediately': 275, 'hard': 276, 'lower': 277, 'along': 278, 'treatment': 279, 'stay': 280, 'overall': 281, 'person': 282, 'extreme': 283, 'became': 284, 'done': 285, 'negative': 286, 'cold': 287, 'although': 288, 'food': 289, 'maybe': 290, 'constant': 291, 'lasted': 292, 'plan': 293, 'recently': 294, 'thoughts': 295, 'everyday': 296, 'head': 297, 'doctors': 298, 'constipation': 299, 'lose': 300, 'major': 301, 'reading': 302, 'medications': 303, 'disorder': 304, 'whole': 305, 'drink': 306, 'yet': 307, 'others': 308, 'nauseous': 309, 'sleeping': 310, 'cause': 311, 'migraine': 312, 'pack': 313, 'end': 314, 'recommended': 315, 'small': 316, 'insertion': 317, 'muscle': 318, 'taste': 319, 'cleared': 320, 'left': 321, 'pregnancy': 322, 'etc': 323, 'highly': 324, 'tell': 325, 'gotten': 326, 'hair': 327, 'home': 328, 'medicines': 329, 'regular': 330, 'diet': 331, 'hoping': 332, 'anxious': 333, '10mg': 334, 'inserted': 335, 'notice': 336, 'miracle': 337, 'chronic': 338, 'believe': 339, 'nexplanon': 340, 'surgery': 341, 'takes': 342, 'burning': 343, 'fast': 344, 'slight': 345, 'crazy': 346, 'job': 347, 'prescription': 348, 'quit': 349, 'sore': 350, 'hospital': 351, 'woke': 352, 'removed': 353, 'wish': 354, 'break': 355, 'might': 356, 'suffer': 357, 'hurt': 358, 'coming': 359, 'stuff': 360, 'lexapro': 361, 'doc': 362, 'seemed': 363, 'huge': 364, 'third': 365, 'hot': 366, 'four': 367, 'husband': 368, 'let': 369, 'entire': 370, 'per': 371, 'quite': 372, 'positive': 373, 'deal': 374, 'asleep': 375, '5mg': 376, 'experiencing': 377, 'dizzy': 378, 'yrs': 379, 'super': 380, 'implant': 381, 'part': 382, 'chest': 383, 'big': 384, 'either': 385, 'improvement': 386, 'early': 387, 'plus': 388, 'school': 389, 'called': 390, 'family': 391, 'vomiting': 392, 'implanon': 393, 'son': 394, 'emotional': 395, 'age': 396, 'exercise': 397, 'kept': 398, 'quickly': 399, 'ended': 400, 'cymbalta': 401, 'function': 402, 'except': 403, 'walk': 404, 'hands': 405, 'probably': 406, 'wonderful': 407, 'making': 408, 'continue': 409, 'improved': 410, '3rd': 411, 'legs': 412, 'looking': 413, 'constantly': 414, 'attack': 415, 'generic': 416, 'glad': 417, 'fatigue': 418, 'especially': 419, 'non': 420, 'pains': 421, 'scared': 422, 'suffering': 423, 'dizziness': 424, 'xanax': 425, 'easy': 426, 'effexor': 427, 'beginning': 428, 'goes': 429, 'currently': 430, 'remember': 431, 'cream': 432, 'gets': 433, 'thank': 434, 'stress': 435, 'seem': 436, 'mirena': 437, 'boyfriend': 438, 'thinking': 439, 'self': 440, 'developed': 441, 'yes': 442, 'itching': 443, 'dreams': 444, 'comes': 445, 'type': 446, 'straight': 447, 'saved': 448, '20mg': 449, 'increase': 450, 'literally': 451, 'wake': 452, 'level': 453, 'someone': 454, 'prozac': 455, 'live': 456, 'feels': 457, 'iud': 458, 'form': 459, '2nd': 460, 'totally': 461, 'neck': 462, 'become': 463, 'guess': 464, 'crying': 465, 'lots': 466, 'trouble': 467, 'arm': 468, 'yesterday': 469, 'withdrawal': 470, 'short': 471, 'switch': 472, 'intense': 473, 'anti': 474, 'depo': 475, 'expensive': 476, 'care': 477, 'eyes': 478, 'wait': 479, 'decreased': 480, 'barely': 481, 'baby': 482, 'lighter': 483, 'cycle': 484, 'amount': 485, 'honestly': 486, 'normally': 487, 'injection': 488, 'often': 489, 'smoking': 490, 'wonders': 491, 'look': 492, 'moody': 493, 'losing': 494, 'course': 495, 'please': 496, 'mind': 497, 'healthy': 498, 'six': 499, 'bipolar': 500, 'wellbutrin': 501, 'sensitive': 502, 'weird': 503, 'cannot': 504, 'slowly': 505, 'none': 506, 'feet': 507, 'eventually': 508, 'sugar': 509, 'sinus': 510, 'brand': 511, '50mg': 512, 'giving': 513, 'worry': 514, 'brain': 515, 'prior': 516, 'drinking': 517, 'breasts': 518, 'drugs': 519, 'real': 520, 'wear': 521, 'hrs': 522, 'hungry': 523, 'eye': 524, 'pay': 525, 'fall': 526, 'rather': 527, 'switching': 528, 'cost': 529, 'yeast': 530, 'stopping': 531, 'fact': 532, 'adhd': 533, 'klonopin': 534, 'hate': 535, 'add': 536, 'red': 537, 'kind': 538, 'saw': 539, 'throughout': 540, 'breast': 541, 'nearly': 542, '25mg': 543, 'vision': 544, 'focus': 545, '1st': 546, 'bathroom': 547, 'place': 548, 'bloating': 549, 'calm': 550, 'throat': 551, 'changes': 552, 'cough': 553, 'upset': 554, 'tablets': 555, 'reduced': 556, 'easily': 557, 'rid': 558, 'allergic': 559, 'pristiq': 560, 'asked': 561, 'joint': 562, 'loestrin': 563, 'slightly': 564, 'procedure': 565, 'nights': 566, 'test': 567, 'affects': 568, 'broke': 569, 'god': 570, 'antibiotics': 571, 'loved': 572, 'says': 573, 'thanks': 574, 'skyla': 575, 'late': 576, 'helping': 577, 'daughter': 578, 'itchy': 579, 'sweating': 580, 'cry': 581, 'total': 582, 'libido': 583, 'bowel': 584, 'unfortunately': 585, 'minor': 586, 'house': 587, 'system': 588, 'forget': 589, 'friends': 590, 'added': 591, 'okay': 592, 'doses': 593, 'nervous': 594, 'nuvaring': 595, 'knew': 596, 'arthritis': 597, 'continued': 598, 'levels': 599, 'flashes': 600, 'rate': 601, 'antibiotic': 602, 'bleed': 603, 'serious': 604, 'luck': 605, 'fibromyalgia': 606, 'zero': 607, 'causing': 608, 'cut': 609, 'reaction': 610, 'happened': 611, 'celexa': 612, 'instead': 613, 'rest': 614, 'slept': 615, 'turned': 616, 'truly': 617, 'leg': 618, 'mostly': 619, 'heard': 620, 'awesome': 621, 'flu': 622, 'term': 623, 'march': 624, 'ready': 625, 'abilify': 626, '100mg': 627, 'uti': 628, 'post': 629, 'seen': 630, 'child': 631, 'active': 632, 'suggested': 633, 'minimal': 634, 'talk': 635, 'angry': 636, 'nose': 637, 'hit': 638, 'occasional': 639, 'pimples': 640, 'kids': 641, 'lasts': 642, 'nerve': 643, 'hopefully': 644, 'finished': 645, 'evening': 646, 'including': 647, 'sad': 648, 'causes': 649, 'seeing': 650, 'falling': 651, 'must': 652, 'following': 653, 'suicidal': 654, 'size': 655, 'knee': 656, 'suboxone': 657, 'aches': 658, 'memory': 659, 'awake': 660, 'cravings': 661, 'issue': 662, 'dermatologist': 663, 'case': 664, 'worried': 665, 'health': 666, 'returned': 667, 'tests': 668, 'psychiatrist': 669, 'unbearable': 670, 'ten': 671, 'strong': 672, 'mine': 673, 'friend': 674, 'supposed': 675, 'initially': 676, 'rash': 677, 'irritable': 678, 'single': 679, 'waiting': 680, 'easier': 681, 'ask': 682, 'latuda': 683, 'pharmacy': 684, 'area': 685, 'condition': 686, 'move': 687, 'sit': 688, 'realized': 689, 'hell': 690, 'name': 691, 'difficult': 692, 'breath': 693, 'spasms': 694, 'mean': 695, 'looked': 696, 'discomfort': 697, 'infections': 698, 'leave': 699, 'hormones': 700, 'swelling': 701, 'stayed': 702, 'ibuprofen': 703, 'miserable': 704, 'uncomfortable': 705, 'ortho': 706, 'unable': 707, 'tri': 708, 'psoriasis': 709, 'combination': 710, 'hardly': 711, 'arms': 712, 'state': 713, 'review': 714, 'process': 715, 'stand': 716, 'usual': 717, 'till': 718, 'breakouts': 719, 'run': 720, 'social': 721, 'yaz': 722, 'shots': 723, 'sleepy': 724, 'subsided': 725, 'money': 726, 'moderate': 727, 'tomorrow': 728, 'breathing': 729, 'injections': 730, 'happier': 731, 'possible': 732, 'quick': 733, 'smoke': 734, 'aware': 735, 'happen': 736, 'anyway': 737, 'matter': 738, 'wonder': 739, 'unless': 740, 'unprotected': 741, 'contrave': 742, 'wrong': 743, 'disease': 744, 'patches': 745, 'afraid': 746, 'slow': 747, 'cover': 748, 'expected': 749, 'dealing': 750, 'greatly': 751, 'research': 752, 'saver': 753, 'cystic': 754, 'bladder': 755, 'perfect': 756, 'focused': 757, 'fell': 758, 'method': 759, 'close': 760, 'keeps': 761, 'avoid': 762, 'metformin': 763, 'cancer': 764, 'sweats': 765, 'lack': 766, '40mg': 767, 'wife': 768, 'children': 769, 'significant': 770, 'walking': 771, 'general': 772, 'adderall': 773, 'chantix': 774, 'loose': 775, 'mother': 776, 'fever': 777, 'sprintec': 778, 'seriously': 779, 'bronchitis': 780, 'irregular': 781, 'gel': 782, 'option': 783, 'previously': 784, 'a1c': 785, 'sweat': 786, 'physical': 787, 'tablet': 788, 'stick': 789, 'basically': 790, 'male': 791, 'round': 792, 'five': 793, 'feelings': 794, 'women': 795, 'inside': 796, 'realize': 797, 'immediate': 798, 'advice': 799, 'waking': 800, 'large': 801, 'bled': 802, 'seizures': 803, 'top': 804, 'random': 805, 'desire': 806, 'therapy': 807, 'compared': 808, 'check': 809, 'office': 810, 'ill': 811, 'disappeared': 812, 'otherwise': 813, 'spots': 814, 'august': 815, 'changing': 816, 'bone': 817, 'experiences': 818, 'episodes': 819, 'white': 820, 'vyvanse': 821, 'rarely': 822, 'strange': 823, 'prescribe': 824, 'methadone': 825, 'condom': 826, 'oral': 827, 'initial': 828, 'supply': 829, 'emotions': 830, 'mental': 831, 'send': 832, 'upper': 833, 'female': 834, 'miss': 835, 'sense': 836, 'empty': 837, 'placed': 838, 'price': 839, 'april': 840, 'syndrome': 841, 'afternoon': 842, 'cons': 843, 'brought': 844, 'bloated': 845, 'zombie': 846, 'middle': 847, 'bought': 848, 'nightmares': 849, 'pms': 850, 'known': 851, 'acid': 852, 'similar': 853, 'chance': 854, 'spot': 855, 'manic': 856, 'ibs': 857, 'tiredness': 858, 'outside': 859, 'wow': 860, 'hand': 861, 'epiduo': 862, 'dropped': 863, 'alone': 864, 'frequent': 865, 'gabapentin': 866, 'asthma': 867, 'belviq': 868, 'true': 869, 'abdominal': 870, 'withdrawals': 871, 'happens': 872, 'college': 873, 'viibryd': 874, 'vivid': 875, 'drop': 876, 'brown': 877, 'discharge': 878, 'complete': 879, 'handle': 880, 'july': 881, 'relieved': 882, 'comments': 883, 'medical': 884, 'talking': 885, 'noticeable': 886, 'considering': 887, 'gas': 888, 'simply': 889, 'deep': 890, 'paxil': 891, 'main': 892, 'pros': 893, '30mg': 894, 'whatsoever': 895, 'result': 896, 'decrease': 897, 'saying': 898, 'nice': 899, 'decision': 900, 'movement': 901, 'ones': 902, 'moods': 903, 'shaking': 904, 'extra': 905, 'irritability': 906, 'ativan': 907, 'thankful': 908, 'gaining': 909, 'treatments': 910, 'november': 911, 'lasting': 912, 'expect': 913, 'ran': 914, 'living': 915, 'bigger': 916, 'teeth': 917, 'october': 918, 'regularly': 919, 'passed': 920, 'success': 921, 'muscles': 922, 'racing': 923, 'common': 924, 'helpful': 925, 'scary': 926, 'idea': 927, 'spent': 928, 'january': 929, 'somewhat': 930, 'nasty': 931, 'followed': 932, 'patient': 933, 'prep': 934, 'fully': 935, 'stuck': 936, 'weak': 937, 'seroquel': 938, 'scalp': 939, 'samples': 940, 'relieve': 941, 'together': 942, 'fear': 943, 'moodiness': 944, 'swollen': 945, 'joints': 946, 'forehead': 947, 'covered': 948, 'ate': 949, 'car': 950, 'tingling': 951, 'previous': 952, 'world': 953, 'putting': 954, 'appointment': 955, 'turn': 956, 'prevent': 957, 'severely': 958, 'hives': 959, 'treat': 960, 'tremendously': 961, 'options': 962, 'drowsy': 963, 'figure': 964, 'chin': 965, 'urge': 966, 'benefits': 967, 'colonoscopy': 968, 'tolerable': 969, 'jaw': 970, 'satisfied': 971, 'excellent': 972, 'ears': 973, 'hated': 974, 'hunger': 975, 'mom': 976, '500mg': 977, 'nauseated': 978, 'excited': 979, 'significantly': 980, 'room': 981, 'antidepressants': 982, 'constipated': 983, 'careful': 984, 'concerta': 985, 'weighed': 986, 'forward': 987, 'shoulder': 988, 'ambien': 989, 'quality': 990, 'chose': 991, 'breakthrough': 992, 'anger': 993, 'mgs': 994, 'cheeks': 995, 'mins': 996, 'multiple': 997, 'dinner': 998, 'toilet': 999, 'ease': 1000, 'starts': 1001, 'breaking': 1002, 'missed': 1003, 'failed': 1004, 'mention': 1005, 'accutane': 1006, 'update': 1007, 'higher': 1008, 'clean': 1009, 'wanting': 1010, 'restless': 1011, 'flow': 1012, 'write': 1013, 'dont': 1014, 'understand': 1015, 'relationship': 1016, 'nightmare': 1017, 'badly': 1018, '4th': 1019, 'controlled': 1020, 'tenderness': 1021, 'allergies': 1022, 'choice': 1023, 'antidepressant': 1024, 'drowsiness': 1025, 'weigh': 1026, 'nasal': 1027, 'flare': 1028, 'manageable': 1029, 'lamictal': 1030, '300mg': 1031, 'saturday': 1032, 'looks': 1033, 'ring': 1034, 'increasing': 1035, 'fingers': 1036, 'thyroid': 1037, 'tolerance': 1038, 'effectiveness': 1039, 'treated': 1040, 'near': 1041, 'gives': 1042, 'kick': 1043, 'boobs': 1044, 'forgot': 1045, 'needs': 1046, 'disappointed': 1047, 'bedtime': 1048, 'seconds': 1049, 'september': 1050, 'clots': 1051, 'moment': 1052, 'tylenol': 1053, 'struggled': 1054, 'afford': 1055, 'coughing': 1056, 'vomit': 1057, 'call': 1058, 'hormonal': 1059, 'excessive': 1060, 'bottle': 1061, 'episode': 1062, 'oil': 1063, 'downside': 1064, 'history': 1065, 'begin': 1066, 'safe': 1067, 'nurse': 1068, 'finding': 1069, 'heavier': 1070, 'neurologist': 1071, 'lithium': 1072, 'exactly': 1073, 'ringing': 1074, 'related': 1075, '75mg': 1076, 'paranoia': 1077, 'sent': 1078, 'noticing': 1079, 'perfectly': 1080, 'staying': 1081, 'calories': 1082, 'diabetes': 1083, 'lyrica': 1084, 'annoying': 1085, 'bactrim': 1086, 'numbers': 1087, 'addition': 1088, 'ssri': 1089, 'cup': 1090, 'pleased': 1091, 'foods': 1092, 'occasionally': 1093, 'minute': 1094, 'pee': 1095, 'headed': 1096, 'return': 1097, 'suggest': 1098, 'burn': 1099, 'market': 1100, 'monday': 1101, 'available': 1102, 'pocket': 1103, 'affect': 1104, 'fairly': 1105, 'count': 1106, 'lol': 1107, 'despite': 1108, 'spinal': 1109, '150mg': 1110, 'received': 1111, 'incredibly': 1112, 'drank': 1113, 'liquid': 1114, 'tramadol': 1115, 'fantastic': 1116, 'dryness': 1117, 'redness': 1118, 'irritated': 1119, 'alcohol': 1120, 'continues': 1121, 'heartburn': 1122, 'paranoid': 1123, 'smoked': 1124, 'version': 1125, 'follow': 1126, 'shorter': 1127, 'partner': 1128, 'accident': 1129, 'differently': 1130, 'apply': 1131, 'sooner': 1132, 'improve': 1133, 'ocd': 1134, 'meal': 1135, 'faster': 1136, 'numb': 1137, 'upped': 1138, 'jittery': 1139, 'pharmacist': 1140, 'min': 1141, 'uterus': 1142, 'generally': 1143, 'order': 1144, 'itch': 1145, 'cramp': 1146, 'knees': 1147, 'humira': 1148, 'december': 1149, 'throw': 1150, 'addiction': 1151, 'wearing': 1152, 'overnight': 1153, 'saxenda': 1154, 'moving': 1155, 'number': 1156, 'hear': 1157, 'urine': 1158, 'sores': 1159, 'regulate': 1160, 'reduce': 1161, 'smaller': 1162, 'showed': 1163, 'liver': 1164, 'turkey': 1165, 'cialis': 1166, 'vaginal': 1167, 'alot': 1168, 'moved': 1169, 'habits': 1170, 'painless': 1171, 'figured': 1172, 'counter': 1173, 'stable': 1174, 'diabetic': 1175, 'debilitating': 1176, 'hurts': 1177, 'young': 1178, 'smooth': 1179, 'mistake': 1180, 'sensation': 1181, 'inhaler': 1182, 'tender': 1183, 'tiny': 1184, 'suicide': 1185, 'goal': 1186, 'summer': 1187, 'paragard': 1188, 'sickness': 1189, 'gradually': 1190, 'cyclen': 1191, 'concentrate': 1192, 'damage': 1193, 'tongue': 1194, 'ptsd': 1195, 'breakout': 1196, 'spray': 1197, 'site': 1198, 'friday': 1199, 'concerned': 1200, 'hormone': 1201, 'clearing': 1202, 'attention': 1203, 'whether': 1204, 'lifesaver': 1205, 'norco': 1206, 'react': 1207, 'plenty': 1208, 'physician': 1209, 'release': 1210, 'diagnosis': 1211, 'allowed': 1212, 'upon': 1213, 'cipro': 1214, 'mainly': 1215, 'balance': 1216, 'aviane': 1217, 'touch': 1218, 'woman': 1219, 'bother': 1220, 'menstrual': 1221, 'die': 1222, 'earlier': 1223, 'date': 1224, 'victoza': 1225, 'lay': 1226, 'originally': 1227, 'whenever': 1228, 'apart': 1229, 'married': 1230, 'nuvigil': 1231, 'stiffness': 1232, 'suprep': 1233, 'relax': 1234, 'dark': 1235, 'fog': 1236, 'hip': 1237, 'randomly': 1238, 'struggling': 1239, 'seizure': 1240, 'afterwards': 1241, 'ritalin': 1242, 'opiates': 1243, 'phentermine': 1244, 'stories': 1245, 'difficulty': 1246, 'running': 1247, 'instantly': 1248, 'risk': 1249, 'botox': 1250, 'natural': 1251, 'palpitations': 1252, 'inability': 1253, 'reducing': 1254, 'class': 1255, 'stated': 1256, '1mg': 1257, 'morphine': 1258, 'tremors': 1259, 'motivation': 1260, 'weakness': 1261, 'illness': 1262, 'share': 1263, 'virus': 1264, 'movements': 1265, 'set': 1266, 'intercourse': 1267, 'sexual': 1268, 'benefit': 1269, 'doxycycline': 1270, 'heal': 1271, 'adult': 1272, 'lips': 1273, 'managed': 1274, '60mg': 1275, 'adjust': 1276, 'affected': 1277, 'bring': 1278, 'mixed': 1279, 'stops': 1280, 'checked': 1281, 'placebo': 1282, 'company': 1283, 'june': 1284, 'tested': 1285, 'rls': 1286, 'tampon': 1287, 'shortness': 1288, 'percocet': 1289, 'topamax': 1290, 'situation': 1291, 'addictive': 1292, 'foot': 1293, 'whatever': 1294, 'online': 1295, 'important': 1296, 'edge': 1297, 'controls': 1298, 'comfortable': 1299, 'allows': 1300, 'cd4': 1301, 'solution': 1302, 'stressed': 1303, 'blurry': 1304, 'kidney': 1305, 'step': 1306, 'routine': 1307, 'reactions': 1308, 'yasmin': 1309, 'finish': 1310, 'estrogen': 1311, 'mess': 1312, 'orgasm': 1313, 'girl': 1314, 'facial': 1315, 'possibly': 1316, '80mg': 1317, 'gym': 1318, 'average': 1319, 'cant': 1320, 'patients': 1321, 'trip': 1322, 'besides': 1323, 'menopause': 1324, 'numbness': 1325, 'student': 1326, 'funny': 1327, 'forever': 1328, 'enjoy': 1329, 'irritation': 1330, 'watch': 1331, 'linzess': 1332, 'practically': 1333, 'anyways': 1334, 'driving': 1335, 'tamiflu': 1336, 'chills': 1337, 'mid': 1338, 'becoming': 1339, 'smell': 1340, 'groggy': 1341, 'terrified': 1342, 'ear': 1343, 'breathe': 1344, 'remicade': 1345, 'disc': 1346, 'junel': 1347, 'polar': 1348, 'fit': 1349, 'lunch': 1350, 'threw': 1351, 'writing': 1352, 'february': 1353, 'sitting': 1354, 'coupon': 1355, 'box': 1356, 'suddenly': 1357, 'likely': 1358, 'ups': 1359, 'list': 1360, 'surgeries': 1361, 'ladies': 1362, 'benadryl': 1363, 'restlessness': 1364, 'certainly': 1365, 'urgent': 1366, 'vicodin': 1367, 'advised': 1368, 'planned': 1369, 'card': 1370, 'blurred': 1371, 'build': 1372, 'born': 1373, 'odd': 1374, 'listed': 1375, 'monthly': 1376, 'neurontin': 1377, 'sweet': 1378, 'script': 1379, 'burns': 1380, 'buy': 1381, 'adipex': 1382, 'cycles': 1383, 'keeping': 1384, 'bacterial': 1385, 'trick': 1386, 'heat': 1387, 'dying': 1388, 'imagine': 1389, 'bumps': 1390, 'talked': 1391, 'shocked': 1392, 'man': 1393, 'horror': 1394, 'tastes': 1395, 'eczema': 1396, 'flagyl': 1397, 'led': 1398, 'exact': 1399, 'clonidine': 1400, 'track': 1401, 'sun': 1402, 'exhausted': 1403, 'hey': 1404, 'viral': 1405, 'story': 1406, 'lucky': 1407, 'throwing': 1408, 'pass': 1409, 'certain': 1410, 'mentally': 1411, 'wondering': 1412, 'remove': 1413, 'incredible': 1414, 'ovulation': 1415, 'combo': 1416, 'pick': 1417, 'thru': 1418, 'personally': 1419, 'oily': 1420, 'topical': 1421, 'ache': 1422, 'surprised': 1423, 'gad': 1424, 'cysts': 1425, 'fentanyl': 1426, 'depressive': 1427, 'babies': 1428, 'frequently': 1429, 'smoker': 1430, 'consistently': 1431, 'stronger': 1432, 'open': 1433, 'trial': 1434, 'massive': 1435, 'worrying': 1436, 'feb': 1437, 'continuing': 1438, 'basis': 1439, 'specialist': 1440, 'subside': 1441, 'towards': 1442, 'complain': 1443, 'lately': 1444, 'relaxed': 1445, 'seven': 1446, 'visit': 1447, 'skeptical': 1448, 'grateful': 1449, 'geodon': 1450, 'preventing': 1451, 'citalopram': 1452, 'reflux': 1453, 'pound': 1454, 'valium': 1455, 'black': 1456, 'complaints': 1457, 'happening': 1458, '200mg': 1459, 'removal': 1460, 'wants': 1461, 'lethargic': 1462, 'complaint': 1463, 'excruciating': 1464, 'calling': 1465, 'poison': 1466, 'liked': 1467, 'growing': 1468, 'properly': 1469, 'shoulders': 1470, 'applying': 1471, 'skip': 1472, '5th': 1473, 'fourth': 1474, 'max': 1475, 'manage': 1476, '2mg': 1477, 'word': 1478, 'depressants': 1479, 'fun': 1480, 'mornings': 1481, 'grade': 1482, 'breakfast': 1483, 'stage': 1484, 'agony': 1485, 'consider': 1486, 'metabolism': 1487, 'gonna': 1488, 'foggy': 1489, 'spine': 1490, 'lutera': 1491, 'kinds': 1492, 'conditions': 1493, 'mentioned': 1494, 'trinessa': 1495, 'glucose': 1496, 'pneumonia': 1497, 'double': 1498, 'awhile': 1499, 'pad': 1500, 'waste': 1501, 'shortly': 1502, 'provera': 1503, 'approved': 1504, 'insulin': 1505, 'carb': 1506, 'beat': 1507, 'cutting': 1508, 'narcotic': 1509, 'worsened': 1510, 'lead': 1511, 'tonight': 1512, 'death': 1513, 'urinary': 1514, 'cried': 1515, 'wash': 1516, 'opiate': 1517, 'allergy': 1518, 'associated': 1519, 'prednisone': 1520, 'cigarette': 1521, 'approximately': 1522, 'reacts': 1523, 'places': 1524, 'obsessive': 1525, 'activity': 1526, 'aside': 1527, 'weaned': 1528, 'oxycontin': 1529, 'pulled': 1530, 'tons': 1531, 'horrific': 1532, 'alive': 1533, 'load': 1534, 'fire': 1535, 'caught': 1536, 'thankfully': 1537, 'imitrex': 1538, 'sadness': 1539, 'guys': 1540, 'concern': 1541, 'hopeful': 1542, 'types': 1543, 'apparently': 1544, 'harder': 1545, 'embarrassing': 1546, 'intake': 1547, 'based': 1548, 'moisturizer': 1549, 'various': 1550, 'tend': 1551, 'cyst': 1552, 'hallucinations': 1553, 'endometriosis': 1554, 'dealt': 1555, 'freaked': 1556, 'peeling': 1557, 'sudden': 1558, 'coffee': 1559, 'gyno': 1560, 'paid': 1561, 'fatigued': 1562, 'fix': 1563, 'miralax': 1564, 'pads': 1565, 'knowing': 1566, 'broken': 1567, 'wore': 1568, 'father': 1569, 'eight': 1570, 'injury': 1571, 'mobic': 1572, 'ice': 1573, 'heroin': 1574, 'clinic': 1575, 'learned': 1576, 'acting': 1577, 'tolerate': 1578, 'everywhere': 1579, 'spread': 1580, 'levora': 1581, 'carry': 1582, 'trazodone': 1583, 'extended': 1584, 'viagra': 1585, 'ocella': 1586, 'spotted': 1587, 'pull': 1588, 'pre': 1589, 'i': 1590, 'soreness': 1591, 'steroids': 1592, 'trust': 1593, 'methotrexate': 1594, 'pulse': 1595, 'nucynta': 1596, 'fight': 1597, 'vagina': 1598, 'internet': 1599, 'freaking': 1600, 'tough': 1601, 'ultram': 1602, 'calmed': 1603, 'store': 1604, 'warned': 1605, 'stone': 1606, 'enbrel': 1607, 'erections': 1608, 'push': 1609, 'remission': 1610, 'needing': 1611, 'hospitalized': 1612, 'blown': 1613, 'vitamin': 1614, 'congestion': 1615, 'lip': 1616, 'opinion': 1617, 'included': 1618, 'excedrin': 1619, 'exercising': 1620, 'hold': 1621, 'agree': 1622, 'thinks': 1623, 'primary': 1624, 'nap': 1625, 'milk': 1626, 'oxycodone': 1627, 'applied': 1628, 'insert': 1629, 'shake': 1630, 'simple': 1631, 'amazed': 1632, 'aid': 1633, 'confident': 1634, 'hesitant': 1635, 'shaky': 1636, 'scale': 1637, 'pimple': 1638, 'save': 1639, 'frequency': 1640, 'bruising': 1641, 'healed': 1642, 'numerous': 1643, 'lifestyle': 1644, 'alternative': 1645, 'postpartum': 1646, 'attitude': 1647, 'front': 1648, 'mark': 1649, 'pcos': 1650, 'discontinued': 1651, 'traumatic': 1652, 'protein': 1653, 'impossible': 1654, 'kid': 1655, 'hang': 1656, 'condoms': 1657, 'maintain': 1658, 'belly': 1659, 'laxatives': 1660, 'obviously': 1661, 'percent': 1662, 'lightheaded': 1663, 'fertile': 1664, 'armour': 1665, 'combined': 1666, 'inflammation': 1667, 'asap': 1668, 'emergency': 1669, 'trips': 1670, 'obgyn': 1671, 'nerves': 1672, 'ton': 1673, 'floor': 1674, 'vertigo': 1675, 'information': 1676, 'lotion': 1677, 'color': 1678, 'cigarettes': 1679, 'biggest': 1680, 'words': 1681, 'resistant': 1682, 'solid': 1683, 'hurting': 1684, 'sorry': 1685, 'line': 1686, 'dilaudid': 1687, 'juice': 1688, 'covers': 1689, 'instructed': 1690, 'onto': 1691, 'uncontrollable': 1692, 'contraceptive': 1693, 'physically': 1694, 'everybody': 1695, 'poor': 1696, 'alleviate': 1697, 'bright': 1698, 'strongly': 1699, 'terribly': 1700, 'trulicity': 1701, 'telling': 1702, 'present': 1703, 'suppose': 1704, 'fluid': 1705, 'surgeon': 1706, 'recovery': 1707, 'cheek': 1708, 'replacement': 1709, 'cure': 1710, 'sweets': 1711, 'absolute': 1712, 'focalin': 1713, 'messed': 1714, 'replaced': 1715, 'ability': 1716, 'effectively': 1717, 'tears': 1718, 'restroom': 1719, 'frustrated': 1720, 'jardiance': 1721, 'onset': 1722, 'reasons': 1723, 'existent': 1724, 'swear': 1725, 'rough': 1726, 'lowered': 1727, 'advil': 1728, 'struggle': 1729, 'sinuses': 1730, 'ridiculous': 1731, 'inflamed': 1732, 'lowest': 1733, 'carbs': 1734, 'binge': 1735, 'fusion': 1736, 'symptom': 1737, 'filled': 1738, 'agitation': 1739, 'passing': 1740, 'hydrocodone': 1741, 'honest': 1742, 'caffeine': 1743, 'colon': 1744, 'opana': 1745, 'brands': 1746, 'hopes': 1747, 'finger': 1748, 'orsythia': 1749, 'stimulant': 1750, 'concentration': 1751, 'thirsty': 1752, 'copay': 1753, 'required': 1754, 'addicted': 1755, 'alesse': 1756, 'steroid': 1757, 'laid': 1758, 'otc': 1759, 'generalized': 1760, 'zaps': 1761, 'tells': 1762, 'refill': 1763, 'chemo': 1764, 'unbelievable': 1765, 'ovulating': 1766, 'bouts': 1767, 'tabs': 1768, 'luckily': 1769, 'u2019t': 1770, 'pleasant': 1771, 'cholesterol': 1772, 'limited': 1773, 'listen': 1774, 'pounding': 1775, 'sound': 1776, 'ankles': 1777, 'crippling': 1778, 'paying': 1779, 'sounds': 1780, 'perhaps': 1781, 'range': 1782, 'meant': 1783, 'hep': 1784, 'amounts': 1785, 'opposite': 1786, 'support': 1787, 'orange': 1788, 'asking': 1789, 'scars': 1790, 'forms': 1791, 'undetectable': 1792, 'tube': 1793, 'dec': 1794, 'adjusted': 1795, 'worsening': 1796, 'psych': 1797, 'remained': 1798, 'stools': 1799, 'schedule': 1800, 'guy': 1801, 'sharp': 1802, 'local': 1803, '7th': 1804, 'progressed': 1805, 'horribly': 1806, 'makeup': 1807, 'adverse': 1808, 'macrobid': 1809, 'voices': 1810, 'include': 1811, 'admit': 1812, 'temporary': 1813, 'therefore': 1814, 'lumbar': 1815, 'tho': 1816, 'public': 1817, 'magic': 1818, 'pushed': 1819, 'products': 1820, 'pricey': 1821, 'cheap': 1822, 'minimum': 1823, '120mg': 1824, 'spending': 1825, 'depressant': 1826, 'omg': 1827, 'junk': 1828, 'zofran': 1829, 'puts': 1830, 'chemical': 1831, 'application': 1832, 'prepared': 1833, 'answer': 1834, 'future': 1835, 'anywhere': 1836, 'stays': 1837, 'metoprolol': 1838, 'warning': 1839, 'warm': 1840, 'aleve': 1841, 'didnt': 1842, 'drove': 1843, 'roof': 1844, 'teens': 1845, 'valtrex': 1846, 'program': 1847, 'worries': 1848, 'lifted': 1849, 'tooth': 1850, 'sort': 1851, 'sign': 1852, 'nails': 1853, 'controlling': 1854, '6th': 1855, 'needle': 1856, 'areas': 1857, 'monistat': 1858, 'steady': 1859, 'swallow': 1860, 'hips': 1861, 'disgusting': 1862, 'nowhere': 1863, 'freak': 1864, 'rashes': 1865, 'levaquin': 1866, 'wonderfully': 1867, 'diff': 1868, 'split': 1869, 'costs': 1870, 'readings': 1871, 'cope': 1872, 'achy': 1873, 'stool': 1874, 'beware': 1875, 'regret': 1876, 'keppra': 1877, 'downfall': 1878, 'sunday': 1879, 'thus': 1880, 'cardiologist': 1881, 'faint': 1882, 'strength': 1883, 'lie': 1884, 'packs': 1885, 'bottom': 1886, 'alert': 1887, 'saving': 1888, 'miles': 1889, 'reduction': 1890, 'dentist': 1891, 'ways': 1892, 'capsules': 1893, 'habit': 1894, 'quitting': 1895, 'compulsive': 1896, 'sucks': 1897, 'sleepiness': 1898, 'report': 1899, 'apri': 1900, 'immune': 1901, 'voltaren': 1902, 'herniated': 1903, 'activities': 1904, 'kicked': 1905, 'ruin': 1906, 'lortab': 1907, 'dead': 1908, 'wide': 1909, 'lungs': 1910, 'tingly': 1911, 'highest': 1912, 'vacation': 1913, 'behavior': 1914, 'enjoyed': 1915, 'rage': 1916, 'cured': 1917, 'pins': 1918, 'needles': 1919, 'older': 1920, 'note': 1921, 'forced': 1922, 'glasses': 1923, 'mania': 1924, 'rebound': 1925, 'sleepless': 1926, 'grow': 1927, 'soft': 1928, 'killing': 1929, 'lets': 1930, 'watching': 1931, 'interesting': 1932, 'drops': 1933, 'venlafaxine': 1934, 'testing': 1935, 'approach': 1936, 'stressful': 1937, 'outweighed': 1938, 'fighting': 1939, 'bump': 1940, 'died': 1941, 'sensitivity': 1942, 'instant': 1943, 'decreasing': 1944, '20lbs': 1945, 'advise': 1946, 'creams': 1947, 'depending': 1948, 'crossed': 1949, 'clomid': 1950, 'harvoni': 1951, 'blessing': 1952, 'confidence': 1953, 'difficulties': 1954, 'confused': 1955, 'fading': 1956, 'speak': 1957, 'knows': 1958, 'exhaustion': 1959, 'psychotic': 1960, 'zyprexa': 1961, 'risperdal': 1962, 'burned': 1963, 'depends': 1964, 'hyper': 1965, 'adding': 1966, 'remedies': 1967, 'qsymia': 1968, 'aczone': 1969, 'agreed': 1970, 'approx': 1971, 'dollars': 1972, 'beyond': 1973, 'sciatica': 1974, 'neuropathy': 1975, 'fewer': 1976, 'wks': 1977, 'strings': 1978, 'website': 1979, 'agitated': 1980, 'ride': 1981, 'rapidly': 1982, 'sporadic': 1983, 'breastfeeding': 1984, 'scare': 1985, 'tumor': 1986, 'celebrex': 1987, 'calmer': 1988, 'successful': 1989, 'improvements': 1990, 'grades': 1991, 'avail': 1992, 'progress': 1993, 'enjoying': 1994, 'jump': 1995, 'spend': 1996, 'degree': 1997, 'yogurt': 1998, 'erection': 1999, 'sexually': 2000, 'dairy': 2001, 'fat': 2002, 'degenerative': 2003, 'doubt': 2004, 'forgetful': 2005, 'goodness': 2006, 'tract': 2007, 'synthroid': 2008, 'toes': 2009, 'diminished': 2010, 'prolonged': 2011, 'consistent': 2012, 'actual': 2013, 'boy': 2014, 'ending': 2015, 'posted': 2016, 'study': 2017, 'force': 2018, 'reach': 2019, 'admitted': 2020, 'allow': 2021, 'wise': 2022, 'complaining': 2023, 'protection': 2024, 'cervix': 2025, 'rare': 2026, 'thursday': 2027, 'risperidone': 2028, 'bearable': 2029, 'obvious': 2030, 'smallest': 2031, 'rapid': 2032, 'productive': 2033, 'rheumatoid': 2034, 'convinced': 2035, 'thrilled': 2036, 'affecting': 2037, 'improving': 2038, 'entirely': 2039, 'abuse': 2040, 'sample': 2041, 'decent': 2042, 'craving': 2043, 'marks': 2044, 'alli': 2045, 'effort': 2046, 'weaning': 2047, 'narcolepsy': 2048, 'strattera': 2049, 'tasks': 2050, 'sticking': 2051, 'dependent': 2052, 'regulated': 2053, 'chilled': 2054, 'directed': 2055, 'walked': 2056, 'clearly': 2057, 'surprise': 2058, 'settle': 2059, 'energetic': 2060, 'hearing': 2061, 'nine': 2062, 'reglan': 2063, 'scar': 2064, 'abnormal': 2065, 'intrusive': 2066, 'beyaz': 2067, 'failure': 2068, 'clears': 2069, 'metronidazole': 2070, 'flexeril': 2071, 'urination': 2072, 'mucinex': 2073, 'osteoarthritis': 2074, 'remembering': 2075, 'instructions': 2076, 'comparison': 2077, 'rock': 2078, 'hopeless': 2079, 'discontinue': 2080, 'eaten': 2081, 'length': 2082, 'considered': 2083, 'emotionally': 2084, 'aggressive': 2085, 'begins': 2086, 'desperate': 2087, 'proper': 2088, 'growth': 2089, 'hello': 2090, 'splitting': 2091, 'sat': 2092, 'finishing': 2093, 'million': 2094, 'management': 2095, 'events': 2096, 'accept': 2097, 'zits': 2098, 'blocked': 2099, 'thin': 2100, 'resume': 2101, 'dysfunction': 2102, 'loving': 2103, 'action': 2104, 'augmentin': 2105, 'faded': 2106, 'teen': 2107, 'afterward': 2108, 'trigger': 2109, 'becomes': 2110, 'maintenance': 2111, 'repeat': 2112, 'choose': 2113, 'dermatitis': 2114, 'urinate': 2115, 'dosing': 2116, 'numbing': 2117, 'clearer': 2118, 'clothes': 2119, 'tea': 2120, '400mg': 2121, 'wont': 2122, 'wrote': 2123, 'dramatically': 2124, 'knocked': 2125, 'majority': 2126, 'neither': 2127, 'hysterectomy': 2128, 'confirmed': 2129, 'protected': 2130, 'solodyn': 2131, 'clotting': 2132, 'interest': 2133, 'choices': 2134, 'dangerous': 2135, 'plans': 2136, 'probiotic': 2137, 'crave': 2138, 'drs': 2139, 'respond': 2140, 'motivated': 2141, 'soma': 2142, 'means': 2143, 'manufacturer': 2144, 'current': 2145, 'shift': 2146, 'horrendous': 2147, 'stupid': 2148, 'race': 2149, 'air': 2150, 'overwhelmed': 2151, 'teenager': 2152, 'ingredient': 2153, 'speaking': 2154, 'mirtazapine': 2155, 'apparent': 2156, 'harm': 2157, 'girls': 2158, 'laying': 2159, 'larger': 2160, 'bacteria': 2161, 'regimen': 2162, 'prevented': 2163, 'scares': 2164, 'elevated': 2165, 'relapsed': 2166, 'sertraline': 2167, 'typical': 2168, 'bones': 2169, 'coverage': 2170, 'refreshed': 2171, 'sight': 2172, 'dull': 2173, 'discovered': 2174, 'key': 2175, 'weekend': 2176, 'personality': 2177, 'tapering': 2178, 'colitis': 2179, 'caution': 2180, 'shame': 2181, 'occurred': 2182, 'killed': 2183, 'mri': 2184, 'fainted': 2185, 'clot': 2186, 'amazingly': 2187, 'oxy': 2188, 'typically': 2189, 'mirapex': 2190, 'kidneys': 2191, 'januvia': 2192, 'clonazepam': 2193, 'meals': 2194, 'parents': 2195, 'built': 2196, 'play': 2197, 'elbows': 2198, 'noise': 2199, 'discs': 2200, 'leading': 2201, 'wears': 2202, 'straw': 2203, 'dream': 2204, '15mg': 2205, 'attempt': 2206, 'reached': 2207, 'mad': 2208, 'detox': 2209, 'conjunction': 2210, 'mix': 2211, 'soda': 2212, 'insane': 2213, 'cool': 2214, 'pop': 2215, 'surprisingly': 2216, 'cases': 2217, 'fresh': 2218, 'calcium': 2219, 'gyn': 2220, 'kyleena': 2221, 'permanent': 2222, 'workout': 2223, 'blame': 2224, 'intimate': 2225, 'occasions': 2226, 'marriage': 2227, 'raised': 2228, 'gerd': 2229, 'busy': 2230, 'game': 2231, 'lived': 2232, 'bruise': 2233, 'toe': 2234, 'progressively': 2235, 'healthier': 2236, 'irrational': 2237, 'battle': 2238, 'younger': 2239, 'news': 2240, 'crohn': 2241, 'aching': 2242, 'amitriptyline': 2243, 'tegretol': 2244, 'trazadone': 2245, 'yeah': 2246, 'show': 2247, 'government': 2248, 'tic': 2249, 'melatonin': 2250, 'cipralex': 2251, 'power': 2252, 'yawning': 2253, 'toradol': 2254, 'disappear': 2255, 'runny': 2256, 'battled': 2257, 'walls': 2258, 'schizophrenia': 2259, 'schizoaffective': 2260, 'stars': 2261, 'recent': 2262, 'urologist': 2263, 'nov': 2264, 'dehydrated': 2265, 'brilliant': 2266, 'treating': 2267, 'amitiza': 2268, 'skinny': 2269, '10lbs': 2270, 'fiber': 2271, 'immensely': 2272, 'optimistic': 2273, 'seek': 2274, 'cheese': 2275, 'waited': 2276, 'lord': 2277, 'genetic': 2278, 'lives': 2279, 'weather': 2280, 'christmas': 2281, 'buspirone': 2282, 'taper': 2283, 'unpredictable': 2284, 'relatively': 2285, 'blackheads': 2286, 'suppressed': 2287, 'discount': 2288, 'neurological': 2289, 'urgency': 2290, 'actiq': 2291, 'stung': 2292, 'byetta': 2293, 'motrin': 2294, 'bothered': 2295, 'fluoxetine': 2296, 'ultrasound': 2297, 'burst': 2298, 'remaining': 2299, 'convenient': 2300, 'fits': 2301, 'lantus': 2302, 'persistent': 2303, 'users': 2304, 'lupron': 2305, '800mg': 2306, 'heating': 2307, 'zanaflex': 2308, 'cheaper': 2309, 'lesions': 2310, 'searching': 2311, 'shakes': 2312, 'winter': 2313, 'fixed': 2314, 'willing': 2315, 'therapist': 2316, 'fda': 2317, 'depakote': 2318, 'testim': 2319, 'knocks': 2320, 'mildly': 2321, 'assumed': 2322, 'fatty': 2323, 'fetzima': 2324, 'starter': 2325, 'expecting': 2326, 'focusing': 2327, 'leaves': 2328, 'shower': 2329, 'flat': 2330, 'pmdd': 2331, 'negatives': 2332, 'weekly': 2333, 'reported': 2334, 'applicator': 2335, 'happiness': 2336, 'swallowing': 2337, 'frustrating': 2338, 'gynecologist': 2339, 'sadly': 2340, 'amoxicillin': 2341, 'thumbs': 2342, 'thinning': 2343, 'praying': 2344, 'dosages': 2345, 'ineffective': 2346, 'methods': 2347, 'reality': 2348, 'returning': 2349, 'salt': 2350, 'decide': 2351, 'laxative': 2352, 'watery': 2353, 'restoril': 2354, 'personal': 2355, 'biopsy': 2356, 'packet': 2357, 'joke': 2358, 'rosacea': 2359, 'leaving': 2360, 'conversation': 2361, 'tasting': 2362, 'skipped': 2363, 'shed': 2364, 'medicare': 2365, 'glass': 2366, 'tight': 2367, 'strep': 2368, 'vomited': 2369, 'psa': 2370, 'dried': 2371, 'eased': 2372, 'drastically': 2373, 'buspar': 2374, 'correctly': 2375, 'successfully': 2376, 'duac': 2377, 'advair': 2378, 'embarrassed': 2379, 'peace': 2380, 'charm': 2381, 'sister': 2382, 'differin': 2383, 'behind': 2384, 'capsule': 2385, 'incident': 2386, 'situations': 2387, 'mini': 2388, 'atripla': 2389, 'lemon': 2390, 'quicker': 2391, 'spells': 2392, 'refused': 2393, 'inject': 2394, 'likes': 2395, 'impact': 2396, 'femara': 2397, 'slightest': 2398, 'shirts': 2399, 'confusion': 2400, 'needless': 2401, 'ginger': 2402, 'relaxers': 2403, '\\r\\r': 2404, 'pants': 2405, 'resulting': 2406, 'tops': 2407, 'relapse': 2408, 'zyban': 2409, 'drip': 2410, 'unpleasant': 2411, 'withdraw': 2412, 'monitor': 2413, 'narcotics': 2414, 'bothersome': 2415, 'original': 2416, 'pinch': 2417, 'tasted': 2418, 'cluster': 2419, 'increases': 2420, 'otezla': 2421, 'ends': 2422, 'forgetting': 2423, 'across': 2424, 'wean': 2425, 'osteoporosis': 2426, 'microgestin': 2427, 'doubled': 2428, 'hole': 2429, 'provigil': 2430, 'ovarian': 2431, 'explain': 2432, 'vitamins': 2433, 'thigh': 2434, 'crap': 2435, 'requip': 2436, 'lessened': 2437, 'intuniv': 2438, 'chateal': 2439, 'contraception': 2440, 'bay': 2441, 'supplements': 2442, 'prescribing': 2443, 'addicting': 2444, 'unexpected': 2445, 'unsure': 2446, 'receive': 2447, 'pattern': 2448, 'uses': 2449, 'shut': 2450, 'prone': 2451, 'fluids': 2452, 'patience': 2453, 'virtually': 2454, 'killers': 2455, 'cleaned': 2456, 'tretinoin': 2457, 'tunnel': 2458, 'yay': 2459, 'opioids': 2460, 'relationships': 2461, 'oct': 2462, 'breeze': 2463, 'roughly': 2464, 'refuse': 2465, 'prostate': 2466, 'cat': 2467, 'bites': 2468, 'raw': 2469, 'parts': 2470, 'thick': 2471, '\\r': 2472, 'violently': 2473, 'torn': 2474, 'convenience': 2475, 'antipsychotic': 2476, 'noted': 2477, 'opioid': 2478, 'infusion': 2479, 'forth': 2480, 'promise': 2481, 'researched': 2482, 'inderal': 2483, 'gentle': 2484, 'contact': 2485, 'developing': 2486, 'planning': 2487, 'bumpy': 2488, 'hydrated': 2489, 'ridiculously': 2490, 'green': 2491, 'sufferer': 2492, 'window': 2493, 'quetiapine': 2494, 'downhill': 2495, 'iron': 2496, 'hangover': 2497, 'span': 2498, 'plaquenil': 2499, 'endo': 2500, 'gut': 2501, 'cognitive': 2502, 'alright': 2503, 'appeared': 2504, 'reclipsen': 2505, 'lisinopril': 2506, 'stores': 2507, 'impressed': 2508, 'calms': 2509, 'rescue': 2510, 'eliminated': 2511, 'turns': 2512, 'ent': 2513, 'challenge': 2514, 'sensations': 2515, '30lbs': 2516, 'maxalt': 2517, 'studies': 2518, 'butt': 2519, 'variety': 2520, 'severity': 2521, 'annoyed': 2522, 'reluctant': 2523, 'shingles': 2524, '5pm': 2525, 'device': 2526, 'destroyed': 2527, 'inflammatory': 2528, 'occur': 2529, 'overwhelming': 2530, 'quiet': 2531, 'explained': 2532, 'ugly': 2533, 'conscious': 2534, 'via': 2535, 'lightly': 2536, 'godsend': 2537, 'potassium': 2538, 'partial': 2539, 'parenthood': 2540, 'maximum': 2541, 'everyones': 2542, 'kicks': 2543, 'snack': 2544, 'practitioner': 2545, 'nonexistent': 2546, 'swell': 2547, 'fungus': 2548, 'blue': 2549, 'harsh': 2550, 'hill': 2551, 'panty': 2552, 'cloud': 2553, 'hat': 2554, 'orthovisc': 2555, 'killer': 2556, 'flomax': 2557, 'motion': 2558, 'university': 2559, 'lamotrigine': 2560, 'attribute': 2561, 'generess': 2562, 'btw': 2563, 'psoriatic': 2564, 'esophagus': 2565, 'placement': 2566, 'accidentally': 2567, 'epilepsy': 2568, 'chocolate': 2569, 'dulcolax': 2570, 'suppositories': 2571, 'feeding': 2572, 'borderline': 2573, 'human': 2574, 'suspect': 2575, 'semi': 2576, 'series': 2577, 'stairs': 2578, 'scheduled': 2579, 'cleaning': 2580, 'lazy': 2581, 'cap': 2582, 'drunk': 2583, 'fabulous': 2584, 'heartbeat': 2585, 'wave': 2586, 'rested': 2587, 'package': 2588, 'acute': 2589, 'retention': 2590, 'street': 2591, 'stings': 2592, 'sorts': 2593, 'plaque': 2594, 'sweaty': 2595, 'rushed': 2596, 'unlike': 2597, 'cell': 2598, 'rating': 2599, 'weaker': 2600, 'tingle': 2601, 'norethindrone': 2602, 'dramatic': 2603, 'gum': 2604, 'crampy': 2605, 'bodies': 2606, 'minastrin': 2607, 'sluggish': 2608, 'shooting': 2609, 'sizes': 2610, 'lethargy': 2611, 'fail': 2612, 'fill': 2613, 'stretch': 2614, 'irritate': 2615, 'overweight': 2616, 'hiv': 2617, 'sleeplessness': 2618, 'snri': 2619, 'ugh': 2620, 'statins': 2621, 'wheelchair': 2622, 'standing': 2623, 'boat': 2624, 'waves': 2625, 'minocycline': 2626, 'forming': 2627, 'tightness': 2628, 'smells': 2629, 'grape': 2630, 'informed': 2631, 'proactive': 2632, 'garbage': 2633, 'silly': 2634, 'vaginitis': 2635, 'tapered': 2636, 'terms': 2637, 'tampons': 2638, 'pure': 2639, 'bitter': 2640, 'cramped': 2641, 'afib': 2642, 'reduces': 2643, 'ive': 2644, 'boils': 2645, 'comfort': 2646, 'describe': 2647, 'pelvic': 2648, 'playing': 2649, 'shock': 2650, 'outs': 2651, 'receiving': 2652, 'ruined': 2653, 'temperature': 2654, 'snap': 2655, 'suck': 2656, 'auto': 2657, 'assistance': 2658, 'visual': 2659, 'spoke': 2660, 'refills': 2661, 'lomotil': 2662, 'tuesday': 2663, 'appears': 2664, 'couch': 2665, 'formed': 2666, 'sunburn': 2667, 'density': 2668, 'stroke': 2669, 'lunesta': 2670, 'ultimately': 2671, 'missing': 2672, 'abreva': 2673, 'beautiful': 2674, 'content': 2675, 'skipping': 2676, 'yellow': 2677, 'dependency': 2678, 'wall': 2679, 'visits': 2680, 'achieve': 2681, 'lipitor': 2682, 'fake': 2683, 'flight': 2684, 'healing': 2685, 'snacks': 2686, 'genvoya': 2687, 'develop': 2688, 'impulsive': 2689, 'nope': 2690, 'aids': 2691, 'boost': 2692, 'pcp': 2693, 'intestinal': 2694, 'nurses': 2695, '250mg': 2696, 'jitters': 2697, 'gagging': 2698, 'spaced': 2699, 'business': 2700, 'aggression': 2701, 'closely': 2702, 'butrans': 2703, 'mcg': 2704, 'puff': 2705, 'lung': 2706, 'showing': 2707, 'deeply': 2708, 'question': 2709, 'useless': 2710, 'ideal': 2711, 'nervousness': 2712, 'orgasms': 2713, 'flavor': 2714, 'magnesium': 2715, 'sides': 2716, 'occurs': 2717, 'stabilizer': 2718, 'signs': 2719, 'bottles': 2720, 'brings': 2721, 'supplement': 2722, 'stabilize': 2723, 'hyperplasia': 2724, 'copper': 2725, 'bite': 2726, 'lady': 2727, '20th': 2728, '9pm': 2729, 'thats': 2730, 'mdd': 2731, 'lorazepam': 2732, 'shall': 2733, 'falls': 2734, 'reasonable': 2735, 'outweigh': 2736, 'saphris': 2737, 'cetaphil': 2738, 'azor': 2739, 'stenosis': 2740, 'intended': 2741, 'voice': 2742, 'lowering': 2743, 'cephalexin': 2744, 'jolessa': 2745, 'altogether': 2746, 'picked': 2747, 'whiteheads': 2748, 'purchased': 2749, 'serotonin': 2750, 'dropping': 2751, 'interested': 2752, 'contains': 2753, '5lbs': 2754, 'propofol': 2755, 'sugars': 2756, 'piece': 2757, 'gastrointestinal': 2758, 'noon': 2759, 'diuretic': 2760, 'importantly': 2761, 'naproxen': 2762, 'twenty': 2763, 'preparation': 2764, '10x': 2765, 'coworkers': 2766, 'androgel': 2767, 'feared': 2768, 'swing': 2769, 'codeine': 2770, 'athletic': 2771, 'maintaining': 2772, 'bout': 2773, 'completed': 2774, 'scratch': 2775, 'weighing': 2776, 'accepted': 2777, 'cord': 2778, 'grew': 2779, 'dependence': 2780, 'depressing': 2781, 'stressing': 2782, 'tissue': 2783, 'lighten': 2784, 'soo': 2785, '24hrs': 2786, 'inexpensive': 2787, 'stimulants': 2788, 'stains': 2789, 'bruised': 2790, 'fuzzy': 2791, 'introduced': 2792, '4mg': 2793, 'triggers': 2794, 'doesnt': 2795, 'kill': 2796, 'wet': 2797, 'grown': 2798, 'lessen': 2799, 'bph': 2800, 'base': 2801, 'penis': 2802, 'info': 2803, 'liner': 2804, 'rod': 2805, 'smile': 2806, 'beats': 2807, 'spinning': 2808, 'gallbladder': 2809, 'outbreak': 2810, 'gout': 2811, 'saline': 2812, 'grain': 2813, 'standard': 2814, 'ambulance': 2815, 'grand': 2816, 'unnecessary': 2817, 'salty': 2818, 'nexium': 2819, 'professional': 2820, 'position': 2821, 'triggered': 2822, 'irritating': 2823, 'potent': 2824, 'torture': 2825, 'purpose': 2826, 'aura': 2827, 'propranolol': 2828, 'naps': 2829, 'heavily': 2830, 'shortened': 2831, 'debating': 2832, 'cvs': 2833, 'gastric': 2834, 'operation': 2835, 'beforehand': 2836, 'drying': 2837, 'anybody': 2838, '1000mg': 2839, 'prefer': 2840, 'washing': 2841, 'jan': 2842, 'fair': 2843, 'equal': 2844, 'con': 2845, 'breaks': 2846, 'drysol': 2847, 'changer': 2848, 'grogginess': 2849, 'washed': 2850, 'peel': 2851, 'cautious': 2852, 'radiation': 2853, 'puffs': 2854, 'thighs': 2855, 'turning': 2856, 'boniva': 2857, 'flonase': 2858, 'opened': 2859, 'nightly': 2860, 'crestor': 2861, 'boom': 2862, 'shopping': 2863, 'fellow': 2864, 'everytime': 2865, 'peeing': 2866, 'antipsychotics': 2867, 'kinda': 2868, 'tsh': 2869, 'trade': 2870, 'wanna': 2871, 'grocery': 2872, 'toxic': 2873, 'ale': 2874, 'metallic': 2875, 'fevers': 2876, 'recurring': 2877, 'actions': 2878, 'penicillin': 2879, 'psychosis': 2880, 'lift': 2881, 'passes': 2882, 'keflex': 2883, 'attributed': 2884, 'valve': 2885, 'fiance': 2886, 'hypertension': 2887, 'posts': 2888, 'inner': 2889, 'ovulated': 2890, 'inactive': 2891, 'calorie': 2892, 'canada': 2893, 'bupropion': 2894, 'vancomycin': 2895, 'lialda': 2896, 'inconsistent': 2897, 'companies': 2898, 'nail': 2899, 'complications': 2900, 'ounce': 2901, 'vanished': 2902, 'induced': 2903, 'regardless': 2904, 'biaxin': 2905, 'extensive': 2906, 'metal': 2907, 'learn': 2908, 'chances': 2909, 'bonus': 2910, 'intensely': 2911, 'countless': 2912, 'remeron': 2913, 'travel': 2914, 'oxygen': 2915, 'curious': 2916, 'zyrtec': 2917, 'brintellix': 2918, 'speech': 2919, 'resolved': 2920, 'carefully': 2921, 'invokana': 2922, 'modafinil': 2923, 'fish': 2924, 'cranky': 2925, 'ingredients': 2926, 'worsen': 2927, 'exist': 2928, 'pentasa': 2929, 'lingering': 2930, 'implanted': 2931, 'dread': 2932, 'log': 2933, 'australia': 2934, 'pays': 2935, 'country': 2936, 'daytrana': 2937, 'tool': 2938, 'hydrate': 2939, 'inserting': 2940, 'tumour': 2941, 'wind': 2942, 'indigestion': 2943, 'clarity': 2944, 'stages': 2945, 'urges': 2946, 'drinks': 2947, 'belching': 2948, 'weekends': 2949, 'hence': 2950, 'urinating': 2951, 'candidate': 2952, 'esteem': 2953, 'uterine': 2954, 'lining': 2955, 'tummy': 2956, 'plastic': 2957, 'familiar': 2958, 'remain': 2959, 'increasingly': 2960, 'ceased': 2961, 'disoriented': 2962, 'hcl': 2963, 'erectile': 2964, 'powerful': 2965, 'enemy': 2966, 'couldnt': 2967, 'phone': 2968, 'luvox': 2969, 'inherited': 2970, 'offered': 2971, 'cooking': 2972, 'backed': 2973, 'meaning': 2974, 'interfere': 2975, 'socially': 2976, 'decisions': 2977, 'internal': 2978, 'reacted': 2979, 'peroxide': 2980, 'subs': 2981, 'private': 2982, 'childhood': 2983, 'tension': 2984, 'freshman': 2985, 'chapped': 2986, 'liletta': 2987, 'counting': 2988, 'drugged': 2989, 'experiment': 2990, 'progesterone': 2991, 'anemic': 2992, 'loves': 2993, 'reaching': 2994, 'copd': 2995, 'men': 2996, 'evra': 2997, 'sized': 2998, 'roll': 2999, 'rheumatologist': 3000, 'insisted': 3001, 'group': 3002, 'blamed': 3003, 'abdomen': 3004, 'discuss': 3005, 'scan': 3006, 'fortunate': 3007, 'migranes': 3008, 'dehydration': 3009, 'crisis': 3010, 'ella': 3011, 'hacking': 3012, 'toss': 3013, 'triglycerides': 3014, 'spreading': 3015, 'questions': 3016, 'beautifully': 3017, 'bloody': 3018, 'birthcontrol': 3019, 'portions': 3020, 'workouts': 3021, 'senior': 3022, 'machine': 3023, 'fortunately': 3024, 'beneficial': 3025, 'hoped': 3026, 'cuts': 3027, 'pulling': 3028, 'temporarily': 3029, 'lifting': 3030, 'testosterone': 3031, 'annual': 3032, 'useful': 3033, 'functional': 3034, 'event': 3035, 'pro': 3036, 'injected': 3037, 'compression': 3038, 'eliminate': 3039, 'hide': 3040, 'bumped': 3041, 'digestive': 3042, 'wednesday': 3043, '4lbs': 3044, 'journey': 3045, 'sept': 3046, 'itchiness': 3047, 'cracked': 3048, 'excessively': 3049, 'ongoing': 3050, 'avelox': 3051, 'sinusitis': 3052, 'catch': 3053, 'ish': 3054, '18th': 3055, 'raise': 3056, 'administered': 3057, 'department': 3058, 'sharing': 3059, 'carrying': 3060, 'blemishes': 3061, 'appear': 3062, 'frame': 3063, 'wiped': 3064, 'measure': 3065, 'reacting': 3066, 'infrequent': 3067, 'levothyroxine': 3068, 'daytime': 3069, 'warn': 3070, 'rely': 3071, 'mths': 3072, 'impacted': 3073, 'intermittent': 3074, 'flares': 3075, 'intolerable': 3076, 'elbow': 3077, 'performance': 3078, 'ages': 3079, 'intractable': 3080, 'dries': 3081, 'sink': 3082, 'accompanied': 3083, 'fears': 3084, 'violent': 3085, 'complicated': 3086, 'vistaril': 3087, 'landed': 3088, 'restful': 3089, 'cit': 3090, 'freedom': 3091, 'bothering': 3092, 'burping': 3093, 'clock': 3094, 'safer': 3095, 'soccer': 3096, 'team': 3097, 'rozerem': 3098, 'owe': 3099, 'relieves': 3100, 'proven': 3101, 'wishes': 3102, 'law': 3103, 'sclerosis': 3104, 'newly': 3105, 'contraceptives': 3106, 'imbalance': 3107, 'cessation': 3108, 'ssris': 3109, 'disorders': 3110, 'heaviest': 3111, 'forgotten': 3112, 'egg': 3113, 'euflexxa': 3114, 'thirst': 3115, 'seasonique': 3116, 'possibility': 3117, 'resort': 3118, 'pen': 3119, 'mechanism': 3120, 'snacking': 3121, 'thrush': 3122, 'screaming': 3123, 'desk': 3124, 'champix': 3125, 'noticeably': 3126, 'twitching': 3127, 'midnight': 3128, 'recovered': 3129, 'starving': 3130, 'combat': 3131, 'nursing': 3132, 'flushing': 3133, 'beside': 3134, 'mucus': 3135, 'flaky': 3136, 'directions': 3137, 'infusions': 3138, '8mg': 3139, 'gram': 3140, 'tremor': 3141, 'presentation': 3142, 'portion': 3143, 'glands': 3144, 'fractured': 3145, 'brush': 3146, 'crawling': 3147, 'longest': 3148, 'sneezing': 3149, 'touched': 3150, 'calendar': 3151, 'released': 3152, 'rexulti': 3153, 'hemorrhoids': 3154, 'fan': 3155, 'diagnose': 3156, 'escitalopram': 3157, '30am': 3158, 'chlamydia': 3159, 'indicated': 3160, 'demerol': 3161, 'page': 3162, 'outbursts': 3163, 'apnea': 3164, 'pieces': 3165, 'aspirin': 3166, 'birthday': 3167, 'topicals': 3168, 'stelara': 3169, 'pushing': 3170, 'comment': 3171, 'xyrem': 3172, '3mg': 3173, 'foundation': 3174, 'vengeance': 3175, 'crappy': 3176, 'strict': 3177, 'units': 3178, 'wound': 3179, 'mist': 3180, 'generics': 3181, 'compare': 3182, 'titrated': 3183, 'veggies': 3184, 'fridge': 3185, 'peppermint': 3186, 'prepare': 3187, 'repeated': 3188, 'prescriptions': 3189, 'shrinking': 3190, 'apple': 3191, 'adhesive': 3192, 'itches': 3193, 'overactive': 3194, 'strain': 3195, 'whack': 3196, 'lessening': 3197, 'diovan': 3198, 'avoiding': 3199, 'despair': 3200, 'functioning': 3201, 'antihistamine': 3202, 'moderately': 3203, 'meet': 3204, 'bunch': 3205, 'chicken': 3206, 'ointment': 3207, 'task': 3208, 'ruptured': 3209, 'positives': 3210, 'wild': 3211, 'fault': 3212, 'temazepam': 3213, 'disappearing': 3214, 'cosentyx': 3215, 'relaxer': 3216, 'latest': 3217, 'spasm': 3218, 'emotionless': 3219, 'particular': 3220, 'row': 3221, 'clarithromycin': 3222, 'reccomend': 3223, 'classes': 3224, 'correct': 3225, 'expense': 3226, 'outcome': 3227, 'brutal': 3228, 'euphoria': 3229, '30th': 3230, 'symbicort': 3231, 'underlying': 3232, 'regained': 3233, 'xolair': 3234, 'semester': 3235, 'slowed': 3236, 'continuous': 3237, 'tubes': 3238, 'battling': 3239, 'lupus': 3240, 'verge': 3241, 'realizing': 3242, 'encourage': 3243, 'noticable': 3244, 'explanation': 3245, 'wedding': 3246, 'plane': 3247, 'diamox': 3248, 'wipes': 3249, 'tab': 3250, 'dot': 3251, 'moisturiser': 3252, 'aug': 3253, 'sedation': 3254, 'pray': 3255, 'bowels': 3256, 'accidents': 3257, 'phenergan': 3258, 'penny': 3259, '29th': 3260, 'hitting': 3261, 'regime': 3262, 'intestine': 3263, 'benzodiazepines': 3264, 'uncontrollably': 3265, 'sronyx': 3266, 'blister': 3267, 'slim': 3268, 'loud': 3269, 'outbreaks': 3270, 'junior': 3271, 'fifteen': 3272, 'hypochondriac': 3273, 'ranging': 3274, 'warnings': 3275, 'rated': 3276, 'effected': 3277, 'points': 3278, 'rule': 3279, 'hctz': 3280, 'unfortunate': 3281, 'fibroids': 3282, 'address': 3283, 'loseasonique': 3284, 'clinical': 3285, 'benzo': 3286, 'rush': 3287, 'imuran': 3288, 'contracted': 3289, 'locked': 3290, 'scarring': 3291, 'behaviors': 3292, 'epipen': 3293, 'stood': 3294, 'coil': 3295, 'verapamil': 3296, 'mononessa': 3297, 'surface': 3298, 'cortisone': 3299, 'systemic': 3300, 'previfem': 3301, 'kava': 3302, 'shows': 3303, 'halfway': 3304, 'unusual': 3305, 'lybrel': 3306, 'savings': 3307, 'abusing': 3308, 'keppera': 3309, 'headedness': 3310, 'naturally': 3311, 'asacol': 3312, 'unhappy': 3313, 'medicating': 3314, 'specialists': 3315, 'overly': 3316, 'creative': 3317, 'tasigna': 3318, 'administer': 3319, 'lying': 3320, 'injuries': 3321, 'bath': 3322, 'trapped': 3323, 'delusions': 3324, 'referred': 3325, 'fade': 3326, 'charts': 3327, 'threatening': 3328, 'hassle': 3329, 'requested': 3330, 'citrate': 3331, 'zepatier': 3332, 'inform': 3333, 'ordered': 3334, 'interferon': 3335, 'transplant': 3336, 'blessed': 3337, 'destroy': 3338, 'magnesia': 3339, 'speed': 3340, 'fallen': 3341, 'swelled': 3342, 'bitten': 3343, 'injured': 3344, 'shakiness': 3345, 'dreaded': 3346, 'subtle': 3347, 'adrenaline': 3348, 'fainting': 3349, '50lbs': 3350, 'auditory': 3351, 'olanzapine': 3352, 'essentially': 3353, 'burnt': 3354, 'itched': 3355, 'blocks': 3356, 'fasting': 3357, 'ovaries': 3358, 'dog': 3359, 'downward': 3360, 'chosen': 3361, 'europe': 3362, 'provide': 3363, 'predictable': 3364, 'bread': 3365, 'fruits': 3366, 'tresiba': 3367, 'straighten': 3368, 'spondylitis': 3369, 'worsens': 3370, 'shape': 3371, 'guessing': 3372, 'blocker': 3373, 'atrial': 3374, 'fibrillation': 3375, 'backing': 3376, '3pm': 3377, 'brief': 3378, 'limit': 3379, 'psychiatric': 3380, 'dulera': 3381, 'resting': 3382, 'opposed': 3383, 'zomig': 3384, 'idk': 3385, 'bam': 3386, 'harming': 3387, 'linked': 3388, 'regulating': 3389, 'evoxac': 3390, 'individual': 3391, 'opening': 3392, '1am': 3393, '2000mg': 3394, 'waist': 3395, 'sedated': 3396, 'enjoyable': 3397, 'bydureon': 3398, 'fracture': 3399, 'request': 3400, 'derm': 3401, 'military': 3402, 'injecting': 3403, 'bullet': 3404, 'nuva': 3405, 'evil': 3406, '8am': 3407, 'stones': 3408, 'painkillers': 3409, 'hypothyroidism': 3410, 'fioricet': 3411, 'suffers': 3412, 'learning': 3413, 'homeopathic': 3414, 'teacher': 3415, 'colored': 3416, 'flushed': 3417, 'overcome': 3418, 'wasnt': 3419, 'kicking': 3420, 'assured': 3421, 'explaining': 3422, 'disorientation': 3423, 'tips': 3424, 'gains': 3425, 'medicated': 3426, 'subsides': 3427, '8th': 3428, 'holidays': 3429, 'herpes': 3430, 'sperm': 3431, 'pillow': 3432, 'solved': 3433, 'counteract': 3434, 'congested': 3435, 'milligrams': 3436, 'reluctantly': 3437, 'eradicated': 3438, 'cytomel': 3439, 'recommendation': 3440, 'gross': 3441, 'blew': 3442, 'organized': 3443, 'boosted': 3444, 'curb': 3445, 'crackers': 3446, 'sovaldi': 3447, 'cake': 3448, 'failing': 3449, 'downs': 3450, 'perfume': 3451, 'elavil': 3452, 'gastroparesis': 3453, 'overdose': 3454, 'docs': 3455, 'beg': 3456, 'nitrofurantoin': 3457, 'gatorade': 3458, 'pit': 3459, 'fiorinal': 3460, 'unhealthy': 3461, 'texture': 3462, 'aspect': 3463, 'sanity': 3464, 'states': 3465, 'zone': 3466, 'mylan': 3467, 'electrical': 3468, 'pepto': 3469, 'miscarriage': 3470, 'hydroxyzine': 3471, '3am': 3472, 'stiff': 3473, 'pump': 3474, 'flatulence': 3475, 'guts': 3476, 'exaggeration': 3477, 'blocking': 3478, 'concerns': 3479, 'avonex': 3480, 'relapsing': 3481, 'favor': 3482, 'believed': 3483, 'moments': 3484, 'temper': 3485, 'misery': 3486, 'sulfur': 3487, 'encountered': 3488, 'whilst': 3489, 'ruining': 3490, 'laughing': 3491, 'pulmonary': 3492, 'sedative': 3493, 'terrors': 3494, 'fights': 3495, 'strongest': 3496, 'partum': 3497, 'flash': 3498, 'girlfriend': 3499, 'risks': 3500, 'workers': 3501, 'wrists': 3502, 'inches': 3503, 'withdrawl': 3504, 'lab': 3505, 'fence': 3506, 'settled': 3507, 'drier': 3508, 'queasy': 3509, 'stresses': 3510, 'yuck': 3511, 'rinsing': 3512, 'attempted': 3513, 'chair': 3514, 'damn': 3515, 'specifically': 3516, 'apathetic': 3517, 'alcoholic': 3518, 'draw': 3519, 'cfs': 3520, 'sports': 3521, 'trimester': 3522, 'band': 3523, 'mixing': 3524, 'typing': 3525, 'specific': 3526, 'marijuana': 3527, 'final': 3528, 'reliable': 3529, 'park': 3530, 'mask': 3531, 'pot': 3532, 'stabbing': 3533, 'strictly': 3534, 'exercised': 3535, 'atralin': 3536, 'cares': 3537, 'perscribed': 3538, 'nearing': 3539, 'retin': 3540, 'medium': 3541, 'layer': 3542, 'trials': 3543, 'reassurance': 3544, 'sips': 3545, 'tolerated': 3546, 'unexpectedly': 3547, 'according': 3548, 'gladly': 3549, 'behold': 3550, 'jumped': 3551, 'determined': 3552, 'mode': 3553, 'inhalers': 3554, 'malaise': 3555, 'trash': 3556, 'wheezing': 3557, 'coordination': 3558, 'whereas': 3559, 'twelve': 3560, 'recover': 3561, 'warts': 3562, 'sporanox': 3563, 'provided': 3564, 'offer': 3565, 'danger': 3566, 'runner': 3567, 'factor': 3568, 'allowing': 3569, 'uric': 3570, 'pinched': 3571, 'incontinence': 3572, 'infected': 3573, 'create': 3574, 'relieving': 3575, 'involved': 3576, 'folks': 3577, 'deeper': 3578, 'zantac': 3579, 'prevacid': 3580, '00pm': 3581, '2hrs': 3582, 'lil': 3583, 'etodolac': 3584, 'emsam': 3585, 'upping': 3586, 'hallucinate': 3587, 'remains': 3588, 'brother': 3589, 'cuff': 3590, 'pap': 3591, 'physicians': 3592, 'heck': 3593, 'puking': 3594, 'assume': 3595, 'dosed': 3596, 'toujeo': 3597, 'error': 3598, 'clonopin': 3599, 'culture': 3600, 'bridge': 3601, 'exception': 3602, 'stimulation': 3603, 'softball': 3604, 'distracted': 3605, 'secondary': 3606, 'practice': 3607, 'shirt': 3608, 'pin': 3609, 'games': 3610, 'sciatic': 3611, 'resistance': 3612, 'gildess': 3613, 'alarm': 3614, 'occasion': 3615, 'google': 3616, 'savella': 3617, 'additional': 3618, 'reliever': 3619, 'stribild': 3620, 'gilead': 3621, 'ridden': 3622, 'bug': 3623, 'biologics': 3624, 'creme': 3625, 'soap': 3626, 'balanced': 3627, 'pictures': 3628, 'response': 3629, 'hydrochlorothiazide': 3630, 'sets': 3631, 'tizanidine': 3632, 'treadmill': 3633, 'pregnancies': 3634, 'fruit': 3635, 'vesicare': 3636, '10yrs': 3637, 'conceive': 3638, 'flushes': 3639, 'attempts': 3640, 'doxy': 3641, 'spectrum': 3642, 'diverticulitis': 3643, 'shelves': 3644, 'nsaids': 3645, 'eater': 3646, 'subsiding': 3647, 'havent': 3648, 'searched': 3649, 'thirty': 3650, 'darker': 3651, 'tape': 3652, 'blank': 3653, 'pylori': 3654, 'reminded': 3655, 'bar': 3656, 'syrup': 3657, 'anniversary': 3658, 'sklice': 3659, 'toothpaste': 3660, 'faith': 3661, 'sucked': 3662, 'drag': 3663, 'remembered': 3664, '9th': 3665, 'menstruation': 3666, 'details': 3667, '10pm': 3668, 'forteo': 3669, 'begun': 3670, 'dementia': 3671, 'commit': 3672, 'horrid': 3673, 'degrees': 3674, 'breakdown': 3675, 'zopiclone': 3676, 'cpap': 3677, 'lymph': 3678, 'canal': 3679, 'leaflet': 3680, 'wished': 3681, 'crushing': 3682, 'complained': 3683, 'sub': 3684, 'snoring': 3685, 'training': 3686, 'sending': 3687, 'cataplexy': 3688, 'preventative': 3689, '6pm': 3690, 'u2019s': 3691, 'door': 3692, 'bare': 3693, '10th': 3694, 'rubbish': 3695, 'suppression': 3696, 'resulted': 3697, 'ideas': 3698, 'liters': 3699, 'jar': 3700, 'flush': 3701, 'rehab': 3702, 'awkward': 3703, 'scripts': 3704, 'contents': 3705, 'attempting': 3706, 'xulane': 3707, 'edgy': 3708, 'blisters': 3709, 'forgetfulness': 3710, 'nauseas': 3711, 'ball': 3712, 'lovely': 3713, 'seasonale': 3714, 'allegra': 3715, 'suspension': 3716, 'access': 3717, 'clobex': 3718, 'ward': 3719, 'delayed': 3720, 'chugged': 3721, 'lemonade': 3722, 'considerably': 3723, 'commented': 3724, 'behaviour': 3725, 'carbonated': 3726, 'cervical': 3727, 'rounds': 3728, 'actemra': 3729, 'opted': 3730, 'ignored': 3731, 'consistency': 3732, 'milligram': 3733, 'silenor': 3734, 'coping': 3735, 'pace': 3736, 'u2019m': 3737, 'clopidogrel': 3738, 'thoracic': 3739, 'laugh': 3740, 'warfarin': 3741, 'repair': 3742, '12th': 3743, 'vivelle': 3744, 'akathisia': 3745, 'unique': 3746, 'drawback': 3747, 'ppd': 3748, 'revlimid': 3749, 'lessens': 3750, 'tense': 3751, 'unmotivated': 3752, 'mum': 3753, 'ahead': 3754, 'zithromax': 3755, 'orally': 3756, 'sobbing': 3757, 'hct': 3758, 'hardest': 3759, 'eyebrows': 3760, 'prolia': 3761, 'replacements': 3762, 'boys': 3763, 'drained': 3764, 'phase': 3765, 'prilosec': 3766, 'sites': 3767, 'stinging': 3768, 'cenestin': 3769, 'viorele': 3770, 'thorazine': 3771, 'bear': 3772, 'quits': 3773, 'bystolic': 3774, 'recall': 3775, 'disturbances': 3776, 'lows': 3777, 'delsym': 3778, 'steps': 3779, 'hypomania': 3780, 'struck': 3781, 'hypo': 3782, 'spring': 3783, 'diease': 3784, 'dishes': 3785, 'embrel': 3786, 'remainder': 3787, 'nobody': 3788, 'absorbed': 3789, 'stubble': 3790, 'hairs': 3791, 'homework': 3792, 'viberzi': 3793, 'shivers': 3794, 'bouncing': 3795, 'disorganized': 3796, 'frustration': 3797, 'environment': 3798, 'answers': 3799, 'utis': 3800, 'ulcers': 3801, 'ordeal': 3802, 'drinker': 3803, 'prepopik': 3804, '31st': 3805, 'oxcarbazepine': 3806, 'awoke': 3807, 'happily': 3808, 'crash': 3809, 'desired': 3810, 'supervision': 3811, 'benign': 3812, 'smiling': 3813, 'dad': 3814, '1pm': 3815, 'tachycardia': 3816, 'marked': 3817, 'downsides': 3818, 'miracles': 3819, 'clenching': 3820, 'endless': 3821, 'warrant': 3822, 'held': 3823, 'score': 3824, 'flattened': 3825, 'pleasantly': 3826, 'titrate': 3827, 'presentations': 3828, 'sounded': 3829, 'propanolol': 3830, 'jolivette': 3831, 'tendonitis': 3832, 'reviewers': 3833, 'arrived': 3834, 'wasting': 3835, 'worn': 3836, 'closed': 3837, '6mg': 3838, 'bucks': 3839, 'hundreds': 3840, 'mis': 3841, 'benzaclin': 3842, 'fitting': 3843, 'endocrinologist': 3844, 'ddd': 3845, 'scoliosis': 3846, 'presently': 3847, 'character': 3848, 'proved': 3849, 'directly': 3850, 'stream': 3851, 'tone': 3852, 'cardura': 3853, 'tamsulosin': 3854, 'equivalent': 3855, 'smoothly': 3856, 'interact': 3857, 'listened': 3858, 'breathlessness': 3859, 'weepy': 3860, 'unusually': 3861, 'purchase': 3862, 'ankylosing': 3863, 'sometime': 3864, 'qysmia': 3865, 'cardio': 3866, '145mg': 3867, 'straining': 3868, 'beta': 3869, 'maintained': 3870, 'moths': 3871, 'tartrate': 3872, 'lousy': 3873, 'stoped': 3874, 'benzonatate': 3875, 'numbed': 3876, 'pantyliner': 3877, 'continuously': 3878, '21st': 3879, 'sky': 3880, 'dripping': 3881, 'triglyceride': 3882, 'axiron': 3883, 'applications': 3884, 'traces': 3885, 'zit': 3886, 'exclusively': 3887, '2yrs': 3888, 'magnetic': 3889, 'solve': 3890, 'priceless': 3891, 'precum': 3892, 'claims': 3893, 'bextra': 3894, 'exacerbated': 3895, 'insatiable': 3896, 'abruptly': 3897, 'gradual': 3898, 'lesion': 3899, 'paper': 3900, 'anyhow': 3901, '11pm': 3902, 'watched': 3903, 'rolling': 3904, 'ziana': 3905, 'moisturizing': 3906, 'appealing': 3907, 'diflucan': 3908, 'burps': 3909, 'cuticles': 3910, 'intolerant': 3911, 'doxcy': 3912, 'woozy': 3913, 'sour': 3914, 'elidel': 3915, 'oozing': 3916, 'unsightly': 3917, 'pumps': 3918, 'turnaround': 3919, 'closer': 3920, 'vast': 3921, 'gums': 3922, 'phenomenal': 3923, 'straterra': 3924, 'bowl': 3925, 'enhanced': 3926, 'studying': 3927, 'comprehension': 3928, 'distractions': 3929, 'train': 3930, 'responsibility': 3931, 'scaring': 3932, 'cleanser': 3933, 'tamoxifen': 3934, 'grip': 3935, 'road': 3936, 'necessary': 3937, 'attest': 3938, 'swallowed': 3939, 'described': 3940, 'discussed': 3941, 'nature': 3942, 'gnawing': 3943, 'electrolytes': 3944, 'comfortably': 3945, 'duragesic': 3946, 'tore': 3947, 'euphoric': 3948, 'oxymorphone': 3949, 'aubra': 3950, 'subsequent': 3951, 'somehow': 3952, 'blisovi': 3953, 'discouraged': 3954, 'lightheadedness': 3955, 'prediabetic': 3956, 'acceptable': 3957, 'tirosint': 3958, 'labs': 3959, 'toenails': 3960, 'adolescence': 3961, 'paint': 3962, 'wakes': 3963, 'coincides': 3964, 'suppressing': 3965, 'fitness': 3966, 'alarming': 3967, 'pupils': 3968, 'screws': 3969, 'wit': 3970, 'hrt': 3971, 'backwards': 3972, 'methylphenidate': 3973, 'nearest': 3974, 'lidocaine': 3975, 'omeprazole': 3976, 'protect': 3977, '20s': 3978, 'cruise': 3979, 'user': 3980, 'divorced': 3981, 'quantity': 3982, 'mediation': 3983, 'mercy': 3984, 'hits': 3985, 'sulfa': 3986, 'interactions': 3987, 'lumps': 3988, 'linger': 3989, 'operates': 3990, 'mag': 3991, 'intermittently': 3992, 'cotton': 3993, 'calming': 3994, 'stepped': 3995, 'blah': 3996, 'herbs': 3997, 'purposes': 3998, 'role': 3999, 'celiac': 4000, '30pm': 4001, 'searing': 4002, 'pinching': 4003, 'unlikely': 4004, 'panicked': 4005, 'entering': 4006, 'cleaner': 4007, 'inhibitors': 4008, 'aciphex': 4009, 'pvc': 4010, 'slows': 4011, 'gleevec': 4012, 'apathy': 4013, 'versed': 4014, 'indeed': 4015, 'staff': 4016, 'army': 4017, 'tilted': 4018, 'holding': 4019, 'noises': 4020, '6yrs': 4021, 'inhibitor': 4022, 'stumbled': 4023, 'efficiency': 4024, 'fluctuations': 4025, 'necon': 4026, 'creating': 4027, 'updated': 4028, 'improves': 4029, 'trainer': 4030, 'view': 4031, 'realise': 4032, 'simponi': 4033, '1800mg': 4034, 'dramamine': 4035, 'blockage': 4036, 'silent': 4037, 'traumatized': 4038, 'chemistry': 4039, 'poster': 4040, 'costly': 4041, 'copaxone': 4042, 'atarax': 4043, 'clicked': 4044, 'necessarily': 4045, 'disturbance': 4046, 'special': 4047, 'procedures': 4048, 'dare': 4049, 'eyed': 4050, 'monitored': 4051, 'corner': 4052, 'pleasurable': 4053, 'temporal': 4054, 'blackout': 4055, 'bedridden': 4056, 'handful': 4057, 'rumbling': 4058, '2am': 4059, '5am': 4060, 'walks': 4061, '28th': 4062, 'ween': 4063, 'stating': 4064, 'gagged': 4065, 'catheter': 4066, 'nocturnal': 4067, 'batch': 4068, 'sarcoidosis': 4069, 'seeking': 4070, 'endoscopy': 4071, 'surely': 4072, 'shoot': 4073, 'essential': 4074, 'rocephin': 4075, 'achieved': 4076, 'climbing': 4077, 'steadily': 4078, 'pan': 4079, 'brushed': 4080, 'livable': 4081, 'tends': 4082, 'stingy': 4083, '1mo': 4084, 'thinner': 4085, 'bet': 4086, 'begging': 4087, 'suppress': 4088, '1200mg': 4089, 'strokes': 4090, 'ovulate': 4091, 'shrink': 4092, 'orencia': 4093, 'proscribed': 4094, 'shivering': 4095, 'probiotics': 4096, 'cefdinir': 4097, 'dislike': 4098, 'orthopedic': 4099, 'usage': 4100, 'favorite': 4101, 'acetaminophen': 4102, 'skyrocketed': 4103, 'items': 4104, 'tools': 4105, '12mg': 4106, 'sparingly': 4107, 'rub': 4108, 'pale': 4109, 'adjusts': 4110, 'gels': 4111, 'advertised': 4112, 'expectations': 4113, 'repeatedly': 4114, 'faintness': 4115, 'fyi': 4116, 'greasy': 4117, 'knowledge': 4118, 'production': 4119, 'location': 4120, 'risking': 4121, 'soaked': 4122, 'bedroom': 4123, 'legal': 4124, 'sooo': 4125, 'energized': 4126, 'spike': 4127, 'prob': 4128, 'oatmeal': 4129, 'guard': 4130, 'grinding': 4131, 'vegetables': 4132, 'nonstop': 4133, 'chores': 4134, '6am': 4135, 'gag': 4136, 'rinse': 4137, 'firm': 4138, 'heals': 4139, 'walmart': 4140, 'parks': 4141, 'bomb': 4142, 'provider': 4143, 'interval': 4144, 'valacyclovir': 4145, 'providing': 4146, 'substitute': 4147, 'joined': 4148, 'officially': 4149, 'books': 4150, 'terror': 4151, 'wisdom': 4152, 'choke': 4153, 'sucking': 4154, 'nipple': 4155, 'cozaar': 4156, 'fuller': 4157, 'weened': 4158, 'transition': 4159, 'panicking': 4160, 'sons': 4161, 'gallstones': 4162, 'vegan': 4163, 'deciding': 4164, 'refer': 4165, 'building': 4166, 'paralyzed': 4167, 'american': 4168, 'limiting': 4169, 'utterly': 4170, '450mg': 4171, 'fishing': 4172, 'shocks': 4173, 'background': 4174, 'layers': 4175, 'vomitting': 4176, 'underarms': 4177, 'hospitals': 4178, 'nonsense': 4179, 'suspected': 4180, 'prevents': 4181, 'additionally': 4182, 'fungal': 4183, 'suggestion': 4184, 'chill': 4185, 'pancreatitis': 4186, 'welcomed': 4187, 'cursed': 4188, 'charge': 4189, 'negatively': 4190, 'gritty': 4191, 'tear': 4192, 'adjustment': 4193, 'avastin': 4194, 'toprol': 4195, 'approve': 4196, 'hanging': 4197, 'sam': 4198, 'joy': 4199, 'twitches': 4200, 'abscess': 4201, 'played': 4202, 'naseous': 4203, 'titrating': 4204, 'brighter': 4205, 'clozapine': 4206, 'ivy': 4207, 'damaged': 4208, 'labor': 4209, 'aspergers': 4210, 'geez': 4211, 'interaction': 4212, 'bananas': 4213, 'panties': 4214, 'forearm': 4215, 'flex': 4216, 'carried': 4217, 'purse': 4218, 'rotator': 4219, 'potentially': 4220, 'doryx': 4221, 'assistant': 4222, 'alprazolam': 4223, 'shown': 4224, 'benzoyl': 4225, 'banana': 4226, 'drastic': 4227, 'prevention': 4228, 'outlook': 4229, 'disabled': 4230, 'recurrence': 4231, 'affordable': 4232, 'fearful': 4233, 'coughed': 4234, 'psychological': 4235, 'amiodarone': 4236, 'rays': 4237, 'considerable': 4238, 'ovace': 4239, 'seconal': 4240, 'sodium': 4241, 'stretching': 4242, 'progressive': 4243, 'tightening': 4244, 'buying': 4245, 'armpits': 4246, 'fluctuation': 4247, 'cystitis': 4248, 'chase': 4249, 'bum': 4250, 'malarone': 4251, 'root': 4252, 'underwear': 4253, 'cent': 4254, 'laughed': 4255, 'agoraphobia': 4256, 'tolerant': 4257, 'hung': 4258, 'continual': 4259, 'operated': 4260, 'gassy': 4261, 'decline': 4262, 'consumed': 4263, 'excess': 4264, 'instruction': 4265, 'scaling': 4266, 'wood': 4267, 'goodluck': 4268, 'wrist': 4269, 'goitre': 4270, 'posting': 4271, 'spiriva': 4272, 'biologic': 4273, 'respiratory': 4274, 'refuses': 4275, 'reoccurring': 4276, 'halo': 4277, 'associate': 4278, 'style': 4279, 'meditation': 4280, 'hyped': 4281, 'drain': 4282, 'kapidex': 4283, '2pm': 4284, 'husbands': 4285, '2weeks': 4286, 'sle': 4287, 'intolerance': 4288, 'offers': 4289, '30min': 4290, 'panicky': 4291, 'nuisance': 4292, 'cups': 4293, 'disability': 4294, 'religiously': 4295, 'blind': 4296, 'eyesight': 4297, 'exam': 4298, 'yea': 4299, 'creativity': 4300, 'snapped': 4301, 'miraculous': 4302, 'book': 4303, 'center': 4304, 'jobs': 4305, 'decade': 4306, '6lbs': 4307, 'gastroenterologist': 4308, 'clue': 4309, 'smelled': 4310, 'dress': 4311, 'traveling': 4312, 'massage': 4313, 'awaken': 4314, 'ass': 4315, 'stared': 4316, 'adjusting': 4317, 'zelapar': 4318, 'returns': 4319, 'insides': 4320, 'menopausal': 4321, 'traffic': 4322, 'moviprep': 4323, 'sudafed': 4324, 'patterns': 4325, '30mins': 4326, 'pleasure': 4327, 'rules': 4328, 'nodules': 4329, 'bismol': 4330, 'remover': 4331, 'artery': 4332, 'counselor': 4333, 'jogging': 4334, 'dirt': 4335, 'thoroughly': 4336, 'tempered': 4337, 'yelling': 4338, '11th': 4339, 'dissolve': 4340, 'levelled': 4341, 'hypos': 4342, 'nexoplan': 4343, 'oracea': 4344, 'agoraphobic': 4345, 'adderal': 4346, 'scab': 4347, 'wasted': 4348, 'example': 4349, 'prime': 4350, 'video': 4351, 'poisoning': 4352, 'dozens': 4353, '17th': 4354, 'cal': 4355, 'computer': 4356, '4am': 4357, 'protonix': 4358, 'sessions': 4359, 'hiking': 4360, 'wine': 4361, 'impression': 4362, 'nefazodone': 4363, 'dreadful': 4364, 'anemia': 4365, 'stumble': 4366, 'fillers': 4367, 'detoxing': 4368, 'tremendous': 4369, 'mitral': 4370, 'height': 4371, 'obese': 4372, 'visible': 4373, 'fly': 4374, 'woken': 4375, 'approaching': 4376, 'lifetime': 4377, 'zzzquil': 4378, 'wired': 4379, 'dystonia': 4380, 'lashes': 4381, 'invokamet': 4382, 'believer': 4383, 'loopy': 4384, 'terrifying': 4385, 'star': 4386, 'met': 4387, 'fifth': 4388, 'caring': 4389, 'letting': 4390, 'crystal': 4391, '600mg': 4392, 'poop': 4393, 'bend': 4394, 'ectopic': 4395, 'spikes': 4396, 'actos': 4397, 'manifested': 4398, 'unstable': 4399, 'bloodstream': 4400, 'golf': 4401, 'duration': 4402, 'oddly': 4403, 'block': 4404, 'kadian': 4405, 'emergencies': 4406, 'reset': 4407, 'win': 4408, 'ensure': 4409, 'season': 4410, 'replace': 4411, 'conversations': 4412, '00p': 4413, 'thrown': 4414, 'thumb': 4415, 'welcome': 4416, 'retrograde': 4417, 'survived': 4418, 'regiment': 4419, 'heights': 4420, 'orders': 4421, 'covering': 4422, 'carbatrol': 4423, 'frankly': 4424, 'friendly': 4425, 'sipped': 4426, 'toward': 4427, 'broth': 4428, 'ulcerative': 4429, 'meth': 4430, 'lysteda': 4431, 'benzodiazepine': 4432, 'embarrassment': 4433, 'scratching': 4434, 'managing': 4435, 'addict': 4436, 'worker': 4437, 'herbal': 4438, 'vyvance': 4439, 'complexion': 4440, 'fluctuate': 4441, 'liners': 4442, 'complains': 4443, 'encouraged': 4444, 'jaws': 4445, 'tmj': 4446, 'bubbly': 4447, 'benzos': 4448, 'tracks': 4449, 'ointments': 4450, 'welts': 4451, 'begged': 4452, 'odor': 4453, 'primarily': 4454, 'requires': 4455, 'rib': 4456, 'savior': 4457, 'stent': 4458, 'tia': 4459, 'slower': 4460, 'dependant': 4461, 'lightened': 4462, 'act': 4463, 'breo': 4464, 'investigation': 4465, 'primatine': 4466, 'cfc': 4467, 'projects': 4468, 'parkinsonism': 4469, 'interfered': 4470, 'haha': 4471, 'quarter': 4472, 'weights': 4473, 'surprising': 4474, 'forte': 4475, 'bloat': 4476, 'taltz': 4477, 'involuntarily': 4478, 'canadian': 4479, 'scream': 4480, 'instance': 4481, 'bloodwork': 4482, 'settles': 4483, 'campral': 4484, 'clusters': 4485, 'sipping': 4486, 'edema': 4487, 'falmina': 4488, 'xarelto': 4489, 'consta': 4490, 'motor': 4491, 'arthrotec': 4492, 'misoprostol': 4493, 'melasma': 4494, 'proair': 4495, 'salycic': 4496, 'havoc': 4497, 'silodocin': 4498, 'ejaculation': 4499, 'setting': 4500, 'undiagnosed': 4501, 'convince': 4502, 'ounces': 4503, 'conclusion': 4504, 'horse': 4505, 'ingest': 4506, 'robaxin': 4507, 'websites': 4508, 'victim': 4509, 'camper': 4510, 'continually': 4511, 'cycling': 4512, 'exacerbate': 4513, 'jerking': 4514, 'fitted': 4515, 'ldl': 4516, 'hdl': 4517, 'dopamine': 4518, 'benicar': 4519, 'zolpidem': 4520, 'nutshell': 4521, 'lap': 4522, 'plateau': 4523, 'gallon': 4524, 'miscarriages': 4525, 'pharmacies': 4526, 'former': 4527, 'polyps': 4528, 'milder': 4529, 'astepro': 4530, 'trileptal': 4531, 'sober': 4532, 'daughters': 4533, 'slip': 4534, 'leaks': 4535, 'sentences': 4536, 'node': 4537, 'workshop': 4538, 'heaven': 4539, 'tazorac': 4540, 'evened': 4541, 'colors': 4542, 'require': 4543, 'beginnings': 4544, 'fluctuated': 4545, 'pseudo': 4546, 'kills': 4547, 'yoga': 4548, 'mtx': 4549, 'sustiva': 4550, 'saxenta': 4551, 'meclizine': 4552, 'dozing': 4553, 'norplant': 4554, 'agreeable': 4555, 'excelling': 4556, 'account': 4557, 'path': 4558, 'preassure': 4559, 'cummed': 4560, 'rut': 4561, 'driven': 4562, 'winded': 4563, '48hrs': 4564, 'insignificant': 4565, '7pm': 4566, 'markedly': 4567, 'millions': 4568, 'kaletra': 4569, 'dapsone': 4570, 'rising': 4571, 'disturbed': 4572, 'ordinary': 4573, 'centre': 4574, 'referring': 4575, 'worldwide': 4576, 'opportunity': 4577, 'rich': 4578, 'delighted': 4579, 'pluck': 4580, 'sunlight': 4581, 'transformed': 4582, 'bag': 4583, 'labored': 4584, 'blacking': 4585, 'evacuate': 4586, 'fluconazole': 4587, 'booked': 4588, 'establish': 4589, 'baseline': 4590, 'til': 4591, 'triple': 4592, 'threat': 4593, 'cirrhosis': 4594, 'counters': 4595, 'confusing': 4596, 'sulphur': 4597, 'seemingly': 4598, 'factors': 4599, 'surrounding': 4600, 'aripiprazole': 4601, 'value': 4602, 'crashed': 4603, 'tricky': 4604, 'stitches': 4605, 'femcon': 4606, 'wits': 4607, 'washes': 4608, 'hcg': 4609, 'stimulate': 4610, 'alls': 4611, 'oic': 4612, '24mcg': 4613, 'ruins': 4614, 'caucasian': 4615, 'trigeminal': 4616, 'neuralgia': 4617, 'decompression': 4618, 'mobile': 4619, 'carbamazepine': 4620, 'electric': 4621, 'my': 4622, 'appointments': 4623, 'welbutrin': 4624, 'backache': 4625, '16oz': 4626, 'equally': 4627, 'exceed': 4628, 'scarey': 4629, 'society': 4630, 'melts': 4631, 'upstairs': 4632, 'tune': 4633, 'testimonials': 4634, 'zanax': 4635, 'thorough': 4636, 'day\\r': 4637, 'simplicity': 4638, 'spironolactone': 4639, 'compliments': 4640, 'questioned': 4641, 'cogentin': 4642, '160mg': 4643, 'hotter': 4644, 'unbelievably': 4645, 'embeda': 4646, 'naltrexone': 4647, 'imo': 4648, 'differences': 4649, 'roaring': 4650, 'stability': 4651, 'tackle': 4652, 'tremble': 4653, 'extent': 4654, 'booster': 4655, 'terrific': 4656, 'knocking': 4657, 'whew': 4658, 'lid': 4659, '150lbs': 4660, 'anytime': 4661, 'pdoc': 4662, 'bummer': 4663, 'spa': 4664, 'nicoderm': 4665, 'priced': 4666, 'vivitrol': 4667, 'bupe': 4668, 'insight': 4669, 'restasis': 4670, 'ophthalmologist': 4671, 'vile': 4672, 'producing': 4673, 'systane': 4674, 'firstly': 4675, 'flawless': 4676, 'blotches': 4677, 'thereafter': 4678, '3months': 4679, 'proceeded': 4680, 'contin': 4681, 'spiraling': 4682, 'flared': 4683, 'alway': 4684, 'emptying': 4685, 'inconvenient': 4686, 'menstruate': 4687, 'bio': 4688, 'freeze': 4689, 'rice': 4690, 'humalog': 4691, 'breathless': 4692, 'responsible': 4693, 'accurately': 4694, '3years': 4695, '290mg': 4696, 'promising': 4697, 'neutrophils': 4698, 'snris': 4699, 'named': 4700, 'reminding': 4701, 'customer': 4702, 'metamucil': 4703, 'suppository': 4704, 'opiods': 4705, 'wicked': 4706, 'reconsidering': 4707, 'journal': 4708, 'staggering': 4709, 'pancreas': 4710, 'gemfibrozil': 4711, 'excercise': 4712, 'messy': 4713, 'pages': 4714, 'shorts': 4715, 'dieting': 4716, 'image': 4717, 'bdd': 4718, '8lbs': 4719, '50g': 4720, 'nuts': 4721, 'spurts': 4722, 'precaution': 4723, 'pilocarpine': 4724, 'the': 4725, 'recalled': 4726, 'slipping': 4727, 'transitioned': 4728, 'doseage': 4729, 'unreasonable': 4730, 'averaging': 4731, 'genital': 4732, 'hsv': 4733, 'vag': 4734, 'mile': 4735, 'sneeze': 4736, 'grapes': 4737, 'sandwich': 4738, 'paste': 4739, 'nystatin': 4740, 'recognize': 4741, 'graduated': 4742, 'hostile': 4743, 'extremes': 4744, 'picking': 4745, 'blemish': 4746, 'hiding': 4747, 'greenstone': 4748, 'pharmacys': 4749, 'manufacturers': 4750, 'bontril': 4751, '35mg': 4752, 'lactose': 4753, 'levothroid': 4754, 'transitioning': 4755, 'tip': 4756, 'salad': 4757, 'quickest': 4758, '7lbs': 4759, 'sandpaper': 4760, 'starch': 4761, 'newer': 4762, 'stake': 4763, 'andro': 4764, 'awaiting': 4765, 'limbo': 4766, 'wins': 4767, 'promptly': 4768, 'disk': 4769, 'pilates': 4770, 'disrupted': 4771, 'positively': 4772, 'includes': 4773, 'sandoz': 4774, 'wheel': 4775, 'chloraseptic': 4776, 'awareness': 4777, 'chalked': 4778, 'labile': 4779, 'kit': 4780, 'explode': 4781, 'cum': 4782, 'phobia': 4783, 'doors': 4784, 'raises': 4785, 'poking': 4786, 'regain': 4787, 'erythromycin': 4788, 'fibroid': 4789, 'additives': 4790, 'towel': 4791, 'speedy': 4792, 'heaviness': 4793, 'bra': 4794, 'astronomical': 4795, 'curbs': 4796, 'sensibly': 4797, 'minds': 4798, 'curvy': 4799, 'bulimia': 4800, 'stuffy': 4801, 'prescribes': 4802, 'restfully': 4803, 'hasnt': 4804, 'commission': 4805, 'fogginess': 4806, 'achiness': 4807, 'indian': 4808, 'cautiously': 4809, 'recreationally': 4810, 'kamagra': 4811, 'numbs': 4812, 'hideous': 4813, 'hidden': 4814, 'minimally': 4815, 'recommending': 4816, 'facet': 4817, 'disks': 4818, 'resisted': 4819, 'forces': 4820, '45mg': 4821, 'overeat': 4822, 'pal': 4823, 'declined': 4824, 'nipples': 4825, 'frightened': 4826, 'suggestions': 4827, 'saltine': 4828, 'bcp': 4829, 'dibilitating': 4830, 'highway': 4831, 'midwife': 4832, 'orthotricyclen': 4833, 'rap': 4834, 'anesthesia': 4835, 'dwelling': 4836, 'eager': 4837, 'bike': 4838, 'rapaflo': 4839, 'indomethacin': 4840, 'colchicine': 4841, 'soboxone': 4842, '15th': 4843, 'steriods': 4844, 'sporadically': 4845, 'spreads': 4846, 'england': 4847, 'insured': 4848, 'nhs': 4849, 'reminder': 4850, 'back\\r': 4851, 'anorexia': 4852, 'slice': 4853, 'bald': 4854, 'regrowth': 4855, 'aged': 4856, 'squeezed': 4857, 'doomed': 4858, 'grasp': 4859, 'buildup': 4860, 'marketing': 4861, 'videos': 4862, '26lbs': 4863, 'mal': 4864, 'transdermal': 4865, 'contacting': 4866, 'commercial': 4867, 'autistic': 4868, 'tendencies': 4869, 'offset': 4870, 'zapping': 4871, 'screw': 4872, 'puke': 4873, 'rise': 4874, 'complex': 4875, 'goals': 4876, 'scored': 4877, 'crippled': 4878, 'evidence': 4879, 'esophageal': 4880, 'barrett': 4881, 'dexilant': 4882, 'cocktail': 4883, 'binges': 4884, 'sheer': 4885, 'weary': 4886, 'studied': 4887, 'contractions': 4888, 'connected': 4889, 'canker': 4890, 'cml': 4891, 'sprycel': 4892, 'accustomed': 4893, 'undetected': 4894, 'clumsiness': 4895, 'lodge': 4896, 'anesthesiologist': 4897, 'unsteady': 4898, 'spicy': 4899, 'enforcement': 4900, 'monodox': 4901, 'remitting': 4902, 'clamped': 4903, '12hrs': 4904, '36mg': 4905, 'crashing': 4906, 'ace': 4907, 'flair': 4908, 'spiral': 4909, 'prison': 4910, 'relying': 4911, 'nortrel': 4912, 'ovral': 4913, 'feedback': 4914, 'engage': 4915, 'eggs': 4916, 'enabled': 4917, 'twenties': 4918, 'quasense': 4919, 'distinct': 4920, '4kg': 4921, 'smart': 4922, 'enter': 4923, 'astounding': 4924, 'supartz': 4925, 'obamacare': 4926, 'daydream': 4927, 'tall': 4928, 'solutions': 4929, 'athlete': 4930, 'dvt': 4931, 'thinners': 4932, 'orlistat': 4933, 'monster': 4934, 'ankle': 4935, 'disguise': 4936, 'separate': 4937, 'medicate': 4938, 'clawing': 4939, 'comparable': 4940, 'convulsion': 4941, 'autoimmune': 4942, 'hashimotos': 4943, '135lbs': 4944, 'probs': 4945, 'signed': 4946, 'sleeve': 4947, '160lbs': 4948, 'chugging': 4949, 'lease': 4950, 'contacts': 4951, 'balm': 4952, 'faithfully': 4953, 'flaking': 4954, 'inch': 4955, 'broomstick': 4956, 'mirror': 4957, 'briefly': 4958, 'police': 4959, 'suit': 4960, 'swim': 4961, 'brachycardia': 4962, 'tagamet': 4963, 'alongside': 4964, 'esbl': 4965, 'estrin': 4966, 'vaseline': 4967, 'sheets': 4968, 'quarters': 4969, 'sheet': 4970, 'lortabs': 4971, 'judge': 4972, 'queasiness': 4973, 'contain': 4974, 'organs': 4975, 'sebaceous': 4976, 'enlarged': 4977, 'blot': 4978, 'deterioration': 4979, 'stimulating': 4980, 'india': 4981, 'stride': 4982, 'farm': 4983, 'hyclate': 4984, 'ireland': 4985, 'liking': 4986, 'climaxing': 4987, '24hours': 4988, 'enlarge': 4989, '750mg': 4990, 'levetiracetam': 4991, 'anesthetic': 4992, 'meantime': 4993, 'positions': 4994, 'psyche': 4995, 'dwell': 4996, 'recognized': 4997, 'genuinely': 4998, 'blow': 4999, 'skinned': 5000, 'plaques': 5001, 'sufferers': 5002, 'hungrier': 5003, 'palms': 5004, 'uncertainty': 5005, 'pharmacists': 5006, 'passages': 5007, 'alavert': 5008, 'proctofoam': 5009, 'alleviates': 5010, 'honesty': 5011, 'therapeutic': 5012, 'bicycle': 5013, 'exceptionally': 5014, 'countered': 5015, 'midrin': 5016, 'jumping': 5017, 'hoops': 5018, 'pointing': 5019, 'zydis': 5020, 'munchies': 5021, 'moisturise': 5022, 'devil': 5023, 'beating': 5024, 'projectile': 5025, '7am': 5026, 'diarrhoea': 5027, 'toxins': 5028, 'remotely': 5029, 'iffy': 5030, 'promised': 5031, 'alvesco': 5032, 'curtains': 5033, 'sonata': 5034, 'airport': 5035, 'oncologist': 5036, 'sternum': 5037, 'counts': 5038, 'smoothie': 5039, 'backaches': 5040, 'virgin': 5041, 'rubber': 5042, 'wires': 5043, '27th': 5044, 'sped': 5045, 'mixture': 5046, 'balls': 5047, 'prunes': 5048, 'enema': 5049, 'impaction': 5050, 'throb': 5051, 'toddler': 5052, 'protective': 5053, 'metho': 5054, 'coconut': 5055, 'insecure': 5056, 'basic': 5057, 'rsd': 5058, 'unnecessarily': 5059, 'concentrated': 5060, 'losses': 5061, 'bulging': 5062, 'shiny': 5063, 'loryna': 5064, 'anxiousness': 5065, 'field': 5066, 'brushing': 5067, 'urticaria': 5068, 'compares': 5069, 'mexico': 5070, '175lbs': 5071, '120lbs': 5072, 'sailing': 5073, 'neupro': 5074, 'unreal': 5075, 'somewhere': 5076, 'shook': 5077, 'forums': 5078, 'arthritic': 5079, 'postings': 5080, 'stadol': 5081, 'popping': 5082, 'kapvay': 5083, 'pens': 5084, 'multivitamins': 5085, 'sensitivities': 5086, 'values': 5087, 'organize': 5088, 'nosebleeds': 5089, 'dna': 5090, 'amazes': 5091, 'duloxetine': 5092, 'stabilizers': 5093, 'slipped': 5094, 'horrified': 5095, 'hoarseness': 5096, 'tasinga': 5097, 'graphic': 5098, 'glow': 5099, 'abs': 5100, 'mankind': 5101, 'bus': 5102, 'monitoring': 5103, 'witch': 5104, 'unwell': 5105, 'untreated': 5106, 'grumpy': 5107, 'dryer': 5108, 'opt': 5109, 'nyc': 5110, 'impulse': 5111, 'cease': 5112, 'dilantin': 5113, 'enthusiasm': 5114, 'extending': 5115, 'midol': 5116, 'judgement': 5117, 'primatene': 5118, 'formula': 5119, 'closing': 5120, 'powder': 5121, 'dresses': 5122, 'flaring': 5123, 'organic': 5124, 'cooked': 5125, 'ppl': 5126, 'softer': 5127, 'creeping': 5128, 'bands': 5129, 'crept': 5130, 'trusted': 5131, 'instantaneously': 5132, 'toenail': 5133, 'overseas': 5134, 'achey': 5135, 'sip': 5136, 'mint': 5137, 'recovering': 5138, 'crucial': 5139, 'allopurinol': 5140, 'uloric': 5141, 'biting': 5142, 'clindamycin': 5143, 'imodium': 5144, 'counsel': 5145, 'zovia': 5146, 'kefir': 5147, 'existing': 5148, 'that\\r\\r': 5149, 'minus': 5150, 'jumps': 5151, 'leakage': 5152, 'manufacturing': 5153, 'unsettling': 5154, 'residue': 5155, 'impulsivity': 5156, 'wondered': 5157, 'armpit': 5158, 'cuz': 5159, 'motorcycle': 5160, 'perform': 5161, 'cabinet': 5162, 'mountains': 5163, 'checking': 5164, 'librium': 5165, 'cns': 5166, 'excitement': 5167, 'absorbs': 5168, 'levofloxacin': 5169, 'upsetting': 5170, 'bending': 5171, 'climax': 5172, '00am': 5173, 'bless': 5174, 'literal': 5175, 'ruconest': 5176, 'situational': 5177, 'determine': 5178, 'inconvenience': 5179, '28lbs': 5180, 'escalated': 5181, 'combining': 5182, '225mg': 5183, 'formulation': 5184, 'mango': 5185, 'fried': 5186, 'risperidal': 5187, 'irregularities': 5188, 'overdrive': 5189, 'foreign': 5190, 'hubby': 5191, 'hydrocortisone': 5192, 'pfizer': 5193, 'sea': 5194, 'functions': 5195, 'hyperactive': 5196, 'apartment': 5197, 'uptake': 5198, 'appt': 5199, 'fixes': 5200, 'highs': 5201, 'accidental': 5202, 'data': 5203, 'apples': 5204, 'dab': 5205, 'recurred': 5206, 'regarding': 5207, 'indescribable': 5208, 'ripped': 5209, 'hooked': 5210, 'snorting': 5211, 'perks': 5212, 'hydromorphone': 5213, 'relied': 5214, 'accidently': 5215, 'routinely': 5216, 'incorporate': 5217, 'player': 5218, 'snapping': 5219, 'handed': 5220, 'substantial': 5221, 'ironically': 5222, 'restarted': 5223, 'conversion': 5224, 'solely': 5225, 'vaginosis': 5226, 'lozartan': 5227, 'switches': 5228, 'attributable': 5229, 'shampoo': 5230, 'dandruff': 5231, 'awakening': 5232, 'icu': 5233, 'truvada': 5234, 'ampyra': 5235, 'diary': 5236, 'tomatos': 5237, 'sumatriptan': 5238, 'colcrys': 5239, 'deodorant': 5240, 'freezing': 5241, 'shave': 5242, 'interstitial': 5243, 'swallows': 5244, 'pulp': 5245, 'toll': 5246, 'experimented': 5247, 'decades': 5248, 'truth': 5249, 'balloon': 5250, 'choked': 5251, 'poorly': 5252, 'fibro': 5253, 'teaspoon': 5254, 'honey': 5255, 'servings': 5256, 'tumeric': 5257, 'inhibit': 5258, 'velivet': 5259, 'rejected': 5260, 'loading': 5261, 'benedryl': 5262, 'sporting': 5263, 'ribs': 5264, 'weening': 5265, 'fractures': 5266, 'plain': 5267, 'alleviated': 5268, 'boosts': 5269, 'circumstances': 5270, 'rotated': 5271, 'removing': 5272, 'lean': 5273, 'farther': 5274, 'pink': 5275, 'knock': 5276, 'levitra': 5277, 'acted': 5278, '5yrs': 5279, '4yrs': 5280, 'board': 5281, 'peripheral': 5282, 'expressed': 5283, 'loosing': 5284, 'language': 5285, 'sacroiliac': 5286, 'cells': 5287, 'panel': 5288, 'kindergarten': 5289, 'discussion': 5290, 'excuses': 5291, 'fixing': 5292, 'thirties': 5293, 'electrically': 5294, 'intestines': 5295, 'space': 5296, 'airways': 5297, 'devastating': 5298, 'identical': 5299, 'drenched': 5300, 'genuine': 5301, 'adults': 5302, 'assuming': 5303, '70mg': 5304, 'estrace': 5305, 'tearing': 5306, 'drainage': 5307, 'tad': 5308, 'reversed': 5309, 'sulfamethoxazole': 5310, 'circle': 5311, 'appx': 5312, 'section': 5313, '200lbs': 5314, 'butterflies': 5315, 'inspection': 5316, 'paragrad': 5317, 'member': 5318, 'hemorrhage': 5319, 'azithromycin': 5320, 'cereal': 5321, 'cheers': 5322, 'agonizing': 5323, 'petrified': 5324, 'urethral': 5325, 'guidelines': 5326, 'anal': 5327, 'immodium': 5328, 'conceived': 5329, 'ivf': 5330, 'dissorder': 5331, 'multivitamin': 5332, 'broad': 5333, 'persist': 5334, 'gastro': 5335, 'dressed': 5336, 'swapped': 5337, '2months': 5338, 'gluten': 5339, 'narcissist': 5340, 'preventive': 5341, 'eyedrops': 5342, 'preservative': 5343, 'netflix': 5344, 'depleted': 5345, 'receptors': 5346, 'withdrawls': 5347, 'matters': 5348, 'hormonally': 5349, 'earth': 5350, 'rhofade': 5351, 'xrays': 5352, 'baseball': 5353, 'stomachache': 5354, 'hypnosis': 5355, 'bliss': 5356, '2mgs': 5357, 'concentrating': 5358, 'winner': 5359, 'retained': 5360, 'exposed': 5361, 'sue': 5362, 'gap': 5363, 'regulation': 5364, 'tricks': 5365, 'land': 5366, 'estarylla': 5367, 'stimulator': 5368, 'prevpac': 5369, 'anaphylactic': 5370, 'medrol': 5371, 'cared': 5372, 'prazosin': 5373, 'terrorized': 5374, 'intensified': 5375, 'alil': 5376, 'industry': 5377, 'diclofenac': 5378, 'claravis': 5379, 'bat': 5380, 'stents': 5381, 'reversal': 5382, 'lice': 5383, 'pediatrician': 5384, 'nits': 5385, 'articulate': 5386, 'cerebri': 5387, 'clinpro': 5388, 'invest': 5389, 'located': 5390, 'investigated': 5391, 'lopid': 5392, 'leads': 5393, 'pea': 5394, 'sting': 5395, 'kicker': 5396, 'cryselle': 5397, 'sedating': 5398, 'anticipated': 5399, 'rope': 5400, 'largely': 5401, 'pediatric': 5402, 'erased': 5403, '12am': 5404, 'hose': 5405, 'femur': 5406, 'ibuproprin': 5407, '210lbs': 5408, 'addressed': 5409, 'chaparral': 5410, 'shrank': 5411, 'arrhythmia': 5412, 'bugged': 5413, 'dental': 5414, 'guessed': 5415, 'curled': 5416, 'fetal': 5417, 'bills': 5418, 'hopelessness': 5419, 'gall': 5420, 'buds': 5421, 'activating': 5422, 'unconscious': 5423, '8hrs': 5424, 'arrives': 5425, 'crusting': 5426, 'diahrrea': 5427, 'ensures': 5428, 'addback': 5429, 'entirety': 5430, 'undo': 5431, 'deficiency': 5432, '22lbs': 5433, 'marplan': 5434, 'jealous': 5435, 'dismissed': 5436, 'yard': 5437, 'hobble': 5438, 'stock': 5439, 'zubsolv': 5440, 'pluses': 5441, 'crutch': 5442, 'recreational': 5443, 'cannabis': 5444, '100s': 5445, 'fearing': 5446, 'naggy': 5447, '54mg': 5448, 'stint': 5449, 'fron': 5450, '5months': 5451, 'cumulative': 5452, 'bell': 5453, 'rolaids': 5454, 'crohns': 5455, 'limitrol': 5456, 'potency': 5457, 'metabolize': 5458, 'sauce': 5459, 'tums': 5460, 'liquids': 5461, 'farts': 5462, 'potential': 5463, 'pregabalin': 5464, 'transcranial': 5465, 'diets': 5466, 'sold': 5467, 'autonomic': 5468, 'percocets': 5469, 'film': 5470, 'outstanding': 5471, 'remarkable': 5472, 'limbrel': 5473, 'hypochondria': 5474, 'fond': 5475, 'controller': 5476, 'shy': 5477, '40s': 5478, 'tossing': 5479, 'permanently': 5480, 'mouthwash': 5481, 'scene': 5482, 'courses': 5483, 'proof': 5484, 'hazy': 5485, 'serial': 5486, 'cook': 5487, 'spirits': 5488, 'ditch': 5489, 'efficacy': 5490, 'beer': 5491, 'invega': 5492, 'counseling': 5493, 'graduate': 5494, 'conflicted': 5495, 'grind': 5496, 'glowing': 5497, 'doloxtine': 5498, 'stubborn': 5499, 'serzone': 5500, 'gulp': 5501, 'consuming': 5502, 'asthmatic': 5503, 'heads': 5504, 'bye': 5505, 'visited': 5506, 'indefinitely': 5507, 'youngest': 5508, 'appitite': 5509, 'ceftin': 5510, 'relaxing': 5511, 'bypass': 5512, 'hints': 5513, 'earned': 5514, 'rewarded': 5515, 'awarded': 5516, 'jerked': 5517, 'prolapse': 5518, 'throws': 5519, 'pigmentation': 5520, 'ejaculating': 5521, 'lilly': 5522, 'twins': 5523, 'wipe': 5524, 'sicker': 5525, 'granted': 5526, 'threads': 5527, 'pain\\r': 5528, 'effexorxr': 5529, 'withing': 5530, 'survivor': 5531, '16mg': 5532, 'undergoing': 5533, 'clammy': 5534, 'dumb': 5535, 'consequences': 5536, 'profound': 5537, 'coupons': 5538, 'lag': 5539, 'depended': 5540, 'champ': 5541, 'kombiglyze': 5542, 'antidepressents': 5543, 'crushed': 5544, 'operate': 5545, '16th': 5546, 'laundry': 5547, 'piled': 5548, 'peak': 5549, 'paraguard': 5550, 'furious': 5551, 'floating': 5552, 'relate': 5553, 'roaccutane': 5554, 'refilling': 5555, 'pops': 5556, 'clumps': 5557, 'prisoner': 5558, 'sophomore': 5559, 'crowds': 5560, 'mysterious': 5561, 'pts': 5562, 'crack': 5563, 'ecstatic': 5564, 'depersonalization': 5565, 'exert': 5566, 'lunatic': 5567, '26th': 5568, 'colds': 5569, 'vehicle': 5570, 'dreaming': 5571, '45lbs': 5572, 'comorbid': 5573, 'weight\\r\\r': 5574, 'hospitalization': 5575, 'coat': 5576, 'retaining': 5577, 'reports': 5578, 'outdoor': 5579, 'handfuls': 5580, 'digestion': 5581, 'fentora': 5582, 'dissolves': 5583, 'jitteriness': 5584, 'soup': 5585, 'objective': 5586, 'cheat': 5587, 'proud': 5588, 'obesity': 5589, 'reoccurrence': 5590, 'dissipate': 5591, 'aggravated': 5592, 'ect': 5593, 'bridges': 5594, 'janumet': 5595, 'norcs': 5596, 'efudex': 5597, 'olux': 5598, 'lozenges': 5599, 'hypnotherapy': 5600, 'timing': 5601, 'career': 5602, 'fib': 5603, 'gambling': 5604, 'phoenix': 5605, 'drixoral': 5606, 'grandmother': 5607, 'nineteen': 5608, 'troubles': 5609, 'wart': 5610, 'ejaculatory': 5611, 'enalapril': 5612, 'ray': 5613, 'throbbing': 5614, 'responsibly': 5615, '200mgs': 5616, 'asks': 5617, 'cubes': 5618, 'assure': 5619, 'meg': 5620, 'soak': 5621, 'responded': 5622, 'avoided': 5623, 'ekg': 5624, 'norm': 5625, 'promethazine': 5626, 'mommy': 5627, 'leveled': 5628, 'cataract': 5629, 'urethra': 5630, 'understanding': 5631, 'valdoxan': 5632, 'colleagues': 5633, 'remedy': 5634, 'salads': 5635, 'trichotillomania': 5636, 'kariva': 5637, 'unfair': 5638, 'spoken': 5639, 'underweight': 5640, 'among': 5641, 'peaceful': 5642, 'exhausting': 5643, 'produced': 5644, 'overdoses': 5645, 'cylen': 5646, 'deteriorating': 5647, 'beverages': 5648, 'interfering': 5649, 'deprived': 5650, 'thousands': 5651, 'favourable': 5652, 'psorasis': 5653, 'unmanageable': 5654, 'twitch': 5655, 'raising': 5656, 'foul': 5657, 'hyperactivity': 5658, 'lapses': 5659, 'nortriptyline': 5660, 'vimpat': 5661, 'xeljanz': 5662, '4200mg': 5663, 'paroxysmal': 5664, 'puffy': 5665, 'easiest': 5666, 'edges': 5667, 'upto': 5668, 'shit': 5669, 'retina': 5670, '13th': 5671, 'rotating': 5672, 'vicoprofen': 5673, 'vantin': 5674, 'blade': 5675, 'stabilized': 5676, 'lactating': 5677, 'damaging': 5678, 'toast': 5679, 'core': 5680, 'casual': 5681, 'arguing': 5682, 'lubrication': 5683, 'trintellix': 5684, 'lesson': 5685, 'embril': 5686, 'exczema': 5687, 'adventure': 5688, 'pair': 5689, 'shops': 5690, 'heightened': 5691, 'lucid': 5692, 'nicotine': 5693, 'u2019ve': 5694, 'trembling': 5695, 'communicate': 5696, 'produce': 5697, 'cane': 5698, 'fist': 5699, 'curve': 5700, 'torso': 5701, 'tattooed': 5702, 'object': 5703, 'ignore': 5704, 'wed': 5705, 'climbed': 5706, 'psychiatrists': 5707, 'adulthood': 5708, 'definitive': 5709, 'vigilant': 5710, 'mar': 5711, 'inr': 5712, 'pharmaceutical': 5713, 'albuterol': 5714, 'federal': 5715, 'hfa': 5716, 'greatest': 5717, 'calmness': 5718, 'horny': 5719, 'unwanted': 5720, 'material': 5721, 'intimacy': 5722, 'ciprofloxacin': 5723, 'cept': 5724, 'shared': 5725, 'movantic': 5726, '45mins': 5727, 'delt': 5728, 'paired': 5729, 'baclofen': 5730, 'novartis': 5731, 'discontinuing': 5732, 'pits': 5733, 'consulted': 5734, 'foresta': 5735, 'premenstrual': 5736, 'oldest': 5737, 'mebaral': 5738, 'makers': 5739, 'hesitate': 5740, 'gloomy': 5741, 'survive': 5742, 'seriousness': 5743, 'nauseating': 5744, 'manipulate': 5745, 'viread': 5746, 'cerave': 5747, 'reconsider': 5748, 'chiropractor': 5749, 'inpatient': 5750, 'hallucinating': 5751, 'binged': 5752, 'outpatient': 5753, 'cons\\r\\r': 5754, 'very': 5755, 'isotretinoin': 5756, 'emphysema': 5757, 'nebulizer': 5758, 'accompanying': 5759, 'outburst': 5760, 'lyza': 5761, 'sublingual': 5762, 'overthinking': 5763, 'tattoos': 5764, 'hemorrhoid': 5765, 'ground': 5766, 'varied': 5767, 'deppresion': 5768, 'headachy': 5769, 'amethia': 5770, 'versus': 5771, 'interests': 5772, 'regard': 5773, 'opens': 5774, 'velcade': 5775, 'credit': 5776, 'jelly': 5777, 'offering': 5778, 'ached': 5779, 'aunt': 5780, 'frantic': 5781, 'takin': 5782, 'latter': 5783, 'shifts': 5784, 'neurogenic': 5785, 'wobbly': 5786, 'mail': 5787, 'carrier': 5788, 'portia': 5789, 'occurrences': 5790, 'petite': 5791, 'published': 5792, 'thins': 5793, 'loop': 5794, 'bruises': 5795, 'bleeds': 5796, 'bicep': 5797, 'performed': 5798, 'greater': 5799, 'deficit': 5800, 'dymista': 5801, 'amlodipine': 5802, 'tysabri': 5803, 'flicking': 5804, 'wonky': 5805, 'humor': 5806, 'cleanse': 5807, 'crawled': 5808, 'peels': 5809, 'adapalene': 5810, 'flexible': 5811, 'wreaked': 5812, 'jokes': 5813, 'facing': 5814, 'discontinuation': 5815, 'tropical': 5816, 'lights': 5817, 'compounded': 5818, 'skips': 5819, 'enhancer': 5820, 'endured': 5821, 'qualities': 5822, 'painfully': 5823, 'produces': 5824, 'mass': 5825, 'bee': 5826, 'walgreen': 5827, 'cyclin': 5828, 'concerning': 5829, 'trees': 5830, '120mgs': 5831, 'lidoderm': 5832, 'claimed': 5833, 'overlooked': 5834, 'direction': 5835, 'charlie': 5836, 'pissed': 5837, 'tinnitus': 5838, 'psychologically': 5839, 'identified': 5840, '15yrs': 5841, 'donut': 5842, 'allergan': 5843, 'safest': 5844, 'movies': 5845, 'analgesic': 5846, 'puss': 5847, 'tonsils': 5848, 'endorse': 5849, 'effortless': 5850, 'claritin': 5851, 'fertility': 5852, 'funky': 5853, 'melanomas': 5854, 'antihistamines': 5855, 'income': 5856, 'sildenafil': 5857, 'suggesting': 5858, 'housework': 5859, 'gardening': 5860, 'pmsing': 5861, 'pollen': 5862, 'aweful': 5863, '50mgs': 5864, 'dizzyness': 5865, 'cefuroxime': 5866, 'starved': 5867, 'elderly': 5868, 'desperation': 5869, 'micrograms': 5870, 'theres': 5871, 'refilled': 5872, 'crusty': 5873, 'corners': 5874, 'fluctuates': 5875, 'dang': 5876, 'suppressive': 5877, 'obsessively': 5878, 'latex': 5879, 'trousers': 5880, 'vascepa': 5881, 'lines': 5882, 'hbp': 5883, 'inadequate': 5884, 'hydrochloride': 5885, 'jerk': 5886, '7months': 5887, 'hairloss': 5888, 'lactulose': 5889, 'palps': 5890, 'zetia': 5891, 'bunches': 5892, 'coupled': 5893, 'redder': 5894, 'ordering': 5895, 'librax': 5896, 'unknown': 5897, 'bentyl': 5898, 'fistula': 5899, 'consequently': 5900, 'progression': 5901, 'divorce': 5902, 'renewed': 5903, 'contemplating': 5904, 'eliminating': 5905, 'vagotinic': 5906, 'cardiovascular': 5907, 'acts': 5908, 'atenolol': 5909, 'invalid': 5910, 'bowling': 5911, 'sell': 5912, '90mg': 5913, 'impalanon': 5914, 'frightening': 5915, 'fed': 5916, 'quiver': 5917, 'benztropine': 5918, 'parkinson': 5919, 'facials': 5920, 'hoodies': 5921, 'glipizide': 5922, 'depletes': 5923, 'challenging': 5924, 'enjuvia': 5925, 'evidently': 5926, 'maniac': 5927, 'prevefim': 5928, 'classified': 5929, 'grief': 5930, 'pool': 5931, 'australian': 5932, 'depth': 5933, 'toned': 5934, 'dense': 5935, 'chemotherapy': 5936, 'thicker': 5937, 'wherever': 5938, 'zarah': 5939, 'polycystic': 5940, 'ejaculate': 5941, 'shell': 5942, 'skincare': 5943, 'pangs': 5944, 'girlfriends': 5945, 'wireless': 5946, 'ghz': 5947, 'label': 5948, 'managable': 5949, 'orthopedist': 5950, 'contribute': 5951, 'church': 5952, 'mirvaso': 5953, 'intend': 5954, 'arteries': 5955, 'irritates': 5956, 'miserably': 5957, 'ovary': 5958, 'chaotic': 5959, 'outrageous': 5960, 'taught': 5961, 'namenda': 5962, 'teenage': 5963, 'ingesting': 5964, 'echo': 5965, 'boxing': 5966, 'browsing': 5967, 'pradaxa': 5968, 'greens': 5969, 'scans': 5970, 'azurette': 5971, 'knowledgeable': 5972, 'holiday': 5973, 'conscience': 5974, 'hypercare': 5975, 'entyvio': 5976, 'rem': 5977, 'coherent': 5978, 'bored': 5979, 'incorrectly': 5980, 'duty': 5981, 'measured': 5982, 'involve': 5983, 'serving': 5984, 'wrap': 5985, 'gaba': 5986, 'unresponsive': 5987, 'paba': 5988, 'emotion': 5989, 'serequel': 5990, 'manages': 5991, 'hyperhydrosis': 5992, '10days': 5993, 'atopic': 5994, 'saves': 5995, 'skills': 5996, 'taytulla': 5997, 'gotta': 5998, 'soften': 5999, 'pipes': 6000, 'relafen': 6001, 'spoon': 6002, 'jean': 6003, 'rebif': 6004, 'migrane': 6005, 'pooped': 6006, 'uveitis': 6007, 'mos': 6008, 'stutter': 6009, 'softened': 6010, '100x': 6011, 'dig': 6012, 'status': 6013, 'apo': 6014, 'amaryl': 6015, 'accomplish': 6016, 'match': 6017, 'blowing': 6018, 'indication': 6019, 'antivirals': 6020, 'pubic': 6021, 'tie': 6022, 'appropriately': 6023, 'strengthen': 6024, 'halt': 6025, '300lbs': 6026, 'lawsuits': 6027, 'cigs': 6028, 'soothing': 6029, 'radio': 6030, 'scaledown': 6031, 'nodding': 6032, 'regards': 6033, 'tics': 6034, 'boric': 6035, 'lightning': 6036, 'sutent': 6037, 'persisted': 6038, 'earache': 6039, 'sacral': 6040, 'tarceva': 6041, 'outweighs': 6042, 'urso': 6043, 'u2018normal': 6044, 'u2019': 6045, 'runs': 6046, 'brick': 6047, 'amoxicillan': 6048, 'app': 6049, 'lingered': 6050, 'hyperhidrosis': 6051, 'lymphoma': 6052, 'memetisone': 6053, 'scent': 6054, 'nauseousness': 6055, 'slurred': 6056, 'empagliflozin': 6057, 'enzymes': 6058, 'glypizide': 6059, 'truelicity': 6060, 'irresponsible': 6061, 'tmi': 6062, 'viibyrd': 6063, 'bowls': 6064, 'thc': 6065, 'vectical': 6066, 'shedding': 6067, 'dextroamphetamine': 6068, 'cognition': 6069, 'brows': 6070, 'raltegravir': 6071, 'adherence': 6072, 'zohydro': 6073, 'atypical': 6074, 'hifu': 6075, 'fibrous': 6076, 'grams': 6077, 'disconnected': 6078, 'sibo': 6079, 'primidone': 6080, 'nora': 6081, 'messing': 6082, 'contained': 6083, 'gestodene': 6084, 'tempting': 6085, 'alas': 6086, 'paycheck': 6087, 'resorting': 6088, 'scheming': 6089, 'stealing': 6090, 'fund': 6091, 'pales': 6092, 'experianced': 6093, 'rockhard': 6094, '3xs': 6095, 'clondine': 6096, 'golden': 6097, '2lbs': 6098, 'deplin': 6099, 'disposition': 6100, 'sinking': 6101, 'resection': 6102, 'narrowing': 6103, 'anastomosis': 6104, 'arrhythmias': 6105, 'litres': 6106, 'fitbit': 6107, '2x200mg': 6108, 'ciorofloxacin': 6109, 'bipolar2': 6110, 'perennially': 6111, 'pnuemonia': 6112, 'lyme': 6113, 'combivir': 6114, 'pluz': 6115, 'nasel': 6116, 'nexplanont': 6117, 'western': 6118, 'chemist': 6119, 'advises': 6120, 'duties': 6121, 'discrimination': 6122, 'hoo': 6123, 'vaniqa': 6124, 'kiss': 6125, 'goodbye': 6126, 'plucked': 6127, 'fortnight': 6128, 'downy': 6129, 'handles': 6130, 'shortage': 6131, 'venting': 6132, 'composite': 6133, 'inflammatories': 6134, 'anticipate': 6135, 'magically': 6136, 'suppressant': 6137, 'hopeing': 6138, 'eot': 6139, 'indicate': 6140, 'beggining': 6141, 'jaundice': 6142, 'dispense': 6143, 'clumsy': 6144, 'blanks': 6145, 'betmiga': 6146, 'glimepiride': 6147, 'ckd': 6148, 'flovemt': 6149, 'fluxuate': 6150, 'surroundings': 6151, 'enlongated': 6152, 'frames': 6153, 'freqently': 6154, 'vitals': 6155, 'accepting': 6156, 'virtue': 6157, 'curbside': 6158, 'embrace': 6159, 'pyridium': 6160, 'anesthetics': 6161, 'diminish': 6162, 'reside': 6163, 'inly': 6164, 'retinol': 6165, 'progestin': 6166, 'androgenic': 6167, 'fallopian': 6168, 'pooping': 6169, 'tuck': 6170, 'nexplon': 6171, 'lashing': 6172, 'rids': 6173, '70s': 6174, 'riboviron': 6175, 'mission': 6176, 'bromazepam': 6177, 'carbamazepin': 6178, 'microvascular': 6179, 'lancinating': 6180, 'remissed': 6181, 'jolting': 6182, 'resume\\r\\r': 6183, 'pristique': 6184, 'sufficient': 6185, 'endroconologist': 6186, 'appreciate': 6187, 'equalize': 6188, 'yoked': 6189, 'busper': 6190, 'loranzapam': 6191, 'anchor': 6192, 'holy': 6193, 'smokes': 6194, 'resigning': 6195, 'slowing': 6196, 'vulvar': 6197, 'gooey': 6198, 'visibly': 6199, 'animal': 6200, 'officer': 6201, 'humane': 6202, 'irony': 6203, 'grater': 6204, 'cave': 6205, 'stsrted': 6206, 'titinus': 6207, 'csn': 6208, 'nrevous': 6209, 'bertie': 6210, 'equates': 6211, 'rearranged': 6212, 'calender': 6213, 'strung': 6214, 'artist': 6215, 'models': 6216, 'hairstylist': 6217, 'waned': 6218, 'assumption': 6219, 'similarity': 6220, 'ciproflaxcin': 6221, 'anhedonia': 6222, 'haldol': 6223, 'stupidest': 6224, 'flexiril': 6225, 'reprinol': 6226, 'twitched': 6227, 'intravenous': 6228, 'weekafter': 6229, 'littlw': 6230, 'subjective': 6231, 'delivered': 6232, 'musicians': 6233, 'speakers': 6234, 'embarrass': 6235, 'nervy': 6236, 'seldomly': 6237, 'hyperemotional': 6238, 'schizophrenic': 6239, 'benzyol': 6240, 'milia': 6241, 'jawline': 6242, 'kiddie': 6243, 'residential': 6244, 'eligible': 6245, 'sword': 6246, 'rig': 6247, 'veryanxiousnow': 6248, 'accutune': 6249, 'hype': 6250, 'gathering': 6251, 'praise': 6252, 'bolus': 6253, 'transient': 6254, 'overdosage': 6255, 'arsenal': 6256, 'monocycline': 6257, 'finacea': 6258, 'sprouting': 6259, 'rendering': 6260, 'on\\r\\r': 6261, 'dropped\\r\\r': 6262, 'to': 6263, 'with\\r\\r': 6264, 'did\\r\\r': 6265, 'lyrica\\r\\r': 6266, 'was': 6267, 'genius': 6268, 'retrospect': 6269, 'everyting': 6270, 'expirence': 6271, 'buisness': 6272, 'disapointed': 6273, 'donate': 6274, 'defficient': 6275, '7lb': 6276, 'pinpoint': 6277, 'reinserted': 6278, 'pradif': 6279, 'mastectomy': 6280, 'uctd': 6281, 'convulsive': 6282, 'pasta': 6283, 'juicing': 6284, 'veges': 6285, 'chained': 6286, 'faulty': 6287, 'depressrion': 6288, 'puzzel': 6289, 'deficiencies': 6290, 'prompted': 6291, 'metastasis': 6292, 'dip': 6293, 'chime': 6294, 'spirulina': 6295, 'ibrance': 6296, 'victorza': 6297, 'disagree': 6298, 'astonishing': 6299, 'jack': 6300, 'diarhoea': 6301, 'clarythromycin': 6302, 'clarythormycin': 6303, 'cardioverted': 6304, 'succinate': 6305, 'opoids': 6306, 'settings': 6307, 'unprotectes': 6308, 'pregrant': 6309, 'immidietly': 6310, 'avg': 6311, 'hormone\\r': 6312, 'tl': 6313, 'periods\\r': 6314, 'when': 6315, 'intended\\r': 6316, 'not': 6317, 'sinuitis': 6318, 'definately': 6319, 'sence': 6320, 'exersice': 6321, 'rocketing': 6322, 'comforter': 6323, 'estimated': 6324, 'conquer': 6325, '000mg': 6326, 'afriad': 6327, 'nieces': 6328, 'notes': 6329, 'delight': 6330, 'starchy': 6331, 'moms': 6332, 'breastfed': 6333, '6yr': 6334, 'wetting': 6335, 'noses': 6336, 'scheduling': 6337, 'fow': 6338, 'lowed': 6339, 'cognitives': 6340, 'ressonation': 6341, 'transplanted': 6342, 'impossibility': 6343, 'pumped': 6344, 'temazapam': 6345, 'vioxx': 6346, 'sum': 6347, 'opthomologist': 6348, 'physcian': 6349, 'perceive': 6350, 'called\\r': 6351, 'gripe': 6352, 'coincidentally': 6353, 'aborting': 6354, 'irretiable': 6355, 'abscessed': 6356, 'ejaculated': 6357, '15pm': 6358, '240lbs': 6359, 'gifted': 6360, 'metforming': 6361, 'onglyza': 6362, 'wheezy': 6363, 'devotedly': 6364, 'pursued': 6365, 'midday': 6366, 'laydown': 6367, 'gummies': 6368, 'strangely': 6369, 'national': 6370, 'lunchbox': 6371, 'intramuscular': 6372, 'politics': 6373, 'guide': 6374, 'diaper': 6375, 'destin': 6376, 'neosporin': 6377, 'careless': 6378, 'dominance': 6379, 'havet': 6380, 'acidy': 6381, 'associating': 6382, 'official': 6383, 'dermatillomania': 6384, 'zydus': 6385, '105mg': 6386, '250lbs': 6387, 'beef': 6388, 'jerky': 6389, 'slacked': 6390, 'definalty': 6391, 'bont': 6392, 'aptiom': 6393, '184lbs': 6394, 'ham': 6395, 'designed': 6396, 't2s': 6397, 'imho': 6398, 'yucky': 6399, 'delicious': 6400, '24th': 6401, '74yrs': 6402, 'stands': 6403, 'precise': 6404, 'metronidazoles': 6405, 'insipidus': 6406, 'haywire': 6407, 'hay': 6408, 'butalbital': 6409, 'idiopathic': 6410, 'hypersomnia': 6411, 'ample': 6412, 'dragging': 6413, 'houseshoes': 6414, 'cheapest': 6415, 'bulged': 6416, 'ibupropen': 6417, 'photographer': 6418, 'retail': 6419, 'cola': 6420, 'manicness': 6421, 'minimized': 6422, 'remind': 6423, 'pretend': 6424, 'zinic': 6425, 'niva': 6426, 'movie': 6427, 'anastozole': 6428, 'steering': 6429, 'billion': 6430, 'squirted': 6431, 'coma': 6432, 'phenol': 6433, '100mcg': 6434, 'loritab': 6435, 'tormented': 6436, 'schooled': 6437, 'impulses': 6438, 'evenings': 6439, 'accomplishment': 6440, 'nardil': 6441, '2x40mg': 6442, '3x30mg': 6443, 'anxieyy': 6444, 'ceases': 6445, 'amaze': 6446, 'swears': 6447, 'pedunctulated': 6448, 'guildess': 6449, 'intensity': 6450, 'personailty': 6451, 'acidophilus': 6452, 'rechecked': 6453, 'reassure': 6454, 'bab': 6455, 'measuring': 6456, 'precautionary': 6457, 'augmfnyin': 6458, 'subways': 6459, 'fifty': 6460, 'exterminate': 6461, 'occurrence': 6462, 'negativity': 6463, 'modest': 6464, 'slights': 6465, 'parasomnia': 6466, 'silver': 6467, 'sleepwalking': 6468, 'thickening': 6469, 'ridicule': 6470, 'verification': 6471, 'labrum': 6472, 'recede': 6473, 'demoralizing': 6474, 'awakened': 6475, 'hallelujah': 6476, 'watchers': 6477, '16lbs': 6478, 'binders': 6479, 'lactate': 6480, 'menus': 6481, 'approached': 6482, '5ft': 6483, '97lbs': 6484, '4ish': 6485, 'curable': 6486, 'unfortonately': 6487, 'dialated': 6488, 'medicational': 6489, 'unpredictability': 6490, 'internist': 6491, 'ribavarin': 6492, 'ribavirin': 6493, 'victrelis': 6494, 'secure': 6495, 'istarted': 6496, 'traumas': 6497, 'tipped': 6498, 'fuction': 6499, 'treament': 6500, 'generaly': 6501, 'reglar': 6502, 'brachytherapy': 6503, 'excision': 6504, 'skilled': 6505, 'postpone': 6506, 'aderrall': 6507, 'accountant': 6508, 'stunk': 6509, 'emend': 6510, 'melancholic': 6511, 'acyclovir': 6512, 'peazy': 6513, 'indoors': 6514, 'vengenance': 6515, 'indo': 6516, 'anapurirnol': 6517, 'bonine': 6518, 'paramedic': 6519, 'paramedics': 6520, '14th': 6521, 'overdose\\r': 6522, 'so': 6523, 'contently': 6524, 'created': 6525, 'humidity': 6526, 'spina': 6527, 'bifida': 6528, 'hydrocephalus': 6529, 'structure': 6530, 'resident': 6531, 'tingles': 6532, 'chokingness': 6533, 'dodge': 6534, 'anxiery': 6535, 'vistiral': 6536, 'tram': 6537, 'critical': 6538, 'robitussin': 6539, 'propose': 6540, 'normal\\r': 6541, 'bottomless': 6542, 'heavens': 6543, 'employer': 6544, '118lbs': 6545, '126lbs': 6546, '10mcg': 6547, '5mcg': 6548, 'dermatologists': 6549, 'dirty': 6550, 'thanksgiving': 6551, 'scariest': 6552, 'colazal': 6553, 'literature': 6554, 'notion': 6555, 'jive': 6556, 'contave': 6557, 'jolly': 6558, 'ranchers': 6559, 'wwii': 6560, 'assaulted': 6561, 'dalmane': 6562, 'risky': 6563, 'psychomotor': 6564, 'lopressor': 6565, 'unreasonably': 6566, 'dramas': 6567, 'neurotransmitter': 6568, 'unbalances': 6569, 'deserves': 6570, 'iid': 6571, 'highschool': 6572, 'stepson': 6573, 'involving': 6574, 'reaping': 6575, '750ml': 6576, 'cycen': 6577, 'dunno': 6578, 'technically': 6579, 'implantation': 6580, 'sixteen': 6581, '1mile': 6582, 'competitive': 6583, 'tournament': 6584, 'nutrients': 6585, 'whitehead': 6586, 'proton': 6587, 'percieved': 6588, 'erosion': 6589, 'validation': 6590, 'emotion\\r': 6591, 'uncontrolable': 6592, 'shaking\\r': 6593, 'biplar1': 6594, '900mg': 6595, 'atavin': 6596, 'collagenous': 6597, 'microscopic': 6598, 'leaky': 6599, 'wheat': 6600, 'premature': 6601, 'ventricular': 6602, 'metoprorlol': 6603, 'kitten': 6604, 'meditations': 6605, 'parsley': 6606, 'inducing': 6607, 'violated': 6608, 'vunerable': 6609, 'havjng': 6610, 'gunfire': 6611, 'backpacking': 6612, 'papulopustular': 6613, 'odds': 6614, 'manually': 6615, 'dilated': 6616, 'bawling': 6617, 'laminectomy': 6618, 'rods': 6619, 'fuse': 6620, '81mg': 6621, 'frighten': 6622, 'exaggerating': 6623, 'violence': 6624, 'imdur': 6625, 'squeezing': 6626, 'bewildered': 6627, 'extrovert': 6628, 'intraverts': 6629, 'isolation': 6630, 'mexican': 6631, 'interrupt': 6632, 'bydueron': 6633, 'explosive': 6634, 'rotten': 6635, 'notified': 6636, 'voicing': 6637, '49lbs': 6638, 'glycemic': 6639, 'index': 6640, 'slew': 6641, 'commenting': 6642, 'lovin': 6643, 'prominent': 6644, 'typhoid': 6645, 'simultaneously': 6646, '40kg': 6647, '116kg': 6648, 'zumba': 6649, 'kgs': 6650, '7kg': 6651, 'recognise': 6652, 'fertilization': 6653, '23rd': 6654, 'prostatitis': 6655, 'enterococcus': 6656, 'protaste': 6657, 'gland': 6658, 'policy': 6659, 'wherein': 6660, 'climb': 6661, 'ruled': 6662, 'germany': 6663, 'interactive': 6664, 'literately': 6665, 'wallop': 6666, '15min': 6667, 'distances': 6668, '45min': 6669, 'pizza': 6670, 'slices': 6671, 'default': 6672, 'implementation': 6673, 'sumo': 6674, 'wrestler': 6675, 'reflect': 6676, 'commercials': 6677, 'aka': 6678, 'cavity': 6679, 'embolism': 6680, 'flinch': 6681, 'blindly': 6682, 'teaspoons': 6683, 'castor': 6684, 'automatic': 6685, 'pressed': 6686, 'button': 6687, 'withdrew': 6688, 'unexplainable': 6689, '50mcg': 6690, 'painkiller': 6691, 'despondency': 6692, 'satiated': 6693, 'colonoscopies': 6694, 'excruciatingly': 6695, 'teary': 6696, 'inched': 6697, 'responding': 6698, 'brentellix': 6699, 'citolopram': 6700, 'sugested': 6701, 'theanine': 6702, 'tenses': 6703, 'lobe': 6704, 'mesial': 6705, 'rose': 6706, 'endocrine': 6707, 'buckling': 6708, 'limb': 6709, 'femhrt': 6710, 'levothyroxin': 6711, 'clung': 6712, 'approval': 6713, 'bisacodyl': 6714, 'usp': 6715, 'marketed': 6716, 'stripped': 6717, 'supressant': 6718, 'disgusts': 6719, 'journals': 6720, 'cancelled': 6721, '209lbs': 6722, '22nd': 6723, 'skinner': 6724, 'jolts': 6725, 'complimenting': 6726, '75kg': 6727, 'my\\r\\r': 6728, 'definite': 6729, 'rats': 6730, 'resent': 6731, 'performing': 6732, 'biopsies': 6733, 'catherised': 6734, 'duodart': 6735, 'drugstore': 6736, 'ozing': 6737, 'hyperpigmented': 6738, 'unnatural': 6739, 'dressing': 6740, 'ahhh': 6741, 'remembers': 6742, 'station': 6743, 'beers': 6744, 'frig': 6745, 'proceded': 6746, 'parked': 6747, 'naked': 6748, 'irrigation': 6749, 'uribel': 6750, 'swam': 6751, 'behalf': 6752, 'septic': 6753, 'bacterias': 6754, 'coli': 6755, 'questioning': 6756, 'questionable': 6757, 'orals': 6758, 'hid': 6759, 'invokanna': 6760, 'rights': 6761, 'asperin': 6762, 'ibuprofin': 6763, 'synergy': 6764, 'hairline': 6765, 'impatient': 6766, 'rotting': 6767, 'sees': 6768, 'discouraging': 6769, 'grouch': 6770, 'manufactured': 6771, 'plant': 6772, 'amannoyed': 6773, 'doubting': 6774, 'boyfriends': 6775, 'depession': 6776, 'intensive': 6777, 'consult': 6778, '10microgram': 6779, 'dramatize': 6780, 'reliably': 6781, 'compatability': 6782, 'inapplicable': 6783, 'adequate': 6784, 'dependancies': 6785, 'schpeel': 6786, 'morning\\r': 6787, 'vigorous': 6788, 'arms\\r': 6789, 'sedentary': 6790, 'symtoms': 6791, 'vessel': 6792, 'childbirth': 6793, 'paced': 6794, 'bitchiness': 6795, 'rocks': 6796, 'simmilar': 6797, 'flattening': 6798, 'marathon': 6799, 'estadiol': 6800, 'vyvase60mg': 6801, 'invuniv': 6802, 'tanning': 6803, 'doct': 6804, 'halobetasol': 6805, 'propionate': 6806, 'intermitant': 6807, 'presenting': 6808, 'reknowned': 6809, 'virals': 6810, 'unprecedented': 6811, 'hhv': 6812, 'ebv': 6813, 'purchasing': 6814, 'reordering': 6815, 'searches': 6816, 'delaying': 6817, 'consent': 6818, 'gurgling': 6819, 'occured': 6820, 'rectum': 6821, 'acetometophine': 6822, 'rasuvo': 6823, 'barefoot': 6824, 'humeria': 6825, 'cousin': 6826, 'cousins': 6827, '130lbs': 6828, 'procrastinating': 6829, 'licence': 6830, 'whoops': 6831, 'adenoids': 6832, 'iliotibial': 6833, 'obtain': 6834, 'bipolars': 6835, 'lunchtime': 6836, 'emerged': 6837, '180mg': 6838, 'willpower': 6839, 'freezer': 6840, 'solves': 6841, 'epidrin': 6842, 'isometheptene': 6843, 'dichloralphenazone': 6844, 'isometh': 6845, 'dich': 6846, 'apap': 6847, 'variation': 6848, 'dispensed': 6849, 'remotes': 6850, 'phones': 6851, 'lined': 6852, 'scrambling': 6853, 'kudos': 6854, 'ouch': 6855, 'scotland': 6856, 'sebacious': 6857, 'activate': 6858, 'romania': 6859, 'threshold': 6860, 'yelp': 6861, 'infamous': 6862, 'suitable': 6863, 'braced': 6864, 'mangable': 6865, '40yr': 6866, 'trifecta': 6867, 'issued': 6868, 'sharobel': 6869, 'crankiness': 6870, 'antacid': 6871, 'packaging': 6872, 'vagifem': 6873, 'delivery': 6874, 'relocated': 6875, 'diskus': 6876, 'valerian': 6877, 'stressors': 6878, 'nilstat': 6879, 'heaps': 6880, 'rexetin': 6881, 'paroxetine': 6882, 'fluonxol': 6883, 'tendency': 6884, 'passion': 6885, 'chat': 6886, 'diph': 6887, 'indica': 6888, 'sativa': 6889, 'toker': 6890, 'agrees': 6891, 'edibles': 6892, 'neupogen': 6893, 'wbc': 6894, 'mosquito': 6895, 'neulasta': 6896, 'imigran': 6897, 'tounge': 6898, 'placebos': 6899, 'honeydew': 6900, 'melon': 6901, 'generation': 6902, 'gun': 6903, 'processe': 6904, 'crampier': 6905, 'fav': 6906, 'bcm': 6907, 'reverse': 6908, 'twilight': 6909, 'blended': 6910, 'fig': 6911, 'newtons': 6912, 'bran': 6913, 'muffin': 6914, 'tbsp': 6915, 'healthtrap': 6916, 'chipped': 6917, 'molar': 6918, 'bird': 6919, 'pecking': 6920, 'agreement': 6921, 'mindful': 6922, 'sos': 6923, 'puva': 6924, 'resigned': 6925, 'anxiolytic': 6926, 'collapsing': 6927, 'curving': 6928, 'extend': 6929, 'motions': 6930, 'sucralose': 6931, 'chaser': 6932, 'tripled': 6933, 'blankets': 6934, '200mrgs': 6935, 'thyroids': 6936, 'perscride': 6937, '90mrgs': 6938, 'amour': 6939, 'skinnier': 6940, 'systems': 6941, 'protruding': 6942, 'gosh': 6943, 'batttling': 6944, 'clarisonic': 6945, 'tag': 6946, 'bobbi': 6947, 'scratched': 6948, 'esophagogastroduodenoscopy': 6949, 'edg': 6950, 'protects': 6951, 'biotene': 6952, 'flactuating': 6953, 'household': 6954, 'on6': 6955, 'kkidney': 6956, 'usa': 6957, 'terribleness': 6958, 'bothers': 6959, 'regrets': 6960, 'so\\r': 6961, 'first\\r': 6962, 'astra': 6963, 'zeneca': 6964, 'atacand': 6965, 'unclear': 6966, 'hemi': 6967, 'palegic': 6968, 'yow': 6969, 'signority': 6970, 'atrilpla': 6971, 'undectetable': 6972, 'foulest': 6973, 'tinted': 6974, 'limits': 6975, 'dyslexia': 6976, 'letters': 6977, 'neutralized': 6978, 'blurting': 6979, 'unheard': 6980, 'whining': 6981, 'handled': 6982, 'adopted': 6983, 'grains': 6984, 'cavities': 6985, 'frova': 6986, 'islands': 6987, 'deposits': 6988, 'narcoleptic': 6989, 'littlest': 6990, 'ellaone': 6991, 'exceppt': 6992, 'devastated': 6993, 'sulphate': 6994, 'hysingla': 6995, 'breakthru': 6996, 'dissatisfied': 6997, 'wrapped': 6998, 'bang': 6999, 'tudorza': 7000, 'myelogenous': 7001, 'leukemia': 7002, 'psi': 7003, 'endur': 7004, 'efforts': 7005, 'exchange': 7006, 'dupixent': 7007, 'reassess': 7008, 'motivating': 7009, 'justifiable': 7010, 'repatha': 7011, 'september2016': 7012, 'tendon': 7013, 'december27': 7014, 'consecutive': 7015, 'vulnerable': 7016, 'transferring': 7017, '375mg': 7018, 'paraplegic': 7019, 'santa': 7020, 'clause': 7021, 'processed': 7022, 'vegas': 7023, 'geared': 7024, '6wks': 7025, 'undeniably': 7026, 'summary': 7027, 'ravenously': 7028, 'safely': 7029, 'verses': 7030, 'supression': 7031, 'transverse': 7032, 'mylytis': 7033, 'aides': 7034, 'matastasized': 7035, 'widow': 7036, 'addictions': 7037, 'rheumothogist': 7038, 'folic': 7039, 'neasea': 7040, 'colorful': 7041, 'truthful': 7042, 'absessed': 7043, 'stature': 7044, 'sexy': 7045, 'females': 7046, 'motivate': 7047, 'chore': 7048, 'quell': 7049, 'puffed': 7050, 'perpetually': 7051, 'amiss': 7052, 'levenorgestrel': 7053, 'debatable': 7054, 'scrutinized': 7055, 'clonazapam': 7056, 'supplementing': 7057, 'mentions': 7058, 'strayed': 7059, 'appease': 7060, 'hounded': 7061, 'intuitive': 7062, 'fizzy': 7063, 'emergen': 7064, 'nightgowns': 7065, 'undies': 7066, 'commando': 7067, 'dilute': 7068, 'weed': 7069, 'pulsating': 7070, 'ligament': 7071, 'bent': 7072, 'wrapping': 7073, 'notable': 7074, 'backs': 7075, 'crotch': 7076, 'canals': 7077, 'peculiar': 7078, 'lettuces': 7079, 'sprayed': 7080, 'preservatives': 7081, 'cauliflower': 7082, 'correlation': 7083, 'unexcited': 7084, 'medically': 7085, 'infertile': 7086, 'infestation': 7087, 'pursue': 7088, 'lifesavor': 7089, 'supra': 7090, 'aftertaste': 7091, 'persevering': 7092, 'mitigating': 7093, 'sobriety': 7094, 'chug': 7095, 'wedge': 7096, 'genetically': 7097, 'potion': 7098, 'staten': 7099, 'island': 7100, 'affiliated': 7101, 'columbia': 7102, 'tragedy': 7103, 'relievers': 7104, 'biased': 7105, 'yellowing': 7106, 'select': 7107, 'ondancetron': 7108, 'workweek': 7109, 'temodar': 7110, 'overhwelmed': 7111, 'progrogressed': 7112, 'pov': 7113, 'exascerbate': 7114, 'psycho': 7115, 'bitch': 7116, 'deserve': 7117, 'belt': 7118, 'buckle': 7119, 'altough': 7120, 'restart': 7121, 'minimizing': 7122, 'tank': 7123, 'abcessed': 7124, 'overbloated': 7125, 'acetone': 7126, 'bandage': 7127, 'aftercare': 7128, 'threats': 7129, 'suspending': 7130, 'defiant': 7131, 'cars': 7132, 'sever': 7133, 'exponentially': 7134, 'temp': 7135, 'tempted': 7136, 'assertive': 7137, 'sjw': 7138, '350mg': 7139, 'tenfold': 7140, 'rythmol': 7141, 'toporal': 7142, 'metalic': 7143, '6mo': 7144, '12y': 7145, 'manager': 7146, 'fired': 7147, 'bank': 7148, 'dextromethorphan': 7149, 'dye': 7150, 'guestioned': 7151, 'wate': 7152, 'tennis': 7153, 'rollercoaster': 7154, 'abated': 7155, 'paliperidone': 7156, 'rocking': 7157, 'forwards': 7158, 'janaury': 7159, 'evaluations': 7160, 'regretted': 7161, 'huff': 7162, 'barfing': 7163, 'allergist': 7164, 'bioxen': 7165, 'interuptions': 7166, 'colonoscoby': 7167, 'oped': 7168, 'reschedule': 7169, 'spite': 7170, 'tick': 7171, 'berinert': 7172, 'firazyr': 7173, 'frank': 7174, 'reaped': 7175, 'localized': 7176, 'masks': 7177, 'guarentee': 7178, 'h2o': 7179, 'sensory': 7180, 'processing': 7181, 'respirodone': 7182, 'nightmarish': 7183, 'inhabited': 7184, 'proxac': 7185, 'nutritionist': 7186, 'forfivo': 7187, 'blackberries': 7188, 'blueberries': 7189, 'kiwis': 7190, 'beetroot': 7191, 'lukewarm': 7192, 'garlic': 7193, 'contaminated': 7194, 'poked': 7195, 'kiddos': 7196, '15lbs': 7197, 'parasites': 7198, 'committed': 7199, 'rocky': 7200, 'hurdle': 7201, 'toxin': 7202, 'seasonal': 7203, 'environmental': 7204, 'ight': 7205, 'vibration': 7206, 'inhalation': 7207, 'astelin': 7208, 'nostril': 7209, 'inquire': 7210, 'xalcori': 7211, 'funeral': 7212, 'preparations': 7213, 'acquired': 7214, 'staph': 7215, 'zyvox': 7216, 'citalapram': 7217, 'unsuccessfully': 7218, '8months': 7219, 'bodily': 7220, 'actavis': 7221, 'subtype': 7222, 'insisting': 7223, 'bind': 7224, 'shakey': 7225, 'exceptional': 7226, 'papules': 7227, 'pustules': 7228, 'seratonin': 7229, 'practioner': 7230, 'huffing': 7231, 'puffing': 7232, 'stalking': 7233, 'tended': 7234, 'parenting': 7235, 'tuning': 7236, 'mealtime': 7237, 'backorder': 7238, 'bummed': 7239, 'skipper': 7240, 'thyrotoxicosis': 7241, 'reg': 7242, '15mcgs': 7243, 'mcgs': 7244, '75mcgs': 7245, 'affairs': 7246, 'org': 7247, 'compromised': 7248, 'thx': 7249, 'gang': 7250, 'substituted': 7251, 'oranges': 7252, 'carrots': 7253, 'roasted': 7254, 'cottage': 7255, 'bagels': 7256, 'like\\r\\r': 7257, 'clustered': 7258, 'discomforts': 7259, 'typ': 7260, 'sniffing': 7261, 'stoned': 7262, 'platelet': 7263, 'platelets': 7264, 'suttons': 7265, 'ketogenic': 7266, 'avocado': 7267, '213lbs': 7268, 'tindamax': 7269, 'buproprion': 7270, 'duplicate': 7271, 'misdiagnosed': 7272, 'incapable': 7273, '2kgs': 7274, 'atkins': 7275, 'ketosis': 7276, 'metrogel': 7277, 'curing': 7278, 'deemed': 7279, 'paddles': 7280, 'convert': 7281, 'converted': 7282, 'ocurrence': 7283, 'pulmonary\\r\\r': 7284, 'flecanide': 7285, 'hopefully\\r\\r': 7286, 'this': 7287, 'chips': 7288, 'starters': 7289, 'fecal': 7290, '45pm': 7291, '10am': 7292, 'struggles': 7293, '16yr': 7294, 'incidentally': 7295, 'registered': 7296, 'nizoral': 7297, 'loprox': 7298, 'bolt': 7299, 'secobarbital': 7300, 'sedatives': 7301, 'reputed': 7302, 'benzodiapines': 7303, 'ketoacidosis': 7304, 'dka': 7305, 'endocronologist': 7306, 'glyxambi': 7307, 'isentress': 7308, 'diazepam': 7309, 'dismiss': 7310, 'slimmer': 7311, 'carpal': 7312, 'tingeling': 7313, 'beteeen': 7314, 'boots': 7315, 'grows': 7316, 'reflected': 7317, 'overachiever': 7318, 'believes': 7319, 'humble': 7320, 'gruesome': 7321, 'sbout': 7322, 'sideways': 7323, 'stain': 7324, 'exams': 7325, 'expiration': 7326, 'demand': 7327, 'disibility': 7328, 'amytripyline': 7329, 'ultimate': 7330, 'hack': 7331, 'camouflaged': 7332, 'cherry': 7333, 'expelling': 7334, 'executive': 7335, 'guaranteed': 7336, 'imperfect': 7337, 'loosening': 7338, 'tryptophan': 7339, 'tanzania': 7340, 'malaria': 7341, 'stretched': 7342, 'nerologist': 7343, 'turmeric': 7344, 'blender': 7345, 'roots': 7346, 'mucous': 7347, 'ranged': 7348, 'carosel': 7349, 'stellara': 7350, 'otezela': 7351, 'baldness': 7352, 'becuz': 7353, 'refrigerator': 7354, 'calfs': 7355, '75mgs': 7356, 'enjoyment': 7357, 'defective': 7358, 'pouches': 7359, 'interlocked': 7360, 'collected': 7361, 'lauren': 7362, 'vegitative': 7363, 'peek': 7364, 'boo': 7365, 'attacking': 7366, 'roller': 7367, 'coaster': 7368, 'angst': 7369, 'wreck': 7370, 'club': 7371, 'operations': 7372, 'global': 7373, 'sinisitis': 7374, 'rubble': 7375, 'helpings': 7376, 'readily': 7377, 'flakes': 7378, 'invisible': 7379, 'calve': 7380, 'palpitation': 7381, 'ciggy': 7382, 'rocket': 7383, 'throught': 7384, '150bpm': 7385, 'lighthead': 7386, 'clamy': 7387, 'principal': 7388, 'testicular': 7389, 'meloxicam': 7390, 'vimovo': 7391, 'separation': 7392, 'zipsor': 7393, 'testicles': 7394, 'snows': 7395, '2yr': 7396, 'choking': 7397, '80lbs': 7398, 'instinct': 7399, 'highlighter': 7400, 'uping': 7401, 'stimulates': 7402, 'boehringer': 7403, 'ingelheim': 7404, 'packages': 7405, 'unacceptable': 7406, 'isolated': 7407, 'malfunction': 7408, 'whoever': 7409, 'anticholinergic': 7410, 'properties': 7411, 'dilates': 7412, 'terbutaline': 7413, 'nicks': 7414, 'stoppage': 7415, 'ezitimibe': 7416, 'awash': 7417, 'perspiration': 7418, 'muscular': 7419, 'janurary': 7420, 'rinsed': 7421, 'gargled': 7422, 'swish': 7423, 'gargle': 7424, 'phenytoin': 7425, 'aneurysm': 7426, 'esophaguel': 7427, 'candida': 7428, 'inattentiveness': 7429, 'glassy': 7430, 'overmedicated': 7431, 'fart': 7432, 'digging': 7433, 'ahold': 7434, 'concluded': 7435, 'denied': 7436, 'members': 7437, 'gene': 7438, 'regulates': 7439, 'pus': 7440, 'culprit': 7441, 'lenses': 7442, 'overpowering': 7443, 'succ': 7444, 'variable': 7445, 'moodier': 7446, 'ninth': 7447, 'spun': 7448, 'central': 7449, 'eases': 7450, 'lingers': 7451, 'squats': 7452, 'dumbbells': 7453, 'weekely': 7454, 'psychotherapy': 7455, 'aromatherapy': 7456, 'testicle': 7457, '2x500mg': 7458, 'boob': 7459, 'pathology': 7460, 'eardrum': 7461, 'summed': 7462, 'gastroscope': 7463, 'rings': 7464, 'grandchildren': 7465, 'cloudiness': 7466, 'sporatically': 7467, 'reassuring': 7468, 'flexibility': 7469, 'schitsoaffective': 7470, 'clozaril': 7471, 'van': 7472, 'equalized': 7473, 'akathesia': 7474, 'vital': 7475, 'inflamation': 7476, 'secondly': 7477, 'flaura': 7478, 'looser': 7479, 'stoping': 7480, 'upbeat': 7481, 'droopy': 7482, 'soul': 7483, 'convience': 7484, 'backw': 7485, 'fatal': 7486, 'narcan': 7487, 'myrbetriq': 7488, 'discoid': 7489, 'sunscreens': 7490, 'cheerios': 7491, 'proportions': 7492, 'placquenil': 7493, 'adhering': 7494, 'flulike': 7495, 'lolo': 7496, 'mediate': 7497, 'mmy': 7498, 'placing': 7499, 'target': 7500, 'heated': 7501, 'reminds': 7502, 'comodegenic': 7503, 'costing': 7504, 'benzalkonium': 7505, 'chloride': 7506, 'conjunctivitis': 7507, 'orthoevra': 7508, 'fave': 7509, 'crosses': 7510, 'demanded': 7511, 'abad': 7512, 'consulting': 7513, 'attached': 7514, 'lavender': 7515, 'darling': 7516, 'easter': 7517, 'precious': 7518, 'naturopath': 7519, 'satisfactory': 7520, 'nexplannon': 7521, 'footlong': 7522, 'subway': 7523, 'hugging': 7524, 'tragedies': 7525, 'sprung': 7526, 'wham': 7527, 'seraquel': 7528, 'polydrugged': 7529, 'redone': 7530, '14yrs': 7531, '30yrs': 7532, 'porcelain': 7533, 'dermatologies': 7534, 'ezcema': 7535, 'moisturize': 7536, 'moisturizers': 7537, 'bleach': 7538, 'baths': 7539, 'bactroban': 7540, '90g': 7541, 'medicaton': 7542, 'distance': 7543, 'affter': 7544, 'blacked': 7545, 'chunky': 7546, '12pm': 7547, 'affair': 7548, 'happiest': 7549, 'socialize': 7550, '30mgs': 7551, 'blurr': 7552, 'paralyze': 7553, 'afteri': 7554, 'cardiac': 7555, 'amphetamines': 7556, 'ribarvarin': 7557, 'rotate': 7558, 'forearms': 7559, 'fluoroquinolones': 7560, 'soldiers': 7561, 'anthrax': 7562, 'supreme': 7563, 'court': 7564, '1hr': 7565, 'ticker': 7566, 'parade': 7567, 'indicates': 7568, 'emily': 7569, 'oster': 7570, 'fused': 7571, 'neurologyst': 7572, 'menu': 7573, 'kenalog': 7574, '1600mg': 7575, 'oxys': 7576, 'anchorage': 7577, 'hundred': 7578, 'gimmicks': 7579, 'plugging': 7580, 'alseep': 7581, '500mgx4': 7582, 'bulk': 7583, 'fastin': 7584, 'hydroxycut': 7585, 'skyrocket': 7586, 'yippee': 7587, 'intoxicated': 7588, 'july18': 7589, '288lb': 7590, '282lb': 7591, 'feeln': 7592, 'hottie': 7593, 'consultation': 7594, 'eruption': 7595, 'intensively': 7596, 'expereince': 7597, 'deprivation': 7598, 'faucet': 7599, 'fittings': 7600, 'seamstress': 7601, '75lbs': 7602, 'caffiene': 7603, 'endings': 7604, 'freezes': 7605, 'freaky': 7606, 'traveled': 7607, 'hatched': 7608, 'prayers': 7609, 'nit': 7610, 'magnifier': 7611, 'lamp': 7612, 'microscope': 7613, 'science': 7614, 'vacuumed': 7615, 'laundered': 7616, 'louse': 7617, 'retreated': 7618, 'meanest': 7619, 'diabolical': 7620, 'sklya\\r': 7621, 'psudotumor': 7622, 'toprimate': 7623, 'dentists': 7624, 'america': 7625, 'fort': 7626, 'smith': 7627, 'arkansas': 7628, 'floss': 7629, 'fluoride': 7630, 'seventh': 7631, 'zolmitriptan': 7632, 'refrigerated': 7633, 'gulping': 7634, 'tougher': 7635, 'expanded': 7636, 'filling': 7637, '20min': 7638, 'sales': 7639, 'trail': 7640, 'atempts': 7641, 'quiting': 7642, 'sicky': 7643, 'retinoid': 7644, 'pennies': 7645, 'cataflam': 7646, 'trinessna': 7647, 'checkups': 7648, 'mircette': 7649, 'route': 7650, 'averts': 7651, 'optimal': 7652, 'situps': 7653, 'postponed': 7654, 'tricyclics': 7655, 'adds': 7656, 'gripes': 7657, 'dysuria': 7658, 'search': 7659, 'repetitive': 7660, 'unisom': 7661, 'otitis': 7662, 'media': 7663, 'obsess': 7664, 'opportunities': 7665, 'incapacitated': 7666, 'startup': 7667, 'deployed': 7668, 'hadnt': 7669, 'hearted': 7670, 'junal': 7671, 'repulsed': 7672, 'bisphosphonate': 7673, 'fingernails': 7674, 'osteonecrosis': 7675, 'implants': 7676, 'ironing': 7677, 'anastrozole': 7678, 'zoladex': 7679, 'mishaps': 7680, 'clarinex': 7681, 'constipating': 7682, 'shelf': 7683, 'announcement': 7684, 'smokers': 7685, 'temptation': 7686, 'quiets': 7687, 'convalescing': 7688, 'abd': 7689, 'dozen': 7690, 'drool': 7691, 'grave': 7692, 'choppers': 7693, 'invented': 7694, 'abusive': 7695, 'predisposes': 7696, 'occassional': 7697, 'enthused': 7698, 'palatable': 7699, 'soluble': 7700, 'cordial': 7701, 'mouthfuls': 7702, 'curiously': 7703, 'features': 7704, 'bile': 7705, 'leak': 7706, 'multitask': 7707, 'unexpectantly': 7708, 'adored': 7709, 'luxury': 7710, 'jag': 7711, 'celebrating': 7712, 'lymphangiomatosis': 7713, 'appendix': 7714, 'fungul': 7715, 'record': 7716, 'knot': 7717, 'hypoglycemia': 7718, '188lb': 7719, '172lb': 7720, 'ejaculates': 7721, 'exciting': 7722, 'shifting': 7723, 'evaluate': 7724, 'yep': 7725, 'fabulously': 7726, 'remifemin': 7727, 'estroven': 7728, 'varying': 7729, 'unspectacular': 7730, 'haul': 7731, 'onward': 7732, 'albolene': 7733, 'removers': 7734, 'prebiotic': 7735, 'potty': 7736, 'restfull': 7737, 'clash': 7738, 'hydralazine': 7739, 'nifedipine': 7740, 'coronary': 7741, 'venous': 7742, 'abalation': 7743, 'hyperemesis': 7744, 'delcegis': 7745, 'nodes': 7746, 'dripped': 7747, 'chewed': 7748, 'unasisted': 7749, '6mths': 7750, 'superb': 7751, 'beth': 7752, 'israel': 7753, 'palliative': 7754, 'unit': 7755, 'nodded': 7756, 'abusers': 7757, 'relative': 7758, 'iga': 7759, 'forgets': 7760, '252lbs': 7761, '230lbs': 7762, 'antidepressent': 7763, 'continious': 7764, 'hypotension': 7765, 'trulance': 7766, 'goods': 7767, 'afternoons': 7768, 'destabilized': 7769, 'timesbefore': 7770, 'prepopkit': 7771, 'ion': 7772, 'aging': 7773, 'comm': 7774, 'golfer': 7775, 'phil': 7776, 'mickelson': 7777, 'fore': 7778, 'hauled': 7779, 'wheelbarrows': 7780, 'neighbors': 7781, 'tapper': 7782, '1xday': 7783, 'lansoprazole': 7784, 'stagger': 7785, 'microgestion': 7786, 'colouring': 7787, 'tartrazine': 7788, 'labels': 7789, 'colourings': 7790, 'azo': 7791, 'dyes': 7792, 'numbered': 7793, 'manual': 7794, 'spontaneous': 7795, 'timeline': 7796, 'stds': 7797, 'ins': 7798, 'zubs': 7799, 'zubsolvs': 7800, '4mgs': 7801, 'blead': 7802, 'constraint': 7803, 'foreplay': 7804, 'funnest': 7805, 'forxiga': 7806, 'supplemented': 7807, 'someday': 7808, 'zonked': 7809, 'intending': 7810, 'forestall': 7811, 'detached': 7812, 'pillows': 7813, 'ingested': 7814, 'seas': 7815, 'treseba': 7816, 'tastings': 7817, 'streets': 7818, 'community': 7819, 'screwed': 7820, 'injurious': 7821, 'restrain': 7822, 'callouses': 7823, 'vistarel': 7824, 'blaming': 7825, 'wings': 7826, 'favors': 7827, 'disappointing': 7828, 'phases': 7829, 'crazed': 7830, 'palm': 7831, 'bcc': 7832, 'sideburn': 7833, 'british': 7834, 'insect': 7835, 'showe': 7836, 'rto': 7837, 'server': 7838, 'wyeth': 7839, 'sill': 7840, 'bushy': 7841, 'tail': 7842, 'phrase': 7843, 'inappropriate': 7844, 'diaphoresis': 7845, 'taco': 7846, 'sacrifice': 7847, 'conscription': 7848, 'texansplus': 7849, 'disinterested': 7850, 'viruses': 7851, 'tomato': 7852, 'peanut': 7853, 'butter': 7854, 'chewables': 7855, 'mylanta': 7856, 'fryer': 7857, 'grease': 7858, '24fe': 7859, 'prescibed': 7860, 'yawn': 7861, 'stimulated': 7862, 'u2014not': 7863, 'downcast': 7864, 'brooding': 7865, 'u2014i': 7866, 'u201ccure': 7867, 'u201d': 7868, 'u2014like': 7869, 'yawned': 7870, 'reclusive': 7871, 'u2014even': 7872, 'greet': 7873, 'hi\\r': 7874, 'simulation': 7875, 'diethylpropion': 7876, 'synced': 7877, 'bugs': 7878, 'persisting': 7879, 'septa': 7880, 'incoherent': 7881, 'roofied': 7882, 'pots': 7883, 'sorted': 7884, 'escape': 7885, 'listens': 7886, 'classmates': 7887, 'drawings': 7888, 'vilolently': 7889, 'feverish': 7890, 'rides': 7891, 'theme': 7892, 'tan': 7893, 'bossy': 7894, 'steriod': 7895, '13yrs': 7896, '32nd': 7897, 'murmurs': 7898, 'nagging': 7899, 'stink': 7900, 'eighth': 7901, 'behavioral': 7902, 'angrier': 7903, 'oiliness': 7904, 'peacefully': 7905, '72mg': 7906, 'relevant': 7907, 'donot': 7908, 'u30': 7909, 'crumbly': 7910, 'selling': 7911, 'gorging': 7912, 'banishing': 7913, 'recurrent': 7914, 'uni': 7915, 'biotics': 7916, 'pose': 7917, 'shat': 7918, 'shitting': 7919, 'disturb': 7920, 'youtube': 7921, 'zovirax': 7922, 'diverticulitus': 7923, 'adbomen': 7924, 'speeches': 7925, 'whereby': 7926, 'influenced': 7927, 'nausous': 7928, 'diahrea': 7929, 'zenzedi': 7930, 'satisfying': 7931, 'sticks': 7932, 'teaching': 7933, 'teenagers': 7934, 'flux': 7935, 'blades': 7936, 'therapists': 7937, 'cocodamol': 7938, 'benzodiazepan': 7939, 'maui': 7940, 'ahi': 7941, 'martinis': 7942, 'overflowed': 7943, 'purine': 7944, 'bucket': 7945, 'whale': 7946, 'sustenna': 7947, '156mg': 7948, 'indiana': 7949, 'illinois': 7950, 'monotherapy': 7951, 'revolutionalized': 7952, 'master': 7953, 'crabby': 7954, 'fork': 7955, 'lateral': 7956, 'cushioned': 7957, 'seb': 7958, 'tgel': 7959, 'french': 7960, 'beret': 7961, 'surprises': 7962, 'property': 7963, 'peers': 7964, 'uselessness': 7965, 'antiviral': 7966, 'jul': 7967, 'tour': 7968, 'vietnam': 7969, 'disturbing': 7970, 'obsessions': 7971, 'occupied': 7972, 'shouting': 7973, 'spitting': 7974, 'classroom': 7975, 'bronchial': 7976, 'inert': 7977, 'fibroadenoma': 7978, 'fibrocystic': 7979, 'peri': 7980, 'acknowledged': 7981, 'occurring': 7982, 'incorrect': 7983, 'nicely': 7984, 'nessa': 7985, 'letrozole': 7986, 'railing': 7987, 'dialysis': 7988, 'sigh': 7989, 'gildesse': 7990, 'wieght': 7991, 'perimenopause': 7992, 'obligated': 7993, 'licrogel': 7994, 'scientific': 7995, 'botanicals': 7996, 'ole': 7997, 'soothed': 7998, 'disintegrate': 7999, 'acidic': 8000, 'forrest': 8001, 'phar': 8002, 'reformulated': 8003, 'amoxil': 8004, 'withdraws': 8005, 'ita': 8006, 'ant': 8007, 'plates': 8008, 'prof': 8009, 'accounting': 8010, 'multitudes': 8011, 'colleague': 8012, 'superiors': 8013, 'accollades': 8014, 'hospitalizations': 8015, 'tenure': 8016, 'universities': 8017, 'recoveries': 8018, 'substituting': 8019, 'football': 8020, 'acebutolol': 8021, 'sectral': 8022, '80s': 8023, '255lbs': 8024, 'shadows': 8025, 'prostatic': 8026, 'aroused': 8027, 'eli': 8028, 'leaning': 8029, 'crystalizing': 8030, 'agents': 8031, 'monstat': 8032, 'hourly': 8033, 'paining': 8034, 'cloting': 8035, 'surgically': 8036, 'checks': 8037, 'headaces': 8038, 'potentally': 8039, 'recorder': 8040, 'fatigue\\r': 8041, 'outbreak\\r': 8042, 'knees\\r': 8043, 'cough\\r': 8044, 'throat\\r': 8045, '20mgs': 8046, 'boring': 8047, 'subjects': 8048, 'hesitation': 8049, 'commenters': 8050, 'ibruprofen': 8051, 'rag': 8052, 'alice': 8053, 'wonderland': 8054, 'rabbit': 8055, 'baring': 8056, 'ideally': 8057, 'routines': 8058, 'rediculously': 8059, 'colorado': 8060, 'california': 8061, 'legalize': 8062, 'source': 8063, '30s': 8064, 'signal': 8065, 'colace': 8066, 'phenergen': 8067, 'imagined': 8068, 'lol\\r': 8069, '30hrs': 8070, 'showers': 8071, 'seniors': 8072, 'betterment': 8073, 'impairment': 8074, 'sincere': 8075, 'sincerely': 8076, 'dan': 8077, 'juan': 8078, 'puerto': 8079, 'rico': 8080, 'thankyou': 8081, 'botched': 8082, 'arose': 8083, 'encourages': 8084, 'palmetto': 8085, 'abused': 8086, 'cures': 8087, 'cadilac': 8088, 'injector': 8089, 'fades': 8090, 'boss': 8091, 'motherhood': 8092, 'inconsolable': 8093, 'yards': 8094, 'dysfunctional': 8095, 'dbt': 8096, 'follows': 8097, 'traits': 8098, 'worrier': 8099, 'imipramine': 8100, 'candy': 8101, 'coloured': 8102, '140lbs': 8103, 'tamfilu': 8104, 'publicity': 8105, 'trumped': 8106, 'whrn': 8107, 'companys': 8108, 'maker': 8109, 'contrace': 8110, 'photographic': 8111, 'strait': 8112, 'vulvodynia': 8113, 'oxytrol': 8114, 'unnoticed': 8115, 'gee': 8116, 'buti': 8117, 'detriment': 8118, 'glucosamine': 8119, 'chrondroitin': 8120, 'suits': 8121, 'endocet': 8122, 'lightend': 8123, 'lightley': 8124, 'worrisome': 8125, 'predicament': 8126, 'harshly': 8127, 'extremly': 8128, 'objects': 8129, 'clumsily': 8130, 'shredded': 8131, 'screen': 8132, 'beans': 8133, '16h': 8134, 'calls': 8135, 'evident': 8136, 'delivers': 8137, 'tap': 8138, 'psychotropic': 8139, 'visuals': 8140, 'plasma': 8141, 'unemployment': 8142, 'maintainence': 8143, 'amt': 8144, 'boredom': 8145, 'grabbed': 8146, 'hotel': 8147, 'spectro': 8148, 'hectic': 8149, 'retroverted': 8150, '6cm': 8151, 'bcs': 8152, 'ppgyno': 8153, 'toxicity': 8154, 'eniemic': 8155, 'rusty': 8156, '11am': 8157, 'wink': 8158, 'submitting': 8159, 'bubble': 8160, 'eardrums': 8161, 'jumpy': 8162, 'clinically': 8163, 'lengths': 8164, 'iowa': 8165, 'louisiana': 8166, 'lump': 8167, 'flights': 8168, 'apt': 8169, 'everest': 8170, 'wooziness': 8171, 'wakening': 8172, 'thirteen': 8173, 'maxillary': 8174, 'raptiva': 8175, 'mircale': 8176, 'sleeves': 8177, 'mestinon': 8178, 'cellcept': 8179, 'obama': 8180, 'fives': 8181, 'decemeber': 8182, 'imediallty': 8183, '7years': 8184, 'yell': 8185, 'consisting': 8186, 'lids': 8187, 'derealization': 8188, 'vicious': 8189, 'oops': 8190, 'chundered': 8191, 'nandos': 8192, 'sunset': 8193, 'burger': 8194, 'youre': 8195, 'raving': 8196, 'raft': 8197, 'ants': 8198, 'hunting': 8199, 'residence': 8200, '24hour': 8201, 'feed': 8202, 'theory': 8203, 'statistic': 8204, 'traumatizing': 8205, 'auntie': 8206, 'transderm': 8207, 'scop': 8208, 'apetite': 8209, 'cancel': 8210, 'handrails': 8211, 'cain': 8212, 'teach': 8213, 'houses': 8214, 'saddened': 8215, 'reco': 8216, 'revealed': 8217, 'dreamt': 8218, 'caregiver': 8219, 'bony': 8220, 'pics': 8221, 'starvation': 8222, 'generalised': 8223, 'nearsighted': 8224, 'attcks': 8225, '20mcg': 8226, 'apidex': 8227, 'failures': 8228, 'raynaud': 8229, 'wallet': 8230, 'oab': 8231, 'friction': 8232, 'calf': 8233, 'hmmm': 8234, 'indoor': 8235, 'singulair': 8236, 'misses': 8237, 'efexxor': 8238, 'dumping': 8239, 'wellbrutrin': 8240, 'zombi': 8241, 'tries': 8242, 'fuze': 8243, 'advantages': 8244, 'noticible': 8245, 'override': 8246, 'granola': 8247, 'bars': 8248, 'noodle': 8249, 'ciprofloxicin': 8250, 'menstruated': 8251, 'pig': 8252, 'laziness': 8253, 'goddamn': 8254, 'fortune': 8255, 'stemming': 8256, 'susprised': 8257, 'hesitated': 8258, 'participating': 8259, 'spirometry': 8260, 'xray': 8261, 'diazapan': 8262, 'melt': 8263, 'periodically': 8264, 'generate': 8265, 'recom': 8266, 'mend': 8267, 'restauraunt': 8268, 'to1': 8269, 'overreact': 8270, 'tunnels': 8271, 'skydive': 8272, 'builds': 8273, 'david': 8274, 'handbook': 8275, 'rambling': 8276, 'percs': 8277, 'roxys': 8278, 'input': 8279, 'actinic': 8280, 'keratosis': 8281, 'temples': 8282, 'merge': 8283, 'hairless': 8284, 'lit': 8285, 'session\\r': 8286, 'cappuccino': 8287, 'localize': 8288, 'settling': 8289, 'ance': 8290, 'mandates': 8291, 'coved': 8292, 'improvment': 8293, 'grandiose': 8294, 'forgetfullness': 8295, 'entex': 8296, 'raining': 8297, 'northwest': 8298, 'rain': 8299, 'mold': 8300, 'externally': 8301, 'cozy': 8302, 'citalpram': 8303, 'accommodate': 8304, 'uncontrallably': 8305, 'arnt': 8306, 'anxieties': 8307, 'piercing': 8308, 'pumping': 8309, 'kote': 8310, 'ruminating': 8311, 'socializing': 8312, 'told\\r': 8313, 'me': 8314, 'periungal': 8315, 'bandaid': 8316, 'my\\r': 8317, 'miconazole': 8318, 'wether': 8319, 'tonite': 8320, '3day': 8321, 'enhance': 8322, 'spiked': 8323, 'prudent': 8324, 'contacted': 8325, 'watchful': 8326, 'resolves': 8327, 'insterted': 8328, 'phillips': 8329, 'flavored': 8330, 'wrinkles': 8331, 'lumpectomy': 8332, 'aromatase': 8333, 'arimidex': 8334, 'groping': 8335, 'calcific': 8336, 'naloxone': 8337, 'strips': 8338, 'roxi': 8339, 'veramyst': 8340, 'levemir': 8341, 'flextouch': 8342, 'advocate': 8343, 'zelnorm': 8344, 'ematrol': 8345, 'untolerable': 8346, 'worthy': 8347, 'nation': 8348, 'wusses': 8349, 'mimic': 8350, 'lacking': 8351, '20pounds': 8352, 'alprostadil': 8353, '3hours': 8354, 'retard': 8355, 'scenario': 8356, 'belvid': 8357, 'leptiburn': 8358, 'enslaved': 8359, 'frustrations': 8360, 'cynicism': 8361, 'prevail': 8362, 'greaat': 8363, 'speeding': 8364, 'annoyance': 8365, 'catheterising': 8366, 'methotraxate': 8367, 'cage': 8368, 'degenerated': 8369, 'advance': 8370, 'sydney': 8371, 'vyvnase': 8372, 'comparing': 8373, 'freckles': 8374, 'fibromylgia': 8375, 'tumors': 8376, 'glaucoma': 8377, 'sticky': 8378, 'drys': 8379, 'manly': 8380, 'reallly': 8381, 'erect': 8382, 'dive': 8383, 'vigamox': 8384, 'scabbed': 8385, 'formulary': 8386, 'discounts': 8387, 'blankly': 8388, 'roxy': 8389, 'cripple': 8390, 'understands': 8391, 'draws': 8392, 'greatful': 8393, 'mints': 8394, 'smartphone': 8395, 'unemotional': 8396, 'acupuncture': 8397, 'shop': 8398, 'socialising': 8399, 'cookies': 8400, 'candies': 8401, 'platters': 8402, 'flour': 8403, '000vl': 8404, '10cd4': 8405, 'thinned': 8406, 'qualified': 8407, 'introductory': 8408, 'grooming': 8409, 'deficits': 8410, 'sleeps': 8411, 'assist': 8412, 'incurred': 8413, 'displaced': 8414, 'involuntary': 8415, 'carisoprodol': 8416, 'airlifted': 8417, 'labeled': 8418, 'holds': 8419, 'crocodile': 8420, '115lbs': 8421, '129lbs': 8422, 'seeming': 8423, 'authorization': 8424, 'election': 8425, 'climaxes': 8426, 'asprin': 8427, 'upcoming': 8428, 'speculated': 8429, 'reentered': 8430, 'crawl': 8431, 'giddy': 8432, 'glazed': 8433, 'positioned': 8434, 'congenital': 8435, 'statred': 8436, 'anaphylaxis': 8437, 'vengence': 8438, 'scales': 8439, 'uri': 8440, 'diarrhe': 8441, 'cosyntex': 8442, 'tinea': 8443, 'versicolor': 8444, 'administration': 8445, 'individuals': 8446, 'tighten': 8447, 'reposition': 8448, 'textured': 8449, 'mouthy': 8450, 'instructors': 8451, 'remarks': 8452, 'students': 8453, 'moderation': 8454, 'selected': 8455, 'mentioning': 8456, 'remote': 8457, 'sed': 8458, 'drown': 8459, 'downfalls': 8460, 'illegal': 8461, 'boned': 8462, 'aigust': 8463, 'stoop': 8464, 'differentiate': 8465, 'herniation': 8466, 'neurotin': 8467, 'auras': 8468, 'hugh': 8469, 'injectables': 8470, 'holistic': 8471, '3200mg': 8472, 'reappeared': 8473, 'tiniest': 8474, 'par': 8475, 'zanex': 8476, 'fetanyl': 8477, 'hemicrania': 8478, 'banding': 8479, 'occipital': 8480, 'prevailing': 8481, 'intercostal': 8482, 'disgusted': 8483, 'cheeseburger': 8484, 'puncture': 8485, 'thyroidectomy': 8486, 'averaged': 8487, 'marched': 8488, 'hypogonadism': 8489, 'vaporizer': 8490, 'ciggs': 8491, 'trooper': 8492, 'detetmine': 8493, 'enduring': 8494, 'leggings': 8495, 'collect': 8496, 'lint': 8497, 'swimming': 8498, 'midweek': 8499, 'conceiving': 8500, 'moisture': 8501, 'bombs': 8502, 'baghdad': 8503, 'tied': 8504, 'familial': 8505, 'hematologist': 8506, 'titration': 8507, 'wil': 8508, '19th': 8509, 'updates': 8510, 'web': 8511, 'inevitable': 8512, 't12': 8513, 'vertebra': 8514, 'soporific': 8515, 'merck': 8516, 'manufactures': 8517, 'altercation': 8518, 'susceptible': 8519, 'limping': 8520, 'burdened': 8521, 'scrubs': 8522, '150mgs': 8523, 'stil': 8524, 'resolving': 8525, 'interviews': 8526, 'conference': 8527, 'like15': 8528, '2days': 8529, 'unsuccessful': 8530, 'ketamine': 8531, 'symptomolgy': 8532, 'persistently': 8533, 'anticonvulsants': 8534, 'nevertheless': 8535, 'appalled': 8536, 'epileptic': 8537, 'motivational': 8538, 'hardworker': 8539, 'dedicated': 8540, 'partical': 8541, 'requiring': 8542, 'offs': 8543, 'costentyx': 8544, 'miscommunication': 8545, 'hotspots': 8546, 'fianally': 8547, 'impress': 8548, '40mins': 8549, 'aubagio': 8550, 'cellulitis': 8551, 'elimination': 8552, 'omfg': 8553, 'curreny': 8554, 'hing': 8555, 'direct': 8556, 'contol': 8557, 'theses': 8558, 'phoned': 8559, 'reply': 8560, 'churning': 8561, 'plot': 8562, 'curbing': 8563, 'admissions': 8564, 'resumed': 8565, 'radiating': 8566, 'takining': 8567, 'writhing': 8568, 'doppiness': 8569, 'crusted': 8570, '20hrs': 8571, 'pallindromic': 8572, 'weirdness': 8573, 'spur': 8574, 'termed': 8575, 'output': 8576, 'sleeper': 8577, 'plateaued': 8578, 'jazzed': 8579, 'disappointment': 8580, 'responder': 8581, 'imaginable': 8582, 'pancriatitis': 8583, 'stendra': 8584, 'prayer': 8585, 'tattooing': 8586, 'underneath': 8587, 'discoloration': 8588, 'tweaking': 8589, 'movantik': 8590, 'safyral': 8591, 'fuji': 8592, 'japan': 8593, 'zonisamide': 8594, 'treelimb': 8595, 'medtronics': 8596, 'linkage': 8597, '90s': 8598, 'multi': 8599, 'ranges': 8600, 'mongered': 8601, 'accountability': 8602, 'dealers': 8603, 'proventil': 8604, 'azmacort': 8605, 'govt': 8606, 'unavailable': 8607, 'ozone': 8608, 'fluxuates': 8609, 'improvments': 8610, 'undergo': 8611, 'comprehend': 8612, 'infinitely': 8613, 'parnate': 8614, '12yrs': 8615, 'submit': 8616, 'pennsaid': 8617, 'moxikind': 8618, 'cefixime': 8619, 'saxsenda': 8620, 'basics': 8621, 'wider': 8622, 'whoop': 8623, 'refridgerated': 8624, 'salmonella': 8625, 'trimethoprim': 8626, 'allegedly': 8627, 'neglecting': 8628, 'ccontrol': 8629, 'saggy': 8630, 'p90x': 8631, 'stanford': 8632, 'chromea': 8633, 'fighters': 8634, 'coke': 8635, 'splenda': 8636, 'symbacort': 8637, 'asthmatics': 8638, 'educate': 8639, 'alarmed': 8640, 'enviably': 8641, 'waterproof': 8642, 'rolled': 8643, 'town': 8644, 'towns': 8645, 'sheep': 8646, 'laser': 8647, 'eradicate': 8648, 'pituitary': 8649, 'carbegoline': 8650, 'opiod': 8651, 'roxicodone': 8652, 'metabolizes': 8653, 'varies': 8654, '21th': 8655, 'opcicon': 8656, 'hopped': 8657, 'smidge': 8658, 'biodentical': 8659, 'pellets': 8660, 'estradot': 8661, 'lizness': 8662, 'fewest': 8663, 'cholinergic': 8664, 'superior': 8665, 'benzotropine': 8666, 'mesylate': 8667, 'extrapyramidal': 8668, 'upwardly': 8669, 'stare': 8670, 'psuedo': 8671, 'shuffling': 8672, 'gait': 8673, 'akinesia': 8674, 'suffices': 8675, 'accommodation': 8676, 'anklosing': 8677, '1per': 8678, 'proteins': 8679, 'speck': 8680, 'hypomaniac': 8681, 'clomipramine': 8682, 'anorgasmia': 8683, 'gambler': 8684, 'introverted': 8685, 'absorption': 8686, 'orig': 8687, 'absorbing': 8688, 'dermatographism': 8689, 'chicks': 8690, 'cosmetic': 8691, 'persevered': 8692, 'pmt': 8693, '600mgs': 8694, 'contributed': 8695, 'pent': 8696, 'phenobarbitol': 8697, 'functioned': 8698, 'phenobarb': 8699, 'plead': 8700, '150xl': 8701, 'adam': 8702, 'chipper': 8703, 'slaying': 8704, 'atrocious': 8705, 'throats': 8706, 'constrictive': 8707, 'astounded': 8708, 'dismissive': 8709, 'labelled': 8710, 'profession': 8711, 'acknowledges': 8712, 'rehabilitation': 8713, 'addicts': 8714, 'alcoholics': 8715, '3lbs': 8716, '1500cals': 8717, 'substantially': 8718, 'charcoal': 8719, 'convultions': 8720, 'boby': 8721, 'illnessess': 8722, 'headach': 8723, 'activie': 8724, 'generalise': 8725, 'time10kg': 8726, 'excrutiating': 8727, 'hydromet': 8728, '197lbs': 8729, 'nanny': 8730, 'troublesome': 8731, 'prune': 8732, 'gymnastics': 8733, 'hepatitis': 8734, 'pricey\\r': 8735, 'neuropathic': 8736, '325mg': 8737, 'heave': 8738, 'tin': 8739, 'rushes': 8740, 'apatite': 8741, 'ether': 8742, 'moaning': 8743, '155lbs': 8744, '146lbs': 8745, 'synvisc': 8746, 'prp': 8747, 'migrane\\r': 8748, 'pierced': 8749, 'wiithdrawing': 8750, 'deppression': 8751, 'shorten': 8752, 'sentence': 8753, 'cramps\\r\\r': 8754, 'anxiety\\r\\r': 8755, 'vision\\r\\r': 8756, 'lowers': 8757, '8years': 8758, 'severed': 8759, 'fluke': 8760, 'wel': 8761, 'pairs': 8762, 'disastrous': 8763, 'tyred': 8764, 'whe': 8765, 'flue': 8766, 'simpthoms': 8767, 'rhinitis': 8768, 'simptomatic': 8769, 'embedded': 8770, 'rivaroxiban': 8771, 'circular': 8772, 'boiling': 8773, 'fooled': 8774, 'basement': 8775, 'drawer': 8776, 'crumbling': 8777, '70lbs': 8778, 'cursing': 8779, 'hypermobility': 8780, 'impetigo': 8781, 'eve': 8782, 'sticker': 8783, 'impatience': 8784, 'unhappiness': 8785, 'dietician': 8786, 'veggie': 8787, 'male\\r': 8788, '8weeks': 8789, 'feb3': 8790, '6million': 8791, 'enlisting': 8792, 'usaf': 8793, 'stank': 8794, 'lippy': 8795, 'dis': 8796, 'alchoholics': 8797, 'perimenopausal': 8798, 'naseau': 8799, 'deaf': 8800, 'postmenopausal': 8801, 'coveri': 8802, 'droop': 8803, 'blur': 8804, 'drooped': 8805, 'findings': 8806, 'bill': 8807, 'stem': 8808, 'jantoven': 8809, 'myeloma': 8810, 'grant': 8811, 'nonprofit': 8812, 'insult': 8813, 'tobacco': 8814, 'contraindicated': 8815, 'berry': 8816, 'propel': 8817, 'swigs': 8818, 'petroleum': 8819, 'chafe': 8820, 'unprotective': 8821, 'shins': 8822, 'energizer': 8823, 'bunny': 8824, 'simplest': 8825, 'lifesavior': 8826, 'periodical': 8827, 'pitting': 8828, 'contrary': 8829, 'beach': 8830, 'spf': 8831, 'withdrawn': 8832, 'precision': 8833, 'dehydrates': 8834, '2mo': 8835, '7mo': 8836, '8mo': 8837, 'dipped': 8838, 'buttocks': 8839, 'underwent': 8840, 'laminotomy': 8841, 'synovial': 8842, 'gabapention': 8843, 'errands': 8844, 'elevate': 8845, 'aromasin': 8846, 'incertion': 8847, 'vaginally': 8848, 'completing': 8849, 'akasthesia': 8850, 'ness': 8851, 'sterile': 8852, 'instrument': 8853, 'supplies': 8854, 'morphed': 8855, 'azithromyocin': 8856, 'retired': 8857, 'diy': 8858, 'dissappeared': 8859, 'veteran': 8860, 'upsets': 8861, 'prego': 8862, 'vodka': 8863, '14lbs': 8864, 'esitalo': 8865, '9mm': 8866, 'pour': 8867, 'clockwork': 8868, 'basilar': 8869, 'nearby': 8870, 'external': 8871, 'arthrotec75': 8872, 'fragment': 8873, 'pressing': 8874, 'lotrel': 8875, 'excludes': 8876, 'citizens': 8877, 'funding': 8878, 'klonopan': 8879, 'adzenys': 8880, 'dissolved': 8881, 'dissolvable': 8882, 'agitate': 8883, 'shout': 8884, 'forty': 8885, 'walker': 8886, 'majorly': 8887, 'channels': 8888, 'financial': 8889, 'surfer': 8890, 'skateboarding': 8891, 'upward': 8892, 'drill': 8893, 'shovel': 8894, 'thumps': 8895, 'frisky': 8896, 'unjudicious': 8897, 'particularly': 8898, 'trapper': 8899, 'gravity': 8900, 'sludge': 8901, 'swiped': 8902, 'waterbottle': 8903, 'pantry': 8904, 'hunched': 8905, 'waddle': 8906, 'confirm': 8907, 'rumors': 8908, 'saltines': 8909, 'exfoliating': 8910, 'clinique': 8911, 'dime': 8912, 'clusterers': 8913, 'forbids': 8914, 'education': 8915, 'supporting': 8916, 'spin': 8917, 'rightful': 8918, 'teva': 8919, 'preexisting': 8920, 'predisposition': 8921, 'diagnoses': 8922, 'psychologist': 8923, 'tallied': 8924, 'docter': 8925, 'chatty': 8926, 'niaspan': 8927, 'lipid': 8928, 'cholestrol': 8929, 'hashimoto': 8930, 'minomycin': 8931, 'widely': 8932, 'flaws': 8933, 'views': 8934, 'slender': 8935, 'uninterested': 8936, 'yearly': 8937, 'overpriced': 8938, 'boomers': 8939, 'quietly': 8940, '8oz': 8941, '9am': 8942, 'myth': 8943, 'platteau': 8944, 'metropolol': 8945, 'english': 8946, 'smarter': 8947, 'flashbacks': 8948, 'reprocess': 8949, '48h': 8950, 'trashy': 8951, 'travelling': 8952, 'interrupted': 8953, 'tablespoon': 8954, 'apprehension': 8955, 'facts': 8956, 'hooray': 8957, 'dermadew': 8958, 'nasally': 8959, 'tanna': 8960, 'pinky': 8961, 'otcl': 8962, 'rebalance': 8963, 'diarrhrea': 8964, 'elm': 8965, 'jackets': 8966, '31years': 8967, 'chuckle': 8968, 'effecting': 8969, 'deposit': 8970, 'pubis': 8971, 'straightening': 8972, 'curves': 8973, 'wacky': 8974, 'clonezapam': 8975, 'oppositional': 8976, 'orginally': 8977, 'serve': 8978, 'privacy': 8979, 'laws': 8980, 'pertaining': 8981, 'gambit': 8982, 'buzzkill': 8983, '60mgs': 8984, 'adjunct': 8985, 'forbid': 8986, 'tier': 8987, '4pm': 8988, 'container': 8989, '8pm': 8990, 'misfortune': 8991, 'rubbing': 8992, 'voiced': 8993, 'goiter': 8994, 'radioactive': 8995, 'iodine': 8996, '125mcg': 8997, '150mcg': 8998, 'idiot': 8999, 'handy': 9000, 'normalcy': 9001, 'tailspin': 9002, 'pscyh': 9003, 'hesitating': 9004, 'tax': 9005, 'pariah': 9006, 'disclaimer': 9007, 'liability': 9008, 'appeal': 9009, 'accord': 9010, 'hiatus': 9011, 'commonly': 9012, 'photogenic': 9013, 'extremities': 9014, 'grossing': 9015, 'nic': 9016, 'maine': 9017, 'microgynon': 9018, 'levlen': 9019, 'everynight': 9020, 'childproof': 9021, 'operable': 9022, 'dam': 9023, 'sued': 9024, 'knife': 9025, 'safety': 9026, 'brace': 9027, 'monophasic': 9028, 'contributing': 9029, 'cyclonenzapine': 9030, 'defiantly': 9031, 'fms': 9032, 'genetics': 9033, 'caveat': 9034, 'emptor': 9035, 'fortesta': 9036, 'fulfilling': 9037, 'mazing': 9038, 'muffler': 9039, 'propane': 9040, 'heater': 9041, 'forcing': 9042, 'vomitted': 9043, 'cancerous': 9044, 'factory': 9045, 'triggering': 9046, 'citizen': 9047, 'unwilling': 9048, 'racket': 9049, 'corrupt': 9050, 'penetrate': 9051, 'barrier': 9052, 'host': 9053, '227lbs': 9054, '166lbs': 9055, 'sprite': 9056, 'smooties': 9057, 'nutri': 9058, 'hydrocodoine': 9059, 'interdose': 9060, 'tragic': 9061, 'clench': 9062, 'unwillingness': 9063, 'tabitha57': 9064, 'sixth': 9065, 'hypoglycaemic': 9066, 'aneurysms': 9067, 'regimented': 9068, 'dabrafenib': 9069, 'mekinist': 9070, 'thread': 9071, 'descriptions': 9072, 'thanked': 9073, 'fullness': 9074, 'humidifier': 9075, 'moist': 9076, 'behave': 9077, 'gottten': 9078, 'stabbed': 9079, 'knifes': 9080, 'knuckles': 9081, 'initiate': 9082, 'creators': 9083, 'equipping': 9084, 'hydration': 9085, 'constricted': 9086, 'relating': 9087, 'stimulus': 9088, 'understood': 9089, 'atopy': 9090, 'brusing': 9091, 'stray': 9092, 'afer': 9093, 'duavee': 9094, 'admission': 9095, 'mainstay': 9096, 'shovered': 9097, 'ifor': 9098, 'recieved': 9099, 'verbal': 9100, 'expresses': 9101, 'sunk': 9102, 'weighted': 9103, '194lbs': 9104, 'hovered': 9105, 'indirect': 9106, 'immobilizing': 9107, 'attributing': 9108, 'chunks': 9109, 'progestrin': 9110, 'balling': 9111, 'dysmenorrhea': 9112, 'ultra': 9113, 'optom': 9114, 'irritiation': 9115, 'erratic': 9116, 'unchanged': 9117, 'intentional': 9118, 'pricks': 9119, 'twinges': 9120, 'examination': 9121, 'noo': 9122, 'lame': 9123, 'vagasil': 9124, 'vagisal': 9125, 'cider': 9126, 'vinegar': 9127, 'capable': 9128, 'hostility': 9129, 'lou': 9130, 'gehrig': 9131, 'piraformis': 9132, 'entrapment': 9133, 'tendinitis': 9134, 'subsequently': 9135, 'surfaced': 9136, 'freshwater': 9137, 'seafood': 9138, 'attire': 9139, 'chef': 9140, 'clips': 9141, 'medicater': 9142, 'epipens': 9143, 'diazapam': 9144, 'hypertriglycerides': 9145, 'deceiving': 9146, '37mg': 9147, 'beige': 9148, 'blogs': 9149, 'spurs': 9150, 'lowestrin': 9151, 'minstarin': 9152, '25lb': 9153, 'insomnia\\r\\r': 9154, 'narrowed': 9155, 'derma': 9156, 'pax': 9157, 'sycamore': 9158, 'pramipexole': 9159, 'timer': 9160, 'comforting': 9161, 'incase': 9162, 'twigged': 9163, 'perfection': 9164, 'paracetamol': 9165, 'rears': 9166, 'dangerously': 9167, 'amitrypraline': 9168, 'wishing': 9169, 'overtime': 9170, 'unreality': 9171, 'intellectual': 9172, 'capacity': 9173, 'distraction': 9174, 'authorities': 9175, 'competence': 9176, 'allowances': 9177, 'stereo': 9178, 'activist': 9179, 'confined': 9180, 'convalescent': 9181, 'exited': 9182, 'cytemel': 9183, 'whim': 9184, 'concussions': 9185, 'noradrenaline': 9186, 'concussion': 9187, 'bincar': 9188, 'acknowledge': 9189, 'amputated': 9190, 'heartache': 9191, 'avapro': 9192, 'aspercreme': 9193, 'advertisement': 9194, 'adhered': 9195, 'duct': 9196, 'throughly': 9197, 'criteque': 9198, 'usefulness': 9199, 'donnatal': 9200, 'flew': 9201, 'uneducated': 9202, 'acclimates': 9203, 'stabilise': 9204, 'corrects': 9205, 'shattered': 9206, 'freshly': 9207, 'gulps': 9208, 'chewing': 9209, 'spastisity': 9210, 'accounts': 9211, 'spastic': 9212, 'explore': 9213, 'peroid': 9214, 'chemically': 9215, 'nestle': 9216, 'deteriation': 9217, 'personalized': 9218, 'fiorecet': 9219, 'lone': 9220, 'predicting': 9221, 'coordinated': 9222, 'prophylactic': 9223, 'smashing': 9224, 'embarking': 9225, 'phenobarbital': 9226, 'fuzziness': 9227, 'bottomed': 9228, 'collapse': 9229, 'elevators': 9230, 'creep': 9231, 'haaa': 9232, 'dmards': 9233, 'hysterics': 9234, 'refusing': 9235, 'poz': 9236, 'was97': 9237, '30days': 9238, 'tha': 9239, 'hypomagnesia': 9240, 'hypercholerstolemia': 9241, 'dissolving': 9242, 'slimy': 9243, 'nulytely': 9244, 'splash': 9245, 'sprinkle': 9246, 'peach': 9247, 'crystals': 9248, 'sliced': 9249, 'divided': 9250, 'preps': 9251, 'poreless': 9252, 'relentless': 9253, 'downed': 9254, 'waterboarding': 9255, 'gentler': 9256, 'avanza': 9257, 'flying': 9258, 'centers': 9259, 'naprelan': 9260, 'engulfed': 9261, 'metabolizer': 9262, 'dysmorphia': 9263, 'providers': 9264, 'outdoors': 9265, 'miscarried': 9266, 'concieving': 9267, 'heartbreaking': 9268, 'scaly': 9269, 'colour': 9270, 'naproven': 9271, 'vitd': 9272, 'vertebrates': 9273, 'reformer': 9274, 'actvive': 9275, 'tivicay': 9276, 'epivir': 9277, 'compliant': 9278, 'regimens': 9279, 'anxiously': 9280, 'reviewed': 9281, 'sunscreen': 9282, 'sunburns': 9283, 'aquaphor': 9284, 'chapstick': 9285, 'scrapes': 9286, 'observations': 9287, 'buyer': 9288, 'ware': 9289, 'cloderm': 9290, 'revision': 9291, 'governed': 9292, '7hr': 9293, 'relpax': 9294, 'written': 9295, 'investors': 9296, 'fax': 9297, 'measurement': 9298, 'diahrreaing': 9299, 'violere': 9300, '630pm': 9301, 'distorted': 9302, 'halfed': 9303, 'inventors': 9304, '8ml': 9305, 'relented': 9306, 'glimerpride': 9307, 'researching': 9308, 'reflex': 9309, 'coloring': 9310, 'smartwater': 9311, 'minerals': 9312, 'fluorouracil': 9313, 'colorectal': 9314, 'metastasised': 9315, 'oxiplatin': 9316, 'memorize': 9317, 'memorizing': 9318, 'paragraph': 9319, 'express': 9320, 'tricare': 9321, 'threaten': 9322, 'intramuscularly': 9323, 'magnified': 9324, 'bmi': 9325, 'mercedes': 9326, 'urgencies': 9327, 'anywho': 9328, 'flipping': 9329, 'proactiv': 9330, 'neutrogena': 9331, 'delay': 9332, 'engaged': 9333, 'reckless': 9334, 'couldn\\r': 9335, 'licked': 9336, 'crust': 9337, 'protrusion': 9338, 'attenuated': 9339, '10oz': 9340, 'cranberry': 9341, 'sundays': 9342, '289lbs': 9343, 'tracking': 9344, 'juices': 9345, 'pricked': 9346, 'puppy': 9347, 'updating': 9348, 'survey': 9349, 'pessimism': 9350, 'naive': 9351, 'uncommon': 9352, 'prenatal': 9353, 'abstinent': 9354, 'oblasion': 9355, 'involutarily': 9356, 'jizzed': 9357, 'immed': 9358, 'crackhead': 9359, 'sought': 9360, 'cotin': 9361, 'continous': 9362, 'hookup': 9363, 'discharging': 9364, 'grumbling': 9365, 'smartest': 9366, 'telephone': 9367, 'rang': 9368, 'criticizing': 9369, 'traded': 9370, 'unipolar': 9371, 'emetic': 9372, 'slowdown': 9373, 'pronounced': 9374, 'vinca': 9375, 'alkaloid': 9376, 'soundly': 9377, 'latte': 9378, 'b12': 9379, 'cystoscopy': 9380, 'inj': 9381, 'jab': 9382, 'loo': 9383, 'chatting': 9384, 'elephant': 9385, 'hyperventilation': 9386, '05mg': 9387, 'staring': 9388, '26wks': 9389, 'nodoz': 9390, 'warped': 9391, 'perception': 9392, 'stems': 9393, 'rational': 9394, 'arch': 9395, 'incidence': 9396, '700dls': 9397, 'alzheimer': 9398, 'tenormin': 9399, 'atenenol': 9400, 'atenol': 9401, 'adapts': 9402, 'zinc': 9403, 'cereals': 9404, 'boosting': 9405, 'fluconase': 9406, 'singular': 9407, 'immunity': 9408, 'seemly': 9409, 'normotensive': 9410, 'losartan': 9411, 'arb': 9412, 'trialed': 9413, 'whiff': 9414, 'emphasis': 9415, 'pedal': 9416, 'diuretics': 9417, 'ratings': 9418, 'screamed': 9419, 'loudly': 9420, 'reception': 9421, 'neath': 9422, 'gunk': 9423, 'hulu': 9424, 'oddest': 9425, 'rendered': 9426, 'nonfunctional': 9427, 'experieced': 9428, 'eariler': 9429, 'reccommend': 9430, 'suspicious': 9431, 'praising': 9432, 'glaxo': 9433, 'robbed': 9434, 'banned': 9435, 'glimepride': 9436, 'ambian': 9437, 'ivig': 9438, 'cimzia': 9439, 'fastest': 9440, 'hive': 9441, 'rhabdomylosis': 9442, 'confinement': 9443, 'overload': 9444, 'favored': 9445, 'rust': 9446, 'roughage': 9447, 'corn': 9448, 'cob': 9449, 'thumsup': 9450, 'yeas': 9451, 'praluent': 9452, 'dexedrine': 9453, 'cylert': 9454, 'tourettes': 9455, 'cluck': 9456, 'doorknob': 9457, 'cam': 9458, 'transceiver': 9459, 'mouse': 9460, 'bluetooth': 9461, 'dissapointed': 9462, 'microtabs': 9463, 'alltogether': 9464, 'disaster': 9465, 'fissures': 9466, 'hopefuly': 9467, 'residual': 9468, 'gloves': 9469, 'capzasin': 9470, 'rewash': 9471, 'operative': 9472, 'surgeons': 9473, 'cheated': 9474, '21lbs': 9475, 'tripped': 9476, 'parking': 9477, 'marvelously': 9478, 'judgment': 9479, 'unrealistically': 9480, 'imagining': 9481, 'blacks': 9482, 'ghosts': 9483, 'sunburned': 9484, 'carries': 9485, 'intervals': 9486, 'indicating': 9487, 'unbalanced': 9488, 'natal': 9489, 'orthro': 9490, 'bronchospasms': 9491, 'supported': 9492, 'differing': 9493, 'lollipop': 9494, 'severest': 9495, 'fibromylagia': 9496, 'volunteer': 9497, 'lastly': 9498, 'participate': 9499, 'horses': 9500, 'frightens': 9501, '37yr': 9502, 'indescribably': 9503, 'cushion': 9504, '288lbs': 9505, '265lbs': 9506, 'xeralto': 9507, 'calves': 9508, 'albeit': 9509, 'roseacea': 9510, 'purple': 9511, 'hotline': 9512, 'supposedly': 9513, 'sits': 9514, 'sofa': 9515, 'checkup': 9516, 'supervised': 9517, 'stumbling': 9518, 'custody': 9519, 'creator': 9520, 'rrs': 9521, 'stemmed': 9522, 'dusty': 9523, 'heading': 9524, 'minoxidil': 9525, 'melted': 9526, 'terrifyingly': 9527, 'darkest': 9528, 'clog': 9529, 'stints': 9530, 'horrors': 9531, 'paralysis': 9532, 'mattress': 9533, 'grabbing': 9534, 'mended': 9535, 'summertime': 9536, 'nalteroxe': 9537, 'illusion': 9538, 'diarrohea': 9539, 'ecided': 9540, 'remarkably': 9541, 'bloatedness': 9542, 'coinciding': 9543, 'outgoing': 9544, 'thitd': 9545, 'buckets': 9546, 'tub': 9547, 'diapers': 9548, 'conservative': 9549, 'interstim': 9550, 'smack': 9551, 'phew': 9552, 'premarin': 9553, 'soaking': 9554, 'censtin': 9555, 'clinician': 9556, 'disliking': 9557, 'keen': 9558, 'mishap': 9559, 'disintegrating': 9560, 'denture': 9561, 'posed': 9562, 'hurray': 9563, 'annoy': 9564, 'gold': 9565, 'deformities': 9566, 'sweaters': 9567, 'sweater': 9568, 'diameter': 9569, 'hooded': 9570, 'sweatshirts': 9571, 'reveiws': 9572, 'toughed': 9573, 'daa': 9574, 'hga1c': 9575, 'glucophage': 9576, 'syrupy': 9577, 'hallucinated': 9578, 'reccommended': 9579, 'xenical': 9580, '6lb': 9581, 'memantine': 9582, 'sunpharma': 9583, 'coincidence': 9584, 'flesh': 9585, 'freakin': 9586, 'orthotricylcen': 9587, 'drives': 9588, 'merged': 9589, 'discoloured': 9590, 'efficiently': 9591, 'essays': 9592, 'answering': 9593, 'heather': 9594, 'demanding': 9595, 'alertness': 9596, 'attentiveness': 9597, 'incidents': 9598, 'eliquix': 9599, 'emailed': 9600, 'reddened': 9601, 'cardiogram': 9602, 'eliquis': 9603, 'sank': 9604, 'suggestes': 9605, 'tizandine': 9606, 'amlodopine': 9607, 'endowed': 9608, 'disappoint': 9609, 'mrsa': 9610, 'nonprocessed': 9611, 'delightful': 9612, 'retell': 9613, 'adenosylmethionine': 9614, 'vinpocetine': 9615, 'huperzin': 9616, 'chew': 9617, 'breather': 9618, 'cig': 9619, 'withgradually': 9620, 'depikote': 9621, 'lamotrogine': 9622, 'insanely': 9623, 'evoclin': 9624, 'foam': 9625, 'cleansing': 9626, 'cloths': 9627, 'ppi': 9628, 'ppis': 9629, 'nexuim': 9630, 'notch': 9631, 'rajani': 9632, 'craved': 9633, 'uninsured': 9634, 'promotion': 9635, 'expires': 9636, 'organization': 9637, 'sprained': 9638, 'plantar': 9639, 'facilities': 9640, 'provides': 9641, 'perephrial': 9642, 'hmo': 9643, 'belong': 9644, 'leaders': 9645, 'pregenancy': 9646, 'coumadin': 9647, 'multifocal': 9648, 'leukoencephalopathy': 9649, 'pml': 9650, 'canesten': 9651, 'setback': 9652, 'uncertain': 9653, 'curvature': 9654, 'pockets': 9655, 'coincide': 9656, 'respected': 9657, 'psychotics': 9658, 'kapavy': 9659, 'gabling': 9660, 'arent': 9661, 'cbt': 9662, 'counselling': 9663, 'gablin': 9664, 'nuedexta': 9665, 'dent': 9666, 'flareups': 9667, 'harmful': 9668, '123lbs': 9669, 'openly': 9670, 'compulsions': 9671, '3yrs': 9672, 'fxs': 9673, 'kneecap': 9674, 'veneers': 9675, 'piercings': 9676, 'minimize': 9677, 'vasovagal': 9678, 'elevating': 9679, 'manhandling': 9680, 'consciousness': 9681, 'naprosyn': 9682, 'maz': 9683, 'ing': 9684, 'coffie': 9685, 'recomend': 9686, 'bloodshot': 9687, 'plainly': 9688, 'oscillate': 9689, 'pencil': 9690, 'pebble': 9691, 'unconvinced': 9692, 'restperil': 9693, 'electricity': 9694, 'underarm': 9695, 'miami': 9696, 'blouse': 9697, 'planner': 9698, 'tortoise': 9699, 'golimumab': 9700, 'prefilled': 9701, 'syringes': 9702, 'pyralin': 9703, 'chop': 9704, 'holes': 9705, 'mirt': 9706, 'mirtzapine': 9707, 'traditional': 9708, 'centuries': 9709, 'pacific': 9710, 'islanders': 9711, 'sources': 9712, 'senna': 9713, 'element': 9714, 'mechnicial': 9715, 'tendancy': 9716, 'desiccated': 9717, 'rt3': 9718, 'taxing': 9719, 'adrenals': 9720, 'tedious': 9721, 'qualitest': 9722, 'powdered': 9723, 'silica': 9724, 'agent': 9725, 'gray': 9726, 'surrounded': 9727, 'deducted': 9728, 'vasoline': 9729, 'mao': 9730, 'cardiology': 9731, 'catheterization': 9732, 'saturation': 9733, 'letaris': 9734, 'reporting': 9735, 'finals': 9736, 'false': 9737, 'labour': 9738, 'pericarditis': 9739, 'toughest': 9740, 'hating': 9741, 'vertebrae': 9742, '80g': 9743, 'spill': 9744, 'restaurant': 9745, 'upside': 9746, 'expirience': 9747, 'vastly': 9748, 'waterworks': 9749, 'authorized': 9750, 'upfront': 9751, 'conservatively': 9752, 'believing': 9753, 'longitudinal': 9754, 'cda': 9755, 'requirement': 9756, 'dietetics': 9757, 'kcal': 9758, 'sedadting': 9759, 'hypnotic': 9760, 'crunchy': 9761, 'lessina': 9762, 'thrill': 9763, 'sulfate': 9764, 'wrenching': 9765, 'phoenominal': 9766, 'e45': 9767, 'cetraban': 9768, 'riding': 9769, 'unbroken': 9770, 'anatomically': 9771, 'technician': 9772, 'thwarted': 9773, 'photophobia': 9774, 'table': 9775, 'squirm': 9776, 'groan': 9777, 'trimmed': 9778, 'faze': 9779, 'lawmakers': 9780, 'camila': 9781, 'steadied': 9782, 'generically': 9783, 'disappears': 9784, 'regularity': 9785, 'cyclene': 9786, '2400mg': 9787, 'looong': 9788, 'mayyybe': 9789, 'emerge': 9790, '243lb': 9791, 'utter': 9792, 'importance': 9793, 'albuteral': 9794, 'vilest': 9795, 'clearance': 9796, 'mesalamine': 9797, 'antibodies': 9798, 'fixated': 9799, 'emts': 9800, '0mg': 9801, 'shortcuts': 9802, 'maul': 9803, 'monkeys': 9804, 'mals': 9805, 'googled': 9806, 'participated': 9807, 'pmd': 9808, 'vanish': 9809, 'uptight': 9810, 'deferring': 9811, 'shoes': 9812, 'mitigated': 9813, 'drawing': 9814, 'ogestrel': 9815, '34a': 9816, '125lbs': 9817, 'vasectomy': 9818, 'tending': 9819, 'protopic': 9820, 'dhe': 9821, 'allergens': 9822, 'neurons': 9823, 'fragmented': 9824, 'cyclical': 9825, '6months': 9826, 'commitment': 9827, 'rail': 9828, 'alley': 9829, 'strike': 9830, 'gutter': 9831, 'migranal': 9832, 'measures': 9833, 'plummetted': 9834, 'prisiq': 9835, 'neropathy': 9836, 'navy': 9837, 'antiperspirant': 9838, 'detergent': 9839, 'uniforms': 9840, 'wetness': 9841, 'avoids': 9842, 'pks': 9843, 'burny': 9844, 'shopped': 9845, 'costocondritis': 9846, 'cartilage': 9847, 'bursitis': 9848, 'abatement': 9849, 'combinations': 9850, 'rotations': 9851, 'destructive': 9852, 'biases': 9853, 'rigotitone': 9854, 'creates': 9855, 'groups': 9856, 'hypokalemia': 9857, 'matches': 9858, 'somber': 9859, '72hrs': 9860, '30minutes': 9861, 'ultracet': 9862, 'wretched': 9863, 'magnify': 9864, 'fold': 9865, 'spiky': 9866, 'intentions': 9867, 'legitimately': 9868, 'tripe': 9869, 'youth': 9870, '39th': 9871, 'blackhead': 9872, 'trustworthy': 9873, 'consequence': 9874, 'medicaid': 9875, 'bumbs': 9876, 'kidding': 9877, 'skins': 9878, 'thani': 9879, 'communication': 9880, 'terminal': 9881, 'ilieum': 9882, 'galloping': 9883, 'absorbency': 9884, 'oddball': 9885, 'rolls': 9886, 'amazon': 9887, 'password': 9888, 'spree': 9889, 'uninformed': 9890, 'clamping': 9891, 'plague': 9892, 'myriad': 9893, 'camping': 9894, 'rumbles': 9895, 'leg\\r': 9896, 'diarohea': 9897, 'controllable': 9898, 'emptiness': 9899, 'turmoil': 9900, 'suffocation': 9901, 'dys': 9902, 'epidural': 9903, 'sereve': 9904, 'bilateral': 9905, 'presented': 9906, '36yrs': 9907, 'breakup': 9908, 'dessert': 9909, 'dragged': 9910, 'willie': 9911, 'passive': 9912, 'partly': 9913, 'peoples': 9914, 'rooms': 9915, 'divide': 9916, 'transferred': 9917, 'spiking': 9918, 'bagged': 9919, 'obygn': 9920, 'contraption': 9921, 'writhe': 9922, 'abnormally': 9923, 'meanwhile': 9924, 'trainwreck': 9925, 'mimics': 9926, 'comatose': 9927, 'flakey': 9928, 'upwards': 9929, 'counteracting': 9930, 'gory': 9931, 'ticket': 9932, 'irritations': 9933, 'supred': 9934, 'hast': 9935, '3kgs': 9936, 'emotonal': 9937, 'concerntration': 9938, 'hydroxyurea': 9939, 'sickle': 9940, 'ropinirole': 9941, 'twisted': 9942, 'unstudied': 9943, '10mgs': 9944, 'preserved': 9945, 'flaked': 9946, 'lathargic': 9947, 'rite': 9948, 'successfull': 9949, 'diarhhea': 9950, 'buzzing': 9951, 'jeapordizing': 9952, 'pamphlet': 9953, 'consideration': 9954, 'judged': 9955, 'yawns': 9956, 'reoccur': 9957, 'suspecting': 9958, 'downright': 9959, 'alfuzosin': 9960, 'denavir': 9961, 'thousand': 9962, 'darn': 9963, 'dependance': 9964, 'subutex': 9965, 'oiled': 9966, 'smothered': 9967, 'noisy': 9968, 'circus': 9969, 'bid': 9970, 'fasciculations': 9971, 'erthematous': 9972, 'involvement': 9973, 'lymacycline': 9974, 'chronically': 9975, 'pessimistic': 9976, 'dianette': 9977, 'dermal': 9978, 'thaught': 9979, 'unfortunatley': 9980, 'tickling': 9981, 'horrifying': 9982, 'outta': 9983, 'drooled': 9984, 'beleived': 9985, 'compatible': 9986, 'transitions': 9987, 'neutral': 9988, 'moodswings': 9989, 'affording': 9990, 'rode': 9991, 'blinding': 9992, 'cyberknife': 9993, 'cypro': 9994, '1500mg': 9995, 'dyanavel': 9996, 'turbulent': 9997, 'overdosed': 9998, 'reared': 9999, 'laughter': 10000, 'propanalol': 10001, 'lasix': 10002, 'hates': 10003, 'extracurricular': 10004, 'mount': 10005, 'helena': 10006, 'dancing': 10007, 'goofy': 10008, 'freed': 10009, 'clogged': 10010, 'campus': 10011, 'plummeted': 10012, 'valsartan': 10013, 'indians': 10014, 'thou': 10015, 'shaped': 10016, 'disintegrated': 10017, 'filler': 10018, 'metro': 10019, 'exerting': 10020, 'soolantra': 10021, 'tinge': 10022, 'marking': 10023, 'pestosterone': 10024, 'releasing': 10025, 'privine': 10026, 'membrane': 10027, 'pharm': 10028, 'manufacture': 10029, 'obtainable': 10030, 'lydocain': 10031, 'reject': 10032, 'supplier': 10033, 'thearapist': 10034, 'raynauds': 10035, 'alternatives': 10036, 'episodic': 10037, '240mg': 10038, 'hint': 10039, 'mattered': 10040, 'underestimate': 10041, 'slings': 10042, 'arrows': 10043, 'frazzled': 10044, '301lbs': 10045, '279lbs': 10046, '199lbs': 10047, '3xd': 10048, 'unmedicated': 10049, 'selectively': 10050, 'incontinent': 10051, 'todays': 10052, 'dember': 10053, 'dizz': 10054, 'pseudotumor': 10055, 'outway': 10056, 'bounce': 10057, 'dismay': 10058, 'predicted': 10059, 'projected': 10060, 'doubtful': 10061, 'region': 10062, 'voila': 10063, 'recollection': 10064, 'enters': 10065, 'disarray': 10066, 'surges': 10067, 'purging': 10068, 'fad': 10069, 'wig': 10070, 'graduation': 10071, 'ceremony': 10072, 'prefills': 10073, 'razor': 10074, 'stupidly': 10075, 'applicators': 10076, 'showered': 10077, 'oseto': 10078, 'cephexin': 10079, 'abcess': 10080, 'mediciney': 10081, 'jello': 10082, 'ogyn': 10083, 'wimp': 10084, 'resuming': 10085, 'relayed': 10086, '43yo': 10087, '12lbs': 10088, 'spacey': 10089, 'keel': 10090, 'jeans': 10091, 'driver': 10092, 'estradiol': 10093, 'stiffening': 10094, 'wouldnt': 10095, 'functionable': 10096, '10kg': 10097, 'discipline': 10098, 'weighting': 10099, 'dieted': 10100, 'havnt': 10101, 'hungry❤': 10102, 'napping': 10103, 'skull': 10104, 'halving': 10105, 'anticonvulsant': 10106, 'rheum': 10107, 'withmy': 10108, 'rome': 10109, 'chlorpheniramine': 10110, 'phlegmitis': 10111, 'forum': 10112, 'sprays': 10113, 'mucolytics': 10114, 'decongestants': 10115, 'potentiating': 10116, 'trivada': 10117, 'encore': 10118, 'ciallis': 10119, 'better\\r': 10120, 'any': 10121, 'existence': 10122, 'amnesteem': 10123, 'smoother': 10124, 'emphasized': 10125, 'ppa': 10126, 'sprqodic': 10127, 'apnoea': 10128, 'devote': 10129, 'wakeup': 10130, 'midway': 10131, 'malpractice': 10132, 'congestive': 10133, 'followup': 10134, 'propelled': 10135, 'endstage': 10136, 'unplanned': 10137, 'installed': 10138, 'expiring': 10139, 'cocktails': 10140, 'organ': 10141, 'solids': 10142, 'incorporated': 10143, 'disrupting': 10144, 'dysthymia': 10145, 'inferno': 10146, 'warmth': 10147, 'sock': 10148, 'shoe': 10149, 'bmy': 10150, 'zeroed': 10151, 'ramipril': 10152, 'before': 10153, 'depo\\r\\r': 10154, 'hated\\r\\r': 10155, 'fat\\r\\r': 10156, 'just': 10157, 'prevalent': 10158, 'meniscus': 10159, 'hamstring': 10160, 'cantaloupe': 10161, 'sunshine': 10162, 'perk': 10163, 'replacing': 10164, 'brake': 10165, 'basketball': 10166, 'biopolar': 10167, '700mg': 10168, 'desperately': 10169, 'bound': 10170, 'amigo': 10171, 'rip': 10172, 'implying': 10173, 'emphasize': 10174, 'effing': 10175, 'ablutions': 10176, 'forties': 10177, 'shear': 10178, 'completion': 10179, 'wrinkled': 10180, 'fingertips': 10181, 'cookie': 10182, 'code': 10183, 'conrave': 10184, 'membership': 10185, 'digital': 10186, 'sends': 10187, 'wirelessly': 10188, 'leafy': 10189, 'habitual': 10190, 'iced': 10191, 'savory': 10192, 'overeating': 10193, 'veg': 10194, 'influenza': 10195, 'braces': 10196, 'otrivin': 10197, 'acetylcystein': 10198, 'hexal': 10199, 'resolve': 10200, 'weighthe': 10201, 'doable': 10202, 'furosemide': 10203, 'oxybutynin': 10204, 'eighteen': 10205, 'salbutamol': 10206, 'optifast': 10207, 'softener': 10208, 'excercize': 10209, 'constructive': 10210, 'criticism': 10211, 'handwriting': 10212, 'eucerin': 10213, 'discourage': 10214, 'tree': 10215, 'vaginits': 10216, 'apprehensive': 10217, 'prodding': 10218, 'denial': 10219, '225lb': 10220, '35yr': 10221, '145lb': 10222, 'induction': 10223, 'baloons': 10224, 'and\\r': 10225, 'taking\\r': 10226, 'through\\r': 10227, 'topomax': 10228, 'outlet': 10229, 'pencils': 10230, 'handling': 10231, 'restriction': 10232, 'avaine': 10233, 'metastities': 10234, 'aorta': 10235, 'cherish': 10236, 'erupted': 10237, 'flashback': 10238, 'rewards': 10239, 'photos': 10240, 'stuffed': 10241, 'levorphanol': 10242, 'disinterest': 10243, 'cherritussin': 10244, 'pseudoephedrine': 10245, 'plays': 10246, 'gasping': 10247, 'anoro': 10248, 'risperdone': 10249, 'visionary': 10250, 'livid': 10251, 'parent': 10252, 'bearing': 10253, 'picture': 10254, 'erlotinib': 10255, 'encouraging': 10256, 'imparing': 10257, 'reactive': 10258, 'snappy': 10259, 'logical': 10260, 'osteopenia': 10261, 'message': 10262, 'overlooking': 10263, 'hayfever': 10264, 'filters': 10265, 'deppressed': 10266, 'paleo': 10267, 'devoid': 10268, 'pores': 10269, 'kickback': 10270, 'crowded': 10271, 'annoyances': 10272, 'crampiness': 10273, 'professor': 10274, 'novels': 10275, 'lover': 10276, 'honeymoon': 10277, 'vie': 10278, 'pusher': 10279, 'posters': 10280, 'fir': 10281, 'invention': 10282, 'overlaps': 10283, 'biggie': 10284, 'prolonging': 10285, 'inviting': 10286, 'syringe': 10287, 'oak': 10288, 'inflamatory': 10289, 'vertiginous': 10290, 'circuit': 10291, 'circuits': 10292, 'leather': 10293, 'naproxyn': 10294, 'brintillex': 10295, 'phenetermine': 10296, '39lbs': 10297, 'supportive': 10298, 'suffere': 10299, 'vasaline': 10300, 'veins': 10301, 'qvar': 10302, 'nistatin': 10303, 'spacer': 10304, 'therasol': 10305, 'oratec': 10306, 'bayer': 10307, 'advanced': 10308, 'experimenting': 10309, 'celxa': 10310, 'morining': 10311, 'presume': 10312, 'concludes': 10313, 'diareah': 10314, 'osteoarthrititis': 10315, 'celebrix': 10316, 'senerio': 10317, 'freeway': 10318, 'foolish': 10319, 'flowing': 10320, 'grace': 10321, 'hydrozyzine': 10322, 'congrats': 10323, 'deny': 10324, 'curse': 10325, '10lb': 10326, 'phlegm': 10327, 'zydeco': 10328, 'guafenesin': 10329, 'expectorant': 10330, 'beeline': 10331, 'precipitated': 10332, 'yoa': 10333, '238lbs': 10334, 'sertralin': 10335, 'cellulite': 10336, 'solo': 10337, 'resuscitate': 10338, 'tiva': 10339, 'myrbetrig': 10340, '70yr': 10341, 'twirled': 10342, 'merry': 10343, 'goose': 10344, 'progresses': 10345, 'aiding': 10346, 'alligator': 10347, 'nada': 10348, 'desogen': 10349, 'spiralling': 10350, 'iwas': 10351, 'reddy': 10352, 'worthless': 10353, 'cute': 10354, '25th': 10355, 'pyschiatrist': 10356, 'pine': 10357, 'shaved': 10358, 'practical': 10359, '100mgs': 10360, 'winds': 10361, 'behing': 10362, 'depress': 10363, 'effet': 10364, 'ajust': 10365, 'circumstance': 10366, 'cerebral': 10367, 'paulsey': 10368, 'def': 10369, 'popsicle': 10370, 'superprep': 10371, 'desitin': 10372, 'nyquil': 10373, 'volume': 10374, '530am': 10375, 'names': 10376, 'eyelid': 10377, 'rituxan': 10378, 'jun': 10379, 'withdrawing': 10380, 'week\\r': 10381, 'orgasm\\r': 10382, 'it': 10383, 'pity': 10384, 'australians': 10385, 'several\\r': 10386, 'bathtub': 10387, 'examined': 10388, 'cellulitus': 10389, 'uselessly': 10390, 'mevecor': 10391, 'zocor': 10392, 'quadruple': 10393, '10mths': 10394, 'setraline': 10395, 'diphenhydramine': 10396, 'lightest': 10397, 'tacrolimus': 10398, 'scaley': 10399, 'vey': 10400, 'string': 10401, 'tangled': 10402, 'hhalf': 10403, 'motiviation': 10404, 'postive': 10405, 'vocalize': 10406, 'bledding': 10407, 'patched': 10408, 'lecture': 10409, 'polystic': 10410, 'ejeculation': 10411, 'flacid': 10412, 'stamina': 10413, 'automatically': 10414, 'googling': 10415, '500mgx2': 10416, 'proclaimed': 10417, 'snacker': 10418, 'snacked': 10419, 'pie': 10420, 'nonsteriodal': 10421, 'fertilized': 10422, 'iphone': 10423, 'counted': 10424, 'tenuate': 10425, 'prohibitive': 10426, 'mississippi': 10427, 'subscribed': 10428, 'drv': 10429, 'obsession': 10430, 'obsessed': 10431, 'zyclara': 10432, 'mohls': 10433, 'chewable': 10434, 'busty': 10435, 'groin': 10436, 'pac': 10437, 'hba1c': 10438, 'seat': 10439, 'wellish': 10440, 'thouroughly': 10441, 'std': 10442, 'homeless': 10443, 'coin': 10444, 'trilipix': 10445, 'glucotrol': 10446, '3x5ml': 10447, 'appreciated': 10448, 'hearburn': 10449, 'alka': 10450, 'seltzer': 10451, 'prophylaxis': 10452, 'prestiq': 10453, '9lbs': 10454, 'elated': 10455, '40yrs': 10456, 'panlor': 10457, 'fare': 10458, 'statement': 10459, 'antianxiety': 10460, 'breakdowns': 10461, 'anticipation': 10462, 'fairness': 10463, 'straying': 10464, 'substance': 10465, 'affective': 10466, 'booty': 10467, 'holter': 10468, '7hrs': 10469, 'purely': 10470, 'roommate': 10471, 'dug': 10472, 'hurry': 10473, 'slapping': 10474, 'brownish': 10475, 'determines': 10476, 'ovule': 10477, 'boating': 10478, 'attacked': 10479, 'vessels': 10480, 'avinza': 10481, 'enabling': 10482, 'spice': 10483, 'synthetic': 10484, 'bull': 10485, 'tightened': 10486, 'sustained': 10487, 'gritted': 10488, 'shortens': 10489, 'sliding': 10490, 'brittle': 10491, 'unaware': 10492, 'chemicals': 10493, 'dulls': 10494, 'gen': 10495, 'abstaining': 10496, 'bloods': 10497, 'terbinafine': 10498, 'curanail': 10499, 'urea': 10500, '100lbs': 10501, 'slave': 10502, 'methadones': 10503, 'metamosone': 10504, 'expired': 10505, 'diane': 10506, 'yikes': 10507, 'snowboarding': 10508, 'paddle': 10509, 'boarding': 10510, 'wakesurfing': 10511, 'wakeboarding': 10512, 'reputable': 10513, 'communicating': 10514, 'asserting': 10515, 'punctual': 10516, 'clubs': 10517, '5hrs': 10518, 'bringing': 10519, 'outweighing': 10520, 'skeptic': 10521, 'gynecology': 10522, 'friendships': 10523, 'vitroza': 10524, 'alluring': 10525, 'nether': 10526, 'regions': 10527, 'partnered': 10528, 'triger': 10529, 'diptession': 10530, 'favorit': 10531, 'quaetepine': 10532, 'splited': 10533, 'experiensed': 10534, 'heaving': 10535, 'unorganized': 10536, 'prediabetes': 10537, 'respire': 10538, 'accomplished': 10539, 'intelligent': 10540, 'consistantly': 10541, 'welchol': 10542, 'adhesions': 10543, 'norcos': 10544, 'butran': 10545, 'ramp': 10546, 'thyroiditis': 10547, 'diminishing': 10548, 'booze': 10549, 'sluggishness': 10550, 'codeine\\r': 10551, 'comparability': 10552, 'cuased': 10553, 'bereavement': 10554, 'dies': 10555, 'int': 10556, 'deer': 10557, 'headlights': 10558, 'rep': 10559, 'saviour': 10560, 'moisturised': 10561, 'cleansed': 10562, 'stun': 10563, 'beds': 10564, '24mg': 10565, 'mediations': 10566, 'hcp': 10567, 'inter': 10568, 'defeated': 10569, 'phenoxymethyl': 10570, 'squash': 10571, 'unbareable': 10572, '10hours': 10573, '5days': 10574, 'debilitation': 10575, 'unlucky': 10576, 'unfit': 10577, 'pumpkin': 10578, 'seeds': 10579, 'scattered': 10580, 'peeled': 10581, 'reveal': 10582, 'cuticle': 10583, 'dislocated': 10584, 'socket': 10585, '6days': 10586, 'deployment': 10587, 'biggies': 10588, 'spooky': 10589, 'angioplasties': 10590, 'baggy': 10591, 'eagerness': 10592, 'shaving': 10593, 'battery': 10594, 'obstructive': 10595, 'airway': 10596, 'desensitized': 10597, '6hours': 10598, 'calmly': 10599, 'pullout': 10600, 'heartily': 10601, 'notwithstanding': 10602, 'druggies': 10603, 'diabetics': 10604, 'preferred': 10605, 'hike': 10606, 'citaprolam': 10607, 'flakyness': 10608, 'hugely': 10609, 'flavour': 10610, 'depths': 10611, 'trd': 10612, 'spins': 10613, 'flora': 10614, 'annihilated': 10615, 'lochia': 10616, 'premenopause': 10617, 'topiramate': 10618, 'contraction': 10619, '14yr': 10620, 'metabolic': 10621, 'gleason': 10622, 'bicalutamide': 10623, 'bpd': 10624, 'inc': 10625, 'lim': 10626, 'esp': 10627, 'seizing': 10628, 'lexy': 10629, 'minimise': 10630, 'blunt': 10631, 'responses': 10632, 'eventual': 10633, 'antid': 10634, 'dermatomyositis': 10635, 'quinicrine': 10636, 'lichen': 10637, 'planus': 10638, 'compelled': 10639, 'u2026': 10640, 'curry': 10641, 'chinese': 10642, '32yrs': 10643, 'percosets': 10644, 'jail': 10645, 'eliminates': 10646, 'corrolate': 10647, 'conquering': 10648, 'permeated': 10649, 'shuts': 10650, 'map': 10651, 'thickened': 10652, 'oseltamivir': 10653, 'vaccinated': 10654, 'headache\\r': 10655, 'day3': 10656, 'appetite\\r': 10657, 'reviewing': 10658, 'vascular': 10659, 'necrosis': 10660, 'l11': 10661, 'vicidin': 10662, 'grandkids': 10663, 'murmur': 10664, 'gush': 10665, 'angels': 10666, 'zip': 10667, 'aggravate': 10668, 'evamist': 10669, 'provigal': 10670, 'tireness': 10671, 'dance': 10672, 'sing': 10673, 'tradjenta': 10674, 'methylin': 10675, 'illnesses': 10676, 'progvigl': 10677, 'acyanya': 10678, 'ulcer': 10679, 'pissing': 10680, 'butthole': 10681, 'elevation': 10682, 'curved': 10683, 'budget': 10684, 'fee': 10685, 'lysine': 10686, 'immense': 10687, 'ravenous': 10688, 'clindesse': 10689, 'electrified': 10690, 'knots': 10691, 'storms': 10692, 'mechanisms': 10693, 'joining': 10694, 'overeaters': 10695, 'anonymous': 10696, 'binging': 10697, 'vyvanase': 10698, 'bizarre': 10699, 'caving': 10700, 'temperamental': 10701, 'hbc': 10702, 'awarness': 10703, '27yo': 10704, 'punch': 10705, 'obsessing': 10706, 'mirana': 10707, 'yest': 10708, 'guesses': 10709, 'tearful': 10710, 'arguments': 10711, 'aspects': 10712, 'muscle\\r': 10713, 'energy\\r': 10714, 'after': 10715, 'results\\r': 10716, 'aerobic': 10717, 'exercises': 10718, 'squashed': 10719, 'softeners': 10720, 'mineral': 10721, 'menstral': 10722, 'standby': 10723, 'lsd': 10724, 'gabatin': 10725, 'insist': 10726, 'lovastatin': 10727, 'apologized': 10728, 'component': 10729, 'grouchier': 10730, 'argumentative': 10731, 'antisocial': 10732, 'grouchy': 10733, 'fats': 10734, 'relations': 10735, 'easing': 10736, 'elsewhere': 10737, 'frist': 10738, 'whooping': 10739, 'ben': 10740, 'myrbetric': 10741, 'print': 10742, '110lbs': 10743, 'tricyclen': 10744, 'lovaza': 10745, 'omacor': 10746, 'inevitably': 10747, 'permits': 10748, '13lbs': 10749}\n",
            "{1: 'day', 2: 'side', 3: 'taking', 4: 'years', 5: 'first', 6: 'effects', 7: 'pain', 8: 'months', 9: 'started', 10: 'days', 11: 'take', 12: 'get', 13: 'time', 14: 'like', 15: 'would', 16: 'feel', 17: 'back', 18: 'pill', 19: 'one', 20: 'week', 21: 'period', 22: 'weeks', 23: 'took', 24: 'doctor', 25: 'also', 26: 'medication', 27: 'month', 28: 'weight', 29: 'got', 30: 'life', 31: 'since', 32: 'still', 33: 'anxiety', 34: 'bad', 35: 'really', 36: 'much', 37: 'went', 38: 'work', 39: 'never', 40: 'better', 41: 'two', 42: 'control', 43: 'felt', 44: 'year', 45: 'medicine', 46: 'well', 47: 'every', 48: 'great', 49: 'even', 50: 'night', 51: 'good', 52: 'ago', 53: 'sleep', 54: 'birth', 55: 'tried', 56: 'worked', 57: 'depression', 58: 'hours', 59: 'works', 60: 'little', 61: 'made', 62: 'dose', 63: 'almost', 64: 'drug', 65: 'last', 66: 'acne', 67: 'used', 68: 'put', 69: 'feeling', 70: 'getting', 71: 'severe', 72: 'help', 73: 'going', 74: 'prescribed', 75: 'use', 76: 'nausea', 77: 'skin', 78: 'could', 79: 'symptoms', 80: 'periods', 81: 'away', 82: 'nothing', 83: 'ever', 84: 'far', 85: 'using', 86: 'stopped', 87: 'cramps', 88: 'recommend', 89: 'try', 90: 'times', 91: 'sex', 92: 'experience', 93: 'lot', 94: 'mood', 95: 'lost', 96: 'normal', 97: 'think', 98: 'know', 99: 'effect', 100: 'gain', 101: 'see', 102: 'worse', 103: 'due', 104: 'taken', 105: 'long', 106: 'body', 107: 'bleeding', 108: 'old', 109: 'helped', 110: 'stop', 111: 'always', 112: 'pills', 113: 'around', 114: 'working', 115: 'say', 116: 'without', 117: 'horrible', 118: 'however', 119: 'headaches', 120: 'within', 121: 'stomach', 122: 'many', 123: 'gone', 124: 'morning', 125: 'later', 126: 'finally', 127: 'blood', 128: 'found', 129: 'noticed', 130: 'three', 131: 'right', 132: 'thing', 133: 'different', 134: 'gave', 135: 'next', 136: 'able', 137: 'problems', 138: 'best', 139: 'thought', 140: 'less', 141: 'sure', 142: 'make', 143: 'another', 144: 'though', 145: 'daily', 146: 'experienced', 147: 'happy', 148: 'eat', 149: 'people', 150: 'love', 151: 'completely', 152: 'want', 153: 'give', 154: 'something', 155: 'need', 156: 'couple', 157: 'pounds', 158: 'said', 159: 'second', 160: 'swings', 161: 'everything', 162: 'anything', 163: 'told', 164: 'things', 165: 'face', 166: 'half', 167: 'shot', 168: 'light', 169: 'painful', 170: 'bit', 171: 'today', 172: 'panic', 173: 'gained', 174: 'tired', 175: 'pregnant', 176: 'helps', 177: 'headache', 178: 'diagnosed', 179: 'extremely', 180: 'spotting', 181: 'worst', 182: 'new', 183: 'meds', 184: 'may', 185: 'way', 186: 'dry', 187: 'pretty', 188: 'start', 189: 'drive', 190: 'appetite', 191: 'problem', 192: 'relief', 193: 'terrible', 194: 'issues', 195: 'switched', 196: 'worth', 197: 'longer', 198: 'hope', 199: 'keep', 200: 'decided', 201: 'mouth', 202: 'actually', 203: 'loss', 204: 'trying', 205: 'sometimes', 206: 'past', 207: 'heart', 208: 'starting', 209: 'makes', 210: 'lbs', 211: 'high', 212: 'definitely', 213: 'effective', 214: 'infection', 215: 'everyone', 216: 'came', 217: 'given', 218: 'depressed', 219: 'migraines', 220: 'heavy', 221: 'minutes', 222: 'hour', 223: 'low', 224: 'reviews', 225: 'several', 226: 'anyone', 227: 'cramping', 228: 'began', 229: 'twice', 230: 'insurance', 231: 'seems', 232: 'enough', 233: 'bed', 234: 'changed', 235: 'point', 236: 'change', 237: 'fine', 238: 'already', 239: 'insomnia', 240: 'energy', 241: 'find', 242: 'attacks', 243: 'free', 244: 'water', 245: 'product', 246: 'results', 247: 'pressure', 248: 'increased', 249: 'caused', 250: 'needed', 251: 'sick', 252: 'clear', 253: 'diarrhea', 254: 'least', 255: 'amazing', 256: 'full', 257: 'suffered', 258: 'dosage', 259: 'zoloft', 260: 'eating', 261: 'anymore', 262: 'come', 263: 'else', 264: 'patch', 265: 'soon', 266: 'absolutely', 267: 'wanted', 268: 'difference', 269: 'awful', 270: 'reason', 271: 'med', 272: 'read', 273: 'mild', 274: 'usually', 275: 'immediately', 276: 'hard', 277: 'lower', 278: 'along', 279: 'treatment', 280: 'stay', 281: 'overall', 282: 'person', 283: 'extreme', 284: 'became', 285: 'done', 286: 'negative', 287: 'cold', 288: 'although', 289: 'food', 290: 'maybe', 291: 'constant', 292: 'lasted', 293: 'plan', 294: 'recently', 295: 'thoughts', 296: 'everyday', 297: 'head', 298: 'doctors', 299: 'constipation', 300: 'lose', 301: 'major', 302: 'reading', 303: 'medications', 304: 'disorder', 305: 'whole', 306: 'drink', 307: 'yet', 308: 'others', 309: 'nauseous', 310: 'sleeping', 311: 'cause', 312: 'migraine', 313: 'pack', 314: 'end', 315: 'recommended', 316: 'small', 317: 'insertion', 318: 'muscle', 319: 'taste', 320: 'cleared', 321: 'left', 322: 'pregnancy', 323: 'etc', 324: 'highly', 325: 'tell', 326: 'gotten', 327: 'hair', 328: 'home', 329: 'medicines', 330: 'regular', 331: 'diet', 332: 'hoping', 333: 'anxious', 334: '10mg', 335: 'inserted', 336: 'notice', 337: 'miracle', 338: 'chronic', 339: 'believe', 340: 'nexplanon', 341: 'surgery', 342: 'takes', 343: 'burning', 344: 'fast', 345: 'slight', 346: 'crazy', 347: 'job', 348: 'prescription', 349: 'quit', 350: 'sore', 351: 'hospital', 352: 'woke', 353: 'removed', 354: 'wish', 355: 'break', 356: 'might', 357: 'suffer', 358: 'hurt', 359: 'coming', 360: 'stuff', 361: 'lexapro', 362: 'doc', 363: 'seemed', 364: 'huge', 365: 'third', 366: 'hot', 367: 'four', 368: 'husband', 369: 'let', 370: 'entire', 371: 'per', 372: 'quite', 373: 'positive', 374: 'deal', 375: 'asleep', 376: '5mg', 377: 'experiencing', 378: 'dizzy', 379: 'yrs', 380: 'super', 381: 'implant', 382: 'part', 383: 'chest', 384: 'big', 385: 'either', 386: 'improvement', 387: 'early', 388: 'plus', 389: 'school', 390: 'called', 391: 'family', 392: 'vomiting', 393: 'implanon', 394: 'son', 395: 'emotional', 396: 'age', 397: 'exercise', 398: 'kept', 399: 'quickly', 400: 'ended', 401: 'cymbalta', 402: 'function', 403: 'except', 404: 'walk', 405: 'hands', 406: 'probably', 407: 'wonderful', 408: 'making', 409: 'continue', 410: 'improved', 411: '3rd', 412: 'legs', 413: 'looking', 414: 'constantly', 415: 'attack', 416: 'generic', 417: 'glad', 418: 'fatigue', 419: 'especially', 420: 'non', 421: 'pains', 422: 'scared', 423: 'suffering', 424: 'dizziness', 425: 'xanax', 426: 'easy', 427: 'effexor', 428: 'beginning', 429: 'goes', 430: 'currently', 431: 'remember', 432: 'cream', 433: 'gets', 434: 'thank', 435: 'stress', 436: 'seem', 437: 'mirena', 438: 'boyfriend', 439: 'thinking', 440: 'self', 441: 'developed', 442: 'yes', 443: 'itching', 444: 'dreams', 445: 'comes', 446: 'type', 447: 'straight', 448: 'saved', 449: '20mg', 450: 'increase', 451: 'literally', 452: 'wake', 453: 'level', 454: 'someone', 455: 'prozac', 456: 'live', 457: 'feels', 458: 'iud', 459: 'form', 460: '2nd', 461: 'totally', 462: 'neck', 463: 'become', 464: 'guess', 465: 'crying', 466: 'lots', 467: 'trouble', 468: 'arm', 469: 'yesterday', 470: 'withdrawal', 471: 'short', 472: 'switch', 473: 'intense', 474: 'anti', 475: 'depo', 476: 'expensive', 477: 'care', 478: 'eyes', 479: 'wait', 480: 'decreased', 481: 'barely', 482: 'baby', 483: 'lighter', 484: 'cycle', 485: 'amount', 486: 'honestly', 487: 'normally', 488: 'injection', 489: 'often', 490: 'smoking', 491: 'wonders', 492: 'look', 493: 'moody', 494: 'losing', 495: 'course', 496: 'please', 497: 'mind', 498: 'healthy', 499: 'six', 500: 'bipolar', 501: 'wellbutrin', 502: 'sensitive', 503: 'weird', 504: 'cannot', 505: 'slowly', 506: 'none', 507: 'feet', 508: 'eventually', 509: 'sugar', 510: 'sinus', 511: 'brand', 512: '50mg', 513: 'giving', 514: 'worry', 515: 'brain', 516: 'prior', 517: 'drinking', 518: 'breasts', 519: 'drugs', 520: 'real', 521: 'wear', 522: 'hrs', 523: 'hungry', 524: 'eye', 525: 'pay', 526: 'fall', 527: 'rather', 528: 'switching', 529: 'cost', 530: 'yeast', 531: 'stopping', 532: 'fact', 533: 'adhd', 534: 'klonopin', 535: 'hate', 536: 'add', 537: 'red', 538: 'kind', 539: 'saw', 540: 'throughout', 541: 'breast', 542: 'nearly', 543: '25mg', 544: 'vision', 545: 'focus', 546: '1st', 547: 'bathroom', 548: 'place', 549: 'bloating', 550: 'calm', 551: 'throat', 552: 'changes', 553: 'cough', 554: 'upset', 555: 'tablets', 556: 'reduced', 557: 'easily', 558: 'rid', 559: 'allergic', 560: 'pristiq', 561: 'asked', 562: 'joint', 563: 'loestrin', 564: 'slightly', 565: 'procedure', 566: 'nights', 567: 'test', 568: 'affects', 569: 'broke', 570: 'god', 571: 'antibiotics', 572: 'loved', 573: 'says', 574: 'thanks', 575: 'skyla', 576: 'late', 577: 'helping', 578: 'daughter', 579: 'itchy', 580: 'sweating', 581: 'cry', 582: 'total', 583: 'libido', 584: 'bowel', 585: 'unfortunately', 586: 'minor', 587: 'house', 588: 'system', 589: 'forget', 590: 'friends', 591: 'added', 592: 'okay', 593: 'doses', 594: 'nervous', 595: 'nuvaring', 596: 'knew', 597: 'arthritis', 598: 'continued', 599: 'levels', 600: 'flashes', 601: 'rate', 602: 'antibiotic', 603: 'bleed', 604: 'serious', 605: 'luck', 606: 'fibromyalgia', 607: 'zero', 608: 'causing', 609: 'cut', 610: 'reaction', 611: 'happened', 612: 'celexa', 613: 'instead', 614: 'rest', 615: 'slept', 616: 'turned', 617: 'truly', 618: 'leg', 619: 'mostly', 620: 'heard', 621: 'awesome', 622: 'flu', 623: 'term', 624: 'march', 625: 'ready', 626: 'abilify', 627: '100mg', 628: 'uti', 629: 'post', 630: 'seen', 631: 'child', 632: 'active', 633: 'suggested', 634: 'minimal', 635: 'talk', 636: 'angry', 637: 'nose', 638: 'hit', 639: 'occasional', 640: 'pimples', 641: 'kids', 642: 'lasts', 643: 'nerve', 644: 'hopefully', 645: 'finished', 646: 'evening', 647: 'including', 648: 'sad', 649: 'causes', 650: 'seeing', 651: 'falling', 652: 'must', 653: 'following', 654: 'suicidal', 655: 'size', 656: 'knee', 657: 'suboxone', 658: 'aches', 659: 'memory', 660: 'awake', 661: 'cravings', 662: 'issue', 663: 'dermatologist', 664: 'case', 665: 'worried', 666: 'health', 667: 'returned', 668: 'tests', 669: 'psychiatrist', 670: 'unbearable', 671: 'ten', 672: 'strong', 673: 'mine', 674: 'friend', 675: 'supposed', 676: 'initially', 677: 'rash', 678: 'irritable', 679: 'single', 680: 'waiting', 681: 'easier', 682: 'ask', 683: 'latuda', 684: 'pharmacy', 685: 'area', 686: 'condition', 687: 'move', 688: 'sit', 689: 'realized', 690: 'hell', 691: 'name', 692: 'difficult', 693: 'breath', 694: 'spasms', 695: 'mean', 696: 'looked', 697: 'discomfort', 698: 'infections', 699: 'leave', 700: 'hormones', 701: 'swelling', 702: 'stayed', 703: 'ibuprofen', 704: 'miserable', 705: 'uncomfortable', 706: 'ortho', 707: 'unable', 708: 'tri', 709: 'psoriasis', 710: 'combination', 711: 'hardly', 712: 'arms', 713: 'state', 714: 'review', 715: 'process', 716: 'stand', 717: 'usual', 718: 'till', 719: 'breakouts', 720: 'run', 721: 'social', 722: 'yaz', 723: 'shots', 724: 'sleepy', 725: 'subsided', 726: 'money', 727: 'moderate', 728: 'tomorrow', 729: 'breathing', 730: 'injections', 731: 'happier', 732: 'possible', 733: 'quick', 734: 'smoke', 735: 'aware', 736: 'happen', 737: 'anyway', 738: 'matter', 739: 'wonder', 740: 'unless', 741: 'unprotected', 742: 'contrave', 743: 'wrong', 744: 'disease', 745: 'patches', 746: 'afraid', 747: 'slow', 748: 'cover', 749: 'expected', 750: 'dealing', 751: 'greatly', 752: 'research', 753: 'saver', 754: 'cystic', 755: 'bladder', 756: 'perfect', 757: 'focused', 758: 'fell', 759: 'method', 760: 'close', 761: 'keeps', 762: 'avoid', 763: 'metformin', 764: 'cancer', 765: 'sweats', 766: 'lack', 767: '40mg', 768: 'wife', 769: 'children', 770: 'significant', 771: 'walking', 772: 'general', 773: 'adderall', 774: 'chantix', 775: 'loose', 776: 'mother', 777: 'fever', 778: 'sprintec', 779: 'seriously', 780: 'bronchitis', 781: 'irregular', 782: 'gel', 783: 'option', 784: 'previously', 785: 'a1c', 786: 'sweat', 787: 'physical', 788: 'tablet', 789: 'stick', 790: 'basically', 791: 'male', 792: 'round', 793: 'five', 794: 'feelings', 795: 'women', 796: 'inside', 797: 'realize', 798: 'immediate', 799: 'advice', 800: 'waking', 801: 'large', 802: 'bled', 803: 'seizures', 804: 'top', 805: 'random', 806: 'desire', 807: 'therapy', 808: 'compared', 809: 'check', 810: 'office', 811: 'ill', 812: 'disappeared', 813: 'otherwise', 814: 'spots', 815: 'august', 816: 'changing', 817: 'bone', 818: 'experiences', 819: 'episodes', 820: 'white', 821: 'vyvanse', 822: 'rarely', 823: 'strange', 824: 'prescribe', 825: 'methadone', 826: 'condom', 827: 'oral', 828: 'initial', 829: 'supply', 830: 'emotions', 831: 'mental', 832: 'send', 833: 'upper', 834: 'female', 835: 'miss', 836: 'sense', 837: 'empty', 838: 'placed', 839: 'price', 840: 'april', 841: 'syndrome', 842: 'afternoon', 843: 'cons', 844: 'brought', 845: 'bloated', 846: 'zombie', 847: 'middle', 848: 'bought', 849: 'nightmares', 850: 'pms', 851: 'known', 852: 'acid', 853: 'similar', 854: 'chance', 855: 'spot', 856: 'manic', 857: 'ibs', 858: 'tiredness', 859: 'outside', 860: 'wow', 861: 'hand', 862: 'epiduo', 863: 'dropped', 864: 'alone', 865: 'frequent', 866: 'gabapentin', 867: 'asthma', 868: 'belviq', 869: 'true', 870: 'abdominal', 871: 'withdrawals', 872: 'happens', 873: 'college', 874: 'viibryd', 875: 'vivid', 876: 'drop', 877: 'brown', 878: 'discharge', 879: 'complete', 880: 'handle', 881: 'july', 882: 'relieved', 883: 'comments', 884: 'medical', 885: 'talking', 886: 'noticeable', 887: 'considering', 888: 'gas', 889: 'simply', 890: 'deep', 891: 'paxil', 892: 'main', 893: 'pros', 894: '30mg', 895: 'whatsoever', 896: 'result', 897: 'decrease', 898: 'saying', 899: 'nice', 900: 'decision', 901: 'movement', 902: 'ones', 903: 'moods', 904: 'shaking', 905: 'extra', 906: 'irritability', 907: 'ativan', 908: 'thankful', 909: 'gaining', 910: 'treatments', 911: 'november', 912: 'lasting', 913: 'expect', 914: 'ran', 915: 'living', 916: 'bigger', 917: 'teeth', 918: 'october', 919: 'regularly', 920: 'passed', 921: 'success', 922: 'muscles', 923: 'racing', 924: 'common', 925: 'helpful', 926: 'scary', 927: 'idea', 928: 'spent', 929: 'january', 930: 'somewhat', 931: 'nasty', 932: 'followed', 933: 'patient', 934: 'prep', 935: 'fully', 936: 'stuck', 937: 'weak', 938: 'seroquel', 939: 'scalp', 940: 'samples', 941: 'relieve', 942: 'together', 943: 'fear', 944: 'moodiness', 945: 'swollen', 946: 'joints', 947: 'forehead', 948: 'covered', 949: 'ate', 950: 'car', 951: 'tingling', 952: 'previous', 953: 'world', 954: 'putting', 955: 'appointment', 956: 'turn', 957: 'prevent', 958: 'severely', 959: 'hives', 960: 'treat', 961: 'tremendously', 962: 'options', 963: 'drowsy', 964: 'figure', 965: 'chin', 966: 'urge', 967: 'benefits', 968: 'colonoscopy', 969: 'tolerable', 970: 'jaw', 971: 'satisfied', 972: 'excellent', 973: 'ears', 974: 'hated', 975: 'hunger', 976: 'mom', 977: '500mg', 978: 'nauseated', 979: 'excited', 980: 'significantly', 981: 'room', 982: 'antidepressants', 983: 'constipated', 984: 'careful', 985: 'concerta', 986: 'weighed', 987: 'forward', 988: 'shoulder', 989: 'ambien', 990: 'quality', 991: 'chose', 992: 'breakthrough', 993: 'anger', 994: 'mgs', 995: 'cheeks', 996: 'mins', 997: 'multiple', 998: 'dinner', 999: 'toilet', 1000: 'ease', 1001: 'starts', 1002: 'breaking', 1003: 'missed', 1004: 'failed', 1005: 'mention', 1006: 'accutane', 1007: 'update', 1008: 'higher', 1009: 'clean', 1010: 'wanting', 1011: 'restless', 1012: 'flow', 1013: 'write', 1014: 'dont', 1015: 'understand', 1016: 'relationship', 1017: 'nightmare', 1018: 'badly', 1019: '4th', 1020: 'controlled', 1021: 'tenderness', 1022: 'allergies', 1023: 'choice', 1024: 'antidepressant', 1025: 'drowsiness', 1026: 'weigh', 1027: 'nasal', 1028: 'flare', 1029: 'manageable', 1030: 'lamictal', 1031: '300mg', 1032: 'saturday', 1033: 'looks', 1034: 'ring', 1035: 'increasing', 1036: 'fingers', 1037: 'thyroid', 1038: 'tolerance', 1039: 'effectiveness', 1040: 'treated', 1041: 'near', 1042: 'gives', 1043: 'kick', 1044: 'boobs', 1045: 'forgot', 1046: 'needs', 1047: 'disappointed', 1048: 'bedtime', 1049: 'seconds', 1050: 'september', 1051: 'clots', 1052: 'moment', 1053: 'tylenol', 1054: 'struggled', 1055: 'afford', 1056: 'coughing', 1057: 'vomit', 1058: 'call', 1059: 'hormonal', 1060: 'excessive', 1061: 'bottle', 1062: 'episode', 1063: 'oil', 1064: 'downside', 1065: 'history', 1066: 'begin', 1067: 'safe', 1068: 'nurse', 1069: 'finding', 1070: 'heavier', 1071: 'neurologist', 1072: 'lithium', 1073: 'exactly', 1074: 'ringing', 1075: 'related', 1076: '75mg', 1077: 'paranoia', 1078: 'sent', 1079: 'noticing', 1080: 'perfectly', 1081: 'staying', 1082: 'calories', 1083: 'diabetes', 1084: 'lyrica', 1085: 'annoying', 1086: 'bactrim', 1087: 'numbers', 1088: 'addition', 1089: 'ssri', 1090: 'cup', 1091: 'pleased', 1092: 'foods', 1093: 'occasionally', 1094: 'minute', 1095: 'pee', 1096: 'headed', 1097: 'return', 1098: 'suggest', 1099: 'burn', 1100: 'market', 1101: 'monday', 1102: 'available', 1103: 'pocket', 1104: 'affect', 1105: 'fairly', 1106: 'count', 1107: 'lol', 1108: 'despite', 1109: 'spinal', 1110: '150mg', 1111: 'received', 1112: 'incredibly', 1113: 'drank', 1114: 'liquid', 1115: 'tramadol', 1116: 'fantastic', 1117: 'dryness', 1118: 'redness', 1119: 'irritated', 1120: 'alcohol', 1121: 'continues', 1122: 'heartburn', 1123: 'paranoid', 1124: 'smoked', 1125: 'version', 1126: 'follow', 1127: 'shorter', 1128: 'partner', 1129: 'accident', 1130: 'differently', 1131: 'apply', 1132: 'sooner', 1133: 'improve', 1134: 'ocd', 1135: 'meal', 1136: 'faster', 1137: 'numb', 1138: 'upped', 1139: 'jittery', 1140: 'pharmacist', 1141: 'min', 1142: 'uterus', 1143: 'generally', 1144: 'order', 1145: 'itch', 1146: 'cramp', 1147: 'knees', 1148: 'humira', 1149: 'december', 1150: 'throw', 1151: 'addiction', 1152: 'wearing', 1153: 'overnight', 1154: 'saxenda', 1155: 'moving', 1156: 'number', 1157: 'hear', 1158: 'urine', 1159: 'sores', 1160: 'regulate', 1161: 'reduce', 1162: 'smaller', 1163: 'showed', 1164: 'liver', 1165: 'turkey', 1166: 'cialis', 1167: 'vaginal', 1168: 'alot', 1169: 'moved', 1170: 'habits', 1171: 'painless', 1172: 'figured', 1173: 'counter', 1174: 'stable', 1175: 'diabetic', 1176: 'debilitating', 1177: 'hurts', 1178: 'young', 1179: 'smooth', 1180: 'mistake', 1181: 'sensation', 1182: 'inhaler', 1183: 'tender', 1184: 'tiny', 1185: 'suicide', 1186: 'goal', 1187: 'summer', 1188: 'paragard', 1189: 'sickness', 1190: 'gradually', 1191: 'cyclen', 1192: 'concentrate', 1193: 'damage', 1194: 'tongue', 1195: 'ptsd', 1196: 'breakout', 1197: 'spray', 1198: 'site', 1199: 'friday', 1200: 'concerned', 1201: 'hormone', 1202: 'clearing', 1203: 'attention', 1204: 'whether', 1205: 'lifesaver', 1206: 'norco', 1207: 'react', 1208: 'plenty', 1209: 'physician', 1210: 'release', 1211: 'diagnosis', 1212: 'allowed', 1213: 'upon', 1214: 'cipro', 1215: 'mainly', 1216: 'balance', 1217: 'aviane', 1218: 'touch', 1219: 'woman', 1220: 'bother', 1221: 'menstrual', 1222: 'die', 1223: 'earlier', 1224: 'date', 1225: 'victoza', 1226: 'lay', 1227: 'originally', 1228: 'whenever', 1229: 'apart', 1230: 'married', 1231: 'nuvigil', 1232: 'stiffness', 1233: 'suprep', 1234: 'relax', 1235: 'dark', 1236: 'fog', 1237: 'hip', 1238: 'randomly', 1239: 'struggling', 1240: 'seizure', 1241: 'afterwards', 1242: 'ritalin', 1243: 'opiates', 1244: 'phentermine', 1245: 'stories', 1246: 'difficulty', 1247: 'running', 1248: 'instantly', 1249: 'risk', 1250: 'botox', 1251: 'natural', 1252: 'palpitations', 1253: 'inability', 1254: 'reducing', 1255: 'class', 1256: 'stated', 1257: '1mg', 1258: 'morphine', 1259: 'tremors', 1260: 'motivation', 1261: 'weakness', 1262: 'illness', 1263: 'share', 1264: 'virus', 1265: 'movements', 1266: 'set', 1267: 'intercourse', 1268: 'sexual', 1269: 'benefit', 1270: 'doxycycline', 1271: 'heal', 1272: 'adult', 1273: 'lips', 1274: 'managed', 1275: '60mg', 1276: 'adjust', 1277: 'affected', 1278: 'bring', 1279: 'mixed', 1280: 'stops', 1281: 'checked', 1282: 'placebo', 1283: 'company', 1284: 'june', 1285: 'tested', 1286: 'rls', 1287: 'tampon', 1288: 'shortness', 1289: 'percocet', 1290: 'topamax', 1291: 'situation', 1292: 'addictive', 1293: 'foot', 1294: 'whatever', 1295: 'online', 1296: 'important', 1297: 'edge', 1298: 'controls', 1299: 'comfortable', 1300: 'allows', 1301: 'cd4', 1302: 'solution', 1303: 'stressed', 1304: 'blurry', 1305: 'kidney', 1306: 'step', 1307: 'routine', 1308: 'reactions', 1309: 'yasmin', 1310: 'finish', 1311: 'estrogen', 1312: 'mess', 1313: 'orgasm', 1314: 'girl', 1315: 'facial', 1316: 'possibly', 1317: '80mg', 1318: 'gym', 1319: 'average', 1320: 'cant', 1321: 'patients', 1322: 'trip', 1323: 'besides', 1324: 'menopause', 1325: 'numbness', 1326: 'student', 1327: 'funny', 1328: 'forever', 1329: 'enjoy', 1330: 'irritation', 1331: 'watch', 1332: 'linzess', 1333: 'practically', 1334: 'anyways', 1335: 'driving', 1336: 'tamiflu', 1337: 'chills', 1338: 'mid', 1339: 'becoming', 1340: 'smell', 1341: 'groggy', 1342: 'terrified', 1343: 'ear', 1344: 'breathe', 1345: 'remicade', 1346: 'disc', 1347: 'junel', 1348: 'polar', 1349: 'fit', 1350: 'lunch', 1351: 'threw', 1352: 'writing', 1353: 'february', 1354: 'sitting', 1355: 'coupon', 1356: 'box', 1357: 'suddenly', 1358: 'likely', 1359: 'ups', 1360: 'list', 1361: 'surgeries', 1362: 'ladies', 1363: 'benadryl', 1364: 'restlessness', 1365: 'certainly', 1366: 'urgent', 1367: 'vicodin', 1368: 'advised', 1369: 'planned', 1370: 'card', 1371: 'blurred', 1372: 'build', 1373: 'born', 1374: 'odd', 1375: 'listed', 1376: 'monthly', 1377: 'neurontin', 1378: 'sweet', 1379: 'script', 1380: 'burns', 1381: 'buy', 1382: 'adipex', 1383: 'cycles', 1384: 'keeping', 1385: 'bacterial', 1386: 'trick', 1387: 'heat', 1388: 'dying', 1389: 'imagine', 1390: 'bumps', 1391: 'talked', 1392: 'shocked', 1393: 'man', 1394: 'horror', 1395: 'tastes', 1396: 'eczema', 1397: 'flagyl', 1398: 'led', 1399: 'exact', 1400: 'clonidine', 1401: 'track', 1402: 'sun', 1403: 'exhausted', 1404: 'hey', 1405: 'viral', 1406: 'story', 1407: 'lucky', 1408: 'throwing', 1409: 'pass', 1410: 'certain', 1411: 'mentally', 1412: 'wondering', 1413: 'remove', 1414: 'incredible', 1415: 'ovulation', 1416: 'combo', 1417: 'pick', 1418: 'thru', 1419: 'personally', 1420: 'oily', 1421: 'topical', 1422: 'ache', 1423: 'surprised', 1424: 'gad', 1425: 'cysts', 1426: 'fentanyl', 1427: 'depressive', 1428: 'babies', 1429: 'frequently', 1430: 'smoker', 1431: 'consistently', 1432: 'stronger', 1433: 'open', 1434: 'trial', 1435: 'massive', 1436: 'worrying', 1437: 'feb', 1438: 'continuing', 1439: 'basis', 1440: 'specialist', 1441: 'subside', 1442: 'towards', 1443: 'complain', 1444: 'lately', 1445: 'relaxed', 1446: 'seven', 1447: 'visit', 1448: 'skeptical', 1449: 'grateful', 1450: 'geodon', 1451: 'preventing', 1452: 'citalopram', 1453: 'reflux', 1454: 'pound', 1455: 'valium', 1456: 'black', 1457: 'complaints', 1458: 'happening', 1459: '200mg', 1460: 'removal', 1461: 'wants', 1462: 'lethargic', 1463: 'complaint', 1464: 'excruciating', 1465: 'calling', 1466: 'poison', 1467: 'liked', 1468: 'growing', 1469: 'properly', 1470: 'shoulders', 1471: 'applying', 1472: 'skip', 1473: '5th', 1474: 'fourth', 1475: 'max', 1476: 'manage', 1477: '2mg', 1478: 'word', 1479: 'depressants', 1480: 'fun', 1481: 'mornings', 1482: 'grade', 1483: 'breakfast', 1484: 'stage', 1485: 'agony', 1486: 'consider', 1487: 'metabolism', 1488: 'gonna', 1489: 'foggy', 1490: 'spine', 1491: 'lutera', 1492: 'kinds', 1493: 'conditions', 1494: 'mentioned', 1495: 'trinessa', 1496: 'glucose', 1497: 'pneumonia', 1498: 'double', 1499: 'awhile', 1500: 'pad', 1501: 'waste', 1502: 'shortly', 1503: 'provera', 1504: 'approved', 1505: 'insulin', 1506: 'carb', 1507: 'beat', 1508: 'cutting', 1509: 'narcotic', 1510: 'worsened', 1511: 'lead', 1512: 'tonight', 1513: 'death', 1514: 'urinary', 1515: 'cried', 1516: 'wash', 1517: 'opiate', 1518: 'allergy', 1519: 'associated', 1520: 'prednisone', 1521: 'cigarette', 1522: 'approximately', 1523: 'reacts', 1524: 'places', 1525: 'obsessive', 1526: 'activity', 1527: 'aside', 1528: 'weaned', 1529: 'oxycontin', 1530: 'pulled', 1531: 'tons', 1532: 'horrific', 1533: 'alive', 1534: 'load', 1535: 'fire', 1536: 'caught', 1537: 'thankfully', 1538: 'imitrex', 1539: 'sadness', 1540: 'guys', 1541: 'concern', 1542: 'hopeful', 1543: 'types', 1544: 'apparently', 1545: 'harder', 1546: 'embarrassing', 1547: 'intake', 1548: 'based', 1549: 'moisturizer', 1550: 'various', 1551: 'tend', 1552: 'cyst', 1553: 'hallucinations', 1554: 'endometriosis', 1555: 'dealt', 1556: 'freaked', 1557: 'peeling', 1558: 'sudden', 1559: 'coffee', 1560: 'gyno', 1561: 'paid', 1562: 'fatigued', 1563: 'fix', 1564: 'miralax', 1565: 'pads', 1566: 'knowing', 1567: 'broken', 1568: 'wore', 1569: 'father', 1570: 'eight', 1571: 'injury', 1572: 'mobic', 1573: 'ice', 1574: 'heroin', 1575: 'clinic', 1576: 'learned', 1577: 'acting', 1578: 'tolerate', 1579: 'everywhere', 1580: 'spread', 1581: 'levora', 1582: 'carry', 1583: 'trazodone', 1584: 'extended', 1585: 'viagra', 1586: 'ocella', 1587: 'spotted', 1588: 'pull', 1589: 'pre', 1590: 'i', 1591: 'soreness', 1592: 'steroids', 1593: 'trust', 1594: 'methotrexate', 1595: 'pulse', 1596: 'nucynta', 1597: 'fight', 1598: 'vagina', 1599: 'internet', 1600: 'freaking', 1601: 'tough', 1602: 'ultram', 1603: 'calmed', 1604: 'store', 1605: 'warned', 1606: 'stone', 1607: 'enbrel', 1608: 'erections', 1609: 'push', 1610: 'remission', 1611: 'needing', 1612: 'hospitalized', 1613: 'blown', 1614: 'vitamin', 1615: 'congestion', 1616: 'lip', 1617: 'opinion', 1618: 'included', 1619: 'excedrin', 1620: 'exercising', 1621: 'hold', 1622: 'agree', 1623: 'thinks', 1624: 'primary', 1625: 'nap', 1626: 'milk', 1627: 'oxycodone', 1628: 'applied', 1629: 'insert', 1630: 'shake', 1631: 'simple', 1632: 'amazed', 1633: 'aid', 1634: 'confident', 1635: 'hesitant', 1636: 'shaky', 1637: 'scale', 1638: 'pimple', 1639: 'save', 1640: 'frequency', 1641: 'bruising', 1642: 'healed', 1643: 'numerous', 1644: 'lifestyle', 1645: 'alternative', 1646: 'postpartum', 1647: 'attitude', 1648: 'front', 1649: 'mark', 1650: 'pcos', 1651: 'discontinued', 1652: 'traumatic', 1653: 'protein', 1654: 'impossible', 1655: 'kid', 1656: 'hang', 1657: 'condoms', 1658: 'maintain', 1659: 'belly', 1660: 'laxatives', 1661: 'obviously', 1662: 'percent', 1663: 'lightheaded', 1664: 'fertile', 1665: 'armour', 1666: 'combined', 1667: 'inflammation', 1668: 'asap', 1669: 'emergency', 1670: 'trips', 1671: 'obgyn', 1672: 'nerves', 1673: 'ton', 1674: 'floor', 1675: 'vertigo', 1676: 'information', 1677: 'lotion', 1678: 'color', 1679: 'cigarettes', 1680: 'biggest', 1681: 'words', 1682: 'resistant', 1683: 'solid', 1684: 'hurting', 1685: 'sorry', 1686: 'line', 1687: 'dilaudid', 1688: 'juice', 1689: 'covers', 1690: 'instructed', 1691: 'onto', 1692: 'uncontrollable', 1693: 'contraceptive', 1694: 'physically', 1695: 'everybody', 1696: 'poor', 1697: 'alleviate', 1698: 'bright', 1699: 'strongly', 1700: 'terribly', 1701: 'trulicity', 1702: 'telling', 1703: 'present', 1704: 'suppose', 1705: 'fluid', 1706: 'surgeon', 1707: 'recovery', 1708: 'cheek', 1709: 'replacement', 1710: 'cure', 1711: 'sweets', 1712: 'absolute', 1713: 'focalin', 1714: 'messed', 1715: 'replaced', 1716: 'ability', 1717: 'effectively', 1718: 'tears', 1719: 'restroom', 1720: 'frustrated', 1721: 'jardiance', 1722: 'onset', 1723: 'reasons', 1724: 'existent', 1725: 'swear', 1726: 'rough', 1727: 'lowered', 1728: 'advil', 1729: 'struggle', 1730: 'sinuses', 1731: 'ridiculous', 1732: 'inflamed', 1733: 'lowest', 1734: 'carbs', 1735: 'binge', 1736: 'fusion', 1737: 'symptom', 1738: 'filled', 1739: 'agitation', 1740: 'passing', 1741: 'hydrocodone', 1742: 'honest', 1743: 'caffeine', 1744: 'colon', 1745: 'opana', 1746: 'brands', 1747: 'hopes', 1748: 'finger', 1749: 'orsythia', 1750: 'stimulant', 1751: 'concentration', 1752: 'thirsty', 1753: 'copay', 1754: 'required', 1755: 'addicted', 1756: 'alesse', 1757: 'steroid', 1758: 'laid', 1759: 'otc', 1760: 'generalized', 1761: 'zaps', 1762: 'tells', 1763: 'refill', 1764: 'chemo', 1765: 'unbelievable', 1766: 'ovulating', 1767: 'bouts', 1768: 'tabs', 1769: 'luckily', 1770: 'u2019t', 1771: 'pleasant', 1772: 'cholesterol', 1773: 'limited', 1774: 'listen', 1775: 'pounding', 1776: 'sound', 1777: 'ankles', 1778: 'crippling', 1779: 'paying', 1780: 'sounds', 1781: 'perhaps', 1782: 'range', 1783: 'meant', 1784: 'hep', 1785: 'amounts', 1786: 'opposite', 1787: 'support', 1788: 'orange', 1789: 'asking', 1790: 'scars', 1791: 'forms', 1792: 'undetectable', 1793: 'tube', 1794: 'dec', 1795: 'adjusted', 1796: 'worsening', 1797: 'psych', 1798: 'remained', 1799: 'stools', 1800: 'schedule', 1801: 'guy', 1802: 'sharp', 1803: 'local', 1804: '7th', 1805: 'progressed', 1806: 'horribly', 1807: 'makeup', 1808: 'adverse', 1809: 'macrobid', 1810: 'voices', 1811: 'include', 1812: 'admit', 1813: 'temporary', 1814: 'therefore', 1815: 'lumbar', 1816: 'tho', 1817: 'public', 1818: 'magic', 1819: 'pushed', 1820: 'products', 1821: 'pricey', 1822: 'cheap', 1823: 'minimum', 1824: '120mg', 1825: 'spending', 1826: 'depressant', 1827: 'omg', 1828: 'junk', 1829: 'zofran', 1830: 'puts', 1831: 'chemical', 1832: 'application', 1833: 'prepared', 1834: 'answer', 1835: 'future', 1836: 'anywhere', 1837: 'stays', 1838: 'metoprolol', 1839: 'warning', 1840: 'warm', 1841: 'aleve', 1842: 'didnt', 1843: 'drove', 1844: 'roof', 1845: 'teens', 1846: 'valtrex', 1847: 'program', 1848: 'worries', 1849: 'lifted', 1850: 'tooth', 1851: 'sort', 1852: 'sign', 1853: 'nails', 1854: 'controlling', 1855: '6th', 1856: 'needle', 1857: 'areas', 1858: 'monistat', 1859: 'steady', 1860: 'swallow', 1861: 'hips', 1862: 'disgusting', 1863: 'nowhere', 1864: 'freak', 1865: 'rashes', 1866: 'levaquin', 1867: 'wonderfully', 1868: 'diff', 1869: 'split', 1870: 'costs', 1871: 'readings', 1872: 'cope', 1873: 'achy', 1874: 'stool', 1875: 'beware', 1876: 'regret', 1877: 'keppra', 1878: 'downfall', 1879: 'sunday', 1880: 'thus', 1881: 'cardiologist', 1882: 'faint', 1883: 'strength', 1884: 'lie', 1885: 'packs', 1886: 'bottom', 1887: 'alert', 1888: 'saving', 1889: 'miles', 1890: 'reduction', 1891: 'dentist', 1892: 'ways', 1893: 'capsules', 1894: 'habit', 1895: 'quitting', 1896: 'compulsive', 1897: 'sucks', 1898: 'sleepiness', 1899: 'report', 1900: 'apri', 1901: 'immune', 1902: 'voltaren', 1903: 'herniated', 1904: 'activities', 1905: 'kicked', 1906: 'ruin', 1907: 'lortab', 1908: 'dead', 1909: 'wide', 1910: 'lungs', 1911: 'tingly', 1912: 'highest', 1913: 'vacation', 1914: 'behavior', 1915: 'enjoyed', 1916: 'rage', 1917: 'cured', 1918: 'pins', 1919: 'needles', 1920: 'older', 1921: 'note', 1922: 'forced', 1923: 'glasses', 1924: 'mania', 1925: 'rebound', 1926: 'sleepless', 1927: 'grow', 1928: 'soft', 1929: 'killing', 1930: 'lets', 1931: 'watching', 1932: 'interesting', 1933: 'drops', 1934: 'venlafaxine', 1935: 'testing', 1936: 'approach', 1937: 'stressful', 1938: 'outweighed', 1939: 'fighting', 1940: 'bump', 1941: 'died', 1942: 'sensitivity', 1943: 'instant', 1944: 'decreasing', 1945: '20lbs', 1946: 'advise', 1947: 'creams', 1948: 'depending', 1949: 'crossed', 1950: 'clomid', 1951: 'harvoni', 1952: 'blessing', 1953: 'confidence', 1954: 'difficulties', 1955: 'confused', 1956: 'fading', 1957: 'speak', 1958: 'knows', 1959: 'exhaustion', 1960: 'psychotic', 1961: 'zyprexa', 1962: 'risperdal', 1963: 'burned', 1964: 'depends', 1965: 'hyper', 1966: 'adding', 1967: 'remedies', 1968: 'qsymia', 1969: 'aczone', 1970: 'agreed', 1971: 'approx', 1972: 'dollars', 1973: 'beyond', 1974: 'sciatica', 1975: 'neuropathy', 1976: 'fewer', 1977: 'wks', 1978: 'strings', 1979: 'website', 1980: 'agitated', 1981: 'ride', 1982: 'rapidly', 1983: 'sporadic', 1984: 'breastfeeding', 1985: 'scare', 1986: 'tumor', 1987: 'celebrex', 1988: 'calmer', 1989: 'successful', 1990: 'improvements', 1991: 'grades', 1992: 'avail', 1993: 'progress', 1994: 'enjoying', 1995: 'jump', 1996: 'spend', 1997: 'degree', 1998: 'yogurt', 1999: 'erection', 2000: 'sexually', 2001: 'dairy', 2002: 'fat', 2003: 'degenerative', 2004: 'doubt', 2005: 'forgetful', 2006: 'goodness', 2007: 'tract', 2008: 'synthroid', 2009: 'toes', 2010: 'diminished', 2011: 'prolonged', 2012: 'consistent', 2013: 'actual', 2014: 'boy', 2015: 'ending', 2016: 'posted', 2017: 'study', 2018: 'force', 2019: 'reach', 2020: 'admitted', 2021: 'allow', 2022: 'wise', 2023: 'complaining', 2024: 'protection', 2025: 'cervix', 2026: 'rare', 2027: 'thursday', 2028: 'risperidone', 2029: 'bearable', 2030: 'obvious', 2031: 'smallest', 2032: 'rapid', 2033: 'productive', 2034: 'rheumatoid', 2035: 'convinced', 2036: 'thrilled', 2037: 'affecting', 2038: 'improving', 2039: 'entirely', 2040: 'abuse', 2041: 'sample', 2042: 'decent', 2043: 'craving', 2044: 'marks', 2045: 'alli', 2046: 'effort', 2047: 'weaning', 2048: 'narcolepsy', 2049: 'strattera', 2050: 'tasks', 2051: 'sticking', 2052: 'dependent', 2053: 'regulated', 2054: 'chilled', 2055: 'directed', 2056: 'walked', 2057: 'clearly', 2058: 'surprise', 2059: 'settle', 2060: 'energetic', 2061: 'hearing', 2062: 'nine', 2063: 'reglan', 2064: 'scar', 2065: 'abnormal', 2066: 'intrusive', 2067: 'beyaz', 2068: 'failure', 2069: 'clears', 2070: 'metronidazole', 2071: 'flexeril', 2072: 'urination', 2073: 'mucinex', 2074: 'osteoarthritis', 2075: 'remembering', 2076: 'instructions', 2077: 'comparison', 2078: 'rock', 2079: 'hopeless', 2080: 'discontinue', 2081: 'eaten', 2082: 'length', 2083: 'considered', 2084: 'emotionally', 2085: 'aggressive', 2086: 'begins', 2087: 'desperate', 2088: 'proper', 2089: 'growth', 2090: 'hello', 2091: 'splitting', 2092: 'sat', 2093: 'finishing', 2094: 'million', 2095: 'management', 2096: 'events', 2097: 'accept', 2098: 'zits', 2099: 'blocked', 2100: 'thin', 2101: 'resume', 2102: 'dysfunction', 2103: 'loving', 2104: 'action', 2105: 'augmentin', 2106: 'faded', 2107: 'teen', 2108: 'afterward', 2109: 'trigger', 2110: 'becomes', 2111: 'maintenance', 2112: 'repeat', 2113: 'choose', 2114: 'dermatitis', 2115: 'urinate', 2116: 'dosing', 2117: 'numbing', 2118: 'clearer', 2119: 'clothes', 2120: 'tea', 2121: '400mg', 2122: 'wont', 2123: 'wrote', 2124: 'dramatically', 2125: 'knocked', 2126: 'majority', 2127: 'neither', 2128: 'hysterectomy', 2129: 'confirmed', 2130: 'protected', 2131: 'solodyn', 2132: 'clotting', 2133: 'interest', 2134: 'choices', 2135: 'dangerous', 2136: 'plans', 2137: 'probiotic', 2138: 'crave', 2139: 'drs', 2140: 'respond', 2141: 'motivated', 2142: 'soma', 2143: 'means', 2144: 'manufacturer', 2145: 'current', 2146: 'shift', 2147: 'horrendous', 2148: 'stupid', 2149: 'race', 2150: 'air', 2151: 'overwhelmed', 2152: 'teenager', 2153: 'ingredient', 2154: 'speaking', 2155: 'mirtazapine', 2156: 'apparent', 2157: 'harm', 2158: 'girls', 2159: 'laying', 2160: 'larger', 2161: 'bacteria', 2162: 'regimen', 2163: 'prevented', 2164: 'scares', 2165: 'elevated', 2166: 'relapsed', 2167: 'sertraline', 2168: 'typical', 2169: 'bones', 2170: 'coverage', 2171: 'refreshed', 2172: 'sight', 2173: 'dull', 2174: 'discovered', 2175: 'key', 2176: 'weekend', 2177: 'personality', 2178: 'tapering', 2179: 'colitis', 2180: 'caution', 2181: 'shame', 2182: 'occurred', 2183: 'killed', 2184: 'mri', 2185: 'fainted', 2186: 'clot', 2187: 'amazingly', 2188: 'oxy', 2189: 'typically', 2190: 'mirapex', 2191: 'kidneys', 2192: 'januvia', 2193: 'clonazepam', 2194: 'meals', 2195: 'parents', 2196: 'built', 2197: 'play', 2198: 'elbows', 2199: 'noise', 2200: 'discs', 2201: 'leading', 2202: 'wears', 2203: 'straw', 2204: 'dream', 2205: '15mg', 2206: 'attempt', 2207: 'reached', 2208: 'mad', 2209: 'detox', 2210: 'conjunction', 2211: 'mix', 2212: 'soda', 2213: 'insane', 2214: 'cool', 2215: 'pop', 2216: 'surprisingly', 2217: 'cases', 2218: 'fresh', 2219: 'calcium', 2220: 'gyn', 2221: 'kyleena', 2222: 'permanent', 2223: 'workout', 2224: 'blame', 2225: 'intimate', 2226: 'occasions', 2227: 'marriage', 2228: 'raised', 2229: 'gerd', 2230: 'busy', 2231: 'game', 2232: 'lived', 2233: 'bruise', 2234: 'toe', 2235: 'progressively', 2236: 'healthier', 2237: 'irrational', 2238: 'battle', 2239: 'younger', 2240: 'news', 2241: 'crohn', 2242: 'aching', 2243: 'amitriptyline', 2244: 'tegretol', 2245: 'trazadone', 2246: 'yeah', 2247: 'show', 2248: 'government', 2249: 'tic', 2250: 'melatonin', 2251: 'cipralex', 2252: 'power', 2253: 'yawning', 2254: 'toradol', 2255: 'disappear', 2256: 'runny', 2257: 'battled', 2258: 'walls', 2259: 'schizophrenia', 2260: 'schizoaffective', 2261: 'stars', 2262: 'recent', 2263: 'urologist', 2264: 'nov', 2265: 'dehydrated', 2266: 'brilliant', 2267: 'treating', 2268: 'amitiza', 2269: 'skinny', 2270: '10lbs', 2271: 'fiber', 2272: 'immensely', 2273: 'optimistic', 2274: 'seek', 2275: 'cheese', 2276: 'waited', 2277: 'lord', 2278: 'genetic', 2279: 'lives', 2280: 'weather', 2281: 'christmas', 2282: 'buspirone', 2283: 'taper', 2284: 'unpredictable', 2285: 'relatively', 2286: 'blackheads', 2287: 'suppressed', 2288: 'discount', 2289: 'neurological', 2290: 'urgency', 2291: 'actiq', 2292: 'stung', 2293: 'byetta', 2294: 'motrin', 2295: 'bothered', 2296: 'fluoxetine', 2297: 'ultrasound', 2298: 'burst', 2299: 'remaining', 2300: 'convenient', 2301: 'fits', 2302: 'lantus', 2303: 'persistent', 2304: 'users', 2305: 'lupron', 2306: '800mg', 2307: 'heating', 2308: 'zanaflex', 2309: 'cheaper', 2310: 'lesions', 2311: 'searching', 2312: 'shakes', 2313: 'winter', 2314: 'fixed', 2315: 'willing', 2316: 'therapist', 2317: 'fda', 2318: 'depakote', 2319: 'testim', 2320: 'knocks', 2321: 'mildly', 2322: 'assumed', 2323: 'fatty', 2324: 'fetzima', 2325: 'starter', 2326: 'expecting', 2327: 'focusing', 2328: 'leaves', 2329: 'shower', 2330: 'flat', 2331: 'pmdd', 2332: 'negatives', 2333: 'weekly', 2334: 'reported', 2335: 'applicator', 2336: 'happiness', 2337: 'swallowing', 2338: 'frustrating', 2339: 'gynecologist', 2340: 'sadly', 2341: 'amoxicillin', 2342: 'thumbs', 2343: 'thinning', 2344: 'praying', 2345: 'dosages', 2346: 'ineffective', 2347: 'methods', 2348: 'reality', 2349: 'returning', 2350: 'salt', 2351: 'decide', 2352: 'laxative', 2353: 'watery', 2354: 'restoril', 2355: 'personal', 2356: 'biopsy', 2357: 'packet', 2358: 'joke', 2359: 'rosacea', 2360: 'leaving', 2361: 'conversation', 2362: 'tasting', 2363: 'skipped', 2364: 'shed', 2365: 'medicare', 2366: 'glass', 2367: 'tight', 2368: 'strep', 2369: 'vomited', 2370: 'psa', 2371: 'dried', 2372: 'eased', 2373: 'drastically', 2374: 'buspar', 2375: 'correctly', 2376: 'successfully', 2377: 'duac', 2378: 'advair', 2379: 'embarrassed', 2380: 'peace', 2381: 'charm', 2382: 'sister', 2383: 'differin', 2384: 'behind', 2385: 'capsule', 2386: 'incident', 2387: 'situations', 2388: 'mini', 2389: 'atripla', 2390: 'lemon', 2391: 'quicker', 2392: 'spells', 2393: 'refused', 2394: 'inject', 2395: 'likes', 2396: 'impact', 2397: 'femara', 2398: 'slightest', 2399: 'shirts', 2400: 'confusion', 2401: 'needless', 2402: 'ginger', 2403: 'relaxers', 2404: '\\r\\r', 2405: 'pants', 2406: 'resulting', 2407: 'tops', 2408: 'relapse', 2409: 'zyban', 2410: 'drip', 2411: 'unpleasant', 2412: 'withdraw', 2413: 'monitor', 2414: 'narcotics', 2415: 'bothersome', 2416: 'original', 2417: 'pinch', 2418: 'tasted', 2419: 'cluster', 2420: 'increases', 2421: 'otezla', 2422: 'ends', 2423: 'forgetting', 2424: 'across', 2425: 'wean', 2426: 'osteoporosis', 2427: 'microgestin', 2428: 'doubled', 2429: 'hole', 2430: 'provigil', 2431: 'ovarian', 2432: 'explain', 2433: 'vitamins', 2434: 'thigh', 2435: 'crap', 2436: 'requip', 2437: 'lessened', 2438: 'intuniv', 2439: 'chateal', 2440: 'contraception', 2441: 'bay', 2442: 'supplements', 2443: 'prescribing', 2444: 'addicting', 2445: 'unexpected', 2446: 'unsure', 2447: 'receive', 2448: 'pattern', 2449: 'uses', 2450: 'shut', 2451: 'prone', 2452: 'fluids', 2453: 'patience', 2454: 'virtually', 2455: 'killers', 2456: 'cleaned', 2457: 'tretinoin', 2458: 'tunnel', 2459: 'yay', 2460: 'opioids', 2461: 'relationships', 2462: 'oct', 2463: 'breeze', 2464: 'roughly', 2465: 'refuse', 2466: 'prostate', 2467: 'cat', 2468: 'bites', 2469: 'raw', 2470: 'parts', 2471: 'thick', 2472: '\\r', 2473: 'violently', 2474: 'torn', 2475: 'convenience', 2476: 'antipsychotic', 2477: 'noted', 2478: 'opioid', 2479: 'infusion', 2480: 'forth', 2481: 'promise', 2482: 'researched', 2483: 'inderal', 2484: 'gentle', 2485: 'contact', 2486: 'developing', 2487: 'planning', 2488: 'bumpy', 2489: 'hydrated', 2490: 'ridiculously', 2491: 'green', 2492: 'sufferer', 2493: 'window', 2494: 'quetiapine', 2495: 'downhill', 2496: 'iron', 2497: 'hangover', 2498: 'span', 2499: 'plaquenil', 2500: 'endo', 2501: 'gut', 2502: 'cognitive', 2503: 'alright', 2504: 'appeared', 2505: 'reclipsen', 2506: 'lisinopril', 2507: 'stores', 2508: 'impressed', 2509: 'calms', 2510: 'rescue', 2511: 'eliminated', 2512: 'turns', 2513: 'ent', 2514: 'challenge', 2515: 'sensations', 2516: '30lbs', 2517: 'maxalt', 2518: 'studies', 2519: 'butt', 2520: 'variety', 2521: 'severity', 2522: 'annoyed', 2523: 'reluctant', 2524: 'shingles', 2525: '5pm', 2526: 'device', 2527: 'destroyed', 2528: 'inflammatory', 2529: 'occur', 2530: 'overwhelming', 2531: 'quiet', 2532: 'explained', 2533: 'ugly', 2534: 'conscious', 2535: 'via', 2536: 'lightly', 2537: 'godsend', 2538: 'potassium', 2539: 'partial', 2540: 'parenthood', 2541: 'maximum', 2542: 'everyones', 2543: 'kicks', 2544: 'snack', 2545: 'practitioner', 2546: 'nonexistent', 2547: 'swell', 2548: 'fungus', 2549: 'blue', 2550: 'harsh', 2551: 'hill', 2552: 'panty', 2553: 'cloud', 2554: 'hat', 2555: 'orthovisc', 2556: 'killer', 2557: 'flomax', 2558: 'motion', 2559: 'university', 2560: 'lamotrigine', 2561: 'attribute', 2562: 'generess', 2563: 'btw', 2564: 'psoriatic', 2565: 'esophagus', 2566: 'placement', 2567: 'accidentally', 2568: 'epilepsy', 2569: 'chocolate', 2570: 'dulcolax', 2571: 'suppositories', 2572: 'feeding', 2573: 'borderline', 2574: 'human', 2575: 'suspect', 2576: 'semi', 2577: 'series', 2578: 'stairs', 2579: 'scheduled', 2580: 'cleaning', 2581: 'lazy', 2582: 'cap', 2583: 'drunk', 2584: 'fabulous', 2585: 'heartbeat', 2586: 'wave', 2587: 'rested', 2588: 'package', 2589: 'acute', 2590: 'retention', 2591: 'street', 2592: 'stings', 2593: 'sorts', 2594: 'plaque', 2595: 'sweaty', 2596: 'rushed', 2597: 'unlike', 2598: 'cell', 2599: 'rating', 2600: 'weaker', 2601: 'tingle', 2602: 'norethindrone', 2603: 'dramatic', 2604: 'gum', 2605: 'crampy', 2606: 'bodies', 2607: 'minastrin', 2608: 'sluggish', 2609: 'shooting', 2610: 'sizes', 2611: 'lethargy', 2612: 'fail', 2613: 'fill', 2614: 'stretch', 2615: 'irritate', 2616: 'overweight', 2617: 'hiv', 2618: 'sleeplessness', 2619: 'snri', 2620: 'ugh', 2621: 'statins', 2622: 'wheelchair', 2623: 'standing', 2624: 'boat', 2625: 'waves', 2626: 'minocycline', 2627: 'forming', 2628: 'tightness', 2629: 'smells', 2630: 'grape', 2631: 'informed', 2632: 'proactive', 2633: 'garbage', 2634: 'silly', 2635: 'vaginitis', 2636: 'tapered', 2637: 'terms', 2638: 'tampons', 2639: 'pure', 2640: 'bitter', 2641: 'cramped', 2642: 'afib', 2643: 'reduces', 2644: 'ive', 2645: 'boils', 2646: 'comfort', 2647: 'describe', 2648: 'pelvic', 2649: 'playing', 2650: 'shock', 2651: 'outs', 2652: 'receiving', 2653: 'ruined', 2654: 'temperature', 2655: 'snap', 2656: 'suck', 2657: 'auto', 2658: 'assistance', 2659: 'visual', 2660: 'spoke', 2661: 'refills', 2662: 'lomotil', 2663: 'tuesday', 2664: 'appears', 2665: 'couch', 2666: 'formed', 2667: 'sunburn', 2668: 'density', 2669: 'stroke', 2670: 'lunesta', 2671: 'ultimately', 2672: 'missing', 2673: 'abreva', 2674: 'beautiful', 2675: 'content', 2676: 'skipping', 2677: 'yellow', 2678: 'dependency', 2679: 'wall', 2680: 'visits', 2681: 'achieve', 2682: 'lipitor', 2683: 'fake', 2684: 'flight', 2685: 'healing', 2686: 'snacks', 2687: 'genvoya', 2688: 'develop', 2689: 'impulsive', 2690: 'nope', 2691: 'aids', 2692: 'boost', 2693: 'pcp', 2694: 'intestinal', 2695: 'nurses', 2696: '250mg', 2697: 'jitters', 2698: 'gagging', 2699: 'spaced', 2700: 'business', 2701: 'aggression', 2702: 'closely', 2703: 'butrans', 2704: 'mcg', 2705: 'puff', 2706: 'lung', 2707: 'showing', 2708: 'deeply', 2709: 'question', 2710: 'useless', 2711: 'ideal', 2712: 'nervousness', 2713: 'orgasms', 2714: 'flavor', 2715: 'magnesium', 2716: 'sides', 2717: 'occurs', 2718: 'stabilizer', 2719: 'signs', 2720: 'bottles', 2721: 'brings', 2722: 'supplement', 2723: 'stabilize', 2724: 'hyperplasia', 2725: 'copper', 2726: 'bite', 2727: 'lady', 2728: '20th', 2729: '9pm', 2730: 'thats', 2731: 'mdd', 2732: 'lorazepam', 2733: 'shall', 2734: 'falls', 2735: 'reasonable', 2736: 'outweigh', 2737: 'saphris', 2738: 'cetaphil', 2739: 'azor', 2740: 'stenosis', 2741: 'intended', 2742: 'voice', 2743: 'lowering', 2744: 'cephalexin', 2745: 'jolessa', 2746: 'altogether', 2747: 'picked', 2748: 'whiteheads', 2749: 'purchased', 2750: 'serotonin', 2751: 'dropping', 2752: 'interested', 2753: 'contains', 2754: '5lbs', 2755: 'propofol', 2756: 'sugars', 2757: 'piece', 2758: 'gastrointestinal', 2759: 'noon', 2760: 'diuretic', 2761: 'importantly', 2762: 'naproxen', 2763: 'twenty', 2764: 'preparation', 2765: '10x', 2766: 'coworkers', 2767: 'androgel', 2768: 'feared', 2769: 'swing', 2770: 'codeine', 2771: 'athletic', 2772: 'maintaining', 2773: 'bout', 2774: 'completed', 2775: 'scratch', 2776: 'weighing', 2777: 'accepted', 2778: 'cord', 2779: 'grew', 2780: 'dependence', 2781: 'depressing', 2782: 'stressing', 2783: 'tissue', 2784: 'lighten', 2785: 'soo', 2786: '24hrs', 2787: 'inexpensive', 2788: 'stimulants', 2789: 'stains', 2790: 'bruised', 2791: 'fuzzy', 2792: 'introduced', 2793: '4mg', 2794: 'triggers', 2795: 'doesnt', 2796: 'kill', 2797: 'wet', 2798: 'grown', 2799: 'lessen', 2800: 'bph', 2801: 'base', 2802: 'penis', 2803: 'info', 2804: 'liner', 2805: 'rod', 2806: 'smile', 2807: 'beats', 2808: 'spinning', 2809: 'gallbladder', 2810: 'outbreak', 2811: 'gout', 2812: 'saline', 2813: 'grain', 2814: 'standard', 2815: 'ambulance', 2816: 'grand', 2817: 'unnecessary', 2818: 'salty', 2819: 'nexium', 2820: 'professional', 2821: 'position', 2822: 'triggered', 2823: 'irritating', 2824: 'potent', 2825: 'torture', 2826: 'purpose', 2827: 'aura', 2828: 'propranolol', 2829: 'naps', 2830: 'heavily', 2831: 'shortened', 2832: 'debating', 2833: 'cvs', 2834: 'gastric', 2835: 'operation', 2836: 'beforehand', 2837: 'drying', 2838: 'anybody', 2839: '1000mg', 2840: 'prefer', 2841: 'washing', 2842: 'jan', 2843: 'fair', 2844: 'equal', 2845: 'con', 2846: 'breaks', 2847: 'drysol', 2848: 'changer', 2849: 'grogginess', 2850: 'washed', 2851: 'peel', 2852: 'cautious', 2853: 'radiation', 2854: 'puffs', 2855: 'thighs', 2856: 'turning', 2857: 'boniva', 2858: 'flonase', 2859: 'opened', 2860: 'nightly', 2861: 'crestor', 2862: 'boom', 2863: 'shopping', 2864: 'fellow', 2865: 'everytime', 2866: 'peeing', 2867: 'antipsychotics', 2868: 'kinda', 2869: 'tsh', 2870: 'trade', 2871: 'wanna', 2872: 'grocery', 2873: 'toxic', 2874: 'ale', 2875: 'metallic', 2876: 'fevers', 2877: 'recurring', 2878: 'actions', 2879: 'penicillin', 2880: 'psychosis', 2881: 'lift', 2882: 'passes', 2883: 'keflex', 2884: 'attributed', 2885: 'valve', 2886: 'fiance', 2887: 'hypertension', 2888: 'posts', 2889: 'inner', 2890: 'ovulated', 2891: 'inactive', 2892: 'calorie', 2893: 'canada', 2894: 'bupropion', 2895: 'vancomycin', 2896: 'lialda', 2897: 'inconsistent', 2898: 'companies', 2899: 'nail', 2900: 'complications', 2901: 'ounce', 2902: 'vanished', 2903: 'induced', 2904: 'regardless', 2905: 'biaxin', 2906: 'extensive', 2907: 'metal', 2908: 'learn', 2909: 'chances', 2910: 'bonus', 2911: 'intensely', 2912: 'countless', 2913: 'remeron', 2914: 'travel', 2915: 'oxygen', 2916: 'curious', 2917: 'zyrtec', 2918: 'brintellix', 2919: 'speech', 2920: 'resolved', 2921: 'carefully', 2922: 'invokana', 2923: 'modafinil', 2924: 'fish', 2925: 'cranky', 2926: 'ingredients', 2927: 'worsen', 2928: 'exist', 2929: 'pentasa', 2930: 'lingering', 2931: 'implanted', 2932: 'dread', 2933: 'log', 2934: 'australia', 2935: 'pays', 2936: 'country', 2937: 'daytrana', 2938: 'tool', 2939: 'hydrate', 2940: 'inserting', 2941: 'tumour', 2942: 'wind', 2943: 'indigestion', 2944: 'clarity', 2945: 'stages', 2946: 'urges', 2947: 'drinks', 2948: 'belching', 2949: 'weekends', 2950: 'hence', 2951: 'urinating', 2952: 'candidate', 2953: 'esteem', 2954: 'uterine', 2955: 'lining', 2956: 'tummy', 2957: 'plastic', 2958: 'familiar', 2959: 'remain', 2960: 'increasingly', 2961: 'ceased', 2962: 'disoriented', 2963: 'hcl', 2964: 'erectile', 2965: 'powerful', 2966: 'enemy', 2967: 'couldnt', 2968: 'phone', 2969: 'luvox', 2970: 'inherited', 2971: 'offered', 2972: 'cooking', 2973: 'backed', 2974: 'meaning', 2975: 'interfere', 2976: 'socially', 2977: 'decisions', 2978: 'internal', 2979: 'reacted', 2980: 'peroxide', 2981: 'subs', 2982: 'private', 2983: 'childhood', 2984: 'tension', 2985: 'freshman', 2986: 'chapped', 2987: 'liletta', 2988: 'counting', 2989: 'drugged', 2990: 'experiment', 2991: 'progesterone', 2992: 'anemic', 2993: 'loves', 2994: 'reaching', 2995: 'copd', 2996: 'men', 2997: 'evra', 2998: 'sized', 2999: 'roll', 3000: 'rheumatologist', 3001: 'insisted', 3002: 'group', 3003: 'blamed', 3004: 'abdomen', 3005: 'discuss', 3006: 'scan', 3007: 'fortunate', 3008: 'migranes', 3009: 'dehydration', 3010: 'crisis', 3011: 'ella', 3012: 'hacking', 3013: 'toss', 3014: 'triglycerides', 3015: 'spreading', 3016: 'questions', 3017: 'beautifully', 3018: 'bloody', 3019: 'birthcontrol', 3020: 'portions', 3021: 'workouts', 3022: 'senior', 3023: 'machine', 3024: 'fortunately', 3025: 'beneficial', 3026: 'hoped', 3027: 'cuts', 3028: 'pulling', 3029: 'temporarily', 3030: 'lifting', 3031: 'testosterone', 3032: 'annual', 3033: 'useful', 3034: 'functional', 3035: 'event', 3036: 'pro', 3037: 'injected', 3038: 'compression', 3039: 'eliminate', 3040: 'hide', 3041: 'bumped', 3042: 'digestive', 3043: 'wednesday', 3044: '4lbs', 3045: 'journey', 3046: 'sept', 3047: 'itchiness', 3048: 'cracked', 3049: 'excessively', 3050: 'ongoing', 3051: 'avelox', 3052: 'sinusitis', 3053: 'catch', 3054: 'ish', 3055: '18th', 3056: 'raise', 3057: 'administered', 3058: 'department', 3059: 'sharing', 3060: 'carrying', 3061: 'blemishes', 3062: 'appear', 3063: 'frame', 3064: 'wiped', 3065: 'measure', 3066: 'reacting', 3067: 'infrequent', 3068: 'levothyroxine', 3069: 'daytime', 3070: 'warn', 3071: 'rely', 3072: 'mths', 3073: 'impacted', 3074: 'intermittent', 3075: 'flares', 3076: 'intolerable', 3077: 'elbow', 3078: 'performance', 3079: 'ages', 3080: 'intractable', 3081: 'dries', 3082: 'sink', 3083: 'accompanied', 3084: 'fears', 3085: 'violent', 3086: 'complicated', 3087: 'vistaril', 3088: 'landed', 3089: 'restful', 3090: 'cit', 3091: 'freedom', 3092: 'bothering', 3093: 'burping', 3094: 'clock', 3095: 'safer', 3096: 'soccer', 3097: 'team', 3098: 'rozerem', 3099: 'owe', 3100: 'relieves', 3101: 'proven', 3102: 'wishes', 3103: 'law', 3104: 'sclerosis', 3105: 'newly', 3106: 'contraceptives', 3107: 'imbalance', 3108: 'cessation', 3109: 'ssris', 3110: 'disorders', 3111: 'heaviest', 3112: 'forgotten', 3113: 'egg', 3114: 'euflexxa', 3115: 'thirst', 3116: 'seasonique', 3117: 'possibility', 3118: 'resort', 3119: 'pen', 3120: 'mechanism', 3121: 'snacking', 3122: 'thrush', 3123: 'screaming', 3124: 'desk', 3125: 'champix', 3126: 'noticeably', 3127: 'twitching', 3128: 'midnight', 3129: 'recovered', 3130: 'starving', 3131: 'combat', 3132: 'nursing', 3133: 'flushing', 3134: 'beside', 3135: 'mucus', 3136: 'flaky', 3137: 'directions', 3138: 'infusions', 3139: '8mg', 3140: 'gram', 3141: 'tremor', 3142: 'presentation', 3143: 'portion', 3144: 'glands', 3145: 'fractured', 3146: 'brush', 3147: 'crawling', 3148: 'longest', 3149: 'sneezing', 3150: 'touched', 3151: 'calendar', 3152: 'released', 3153: 'rexulti', 3154: 'hemorrhoids', 3155: 'fan', 3156: 'diagnose', 3157: 'escitalopram', 3158: '30am', 3159: 'chlamydia', 3160: 'indicated', 3161: 'demerol', 3162: 'page', 3163: 'outbursts', 3164: 'apnea', 3165: 'pieces', 3166: 'aspirin', 3167: 'birthday', 3168: 'topicals', 3169: 'stelara', 3170: 'pushing', 3171: 'comment', 3172: 'xyrem', 3173: '3mg', 3174: 'foundation', 3175: 'vengeance', 3176: 'crappy', 3177: 'strict', 3178: 'units', 3179: 'wound', 3180: 'mist', 3181: 'generics', 3182: 'compare', 3183: 'titrated', 3184: 'veggies', 3185: 'fridge', 3186: 'peppermint', 3187: 'prepare', 3188: 'repeated', 3189: 'prescriptions', 3190: 'shrinking', 3191: 'apple', 3192: 'adhesive', 3193: 'itches', 3194: 'overactive', 3195: 'strain', 3196: 'whack', 3197: 'lessening', 3198: 'diovan', 3199: 'avoiding', 3200: 'despair', 3201: 'functioning', 3202: 'antihistamine', 3203: 'moderately', 3204: 'meet', 3205: 'bunch', 3206: 'chicken', 3207: 'ointment', 3208: 'task', 3209: 'ruptured', 3210: 'positives', 3211: 'wild', 3212: 'fault', 3213: 'temazepam', 3214: 'disappearing', 3215: 'cosentyx', 3216: 'relaxer', 3217: 'latest', 3218: 'spasm', 3219: 'emotionless', 3220: 'particular', 3221: 'row', 3222: 'clarithromycin', 3223: 'reccomend', 3224: 'classes', 3225: 'correct', 3226: 'expense', 3227: 'outcome', 3228: 'brutal', 3229: 'euphoria', 3230: '30th', 3231: 'symbicort', 3232: 'underlying', 3233: 'regained', 3234: 'xolair', 3235: 'semester', 3236: 'slowed', 3237: 'continuous', 3238: 'tubes', 3239: 'battling', 3240: 'lupus', 3241: 'verge', 3242: 'realizing', 3243: 'encourage', 3244: 'noticable', 3245: 'explanation', 3246: 'wedding', 3247: 'plane', 3248: 'diamox', 3249: 'wipes', 3250: 'tab', 3251: 'dot', 3252: 'moisturiser', 3253: 'aug', 3254: 'sedation', 3255: 'pray', 3256: 'bowels', 3257: 'accidents', 3258: 'phenergan', 3259: 'penny', 3260: '29th', 3261: 'hitting', 3262: 'regime', 3263: 'intestine', 3264: 'benzodiazepines', 3265: 'uncontrollably', 3266: 'sronyx', 3267: 'blister', 3268: 'slim', 3269: 'loud', 3270: 'outbreaks', 3271: 'junior', 3272: 'fifteen', 3273: 'hypochondriac', 3274: 'ranging', 3275: 'warnings', 3276: 'rated', 3277: 'effected', 3278: 'points', 3279: 'rule', 3280: 'hctz', 3281: 'unfortunate', 3282: 'fibroids', 3283: 'address', 3284: 'loseasonique', 3285: 'clinical', 3286: 'benzo', 3287: 'rush', 3288: 'imuran', 3289: 'contracted', 3290: 'locked', 3291: 'scarring', 3292: 'behaviors', 3293: 'epipen', 3294: 'stood', 3295: 'coil', 3296: 'verapamil', 3297: 'mononessa', 3298: 'surface', 3299: 'cortisone', 3300: 'systemic', 3301: 'previfem', 3302: 'kava', 3303: 'shows', 3304: 'halfway', 3305: 'unusual', 3306: 'lybrel', 3307: 'savings', 3308: 'abusing', 3309: 'keppera', 3310: 'headedness', 3311: 'naturally', 3312: 'asacol', 3313: 'unhappy', 3314: 'medicating', 3315: 'specialists', 3316: 'overly', 3317: 'creative', 3318: 'tasigna', 3319: 'administer', 3320: 'lying', 3321: 'injuries', 3322: 'bath', 3323: 'trapped', 3324: 'delusions', 3325: 'referred', 3326: 'fade', 3327: 'charts', 3328: 'threatening', 3329: 'hassle', 3330: 'requested', 3331: 'citrate', 3332: 'zepatier', 3333: 'inform', 3334: 'ordered', 3335: 'interferon', 3336: 'transplant', 3337: 'blessed', 3338: 'destroy', 3339: 'magnesia', 3340: 'speed', 3341: 'fallen', 3342: 'swelled', 3343: 'bitten', 3344: 'injured', 3345: 'shakiness', 3346: 'dreaded', 3347: 'subtle', 3348: 'adrenaline', 3349: 'fainting', 3350: '50lbs', 3351: 'auditory', 3352: 'olanzapine', 3353: 'essentially', 3354: 'burnt', 3355: 'itched', 3356: 'blocks', 3357: 'fasting', 3358: 'ovaries', 3359: 'dog', 3360: 'downward', 3361: 'chosen', 3362: 'europe', 3363: 'provide', 3364: 'predictable', 3365: 'bread', 3366: 'fruits', 3367: 'tresiba', 3368: 'straighten', 3369: 'spondylitis', 3370: 'worsens', 3371: 'shape', 3372: 'guessing', 3373: 'blocker', 3374: 'atrial', 3375: 'fibrillation', 3376: 'backing', 3377: '3pm', 3378: 'brief', 3379: 'limit', 3380: 'psychiatric', 3381: 'dulera', 3382: 'resting', 3383: 'opposed', 3384: 'zomig', 3385: 'idk', 3386: 'bam', 3387: 'harming', 3388: 'linked', 3389: 'regulating', 3390: 'evoxac', 3391: 'individual', 3392: 'opening', 3393: '1am', 3394: '2000mg', 3395: 'waist', 3396: 'sedated', 3397: 'enjoyable', 3398: 'bydureon', 3399: 'fracture', 3400: 'request', 3401: 'derm', 3402: 'military', 3403: 'injecting', 3404: 'bullet', 3405: 'nuva', 3406: 'evil', 3407: '8am', 3408: 'stones', 3409: 'painkillers', 3410: 'hypothyroidism', 3411: 'fioricet', 3412: 'suffers', 3413: 'learning', 3414: 'homeopathic', 3415: 'teacher', 3416: 'colored', 3417: 'flushed', 3418: 'overcome', 3419: 'wasnt', 3420: 'kicking', 3421: 'assured', 3422: 'explaining', 3423: 'disorientation', 3424: 'tips', 3425: 'gains', 3426: 'medicated', 3427: 'subsides', 3428: '8th', 3429: 'holidays', 3430: 'herpes', 3431: 'sperm', 3432: 'pillow', 3433: 'solved', 3434: 'counteract', 3435: 'congested', 3436: 'milligrams', 3437: 'reluctantly', 3438: 'eradicated', 3439: 'cytomel', 3440: 'recommendation', 3441: 'gross', 3442: 'blew', 3443: 'organized', 3444: 'boosted', 3445: 'curb', 3446: 'crackers', 3447: 'sovaldi', 3448: 'cake', 3449: 'failing', 3450: 'downs', 3451: 'perfume', 3452: 'elavil', 3453: 'gastroparesis', 3454: 'overdose', 3455: 'docs', 3456: 'beg', 3457: 'nitrofurantoin', 3458: 'gatorade', 3459: 'pit', 3460: 'fiorinal', 3461: 'unhealthy', 3462: 'texture', 3463: 'aspect', 3464: 'sanity', 3465: 'states', 3466: 'zone', 3467: 'mylan', 3468: 'electrical', 3469: 'pepto', 3470: 'miscarriage', 3471: 'hydroxyzine', 3472: '3am', 3473: 'stiff', 3474: 'pump', 3475: 'flatulence', 3476: 'guts', 3477: 'exaggeration', 3478: 'blocking', 3479: 'concerns', 3480: 'avonex', 3481: 'relapsing', 3482: 'favor', 3483: 'believed', 3484: 'moments', 3485: 'temper', 3486: 'misery', 3487: 'sulfur', 3488: 'encountered', 3489: 'whilst', 3490: 'ruining', 3491: 'laughing', 3492: 'pulmonary', 3493: 'sedative', 3494: 'terrors', 3495: 'fights', 3496: 'strongest', 3497: 'partum', 3498: 'flash', 3499: 'girlfriend', 3500: 'risks', 3501: 'workers', 3502: 'wrists', 3503: 'inches', 3504: 'withdrawl', 3505: 'lab', 3506: 'fence', 3507: 'settled', 3508: 'drier', 3509: 'queasy', 3510: 'stresses', 3511: 'yuck', 3512: 'rinsing', 3513: 'attempted', 3514: 'chair', 3515: 'damn', 3516: 'specifically', 3517: 'apathetic', 3518: 'alcoholic', 3519: 'draw', 3520: 'cfs', 3521: 'sports', 3522: 'trimester', 3523: 'band', 3524: 'mixing', 3525: 'typing', 3526: 'specific', 3527: 'marijuana', 3528: 'final', 3529: 'reliable', 3530: 'park', 3531: 'mask', 3532: 'pot', 3533: 'stabbing', 3534: 'strictly', 3535: 'exercised', 3536: 'atralin', 3537: 'cares', 3538: 'perscribed', 3539: 'nearing', 3540: 'retin', 3541: 'medium', 3542: 'layer', 3543: 'trials', 3544: 'reassurance', 3545: 'sips', 3546: 'tolerated', 3547: 'unexpectedly', 3548: 'according', 3549: 'gladly', 3550: 'behold', 3551: 'jumped', 3552: 'determined', 3553: 'mode', 3554: 'inhalers', 3555: 'malaise', 3556: 'trash', 3557: 'wheezing', 3558: 'coordination', 3559: 'whereas', 3560: 'twelve', 3561: 'recover', 3562: 'warts', 3563: 'sporanox', 3564: 'provided', 3565: 'offer', 3566: 'danger', 3567: 'runner', 3568: 'factor', 3569: 'allowing', 3570: 'uric', 3571: 'pinched', 3572: 'incontinence', 3573: 'infected', 3574: 'create', 3575: 'relieving', 3576: 'involved', 3577: 'folks', 3578: 'deeper', 3579: 'zantac', 3580: 'prevacid', 3581: '00pm', 3582: '2hrs', 3583: 'lil', 3584: 'etodolac', 3585: 'emsam', 3586: 'upping', 3587: 'hallucinate', 3588: 'remains', 3589: 'brother', 3590: 'cuff', 3591: 'pap', 3592: 'physicians', 3593: 'heck', 3594: 'puking', 3595: 'assume', 3596: 'dosed', 3597: 'toujeo', 3598: 'error', 3599: 'clonopin', 3600: 'culture', 3601: 'bridge', 3602: 'exception', 3603: 'stimulation', 3604: 'softball', 3605: 'distracted', 3606: 'secondary', 3607: 'practice', 3608: 'shirt', 3609: 'pin', 3610: 'games', 3611: 'sciatic', 3612: 'resistance', 3613: 'gildess', 3614: 'alarm', 3615: 'occasion', 3616: 'google', 3617: 'savella', 3618: 'additional', 3619: 'reliever', 3620: 'stribild', 3621: 'gilead', 3622: 'ridden', 3623: 'bug', 3624: 'biologics', 3625: 'creme', 3626: 'soap', 3627: 'balanced', 3628: 'pictures', 3629: 'response', 3630: 'hydrochlorothiazide', 3631: 'sets', 3632: 'tizanidine', 3633: 'treadmill', 3634: 'pregnancies', 3635: 'fruit', 3636: 'vesicare', 3637: '10yrs', 3638: 'conceive', 3639: 'flushes', 3640: 'attempts', 3641: 'doxy', 3642: 'spectrum', 3643: 'diverticulitis', 3644: 'shelves', 3645: 'nsaids', 3646: 'eater', 3647: 'subsiding', 3648: 'havent', 3649: 'searched', 3650: 'thirty', 3651: 'darker', 3652: 'tape', 3653: 'blank', 3654: 'pylori', 3655: 'reminded', 3656: 'bar', 3657: 'syrup', 3658: 'anniversary', 3659: 'sklice', 3660: 'toothpaste', 3661: 'faith', 3662: 'sucked', 3663: 'drag', 3664: 'remembered', 3665: '9th', 3666: 'menstruation', 3667: 'details', 3668: '10pm', 3669: 'forteo', 3670: 'begun', 3671: 'dementia', 3672: 'commit', 3673: 'horrid', 3674: 'degrees', 3675: 'breakdown', 3676: 'zopiclone', 3677: 'cpap', 3678: 'lymph', 3679: 'canal', 3680: 'leaflet', 3681: 'wished', 3682: 'crushing', 3683: 'complained', 3684: 'sub', 3685: 'snoring', 3686: 'training', 3687: 'sending', 3688: 'cataplexy', 3689: 'preventative', 3690: '6pm', 3691: 'u2019s', 3692: 'door', 3693: 'bare', 3694: '10th', 3695: 'rubbish', 3696: 'suppression', 3697: 'resulted', 3698: 'ideas', 3699: 'liters', 3700: 'jar', 3701: 'flush', 3702: 'rehab', 3703: 'awkward', 3704: 'scripts', 3705: 'contents', 3706: 'attempting', 3707: 'xulane', 3708: 'edgy', 3709: 'blisters', 3710: 'forgetfulness', 3711: 'nauseas', 3712: 'ball', 3713: 'lovely', 3714: 'seasonale', 3715: 'allegra', 3716: 'suspension', 3717: 'access', 3718: 'clobex', 3719: 'ward', 3720: 'delayed', 3721: 'chugged', 3722: 'lemonade', 3723: 'considerably', 3724: 'commented', 3725: 'behaviour', 3726: 'carbonated', 3727: 'cervical', 3728: 'rounds', 3729: 'actemra', 3730: 'opted', 3731: 'ignored', 3732: 'consistency', 3733: 'milligram', 3734: 'silenor', 3735: 'coping', 3736: 'pace', 3737: 'u2019m', 3738: 'clopidogrel', 3739: 'thoracic', 3740: 'laugh', 3741: 'warfarin', 3742: 'repair', 3743: '12th', 3744: 'vivelle', 3745: 'akathisia', 3746: 'unique', 3747: 'drawback', 3748: 'ppd', 3749: 'revlimid', 3750: 'lessens', 3751: 'tense', 3752: 'unmotivated', 3753: 'mum', 3754: 'ahead', 3755: 'zithromax', 3756: 'orally', 3757: 'sobbing', 3758: 'hct', 3759: 'hardest', 3760: 'eyebrows', 3761: 'prolia', 3762: 'replacements', 3763: 'boys', 3764: 'drained', 3765: 'phase', 3766: 'prilosec', 3767: 'sites', 3768: 'stinging', 3769: 'cenestin', 3770: 'viorele', 3771: 'thorazine', 3772: 'bear', 3773: 'quits', 3774: 'bystolic', 3775: 'recall', 3776: 'disturbances', 3777: 'lows', 3778: 'delsym', 3779: 'steps', 3780: 'hypomania', 3781: 'struck', 3782: 'hypo', 3783: 'spring', 3784: 'diease', 3785: 'dishes', 3786: 'embrel', 3787: 'remainder', 3788: 'nobody', 3789: 'absorbed', 3790: 'stubble', 3791: 'hairs', 3792: 'homework', 3793: 'viberzi', 3794: 'shivers', 3795: 'bouncing', 3796: 'disorganized', 3797: 'frustration', 3798: 'environment', 3799: 'answers', 3800: 'utis', 3801: 'ulcers', 3802: 'ordeal', 3803: 'drinker', 3804: 'prepopik', 3805: '31st', 3806: 'oxcarbazepine', 3807: 'awoke', 3808: 'happily', 3809: 'crash', 3810: 'desired', 3811: 'supervision', 3812: 'benign', 3813: 'smiling', 3814: 'dad', 3815: '1pm', 3816: 'tachycardia', 3817: 'marked', 3818: 'downsides', 3819: 'miracles', 3820: 'clenching', 3821: 'endless', 3822: 'warrant', 3823: 'held', 3824: 'score', 3825: 'flattened', 3826: 'pleasantly', 3827: 'titrate', 3828: 'presentations', 3829: 'sounded', 3830: 'propanolol', 3831: 'jolivette', 3832: 'tendonitis', 3833: 'reviewers', 3834: 'arrived', 3835: 'wasting', 3836: 'worn', 3837: 'closed', 3838: '6mg', 3839: 'bucks', 3840: 'hundreds', 3841: 'mis', 3842: 'benzaclin', 3843: 'fitting', 3844: 'endocrinologist', 3845: 'ddd', 3846: 'scoliosis', 3847: 'presently', 3848: 'character', 3849: 'proved', 3850: 'directly', 3851: 'stream', 3852: 'tone', 3853: 'cardura', 3854: 'tamsulosin', 3855: 'equivalent', 3856: 'smoothly', 3857: 'interact', 3858: 'listened', 3859: 'breathlessness', 3860: 'weepy', 3861: 'unusually', 3862: 'purchase', 3863: 'ankylosing', 3864: 'sometime', 3865: 'qysmia', 3866: 'cardio', 3867: '145mg', 3868: 'straining', 3869: 'beta', 3870: 'maintained', 3871: 'moths', 3872: 'tartrate', 3873: 'lousy', 3874: 'stoped', 3875: 'benzonatate', 3876: 'numbed', 3877: 'pantyliner', 3878: 'continuously', 3879: '21st', 3880: 'sky', 3881: 'dripping', 3882: 'triglyceride', 3883: 'axiron', 3884: 'applications', 3885: 'traces', 3886: 'zit', 3887: 'exclusively', 3888: '2yrs', 3889: 'magnetic', 3890: 'solve', 3891: 'priceless', 3892: 'precum', 3893: 'claims', 3894: 'bextra', 3895: 'exacerbated', 3896: 'insatiable', 3897: 'abruptly', 3898: 'gradual', 3899: 'lesion', 3900: 'paper', 3901: 'anyhow', 3902: '11pm', 3903: 'watched', 3904: 'rolling', 3905: 'ziana', 3906: 'moisturizing', 3907: 'appealing', 3908: 'diflucan', 3909: 'burps', 3910: 'cuticles', 3911: 'intolerant', 3912: 'doxcy', 3913: 'woozy', 3914: 'sour', 3915: 'elidel', 3916: 'oozing', 3917: 'unsightly', 3918: 'pumps', 3919: 'turnaround', 3920: 'closer', 3921: 'vast', 3922: 'gums', 3923: 'phenomenal', 3924: 'straterra', 3925: 'bowl', 3926: 'enhanced', 3927: 'studying', 3928: 'comprehension', 3929: 'distractions', 3930: 'train', 3931: 'responsibility', 3932: 'scaring', 3933: 'cleanser', 3934: 'tamoxifen', 3935: 'grip', 3936: 'road', 3937: 'necessary', 3938: 'attest', 3939: 'swallowed', 3940: 'described', 3941: 'discussed', 3942: 'nature', 3943: 'gnawing', 3944: 'electrolytes', 3945: 'comfortably', 3946: 'duragesic', 3947: 'tore', 3948: 'euphoric', 3949: 'oxymorphone', 3950: 'aubra', 3951: 'subsequent', 3952: 'somehow', 3953: 'blisovi', 3954: 'discouraged', 3955: 'lightheadedness', 3956: 'prediabetic', 3957: 'acceptable', 3958: 'tirosint', 3959: 'labs', 3960: 'toenails', 3961: 'adolescence', 3962: 'paint', 3963: 'wakes', 3964: 'coincides', 3965: 'suppressing', 3966: 'fitness', 3967: 'alarming', 3968: 'pupils', 3969: 'screws', 3970: 'wit', 3971: 'hrt', 3972: 'backwards', 3973: 'methylphenidate', 3974: 'nearest', 3975: 'lidocaine', 3976: 'omeprazole', 3977: 'protect', 3978: '20s', 3979: 'cruise', 3980: 'user', 3981: 'divorced', 3982: 'quantity', 3983: 'mediation', 3984: 'mercy', 3985: 'hits', 3986: 'sulfa', 3987: 'interactions', 3988: 'lumps', 3989: 'linger', 3990: 'operates', 3991: 'mag', 3992: 'intermittently', 3993: 'cotton', 3994: 'calming', 3995: 'stepped', 3996: 'blah', 3997: 'herbs', 3998: 'purposes', 3999: 'role', 4000: 'celiac', 4001: '30pm', 4002: 'searing', 4003: 'pinching', 4004: 'unlikely', 4005: 'panicked', 4006: 'entering', 4007: 'cleaner', 4008: 'inhibitors', 4009: 'aciphex', 4010: 'pvc', 4011: 'slows', 4012: 'gleevec', 4013: 'apathy', 4014: 'versed', 4015: 'indeed', 4016: 'staff', 4017: 'army', 4018: 'tilted', 4019: 'holding', 4020: 'noises', 4021: '6yrs', 4022: 'inhibitor', 4023: 'stumbled', 4024: 'efficiency', 4025: 'fluctuations', 4026: 'necon', 4027: 'creating', 4028: 'updated', 4029: 'improves', 4030: 'trainer', 4031: 'view', 4032: 'realise', 4033: 'simponi', 4034: '1800mg', 4035: 'dramamine', 4036: 'blockage', 4037: 'silent', 4038: 'traumatized', 4039: 'chemistry', 4040: 'poster', 4041: 'costly', 4042: 'copaxone', 4043: 'atarax', 4044: 'clicked', 4045: 'necessarily', 4046: 'disturbance', 4047: 'special', 4048: 'procedures', 4049: 'dare', 4050: 'eyed', 4051: 'monitored', 4052: 'corner', 4053: 'pleasurable', 4054: 'temporal', 4055: 'blackout', 4056: 'bedridden', 4057: 'handful', 4058: 'rumbling', 4059: '2am', 4060: '5am', 4061: 'walks', 4062: '28th', 4063: 'ween', 4064: 'stating', 4065: 'gagged', 4066: 'catheter', 4067: 'nocturnal', 4068: 'batch', 4069: 'sarcoidosis', 4070: 'seeking', 4071: 'endoscopy', 4072: 'surely', 4073: 'shoot', 4074: 'essential', 4075: 'rocephin', 4076: 'achieved', 4077: 'climbing', 4078: 'steadily', 4079: 'pan', 4080: 'brushed', 4081: 'livable', 4082: 'tends', 4083: 'stingy', 4084: '1mo', 4085: 'thinner', 4086: 'bet', 4087: 'begging', 4088: 'suppress', 4089: '1200mg', 4090: 'strokes', 4091: 'ovulate', 4092: 'shrink', 4093: 'orencia', 4094: 'proscribed', 4095: 'shivering', 4096: 'probiotics', 4097: 'cefdinir', 4098: 'dislike', 4099: 'orthopedic', 4100: 'usage', 4101: 'favorite', 4102: 'acetaminophen', 4103: 'skyrocketed', 4104: 'items', 4105: 'tools', 4106: '12mg', 4107: 'sparingly', 4108: 'rub', 4109: 'pale', 4110: 'adjusts', 4111: 'gels', 4112: 'advertised', 4113: 'expectations', 4114: 'repeatedly', 4115: 'faintness', 4116: 'fyi', 4117: 'greasy', 4118: 'knowledge', 4119: 'production', 4120: 'location', 4121: 'risking', 4122: 'soaked', 4123: 'bedroom', 4124: 'legal', 4125: 'sooo', 4126: 'energized', 4127: 'spike', 4128: 'prob', 4129: 'oatmeal', 4130: 'guard', 4131: 'grinding', 4132: 'vegetables', 4133: 'nonstop', 4134: 'chores', 4135: '6am', 4136: 'gag', 4137: 'rinse', 4138: 'firm', 4139: 'heals', 4140: 'walmart', 4141: 'parks', 4142: 'bomb', 4143: 'provider', 4144: 'interval', 4145: 'valacyclovir', 4146: 'providing', 4147: 'substitute', 4148: 'joined', 4149: 'officially', 4150: 'books', 4151: 'terror', 4152: 'wisdom', 4153: 'choke', 4154: 'sucking', 4155: 'nipple', 4156: 'cozaar', 4157: 'fuller', 4158: 'weened', 4159: 'transition', 4160: 'panicking', 4161: 'sons', 4162: 'gallstones', 4163: 'vegan', 4164: 'deciding', 4165: 'refer', 4166: 'building', 4167: 'paralyzed', 4168: 'american', 4169: 'limiting', 4170: 'utterly', 4171: '450mg', 4172: 'fishing', 4173: 'shocks', 4174: 'background', 4175: 'layers', 4176: 'vomitting', 4177: 'underarms', 4178: 'hospitals', 4179: 'nonsense', 4180: 'suspected', 4181: 'prevents', 4182: 'additionally', 4183: 'fungal', 4184: 'suggestion', 4185: 'chill', 4186: 'pancreatitis', 4187: 'welcomed', 4188: 'cursed', 4189: 'charge', 4190: 'negatively', 4191: 'gritty', 4192: 'tear', 4193: 'adjustment', 4194: 'avastin', 4195: 'toprol', 4196: 'approve', 4197: 'hanging', 4198: 'sam', 4199: 'joy', 4200: 'twitches', 4201: 'abscess', 4202: 'played', 4203: 'naseous', 4204: 'titrating', 4205: 'brighter', 4206: 'clozapine', 4207: 'ivy', 4208: 'damaged', 4209: 'labor', 4210: 'aspergers', 4211: 'geez', 4212: 'interaction', 4213: 'bananas', 4214: 'panties', 4215: 'forearm', 4216: 'flex', 4217: 'carried', 4218: 'purse', 4219: 'rotator', 4220: 'potentially', 4221: 'doryx', 4222: 'assistant', 4223: 'alprazolam', 4224: 'shown', 4225: 'benzoyl', 4226: 'banana', 4227: 'drastic', 4228: 'prevention', 4229: 'outlook', 4230: 'disabled', 4231: 'recurrence', 4232: 'affordable', 4233: 'fearful', 4234: 'coughed', 4235: 'psychological', 4236: 'amiodarone', 4237: 'rays', 4238: 'considerable', 4239: 'ovace', 4240: 'seconal', 4241: 'sodium', 4242: 'stretching', 4243: 'progressive', 4244: 'tightening', 4245: 'buying', 4246: 'armpits', 4247: 'fluctuation', 4248: 'cystitis', 4249: 'chase', 4250: 'bum', 4251: 'malarone', 4252: 'root', 4253: 'underwear', 4254: 'cent', 4255: 'laughed', 4256: 'agoraphobia', 4257: 'tolerant', 4258: 'hung', 4259: 'continual', 4260: 'operated', 4261: 'gassy', 4262: 'decline', 4263: 'consumed', 4264: 'excess', 4265: 'instruction', 4266: 'scaling', 4267: 'wood', 4268: 'goodluck', 4269: 'wrist', 4270: 'goitre', 4271: 'posting', 4272: 'spiriva', 4273: 'biologic', 4274: 'respiratory', 4275: 'refuses', 4276: 'reoccurring', 4277: 'halo', 4278: 'associate', 4279: 'style', 4280: 'meditation', 4281: 'hyped', 4282: 'drain', 4283: 'kapidex', 4284: '2pm', 4285: 'husbands', 4286: '2weeks', 4287: 'sle', 4288: 'intolerance', 4289: 'offers', 4290: '30min', 4291: 'panicky', 4292: 'nuisance', 4293: 'cups', 4294: 'disability', 4295: 'religiously', 4296: 'blind', 4297: 'eyesight', 4298: 'exam', 4299: 'yea', 4300: 'creativity', 4301: 'snapped', 4302: 'miraculous', 4303: 'book', 4304: 'center', 4305: 'jobs', 4306: 'decade', 4307: '6lbs', 4308: 'gastroenterologist', 4309: 'clue', 4310: 'smelled', 4311: 'dress', 4312: 'traveling', 4313: 'massage', 4314: 'awaken', 4315: 'ass', 4316: 'stared', 4317: 'adjusting', 4318: 'zelapar', 4319: 'returns', 4320: 'insides', 4321: 'menopausal', 4322: 'traffic', 4323: 'moviprep', 4324: 'sudafed', 4325: 'patterns', 4326: '30mins', 4327: 'pleasure', 4328: 'rules', 4329: 'nodules', 4330: 'bismol', 4331: 'remover', 4332: 'artery', 4333: 'counselor', 4334: 'jogging', 4335: 'dirt', 4336: 'thoroughly', 4337: 'tempered', 4338: 'yelling', 4339: '11th', 4340: 'dissolve', 4341: 'levelled', 4342: 'hypos', 4343: 'nexoplan', 4344: 'oracea', 4345: 'agoraphobic', 4346: 'adderal', 4347: 'scab', 4348: 'wasted', 4349: 'example', 4350: 'prime', 4351: 'video', 4352: 'poisoning', 4353: 'dozens', 4354: '17th', 4355: 'cal', 4356: 'computer', 4357: '4am', 4358: 'protonix', 4359: 'sessions', 4360: 'hiking', 4361: 'wine', 4362: 'impression', 4363: 'nefazodone', 4364: 'dreadful', 4365: 'anemia', 4366: 'stumble', 4367: 'fillers', 4368: 'detoxing', 4369: 'tremendous', 4370: 'mitral', 4371: 'height', 4372: 'obese', 4373: 'visible', 4374: 'fly', 4375: 'woken', 4376: 'approaching', 4377: 'lifetime', 4378: 'zzzquil', 4379: 'wired', 4380: 'dystonia', 4381: 'lashes', 4382: 'invokamet', 4383: 'believer', 4384: 'loopy', 4385: 'terrifying', 4386: 'star', 4387: 'met', 4388: 'fifth', 4389: 'caring', 4390: 'letting', 4391: 'crystal', 4392: '600mg', 4393: 'poop', 4394: 'bend', 4395: 'ectopic', 4396: 'spikes', 4397: 'actos', 4398: 'manifested', 4399: 'unstable', 4400: 'bloodstream', 4401: 'golf', 4402: 'duration', 4403: 'oddly', 4404: 'block', 4405: 'kadian', 4406: 'emergencies', 4407: 'reset', 4408: 'win', 4409: 'ensure', 4410: 'season', 4411: 'replace', 4412: 'conversations', 4413: '00p', 4414: 'thrown', 4415: 'thumb', 4416: 'welcome', 4417: 'retrograde', 4418: 'survived', 4419: 'regiment', 4420: 'heights', 4421: 'orders', 4422: 'covering', 4423: 'carbatrol', 4424: 'frankly', 4425: 'friendly', 4426: 'sipped', 4427: 'toward', 4428: 'broth', 4429: 'ulcerative', 4430: 'meth', 4431: 'lysteda', 4432: 'benzodiazepine', 4433: 'embarrassment', 4434: 'scratching', 4435: 'managing', 4436: 'addict', 4437: 'worker', 4438: 'herbal', 4439: 'vyvance', 4440: 'complexion', 4441: 'fluctuate', 4442: 'liners', 4443: 'complains', 4444: 'encouraged', 4445: 'jaws', 4446: 'tmj', 4447: 'bubbly', 4448: 'benzos', 4449: 'tracks', 4450: 'ointments', 4451: 'welts', 4452: 'begged', 4453: 'odor', 4454: 'primarily', 4455: 'requires', 4456: 'rib', 4457: 'savior', 4458: 'stent', 4459: 'tia', 4460: 'slower', 4461: 'dependant', 4462: 'lightened', 4463: 'act', 4464: 'breo', 4465: 'investigation', 4466: 'primatine', 4467: 'cfc', 4468: 'projects', 4469: 'parkinsonism', 4470: 'interfered', 4471: 'haha', 4472: 'quarter', 4473: 'weights', 4474: 'surprising', 4475: 'forte', 4476: 'bloat', 4477: 'taltz', 4478: 'involuntarily', 4479: 'canadian', 4480: 'scream', 4481: 'instance', 4482: 'bloodwork', 4483: 'settles', 4484: 'campral', 4485: 'clusters', 4486: 'sipping', 4487: 'edema', 4488: 'falmina', 4489: 'xarelto', 4490: 'consta', 4491: 'motor', 4492: 'arthrotec', 4493: 'misoprostol', 4494: 'melasma', 4495: 'proair', 4496: 'salycic', 4497: 'havoc', 4498: 'silodocin', 4499: 'ejaculation', 4500: 'setting', 4501: 'undiagnosed', 4502: 'convince', 4503: 'ounces', 4504: 'conclusion', 4505: 'horse', 4506: 'ingest', 4507: 'robaxin', 4508: 'websites', 4509: 'victim', 4510: 'camper', 4511: 'continually', 4512: 'cycling', 4513: 'exacerbate', 4514: 'jerking', 4515: 'fitted', 4516: 'ldl', 4517: 'hdl', 4518: 'dopamine', 4519: 'benicar', 4520: 'zolpidem', 4521: 'nutshell', 4522: 'lap', 4523: 'plateau', 4524: 'gallon', 4525: 'miscarriages', 4526: 'pharmacies', 4527: 'former', 4528: 'polyps', 4529: 'milder', 4530: 'astepro', 4531: 'trileptal', 4532: 'sober', 4533: 'daughters', 4534: 'slip', 4535: 'leaks', 4536: 'sentences', 4537: 'node', 4538: 'workshop', 4539: 'heaven', 4540: 'tazorac', 4541: 'evened', 4542: 'colors', 4543: 'require', 4544: 'beginnings', 4545: 'fluctuated', 4546: 'pseudo', 4547: 'kills', 4548: 'yoga', 4549: 'mtx', 4550: 'sustiva', 4551: 'saxenta', 4552: 'meclizine', 4553: 'dozing', 4554: 'norplant', 4555: 'agreeable', 4556: 'excelling', 4557: 'account', 4558: 'path', 4559: 'preassure', 4560: 'cummed', 4561: 'rut', 4562: 'driven', 4563: 'winded', 4564: '48hrs', 4565: 'insignificant', 4566: '7pm', 4567: 'markedly', 4568: 'millions', 4569: 'kaletra', 4570: 'dapsone', 4571: 'rising', 4572: 'disturbed', 4573: 'ordinary', 4574: 'centre', 4575: 'referring', 4576: 'worldwide', 4577: 'opportunity', 4578: 'rich', 4579: 'delighted', 4580: 'pluck', 4581: 'sunlight', 4582: 'transformed', 4583: 'bag', 4584: 'labored', 4585: 'blacking', 4586: 'evacuate', 4587: 'fluconazole', 4588: 'booked', 4589: 'establish', 4590: 'baseline', 4591: 'til', 4592: 'triple', 4593: 'threat', 4594: 'cirrhosis', 4595: 'counters', 4596: 'confusing', 4597: 'sulphur', 4598: 'seemingly', 4599: 'factors', 4600: 'surrounding', 4601: 'aripiprazole', 4602: 'value', 4603: 'crashed', 4604: 'tricky', 4605: 'stitches', 4606: 'femcon', 4607: 'wits', 4608: 'washes', 4609: 'hcg', 4610: 'stimulate', 4611: 'alls', 4612: 'oic', 4613: '24mcg', 4614: 'ruins', 4615: 'caucasian', 4616: 'trigeminal', 4617: 'neuralgia', 4618: 'decompression', 4619: 'mobile', 4620: 'carbamazepine', 4621: 'electric', 4622: 'my', 4623: 'appointments', 4624: 'welbutrin', 4625: 'backache', 4626: '16oz', 4627: 'equally', 4628: 'exceed', 4629: 'scarey', 4630: 'society', 4631: 'melts', 4632: 'upstairs', 4633: 'tune', 4634: 'testimonials', 4635: 'zanax', 4636: 'thorough', 4637: 'day\\r', 4638: 'simplicity', 4639: 'spironolactone', 4640: 'compliments', 4641: 'questioned', 4642: 'cogentin', 4643: '160mg', 4644: 'hotter', 4645: 'unbelievably', 4646: 'embeda', 4647: 'naltrexone', 4648: 'imo', 4649: 'differences', 4650: 'roaring', 4651: 'stability', 4652: 'tackle', 4653: 'tremble', 4654: 'extent', 4655: 'booster', 4656: 'terrific', 4657: 'knocking', 4658: 'whew', 4659: 'lid', 4660: '150lbs', 4661: 'anytime', 4662: 'pdoc', 4663: 'bummer', 4664: 'spa', 4665: 'nicoderm', 4666: 'priced', 4667: 'vivitrol', 4668: 'bupe', 4669: 'insight', 4670: 'restasis', 4671: 'ophthalmologist', 4672: 'vile', 4673: 'producing', 4674: 'systane', 4675: 'firstly', 4676: 'flawless', 4677: 'blotches', 4678: 'thereafter', 4679: '3months', 4680: 'proceeded', 4681: 'contin', 4682: 'spiraling', 4683: 'flared', 4684: 'alway', 4685: 'emptying', 4686: 'inconvenient', 4687: 'menstruate', 4688: 'bio', 4689: 'freeze', 4690: 'rice', 4691: 'humalog', 4692: 'breathless', 4693: 'responsible', 4694: 'accurately', 4695: '3years', 4696: '290mg', 4697: 'promising', 4698: 'neutrophils', 4699: 'snris', 4700: 'named', 4701: 'reminding', 4702: 'customer', 4703: 'metamucil', 4704: 'suppository', 4705: 'opiods', 4706: 'wicked', 4707: 'reconsidering', 4708: 'journal', 4709: 'staggering', 4710: 'pancreas', 4711: 'gemfibrozil', 4712: 'excercise', 4713: 'messy', 4714: 'pages', 4715: 'shorts', 4716: 'dieting', 4717: 'image', 4718: 'bdd', 4719: '8lbs', 4720: '50g', 4721: 'nuts', 4722: 'spurts', 4723: 'precaution', 4724: 'pilocarpine', 4725: 'the', 4726: 'recalled', 4727: 'slipping', 4728: 'transitioned', 4729: 'doseage', 4730: 'unreasonable', 4731: 'averaging', 4732: 'genital', 4733: 'hsv', 4734: 'vag', 4735: 'mile', 4736: 'sneeze', 4737: 'grapes', 4738: 'sandwich', 4739: 'paste', 4740: 'nystatin', 4741: 'recognize', 4742: 'graduated', 4743: 'hostile', 4744: 'extremes', 4745: 'picking', 4746: 'blemish', 4747: 'hiding', 4748: 'greenstone', 4749: 'pharmacys', 4750: 'manufacturers', 4751: 'bontril', 4752: '35mg', 4753: 'lactose', 4754: 'levothroid', 4755: 'transitioning', 4756: 'tip', 4757: 'salad', 4758: 'quickest', 4759: '7lbs', 4760: 'sandpaper', 4761: 'starch', 4762: 'newer', 4763: 'stake', 4764: 'andro', 4765: 'awaiting', 4766: 'limbo', 4767: 'wins', 4768: 'promptly', 4769: 'disk', 4770: 'pilates', 4771: 'disrupted', 4772: 'positively', 4773: 'includes', 4774: 'sandoz', 4775: 'wheel', 4776: 'chloraseptic', 4777: 'awareness', 4778: 'chalked', 4779: 'labile', 4780: 'kit', 4781: 'explode', 4782: 'cum', 4783: 'phobia', 4784: 'doors', 4785: 'raises', 4786: 'poking', 4787: 'regain', 4788: 'erythromycin', 4789: 'fibroid', 4790: 'additives', 4791: 'towel', 4792: 'speedy', 4793: 'heaviness', 4794: 'bra', 4795: 'astronomical', 4796: 'curbs', 4797: 'sensibly', 4798: 'minds', 4799: 'curvy', 4800: 'bulimia', 4801: 'stuffy', 4802: 'prescribes', 4803: 'restfully', 4804: 'hasnt', 4805: 'commission', 4806: 'fogginess', 4807: 'achiness', 4808: 'indian', 4809: 'cautiously', 4810: 'recreationally', 4811: 'kamagra', 4812: 'numbs', 4813: 'hideous', 4814: 'hidden', 4815: 'minimally', 4816: 'recommending', 4817: 'facet', 4818: 'disks', 4819: 'resisted', 4820: 'forces', 4821: '45mg', 4822: 'overeat', 4823: 'pal', 4824: 'declined', 4825: 'nipples', 4826: 'frightened', 4827: 'suggestions', 4828: 'saltine', 4829: 'bcp', 4830: 'dibilitating', 4831: 'highway', 4832: 'midwife', 4833: 'orthotricyclen', 4834: 'rap', 4835: 'anesthesia', 4836: 'dwelling', 4837: 'eager', 4838: 'bike', 4839: 'rapaflo', 4840: 'indomethacin', 4841: 'colchicine', 4842: 'soboxone', 4843: '15th', 4844: 'steriods', 4845: 'sporadically', 4846: 'spreads', 4847: 'england', 4848: 'insured', 4849: 'nhs', 4850: 'reminder', 4851: 'back\\r', 4852: 'anorexia', 4853: 'slice', 4854: 'bald', 4855: 'regrowth', 4856: 'aged', 4857: 'squeezed', 4858: 'doomed', 4859: 'grasp', 4860: 'buildup', 4861: 'marketing', 4862: 'videos', 4863: '26lbs', 4864: 'mal', 4865: 'transdermal', 4866: 'contacting', 4867: 'commercial', 4868: 'autistic', 4869: 'tendencies', 4870: 'offset', 4871: 'zapping', 4872: 'screw', 4873: 'puke', 4874: 'rise', 4875: 'complex', 4876: 'goals', 4877: 'scored', 4878: 'crippled', 4879: 'evidence', 4880: 'esophageal', 4881: 'barrett', 4882: 'dexilant', 4883: 'cocktail', 4884: 'binges', 4885: 'sheer', 4886: 'weary', 4887: 'studied', 4888: 'contractions', 4889: 'connected', 4890: 'canker', 4891: 'cml', 4892: 'sprycel', 4893: 'accustomed', 4894: 'undetected', 4895: 'clumsiness', 4896: 'lodge', 4897: 'anesthesiologist', 4898: 'unsteady', 4899: 'spicy', 4900: 'enforcement', 4901: 'monodox', 4902: 'remitting', 4903: 'clamped', 4904: '12hrs', 4905: '36mg', 4906: 'crashing', 4907: 'ace', 4908: 'flair', 4909: 'spiral', 4910: 'prison', 4911: 'relying', 4912: 'nortrel', 4913: 'ovral', 4914: 'feedback', 4915: 'engage', 4916: 'eggs', 4917: 'enabled', 4918: 'twenties', 4919: 'quasense', 4920: 'distinct', 4921: '4kg', 4922: 'smart', 4923: 'enter', 4924: 'astounding', 4925: 'supartz', 4926: 'obamacare', 4927: 'daydream', 4928: 'tall', 4929: 'solutions', 4930: 'athlete', 4931: 'dvt', 4932: 'thinners', 4933: 'orlistat', 4934: 'monster', 4935: 'ankle', 4936: 'disguise', 4937: 'separate', 4938: 'medicate', 4939: 'clawing', 4940: 'comparable', 4941: 'convulsion', 4942: 'autoimmune', 4943: 'hashimotos', 4944: '135lbs', 4945: 'probs', 4946: 'signed', 4947: 'sleeve', 4948: '160lbs', 4949: 'chugging', 4950: 'lease', 4951: 'contacts', 4952: 'balm', 4953: 'faithfully', 4954: 'flaking', 4955: 'inch', 4956: 'broomstick', 4957: 'mirror', 4958: 'briefly', 4959: 'police', 4960: 'suit', 4961: 'swim', 4962: 'brachycardia', 4963: 'tagamet', 4964: 'alongside', 4965: 'esbl', 4966: 'estrin', 4967: 'vaseline', 4968: 'sheets', 4969: 'quarters', 4970: 'sheet', 4971: 'lortabs', 4972: 'judge', 4973: 'queasiness', 4974: 'contain', 4975: 'organs', 4976: 'sebaceous', 4977: 'enlarged', 4978: 'blot', 4979: 'deterioration', 4980: 'stimulating', 4981: 'india', 4982: 'stride', 4983: 'farm', 4984: 'hyclate', 4985: 'ireland', 4986: 'liking', 4987: 'climaxing', 4988: '24hours', 4989: 'enlarge', 4990: '750mg', 4991: 'levetiracetam', 4992: 'anesthetic', 4993: 'meantime', 4994: 'positions', 4995: 'psyche', 4996: 'dwell', 4997: 'recognized', 4998: 'genuinely', 4999: 'blow', 5000: 'skinned', 5001: 'plaques', 5002: 'sufferers', 5003: 'hungrier', 5004: 'palms', 5005: 'uncertainty', 5006: 'pharmacists', 5007: 'passages', 5008: 'alavert', 5009: 'proctofoam', 5010: 'alleviates', 5011: 'honesty', 5012: 'therapeutic', 5013: 'bicycle', 5014: 'exceptionally', 5015: 'countered', 5016: 'midrin', 5017: 'jumping', 5018: 'hoops', 5019: 'pointing', 5020: 'zydis', 5021: 'munchies', 5022: 'moisturise', 5023: 'devil', 5024: 'beating', 5025: 'projectile', 5026: '7am', 5027: 'diarrhoea', 5028: 'toxins', 5029: 'remotely', 5030: 'iffy', 5031: 'promised', 5032: 'alvesco', 5033: 'curtains', 5034: 'sonata', 5035: 'airport', 5036: 'oncologist', 5037: 'sternum', 5038: 'counts', 5039: 'smoothie', 5040: 'backaches', 5041: 'virgin', 5042: 'rubber', 5043: 'wires', 5044: '27th', 5045: 'sped', 5046: 'mixture', 5047: 'balls', 5048: 'prunes', 5049: 'enema', 5050: 'impaction', 5051: 'throb', 5052: 'toddler', 5053: 'protective', 5054: 'metho', 5055: 'coconut', 5056: 'insecure', 5057: 'basic', 5058: 'rsd', 5059: 'unnecessarily', 5060: 'concentrated', 5061: 'losses', 5062: 'bulging', 5063: 'shiny', 5064: 'loryna', 5065: 'anxiousness', 5066: 'field', 5067: 'brushing', 5068: 'urticaria', 5069: 'compares', 5070: 'mexico', 5071: '175lbs', 5072: '120lbs', 5073: 'sailing', 5074: 'neupro', 5075: 'unreal', 5076: 'somewhere', 5077: 'shook', 5078: 'forums', 5079: 'arthritic', 5080: 'postings', 5081: 'stadol', 5082: 'popping', 5083: 'kapvay', 5084: 'pens', 5085: 'multivitamins', 5086: 'sensitivities', 5087: 'values', 5088: 'organize', 5089: 'nosebleeds', 5090: 'dna', 5091: 'amazes', 5092: 'duloxetine', 5093: 'stabilizers', 5094: 'slipped', 5095: 'horrified', 5096: 'hoarseness', 5097: 'tasinga', 5098: 'graphic', 5099: 'glow', 5100: 'abs', 5101: 'mankind', 5102: 'bus', 5103: 'monitoring', 5104: 'witch', 5105: 'unwell', 5106: 'untreated', 5107: 'grumpy', 5108: 'dryer', 5109: 'opt', 5110: 'nyc', 5111: 'impulse', 5112: 'cease', 5113: 'dilantin', 5114: 'enthusiasm', 5115: 'extending', 5116: 'midol', 5117: 'judgement', 5118: 'primatene', 5119: 'formula', 5120: 'closing', 5121: 'powder', 5122: 'dresses', 5123: 'flaring', 5124: 'organic', 5125: 'cooked', 5126: 'ppl', 5127: 'softer', 5128: 'creeping', 5129: 'bands', 5130: 'crept', 5131: 'trusted', 5132: 'instantaneously', 5133: 'toenail', 5134: 'overseas', 5135: 'achey', 5136: 'sip', 5137: 'mint', 5138: 'recovering', 5139: 'crucial', 5140: 'allopurinol', 5141: 'uloric', 5142: 'biting', 5143: 'clindamycin', 5144: 'imodium', 5145: 'counsel', 5146: 'zovia', 5147: 'kefir', 5148: 'existing', 5149: 'that\\r\\r', 5150: 'minus', 5151: 'jumps', 5152: 'leakage', 5153: 'manufacturing', 5154: 'unsettling', 5155: 'residue', 5156: 'impulsivity', 5157: 'wondered', 5158: 'armpit', 5159: 'cuz', 5160: 'motorcycle', 5161: 'perform', 5162: 'cabinet', 5163: 'mountains', 5164: 'checking', 5165: 'librium', 5166: 'cns', 5167: 'excitement', 5168: 'absorbs', 5169: 'levofloxacin', 5170: 'upsetting', 5171: 'bending', 5172: 'climax', 5173: '00am', 5174: 'bless', 5175: 'literal', 5176: 'ruconest', 5177: 'situational', 5178: 'determine', 5179: 'inconvenience', 5180: '28lbs', 5181: 'escalated', 5182: 'combining', 5183: '225mg', 5184: 'formulation', 5185: 'mango', 5186: 'fried', 5187: 'risperidal', 5188: 'irregularities', 5189: 'overdrive', 5190: 'foreign', 5191: 'hubby', 5192: 'hydrocortisone', 5193: 'pfizer', 5194: 'sea', 5195: 'functions', 5196: 'hyperactive', 5197: 'apartment', 5198: 'uptake', 5199: 'appt', 5200: 'fixes', 5201: 'highs', 5202: 'accidental', 5203: 'data', 5204: 'apples', 5205: 'dab', 5206: 'recurred', 5207: 'regarding', 5208: 'indescribable', 5209: 'ripped', 5210: 'hooked', 5211: 'snorting', 5212: 'perks', 5213: 'hydromorphone', 5214: 'relied', 5215: 'accidently', 5216: 'routinely', 5217: 'incorporate', 5218: 'player', 5219: 'snapping', 5220: 'handed', 5221: 'substantial', 5222: 'ironically', 5223: 'restarted', 5224: 'conversion', 5225: 'solely', 5226: 'vaginosis', 5227: 'lozartan', 5228: 'switches', 5229: 'attributable', 5230: 'shampoo', 5231: 'dandruff', 5232: 'awakening', 5233: 'icu', 5234: 'truvada', 5235: 'ampyra', 5236: 'diary', 5237: 'tomatos', 5238: 'sumatriptan', 5239: 'colcrys', 5240: 'deodorant', 5241: 'freezing', 5242: 'shave', 5243: 'interstitial', 5244: 'swallows', 5245: 'pulp', 5246: 'toll', 5247: 'experimented', 5248: 'decades', 5249: 'truth', 5250: 'balloon', 5251: 'choked', 5252: 'poorly', 5253: 'fibro', 5254: 'teaspoon', 5255: 'honey', 5256: 'servings', 5257: 'tumeric', 5258: 'inhibit', 5259: 'velivet', 5260: 'rejected', 5261: 'loading', 5262: 'benedryl', 5263: 'sporting', 5264: 'ribs', 5265: 'weening', 5266: 'fractures', 5267: 'plain', 5268: 'alleviated', 5269: 'boosts', 5270: 'circumstances', 5271: 'rotated', 5272: 'removing', 5273: 'lean', 5274: 'farther', 5275: 'pink', 5276: 'knock', 5277: 'levitra', 5278: 'acted', 5279: '5yrs', 5280: '4yrs', 5281: 'board', 5282: 'peripheral', 5283: 'expressed', 5284: 'loosing', 5285: 'language', 5286: 'sacroiliac', 5287: 'cells', 5288: 'panel', 5289: 'kindergarten', 5290: 'discussion', 5291: 'excuses', 5292: 'fixing', 5293: 'thirties', 5294: 'electrically', 5295: 'intestines', 5296: 'space', 5297: 'airways', 5298: 'devastating', 5299: 'identical', 5300: 'drenched', 5301: 'genuine', 5302: 'adults', 5303: 'assuming', 5304: '70mg', 5305: 'estrace', 5306: 'tearing', 5307: 'drainage', 5308: 'tad', 5309: 'reversed', 5310: 'sulfamethoxazole', 5311: 'circle', 5312: 'appx', 5313: 'section', 5314: '200lbs', 5315: 'butterflies', 5316: 'inspection', 5317: 'paragrad', 5318: 'member', 5319: 'hemorrhage', 5320: 'azithromycin', 5321: 'cereal', 5322: 'cheers', 5323: 'agonizing', 5324: 'petrified', 5325: 'urethral', 5326: 'guidelines', 5327: 'anal', 5328: 'immodium', 5329: 'conceived', 5330: 'ivf', 5331: 'dissorder', 5332: 'multivitamin', 5333: 'broad', 5334: 'persist', 5335: 'gastro', 5336: 'dressed', 5337: 'swapped', 5338: '2months', 5339: 'gluten', 5340: 'narcissist', 5341: 'preventive', 5342: 'eyedrops', 5343: 'preservative', 5344: 'netflix', 5345: 'depleted', 5346: 'receptors', 5347: 'withdrawls', 5348: 'matters', 5349: 'hormonally', 5350: 'earth', 5351: 'rhofade', 5352: 'xrays', 5353: 'baseball', 5354: 'stomachache', 5355: 'hypnosis', 5356: 'bliss', 5357: '2mgs', 5358: 'concentrating', 5359: 'winner', 5360: 'retained', 5361: 'exposed', 5362: 'sue', 5363: 'gap', 5364: 'regulation', 5365: 'tricks', 5366: 'land', 5367: 'estarylla', 5368: 'stimulator', 5369: 'prevpac', 5370: 'anaphylactic', 5371: 'medrol', 5372: 'cared', 5373: 'prazosin', 5374: 'terrorized', 5375: 'intensified', 5376: 'alil', 5377: 'industry', 5378: 'diclofenac', 5379: 'claravis', 5380: 'bat', 5381: 'stents', 5382: 'reversal', 5383: 'lice', 5384: 'pediatrician', 5385: 'nits', 5386: 'articulate', 5387: 'cerebri', 5388: 'clinpro', 5389: 'invest', 5390: 'located', 5391: 'investigated', 5392: 'lopid', 5393: 'leads', 5394: 'pea', 5395: 'sting', 5396: 'kicker', 5397: 'cryselle', 5398: 'sedating', 5399: 'anticipated', 5400: 'rope', 5401: 'largely', 5402: 'pediatric', 5403: 'erased', 5404: '12am', 5405: 'hose', 5406: 'femur', 5407: 'ibuproprin', 5408: '210lbs', 5409: 'addressed', 5410: 'chaparral', 5411: 'shrank', 5412: 'arrhythmia', 5413: 'bugged', 5414: 'dental', 5415: 'guessed', 5416: 'curled', 5417: 'fetal', 5418: 'bills', 5419: 'hopelessness', 5420: 'gall', 5421: 'buds', 5422: 'activating', 5423: 'unconscious', 5424: '8hrs', 5425: 'arrives', 5426: 'crusting', 5427: 'diahrrea', 5428: 'ensures', 5429: 'addback', 5430: 'entirety', 5431: 'undo', 5432: 'deficiency', 5433: '22lbs', 5434: 'marplan', 5435: 'jealous', 5436: 'dismissed', 5437: 'yard', 5438: 'hobble', 5439: 'stock', 5440: 'zubsolv', 5441: 'pluses', 5442: 'crutch', 5443: 'recreational', 5444: 'cannabis', 5445: '100s', 5446: 'fearing', 5447: 'naggy', 5448: '54mg', 5449: 'stint', 5450: 'fron', 5451: '5months', 5452: 'cumulative', 5453: 'bell', 5454: 'rolaids', 5455: 'crohns', 5456: 'limitrol', 5457: 'potency', 5458: 'metabolize', 5459: 'sauce', 5460: 'tums', 5461: 'liquids', 5462: 'farts', 5463: 'potential', 5464: 'pregabalin', 5465: 'transcranial', 5466: 'diets', 5467: 'sold', 5468: 'autonomic', 5469: 'percocets', 5470: 'film', 5471: 'outstanding', 5472: 'remarkable', 5473: 'limbrel', 5474: 'hypochondria', 5475: 'fond', 5476: 'controller', 5477: 'shy', 5478: '40s', 5479: 'tossing', 5480: 'permanently', 5481: 'mouthwash', 5482: 'scene', 5483: 'courses', 5484: 'proof', 5485: 'hazy', 5486: 'serial', 5487: 'cook', 5488: 'spirits', 5489: 'ditch', 5490: 'efficacy', 5491: 'beer', 5492: 'invega', 5493: 'counseling', 5494: 'graduate', 5495: 'conflicted', 5496: 'grind', 5497: 'glowing', 5498: 'doloxtine', 5499: 'stubborn', 5500: 'serzone', 5501: 'gulp', 5502: 'consuming', 5503: 'asthmatic', 5504: 'heads', 5505: 'bye', 5506: 'visited', 5507: 'indefinitely', 5508: 'youngest', 5509: 'appitite', 5510: 'ceftin', 5511: 'relaxing', 5512: 'bypass', 5513: 'hints', 5514: 'earned', 5515: 'rewarded', 5516: 'awarded', 5517: 'jerked', 5518: 'prolapse', 5519: 'throws', 5520: 'pigmentation', 5521: 'ejaculating', 5522: 'lilly', 5523: 'twins', 5524: 'wipe', 5525: 'sicker', 5526: 'granted', 5527: 'threads', 5528: 'pain\\r', 5529: 'effexorxr', 5530: 'withing', 5531: 'survivor', 5532: '16mg', 5533: 'undergoing', 5534: 'clammy', 5535: 'dumb', 5536: 'consequences', 5537: 'profound', 5538: 'coupons', 5539: 'lag', 5540: 'depended', 5541: 'champ', 5542: 'kombiglyze', 5543: 'antidepressents', 5544: 'crushed', 5545: 'operate', 5546: '16th', 5547: 'laundry', 5548: 'piled', 5549: 'peak', 5550: 'paraguard', 5551: 'furious', 5552: 'floating', 5553: 'relate', 5554: 'roaccutane', 5555: 'refilling', 5556: 'pops', 5557: 'clumps', 5558: 'prisoner', 5559: 'sophomore', 5560: 'crowds', 5561: 'mysterious', 5562: 'pts', 5563: 'crack', 5564: 'ecstatic', 5565: 'depersonalization', 5566: 'exert', 5567: 'lunatic', 5568: '26th', 5569: 'colds', 5570: 'vehicle', 5571: 'dreaming', 5572: '45lbs', 5573: 'comorbid', 5574: 'weight\\r\\r', 5575: 'hospitalization', 5576: 'coat', 5577: 'retaining', 5578: 'reports', 5579: 'outdoor', 5580: 'handfuls', 5581: 'digestion', 5582: 'fentora', 5583: 'dissolves', 5584: 'jitteriness', 5585: 'soup', 5586: 'objective', 5587: 'cheat', 5588: 'proud', 5589: 'obesity', 5590: 'reoccurrence', 5591: 'dissipate', 5592: 'aggravated', 5593: 'ect', 5594: 'bridges', 5595: 'janumet', 5596: 'norcs', 5597: 'efudex', 5598: 'olux', 5599: 'lozenges', 5600: 'hypnotherapy', 5601: 'timing', 5602: 'career', 5603: 'fib', 5604: 'gambling', 5605: 'phoenix', 5606: 'drixoral', 5607: 'grandmother', 5608: 'nineteen', 5609: 'troubles', 5610: 'wart', 5611: 'ejaculatory', 5612: 'enalapril', 5613: 'ray', 5614: 'throbbing', 5615: 'responsibly', 5616: '200mgs', 5617: 'asks', 5618: 'cubes', 5619: 'assure', 5620: 'meg', 5621: 'soak', 5622: 'responded', 5623: 'avoided', 5624: 'ekg', 5625: 'norm', 5626: 'promethazine', 5627: 'mommy', 5628: 'leveled', 5629: 'cataract', 5630: 'urethra', 5631: 'understanding', 5632: 'valdoxan', 5633: 'colleagues', 5634: 'remedy', 5635: 'salads', 5636: 'trichotillomania', 5637: 'kariva', 5638: 'unfair', 5639: 'spoken', 5640: 'underweight', 5641: 'among', 5642: 'peaceful', 5643: 'exhausting', 5644: 'produced', 5645: 'overdoses', 5646: 'cylen', 5647: 'deteriorating', 5648: 'beverages', 5649: 'interfering', 5650: 'deprived', 5651: 'thousands', 5652: 'favourable', 5653: 'psorasis', 5654: 'unmanageable', 5655: 'twitch', 5656: 'raising', 5657: 'foul', 5658: 'hyperactivity', 5659: 'lapses', 5660: 'nortriptyline', 5661: 'vimpat', 5662: 'xeljanz', 5663: '4200mg', 5664: 'paroxysmal', 5665: 'puffy', 5666: 'easiest', 5667: 'edges', 5668: 'upto', 5669: 'shit', 5670: 'retina', 5671: '13th', 5672: 'rotating', 5673: 'vicoprofen', 5674: 'vantin', 5675: 'blade', 5676: 'stabilized', 5677: 'lactating', 5678: 'damaging', 5679: 'toast', 5680: 'core', 5681: 'casual', 5682: 'arguing', 5683: 'lubrication', 5684: 'trintellix', 5685: 'lesson', 5686: 'embril', 5687: 'exczema', 5688: 'adventure', 5689: 'pair', 5690: 'shops', 5691: 'heightened', 5692: 'lucid', 5693: 'nicotine', 5694: 'u2019ve', 5695: 'trembling', 5696: 'communicate', 5697: 'produce', 5698: 'cane', 5699: 'fist', 5700: 'curve', 5701: 'torso', 5702: 'tattooed', 5703: 'object', 5704: 'ignore', 5705: 'wed', 5706: 'climbed', 5707: 'psychiatrists', 5708: 'adulthood', 5709: 'definitive', 5710: 'vigilant', 5711: 'mar', 5712: 'inr', 5713: 'pharmaceutical', 5714: 'albuterol', 5715: 'federal', 5716: 'hfa', 5717: 'greatest', 5718: 'calmness', 5719: 'horny', 5720: 'unwanted', 5721: 'material', 5722: 'intimacy', 5723: 'ciprofloxacin', 5724: 'cept', 5725: 'shared', 5726: 'movantic', 5727: '45mins', 5728: 'delt', 5729: 'paired', 5730: 'baclofen', 5731: 'novartis', 5732: 'discontinuing', 5733: 'pits', 5734: 'consulted', 5735: 'foresta', 5736: 'premenstrual', 5737: 'oldest', 5738: 'mebaral', 5739: 'makers', 5740: 'hesitate', 5741: 'gloomy', 5742: 'survive', 5743: 'seriousness', 5744: 'nauseating', 5745: 'manipulate', 5746: 'viread', 5747: 'cerave', 5748: 'reconsider', 5749: 'chiropractor', 5750: 'inpatient', 5751: 'hallucinating', 5752: 'binged', 5753: 'outpatient', 5754: 'cons\\r\\r', 5755: 'very', 5756: 'isotretinoin', 5757: 'emphysema', 5758: 'nebulizer', 5759: 'accompanying', 5760: 'outburst', 5761: 'lyza', 5762: 'sublingual', 5763: 'overthinking', 5764: 'tattoos', 5765: 'hemorrhoid', 5766: 'ground', 5767: 'varied', 5768: 'deppresion', 5769: 'headachy', 5770: 'amethia', 5771: 'versus', 5772: 'interests', 5773: 'regard', 5774: 'opens', 5775: 'velcade', 5776: 'credit', 5777: 'jelly', 5778: 'offering', 5779: 'ached', 5780: 'aunt', 5781: 'frantic', 5782: 'takin', 5783: 'latter', 5784: 'shifts', 5785: 'neurogenic', 5786: 'wobbly', 5787: 'mail', 5788: 'carrier', 5789: 'portia', 5790: 'occurrences', 5791: 'petite', 5792: 'published', 5793: 'thins', 5794: 'loop', 5795: 'bruises', 5796: 'bleeds', 5797: 'bicep', 5798: 'performed', 5799: 'greater', 5800: 'deficit', 5801: 'dymista', 5802: 'amlodipine', 5803: 'tysabri', 5804: 'flicking', 5805: 'wonky', 5806: 'humor', 5807: 'cleanse', 5808: 'crawled', 5809: 'peels', 5810: 'adapalene', 5811: 'flexible', 5812: 'wreaked', 5813: 'jokes', 5814: 'facing', 5815: 'discontinuation', 5816: 'tropical', 5817: 'lights', 5818: 'compounded', 5819: 'skips', 5820: 'enhancer', 5821: 'endured', 5822: 'qualities', 5823: 'painfully', 5824: 'produces', 5825: 'mass', 5826: 'bee', 5827: 'walgreen', 5828: 'cyclin', 5829: 'concerning', 5830: 'trees', 5831: '120mgs', 5832: 'lidoderm', 5833: 'claimed', 5834: 'overlooked', 5835: 'direction', 5836: 'charlie', 5837: 'pissed', 5838: 'tinnitus', 5839: 'psychologically', 5840: 'identified', 5841: '15yrs', 5842: 'donut', 5843: 'allergan', 5844: 'safest', 5845: 'movies', 5846: 'analgesic', 5847: 'puss', 5848: 'tonsils', 5849: 'endorse', 5850: 'effortless', 5851: 'claritin', 5852: 'fertility', 5853: 'funky', 5854: 'melanomas', 5855: 'antihistamines', 5856: 'income', 5857: 'sildenafil', 5858: 'suggesting', 5859: 'housework', 5860: 'gardening', 5861: 'pmsing', 5862: 'pollen', 5863: 'aweful', 5864: '50mgs', 5865: 'dizzyness', 5866: 'cefuroxime', 5867: 'starved', 5868: 'elderly', 5869: 'desperation', 5870: 'micrograms', 5871: 'theres', 5872: 'refilled', 5873: 'crusty', 5874: 'corners', 5875: 'fluctuates', 5876: 'dang', 5877: 'suppressive', 5878: 'obsessively', 5879: 'latex', 5880: 'trousers', 5881: 'vascepa', 5882: 'lines', 5883: 'hbp', 5884: 'inadequate', 5885: 'hydrochloride', 5886: 'jerk', 5887: '7months', 5888: 'hairloss', 5889: 'lactulose', 5890: 'palps', 5891: 'zetia', 5892: 'bunches', 5893: 'coupled', 5894: 'redder', 5895: 'ordering', 5896: 'librax', 5897: 'unknown', 5898: 'bentyl', 5899: 'fistula', 5900: 'consequently', 5901: 'progression', 5902: 'divorce', 5903: 'renewed', 5904: 'contemplating', 5905: 'eliminating', 5906: 'vagotinic', 5907: 'cardiovascular', 5908: 'acts', 5909: 'atenolol', 5910: 'invalid', 5911: 'bowling', 5912: 'sell', 5913: '90mg', 5914: 'impalanon', 5915: 'frightening', 5916: 'fed', 5917: 'quiver', 5918: 'benztropine', 5919: 'parkinson', 5920: 'facials', 5921: 'hoodies', 5922: 'glipizide', 5923: 'depletes', 5924: 'challenging', 5925: 'enjuvia', 5926: 'evidently', 5927: 'maniac', 5928: 'prevefim', 5929: 'classified', 5930: 'grief', 5931: 'pool', 5932: 'australian', 5933: 'depth', 5934: 'toned', 5935: 'dense', 5936: 'chemotherapy', 5937: 'thicker', 5938: 'wherever', 5939: 'zarah', 5940: 'polycystic', 5941: 'ejaculate', 5942: 'shell', 5943: 'skincare', 5944: 'pangs', 5945: 'girlfriends', 5946: 'wireless', 5947: 'ghz', 5948: 'label', 5949: 'managable', 5950: 'orthopedist', 5951: 'contribute', 5952: 'church', 5953: 'mirvaso', 5954: 'intend', 5955: 'arteries', 5956: 'irritates', 5957: 'miserably', 5958: 'ovary', 5959: 'chaotic', 5960: 'outrageous', 5961: 'taught', 5962: 'namenda', 5963: 'teenage', 5964: 'ingesting', 5965: 'echo', 5966: 'boxing', 5967: 'browsing', 5968: 'pradaxa', 5969: 'greens', 5970: 'scans', 5971: 'azurette', 5972: 'knowledgeable', 5973: 'holiday', 5974: 'conscience', 5975: 'hypercare', 5976: 'entyvio', 5977: 'rem', 5978: 'coherent', 5979: 'bored', 5980: 'incorrectly', 5981: 'duty', 5982: 'measured', 5983: 'involve', 5984: 'serving', 5985: 'wrap', 5986: 'gaba', 5987: 'unresponsive', 5988: 'paba', 5989: 'emotion', 5990: 'serequel', 5991: 'manages', 5992: 'hyperhydrosis', 5993: '10days', 5994: 'atopic', 5995: 'saves', 5996: 'skills', 5997: 'taytulla', 5998: 'gotta', 5999: 'soften', 6000: 'pipes', 6001: 'relafen', 6002: 'spoon', 6003: 'jean', 6004: 'rebif', 6005: 'migrane', 6006: 'pooped', 6007: 'uveitis', 6008: 'mos', 6009: 'stutter', 6010: 'softened', 6011: '100x', 6012: 'dig', 6013: 'status', 6014: 'apo', 6015: 'amaryl', 6016: 'accomplish', 6017: 'match', 6018: 'blowing', 6019: 'indication', 6020: 'antivirals', 6021: 'pubic', 6022: 'tie', 6023: 'appropriately', 6024: 'strengthen', 6025: 'halt', 6026: '300lbs', 6027: 'lawsuits', 6028: 'cigs', 6029: 'soothing', 6030: 'radio', 6031: 'scaledown', 6032: 'nodding', 6033: 'regards', 6034: 'tics', 6035: 'boric', 6036: 'lightning', 6037: 'sutent', 6038: 'persisted', 6039: 'earache', 6040: 'sacral', 6041: 'tarceva', 6042: 'outweighs', 6043: 'urso', 6044: 'u2018normal', 6045: 'u2019', 6046: 'runs', 6047: 'brick', 6048: 'amoxicillan', 6049: 'app', 6050: 'lingered', 6051: 'hyperhidrosis', 6052: 'lymphoma', 6053: 'memetisone', 6054: 'scent', 6055: 'nauseousness', 6056: 'slurred', 6057: 'empagliflozin', 6058: 'enzymes', 6059: 'glypizide', 6060: 'truelicity', 6061: 'irresponsible', 6062: 'tmi', 6063: 'viibyrd', 6064: 'bowls', 6065: 'thc', 6066: 'vectical', 6067: 'shedding', 6068: 'dextroamphetamine', 6069: 'cognition', 6070: 'brows', 6071: 'raltegravir', 6072: 'adherence', 6073: 'zohydro', 6074: 'atypical', 6075: 'hifu', 6076: 'fibrous', 6077: 'grams', 6078: 'disconnected', 6079: 'sibo', 6080: 'primidone', 6081: 'nora', 6082: 'messing', 6083: 'contained', 6084: 'gestodene', 6085: 'tempting', 6086: 'alas', 6087: 'paycheck', 6088: 'resorting', 6089: 'scheming', 6090: 'stealing', 6091: 'fund', 6092: 'pales', 6093: 'experianced', 6094: 'rockhard', 6095: '3xs', 6096: 'clondine', 6097: 'golden', 6098: '2lbs', 6099: 'deplin', 6100: 'disposition', 6101: 'sinking', 6102: 'resection', 6103: 'narrowing', 6104: 'anastomosis', 6105: 'arrhythmias', 6106: 'litres', 6107: 'fitbit', 6108: '2x200mg', 6109: 'ciorofloxacin', 6110: 'bipolar2', 6111: 'perennially', 6112: 'pnuemonia', 6113: 'lyme', 6114: 'combivir', 6115: 'pluz', 6116: 'nasel', 6117: 'nexplanont', 6118: 'western', 6119: 'chemist', 6120: 'advises', 6121: 'duties', 6122: 'discrimination', 6123: 'hoo', 6124: 'vaniqa', 6125: 'kiss', 6126: 'goodbye', 6127: 'plucked', 6128: 'fortnight', 6129: 'downy', 6130: 'handles', 6131: 'shortage', 6132: 'venting', 6133: 'composite', 6134: 'inflammatories', 6135: 'anticipate', 6136: 'magically', 6137: 'suppressant', 6138: 'hopeing', 6139: 'eot', 6140: 'indicate', 6141: 'beggining', 6142: 'jaundice', 6143: 'dispense', 6144: 'clumsy', 6145: 'blanks', 6146: 'betmiga', 6147: 'glimepiride', 6148: 'ckd', 6149: 'flovemt', 6150: 'fluxuate', 6151: 'surroundings', 6152: 'enlongated', 6153: 'frames', 6154: 'freqently', 6155: 'vitals', 6156: 'accepting', 6157: 'virtue', 6158: 'curbside', 6159: 'embrace', 6160: 'pyridium', 6161: 'anesthetics', 6162: 'diminish', 6163: 'reside', 6164: 'inly', 6165: 'retinol', 6166: 'progestin', 6167: 'androgenic', 6168: 'fallopian', 6169: 'pooping', 6170: 'tuck', 6171: 'nexplon', 6172: 'lashing', 6173: 'rids', 6174: '70s', 6175: 'riboviron', 6176: 'mission', 6177: 'bromazepam', 6178: 'carbamazepin', 6179: 'microvascular', 6180: 'lancinating', 6181: 'remissed', 6182: 'jolting', 6183: 'resume\\r\\r', 6184: 'pristique', 6185: 'sufficient', 6186: 'endroconologist', 6187: 'appreciate', 6188: 'equalize', 6189: 'yoked', 6190: 'busper', 6191: 'loranzapam', 6192: 'anchor', 6193: 'holy', 6194: 'smokes', 6195: 'resigning', 6196: 'slowing', 6197: 'vulvar', 6198: 'gooey', 6199: 'visibly', 6200: 'animal', 6201: 'officer', 6202: 'humane', 6203: 'irony', 6204: 'grater', 6205: 'cave', 6206: 'stsrted', 6207: 'titinus', 6208: 'csn', 6209: 'nrevous', 6210: 'bertie', 6211: 'equates', 6212: 'rearranged', 6213: 'calender', 6214: 'strung', 6215: 'artist', 6216: 'models', 6217: 'hairstylist', 6218: 'waned', 6219: 'assumption', 6220: 'similarity', 6221: 'ciproflaxcin', 6222: 'anhedonia', 6223: 'haldol', 6224: 'stupidest', 6225: 'flexiril', 6226: 'reprinol', 6227: 'twitched', 6228: 'intravenous', 6229: 'weekafter', 6230: 'littlw', 6231: 'subjective', 6232: 'delivered', 6233: 'musicians', 6234: 'speakers', 6235: 'embarrass', 6236: 'nervy', 6237: 'seldomly', 6238: 'hyperemotional', 6239: 'schizophrenic', 6240: 'benzyol', 6241: 'milia', 6242: 'jawline', 6243: 'kiddie', 6244: 'residential', 6245: 'eligible', 6246: 'sword', 6247: 'rig', 6248: 'veryanxiousnow', 6249: 'accutune', 6250: 'hype', 6251: 'gathering', 6252: 'praise', 6253: 'bolus', 6254: 'transient', 6255: 'overdosage', 6256: 'arsenal', 6257: 'monocycline', 6258: 'finacea', 6259: 'sprouting', 6260: 'rendering', 6261: 'on\\r\\r', 6262: 'dropped\\r\\r', 6263: 'to', 6264: 'with\\r\\r', 6265: 'did\\r\\r', 6266: 'lyrica\\r\\r', 6267: 'was', 6268: 'genius', 6269: 'retrospect', 6270: 'everyting', 6271: 'expirence', 6272: 'buisness', 6273: 'disapointed', 6274: 'donate', 6275: 'defficient', 6276: '7lb', 6277: 'pinpoint', 6278: 'reinserted', 6279: 'pradif', 6280: 'mastectomy', 6281: 'uctd', 6282: 'convulsive', 6283: 'pasta', 6284: 'juicing', 6285: 'veges', 6286: 'chained', 6287: 'faulty', 6288: 'depressrion', 6289: 'puzzel', 6290: 'deficiencies', 6291: 'prompted', 6292: 'metastasis', 6293: 'dip', 6294: 'chime', 6295: 'spirulina', 6296: 'ibrance', 6297: 'victorza', 6298: 'disagree', 6299: 'astonishing', 6300: 'jack', 6301: 'diarhoea', 6302: 'clarythromycin', 6303: 'clarythormycin', 6304: 'cardioverted', 6305: 'succinate', 6306: 'opoids', 6307: 'settings', 6308: 'unprotectes', 6309: 'pregrant', 6310: 'immidietly', 6311: 'avg', 6312: 'hormone\\r', 6313: 'tl', 6314: 'periods\\r', 6315: 'when', 6316: 'intended\\r', 6317: 'not', 6318: 'sinuitis', 6319: 'definately', 6320: 'sence', 6321: 'exersice', 6322: 'rocketing', 6323: 'comforter', 6324: 'estimated', 6325: 'conquer', 6326: '000mg', 6327: 'afriad', 6328: 'nieces', 6329: 'notes', 6330: 'delight', 6331: 'starchy', 6332: 'moms', 6333: 'breastfed', 6334: '6yr', 6335: 'wetting', 6336: 'noses', 6337: 'scheduling', 6338: 'fow', 6339: 'lowed', 6340: 'cognitives', 6341: 'ressonation', 6342: 'transplanted', 6343: 'impossibility', 6344: 'pumped', 6345: 'temazapam', 6346: 'vioxx', 6347: 'sum', 6348: 'opthomologist', 6349: 'physcian', 6350: 'perceive', 6351: 'called\\r', 6352: 'gripe', 6353: 'coincidentally', 6354: 'aborting', 6355: 'irretiable', 6356: 'abscessed', 6357: 'ejaculated', 6358: '15pm', 6359: '240lbs', 6360: 'gifted', 6361: 'metforming', 6362: 'onglyza', 6363: 'wheezy', 6364: 'devotedly', 6365: 'pursued', 6366: 'midday', 6367: 'laydown', 6368: 'gummies', 6369: 'strangely', 6370: 'national', 6371: 'lunchbox', 6372: 'intramuscular', 6373: 'politics', 6374: 'guide', 6375: 'diaper', 6376: 'destin', 6377: 'neosporin', 6378: 'careless', 6379: 'dominance', 6380: 'havet', 6381: 'acidy', 6382: 'associating', 6383: 'official', 6384: 'dermatillomania', 6385: 'zydus', 6386: '105mg', 6387: '250lbs', 6388: 'beef', 6389: 'jerky', 6390: 'slacked', 6391: 'definalty', 6392: 'bont', 6393: 'aptiom', 6394: '184lbs', 6395: 'ham', 6396: 'designed', 6397: 't2s', 6398: 'imho', 6399: 'yucky', 6400: 'delicious', 6401: '24th', 6402: '74yrs', 6403: 'stands', 6404: 'precise', 6405: 'metronidazoles', 6406: 'insipidus', 6407: 'haywire', 6408: 'hay', 6409: 'butalbital', 6410: 'idiopathic', 6411: 'hypersomnia', 6412: 'ample', 6413: 'dragging', 6414: 'houseshoes', 6415: 'cheapest', 6416: 'bulged', 6417: 'ibupropen', 6418: 'photographer', 6419: 'retail', 6420: 'cola', 6421: 'manicness', 6422: 'minimized', 6423: 'remind', 6424: 'pretend', 6425: 'zinic', 6426: 'niva', 6427: 'movie', 6428: 'anastozole', 6429: 'steering', 6430: 'billion', 6431: 'squirted', 6432: 'coma', 6433: 'phenol', 6434: '100mcg', 6435: 'loritab', 6436: 'tormented', 6437: 'schooled', 6438: 'impulses', 6439: 'evenings', 6440: 'accomplishment', 6441: 'nardil', 6442: '2x40mg', 6443: '3x30mg', 6444: 'anxieyy', 6445: 'ceases', 6446: 'amaze', 6447: 'swears', 6448: 'pedunctulated', 6449: 'guildess', 6450: 'intensity', 6451: 'personailty', 6452: 'acidophilus', 6453: 'rechecked', 6454: 'reassure', 6455: 'bab', 6456: 'measuring', 6457: 'precautionary', 6458: 'augmfnyin', 6459: 'subways', 6460: 'fifty', 6461: 'exterminate', 6462: 'occurrence', 6463: 'negativity', 6464: 'modest', 6465: 'slights', 6466: 'parasomnia', 6467: 'silver', 6468: 'sleepwalking', 6469: 'thickening', 6470: 'ridicule', 6471: 'verification', 6472: 'labrum', 6473: 'recede', 6474: 'demoralizing', 6475: 'awakened', 6476: 'hallelujah', 6477: 'watchers', 6478: '16lbs', 6479: 'binders', 6480: 'lactate', 6481: 'menus', 6482: 'approached', 6483: '5ft', 6484: '97lbs', 6485: '4ish', 6486: 'curable', 6487: 'unfortonately', 6488: 'dialated', 6489: 'medicational', 6490: 'unpredictability', 6491: 'internist', 6492: 'ribavarin', 6493: 'ribavirin', 6494: 'victrelis', 6495: 'secure', 6496: 'istarted', 6497: 'traumas', 6498: 'tipped', 6499: 'fuction', 6500: 'treament', 6501: 'generaly', 6502: 'reglar', 6503: 'brachytherapy', 6504: 'excision', 6505: 'skilled', 6506: 'postpone', 6507: 'aderrall', 6508: 'accountant', 6509: 'stunk', 6510: 'emend', 6511: 'melancholic', 6512: 'acyclovir', 6513: 'peazy', 6514: 'indoors', 6515: 'vengenance', 6516: 'indo', 6517: 'anapurirnol', 6518: 'bonine', 6519: 'paramedic', 6520: 'paramedics', 6521: '14th', 6522: 'overdose\\r', 6523: 'so', 6524: 'contently', 6525: 'created', 6526: 'humidity', 6527: 'spina', 6528: 'bifida', 6529: 'hydrocephalus', 6530: 'structure', 6531: 'resident', 6532: 'tingles', 6533: 'chokingness', 6534: 'dodge', 6535: 'anxiery', 6536: 'vistiral', 6537: 'tram', 6538: 'critical', 6539: 'robitussin', 6540: 'propose', 6541: 'normal\\r', 6542: 'bottomless', 6543: 'heavens', 6544: 'employer', 6545: '118lbs', 6546: '126lbs', 6547: '10mcg', 6548: '5mcg', 6549: 'dermatologists', 6550: 'dirty', 6551: 'thanksgiving', 6552: 'scariest', 6553: 'colazal', 6554: 'literature', 6555: 'notion', 6556: 'jive', 6557: 'contave', 6558: 'jolly', 6559: 'ranchers', 6560: 'wwii', 6561: 'assaulted', 6562: 'dalmane', 6563: 'risky', 6564: 'psychomotor', 6565: 'lopressor', 6566: 'unreasonably', 6567: 'dramas', 6568: 'neurotransmitter', 6569: 'unbalances', 6570: 'deserves', 6571: 'iid', 6572: 'highschool', 6573: 'stepson', 6574: 'involving', 6575: 'reaping', 6576: '750ml', 6577: 'cycen', 6578: 'dunno', 6579: 'technically', 6580: 'implantation', 6581: 'sixteen', 6582: '1mile', 6583: 'competitive', 6584: 'tournament', 6585: 'nutrients', 6586: 'whitehead', 6587: 'proton', 6588: 'percieved', 6589: 'erosion', 6590: 'validation', 6591: 'emotion\\r', 6592: 'uncontrolable', 6593: 'shaking\\r', 6594: 'biplar1', 6595: '900mg', 6596: 'atavin', 6597: 'collagenous', 6598: 'microscopic', 6599: 'leaky', 6600: 'wheat', 6601: 'premature', 6602: 'ventricular', 6603: 'metoprorlol', 6604: 'kitten', 6605: 'meditations', 6606: 'parsley', 6607: 'inducing', 6608: 'violated', 6609: 'vunerable', 6610: 'havjng', 6611: 'gunfire', 6612: 'backpacking', 6613: 'papulopustular', 6614: 'odds', 6615: 'manually', 6616: 'dilated', 6617: 'bawling', 6618: 'laminectomy', 6619: 'rods', 6620: 'fuse', 6621: '81mg', 6622: 'frighten', 6623: 'exaggerating', 6624: 'violence', 6625: 'imdur', 6626: 'squeezing', 6627: 'bewildered', 6628: 'extrovert', 6629: 'intraverts', 6630: 'isolation', 6631: 'mexican', 6632: 'interrupt', 6633: 'bydueron', 6634: 'explosive', 6635: 'rotten', 6636: 'notified', 6637: 'voicing', 6638: '49lbs', 6639: 'glycemic', 6640: 'index', 6641: 'slew', 6642: 'commenting', 6643: 'lovin', 6644: 'prominent', 6645: 'typhoid', 6646: 'simultaneously', 6647: '40kg', 6648: '116kg', 6649: 'zumba', 6650: 'kgs', 6651: '7kg', 6652: 'recognise', 6653: 'fertilization', 6654: '23rd', 6655: 'prostatitis', 6656: 'enterococcus', 6657: 'protaste', 6658: 'gland', 6659: 'policy', 6660: 'wherein', 6661: 'climb', 6662: 'ruled', 6663: 'germany', 6664: 'interactive', 6665: 'literately', 6666: 'wallop', 6667: '15min', 6668: 'distances', 6669: '45min', 6670: 'pizza', 6671: 'slices', 6672: 'default', 6673: 'implementation', 6674: 'sumo', 6675: 'wrestler', 6676: 'reflect', 6677: 'commercials', 6678: 'aka', 6679: 'cavity', 6680: 'embolism', 6681: 'flinch', 6682: 'blindly', 6683: 'teaspoons', 6684: 'castor', 6685: 'automatic', 6686: 'pressed', 6687: 'button', 6688: 'withdrew', 6689: 'unexplainable', 6690: '50mcg', 6691: 'painkiller', 6692: 'despondency', 6693: 'satiated', 6694: 'colonoscopies', 6695: 'excruciatingly', 6696: 'teary', 6697: 'inched', 6698: 'responding', 6699: 'brentellix', 6700: 'citolopram', 6701: 'sugested', 6702: 'theanine', 6703: 'tenses', 6704: 'lobe', 6705: 'mesial', 6706: 'rose', 6707: 'endocrine', 6708: 'buckling', 6709: 'limb', 6710: 'femhrt', 6711: 'levothyroxin', 6712: 'clung', 6713: 'approval', 6714: 'bisacodyl', 6715: 'usp', 6716: 'marketed', 6717: 'stripped', 6718: 'supressant', 6719: 'disgusts', 6720: 'journals', 6721: 'cancelled', 6722: '209lbs', 6723: '22nd', 6724: 'skinner', 6725: 'jolts', 6726: 'complimenting', 6727: '75kg', 6728: 'my\\r\\r', 6729: 'definite', 6730: 'rats', 6731: 'resent', 6732: 'performing', 6733: 'biopsies', 6734: 'catherised', 6735: 'duodart', 6736: 'drugstore', 6737: 'ozing', 6738: 'hyperpigmented', 6739: 'unnatural', 6740: 'dressing', 6741: 'ahhh', 6742: 'remembers', 6743: 'station', 6744: 'beers', 6745: 'frig', 6746: 'proceded', 6747: 'parked', 6748: 'naked', 6749: 'irrigation', 6750: 'uribel', 6751: 'swam', 6752: 'behalf', 6753: 'septic', 6754: 'bacterias', 6755: 'coli', 6756: 'questioning', 6757: 'questionable', 6758: 'orals', 6759: 'hid', 6760: 'invokanna', 6761: 'rights', 6762: 'asperin', 6763: 'ibuprofin', 6764: 'synergy', 6765: 'hairline', 6766: 'impatient', 6767: 'rotting', 6768: 'sees', 6769: 'discouraging', 6770: 'grouch', 6771: 'manufactured', 6772: 'plant', 6773: 'amannoyed', 6774: 'doubting', 6775: 'boyfriends', 6776: 'depession', 6777: 'intensive', 6778: 'consult', 6779: '10microgram', 6780: 'dramatize', 6781: 'reliably', 6782: 'compatability', 6783: 'inapplicable', 6784: 'adequate', 6785: 'dependancies', 6786: 'schpeel', 6787: 'morning\\r', 6788: 'vigorous', 6789: 'arms\\r', 6790: 'sedentary', 6791: 'symtoms', 6792: 'vessel', 6793: 'childbirth', 6794: 'paced', 6795: 'bitchiness', 6796: 'rocks', 6797: 'simmilar', 6798: 'flattening', 6799: 'marathon', 6800: 'estadiol', 6801: 'vyvase60mg', 6802: 'invuniv', 6803: 'tanning', 6804: 'doct', 6805: 'halobetasol', 6806: 'propionate', 6807: 'intermitant', 6808: 'presenting', 6809: 'reknowned', 6810: 'virals', 6811: 'unprecedented', 6812: 'hhv', 6813: 'ebv', 6814: 'purchasing', 6815: 'reordering', 6816: 'searches', 6817: 'delaying', 6818: 'consent', 6819: 'gurgling', 6820: 'occured', 6821: 'rectum', 6822: 'acetometophine', 6823: 'rasuvo', 6824: 'barefoot', 6825: 'humeria', 6826: 'cousin', 6827: 'cousins', 6828: '130lbs', 6829: 'procrastinating', 6830: 'licence', 6831: 'whoops', 6832: 'adenoids', 6833: 'iliotibial', 6834: 'obtain', 6835: 'bipolars', 6836: 'lunchtime', 6837: 'emerged', 6838: '180mg', 6839: 'willpower', 6840: 'freezer', 6841: 'solves', 6842: 'epidrin', 6843: 'isometheptene', 6844: 'dichloralphenazone', 6845: 'isometh', 6846: 'dich', 6847: 'apap', 6848: 'variation', 6849: 'dispensed', 6850: 'remotes', 6851: 'phones', 6852: 'lined', 6853: 'scrambling', 6854: 'kudos', 6855: 'ouch', 6856: 'scotland', 6857: 'sebacious', 6858: 'activate', 6859: 'romania', 6860: 'threshold', 6861: 'yelp', 6862: 'infamous', 6863: 'suitable', 6864: 'braced', 6865: 'mangable', 6866: '40yr', 6867: 'trifecta', 6868: 'issued', 6869: 'sharobel', 6870: 'crankiness', 6871: 'antacid', 6872: 'packaging', 6873: 'vagifem', 6874: 'delivery', 6875: 'relocated', 6876: 'diskus', 6877: 'valerian', 6878: 'stressors', 6879: 'nilstat', 6880: 'heaps', 6881: 'rexetin', 6882: 'paroxetine', 6883: 'fluonxol', 6884: 'tendency', 6885: 'passion', 6886: 'chat', 6887: 'diph', 6888: 'indica', 6889: 'sativa', 6890: 'toker', 6891: 'agrees', 6892: 'edibles', 6893: 'neupogen', 6894: 'wbc', 6895: 'mosquito', 6896: 'neulasta', 6897: 'imigran', 6898: 'tounge', 6899: 'placebos', 6900: 'honeydew', 6901: 'melon', 6902: 'generation', 6903: 'gun', 6904: 'processe', 6905: 'crampier', 6906: 'fav', 6907: 'bcm', 6908: 'reverse', 6909: 'twilight', 6910: 'blended', 6911: 'fig', 6912: 'newtons', 6913: 'bran', 6914: 'muffin', 6915: 'tbsp', 6916: 'healthtrap', 6917: 'chipped', 6918: 'molar', 6919: 'bird', 6920: 'pecking', 6921: 'agreement', 6922: 'mindful', 6923: 'sos', 6924: 'puva', 6925: 'resigned', 6926: 'anxiolytic', 6927: 'collapsing', 6928: 'curving', 6929: 'extend', 6930: 'motions', 6931: 'sucralose', 6932: 'chaser', 6933: 'tripled', 6934: 'blankets', 6935: '200mrgs', 6936: 'thyroids', 6937: 'perscride', 6938: '90mrgs', 6939: 'amour', 6940: 'skinnier', 6941: 'systems', 6942: 'protruding', 6943: 'gosh', 6944: 'batttling', 6945: 'clarisonic', 6946: 'tag', 6947: 'bobbi', 6948: 'scratched', 6949: 'esophagogastroduodenoscopy', 6950: 'edg', 6951: 'protects', 6952: 'biotene', 6953: 'flactuating', 6954: 'household', 6955: 'on6', 6956: 'kkidney', 6957: 'usa', 6958: 'terribleness', 6959: 'bothers', 6960: 'regrets', 6961: 'so\\r', 6962: 'first\\r', 6963: 'astra', 6964: 'zeneca', 6965: 'atacand', 6966: 'unclear', 6967: 'hemi', 6968: 'palegic', 6969: 'yow', 6970: 'signority', 6971: 'atrilpla', 6972: 'undectetable', 6973: 'foulest', 6974: 'tinted', 6975: 'limits', 6976: 'dyslexia', 6977: 'letters', 6978: 'neutralized', 6979: 'blurting', 6980: 'unheard', 6981: 'whining', 6982: 'handled', 6983: 'adopted', 6984: 'grains', 6985: 'cavities', 6986: 'frova', 6987: 'islands', 6988: 'deposits', 6989: 'narcoleptic', 6990: 'littlest', 6991: 'ellaone', 6992: 'exceppt', 6993: 'devastated', 6994: 'sulphate', 6995: 'hysingla', 6996: 'breakthru', 6997: 'dissatisfied', 6998: 'wrapped', 6999: 'bang', 7000: 'tudorza', 7001: 'myelogenous', 7002: 'leukemia', 7003: 'psi', 7004: 'endur', 7005: 'efforts', 7006: 'exchange', 7007: 'dupixent', 7008: 'reassess', 7009: 'motivating', 7010: 'justifiable', 7011: 'repatha', 7012: 'september2016', 7013: 'tendon', 7014: 'december27', 7015: 'consecutive', 7016: 'vulnerable', 7017: 'transferring', 7018: '375mg', 7019: 'paraplegic', 7020: 'santa', 7021: 'clause', 7022: 'processed', 7023: 'vegas', 7024: 'geared', 7025: '6wks', 7026: 'undeniably', 7027: 'summary', 7028: 'ravenously', 7029: 'safely', 7030: 'verses', 7031: 'supression', 7032: 'transverse', 7033: 'mylytis', 7034: 'aides', 7035: 'matastasized', 7036: 'widow', 7037: 'addictions', 7038: 'rheumothogist', 7039: 'folic', 7040: 'neasea', 7041: 'colorful', 7042: 'truthful', 7043: 'absessed', 7044: 'stature', 7045: 'sexy', 7046: 'females', 7047: 'motivate', 7048: 'chore', 7049: 'quell', 7050: 'puffed', 7051: 'perpetually', 7052: 'amiss', 7053: 'levenorgestrel', 7054: 'debatable', 7055: 'scrutinized', 7056: 'clonazapam', 7057: 'supplementing', 7058: 'mentions', 7059: 'strayed', 7060: 'appease', 7061: 'hounded', 7062: 'intuitive', 7063: 'fizzy', 7064: 'emergen', 7065: 'nightgowns', 7066: 'undies', 7067: 'commando', 7068: 'dilute', 7069: 'weed', 7070: 'pulsating', 7071: 'ligament', 7072: 'bent', 7073: 'wrapping', 7074: 'notable', 7075: 'backs', 7076: 'crotch', 7077: 'canals', 7078: 'peculiar', 7079: 'lettuces', 7080: 'sprayed', 7081: 'preservatives', 7082: 'cauliflower', 7083: 'correlation', 7084: 'unexcited', 7085: 'medically', 7086: 'infertile', 7087: 'infestation', 7088: 'pursue', 7089: 'lifesavor', 7090: 'supra', 7091: 'aftertaste', 7092: 'persevering', 7093: 'mitigating', 7094: 'sobriety', 7095: 'chug', 7096: 'wedge', 7097: 'genetically', 7098: 'potion', 7099: 'staten', 7100: 'island', 7101: 'affiliated', 7102: 'columbia', 7103: 'tragedy', 7104: 'relievers', 7105: 'biased', 7106: 'yellowing', 7107: 'select', 7108: 'ondancetron', 7109: 'workweek', 7110: 'temodar', 7111: 'overhwelmed', 7112: 'progrogressed', 7113: 'pov', 7114: 'exascerbate', 7115: 'psycho', 7116: 'bitch', 7117: 'deserve', 7118: 'belt', 7119: 'buckle', 7120: 'altough', 7121: 'restart', 7122: 'minimizing', 7123: 'tank', 7124: 'abcessed', 7125: 'overbloated', 7126: 'acetone', 7127: 'bandage', 7128: 'aftercare', 7129: 'threats', 7130: 'suspending', 7131: 'defiant', 7132: 'cars', 7133: 'sever', 7134: 'exponentially', 7135: 'temp', 7136: 'tempted', 7137: 'assertive', 7138: 'sjw', 7139: '350mg', 7140: 'tenfold', 7141: 'rythmol', 7142: 'toporal', 7143: 'metalic', 7144: '6mo', 7145: '12y', 7146: 'manager', 7147: 'fired', 7148: 'bank', 7149: 'dextromethorphan', 7150: 'dye', 7151: 'guestioned', 7152: 'wate', 7153: 'tennis', 7154: 'rollercoaster', 7155: 'abated', 7156: 'paliperidone', 7157: 'rocking', 7158: 'forwards', 7159: 'janaury', 7160: 'evaluations', 7161: 'regretted', 7162: 'huff', 7163: 'barfing', 7164: 'allergist', 7165: 'bioxen', 7166: 'interuptions', 7167: 'colonoscoby', 7168: 'oped', 7169: 'reschedule', 7170: 'spite', 7171: 'tick', 7172: 'berinert', 7173: 'firazyr', 7174: 'frank', 7175: 'reaped', 7176: 'localized', 7177: 'masks', 7178: 'guarentee', 7179: 'h2o', 7180: 'sensory', 7181: 'processing', 7182: 'respirodone', 7183: 'nightmarish', 7184: 'inhabited', 7185: 'proxac', 7186: 'nutritionist', 7187: 'forfivo', 7188: 'blackberries', 7189: 'blueberries', 7190: 'kiwis', 7191: 'beetroot', 7192: 'lukewarm', 7193: 'garlic', 7194: 'contaminated', 7195: 'poked', 7196: 'kiddos', 7197: '15lbs', 7198: 'parasites', 7199: 'committed', 7200: 'rocky', 7201: 'hurdle', 7202: 'toxin', 7203: 'seasonal', 7204: 'environmental', 7205: 'ight', 7206: 'vibration', 7207: 'inhalation', 7208: 'astelin', 7209: 'nostril', 7210: 'inquire', 7211: 'xalcori', 7212: 'funeral', 7213: 'preparations', 7214: 'acquired', 7215: 'staph', 7216: 'zyvox', 7217: 'citalapram', 7218: 'unsuccessfully', 7219: '8months', 7220: 'bodily', 7221: 'actavis', 7222: 'subtype', 7223: 'insisting', 7224: 'bind', 7225: 'shakey', 7226: 'exceptional', 7227: 'papules', 7228: 'pustules', 7229: 'seratonin', 7230: 'practioner', 7231: 'huffing', 7232: 'puffing', 7233: 'stalking', 7234: 'tended', 7235: 'parenting', 7236: 'tuning', 7237: 'mealtime', 7238: 'backorder', 7239: 'bummed', 7240: 'skipper', 7241: 'thyrotoxicosis', 7242: 'reg', 7243: '15mcgs', 7244: 'mcgs', 7245: '75mcgs', 7246: 'affairs', 7247: 'org', 7248: 'compromised', 7249: 'thx', 7250: 'gang', 7251: 'substituted', 7252: 'oranges', 7253: 'carrots', 7254: 'roasted', 7255: 'cottage', 7256: 'bagels', 7257: 'like\\r\\r', 7258: 'clustered', 7259: 'discomforts', 7260: 'typ', 7261: 'sniffing', 7262: 'stoned', 7263: 'platelet', 7264: 'platelets', 7265: 'suttons', 7266: 'ketogenic', 7267: 'avocado', 7268: '213lbs', 7269: 'tindamax', 7270: 'buproprion', 7271: 'duplicate', 7272: 'misdiagnosed', 7273: 'incapable', 7274: '2kgs', 7275: 'atkins', 7276: 'ketosis', 7277: 'metrogel', 7278: 'curing', 7279: 'deemed', 7280: 'paddles', 7281: 'convert', 7282: 'converted', 7283: 'ocurrence', 7284: 'pulmonary\\r\\r', 7285: 'flecanide', 7286: 'hopefully\\r\\r', 7287: 'this', 7288: 'chips', 7289: 'starters', 7290: 'fecal', 7291: '45pm', 7292: '10am', 7293: 'struggles', 7294: '16yr', 7295: 'incidentally', 7296: 'registered', 7297: 'nizoral', 7298: 'loprox', 7299: 'bolt', 7300: 'secobarbital', 7301: 'sedatives', 7302: 'reputed', 7303: 'benzodiapines', 7304: 'ketoacidosis', 7305: 'dka', 7306: 'endocronologist', 7307: 'glyxambi', 7308: 'isentress', 7309: 'diazepam', 7310: 'dismiss', 7311: 'slimmer', 7312: 'carpal', 7313: 'tingeling', 7314: 'beteeen', 7315: 'boots', 7316: 'grows', 7317: 'reflected', 7318: 'overachiever', 7319: 'believes', 7320: 'humble', 7321: 'gruesome', 7322: 'sbout', 7323: 'sideways', 7324: 'stain', 7325: 'exams', 7326: 'expiration', 7327: 'demand', 7328: 'disibility', 7329: 'amytripyline', 7330: 'ultimate', 7331: 'hack', 7332: 'camouflaged', 7333: 'cherry', 7334: 'expelling', 7335: 'executive', 7336: 'guaranteed', 7337: 'imperfect', 7338: 'loosening', 7339: 'tryptophan', 7340: 'tanzania', 7341: 'malaria', 7342: 'stretched', 7343: 'nerologist', 7344: 'turmeric', 7345: 'blender', 7346: 'roots', 7347: 'mucous', 7348: 'ranged', 7349: 'carosel', 7350: 'stellara', 7351: 'otezela', 7352: 'baldness', 7353: 'becuz', 7354: 'refrigerator', 7355: 'calfs', 7356: '75mgs', 7357: 'enjoyment', 7358: 'defective', 7359: 'pouches', 7360: 'interlocked', 7361: 'collected', 7362: 'lauren', 7363: 'vegitative', 7364: 'peek', 7365: 'boo', 7366: 'attacking', 7367: 'roller', 7368: 'coaster', 7369: 'angst', 7370: 'wreck', 7371: 'club', 7372: 'operations', 7373: 'global', 7374: 'sinisitis', 7375: 'rubble', 7376: 'helpings', 7377: 'readily', 7378: 'flakes', 7379: 'invisible', 7380: 'calve', 7381: 'palpitation', 7382: 'ciggy', 7383: 'rocket', 7384: 'throught', 7385: '150bpm', 7386: 'lighthead', 7387: 'clamy', 7388: 'principal', 7389: 'testicular', 7390: 'meloxicam', 7391: 'vimovo', 7392: 'separation', 7393: 'zipsor', 7394: 'testicles', 7395: 'snows', 7396: '2yr', 7397: 'choking', 7398: '80lbs', 7399: 'instinct', 7400: 'highlighter', 7401: 'uping', 7402: 'stimulates', 7403: 'boehringer', 7404: 'ingelheim', 7405: 'packages', 7406: 'unacceptable', 7407: 'isolated', 7408: 'malfunction', 7409: 'whoever', 7410: 'anticholinergic', 7411: 'properties', 7412: 'dilates', 7413: 'terbutaline', 7414: 'nicks', 7415: 'stoppage', 7416: 'ezitimibe', 7417: 'awash', 7418: 'perspiration', 7419: 'muscular', 7420: 'janurary', 7421: 'rinsed', 7422: 'gargled', 7423: 'swish', 7424: 'gargle', 7425: 'phenytoin', 7426: 'aneurysm', 7427: 'esophaguel', 7428: 'candida', 7429: 'inattentiveness', 7430: 'glassy', 7431: 'overmedicated', 7432: 'fart', 7433: 'digging', 7434: 'ahold', 7435: 'concluded', 7436: 'denied', 7437: 'members', 7438: 'gene', 7439: 'regulates', 7440: 'pus', 7441: 'culprit', 7442: 'lenses', 7443: 'overpowering', 7444: 'succ', 7445: 'variable', 7446: 'moodier', 7447: 'ninth', 7448: 'spun', 7449: 'central', 7450: 'eases', 7451: 'lingers', 7452: 'squats', 7453: 'dumbbells', 7454: 'weekely', 7455: 'psychotherapy', 7456: 'aromatherapy', 7457: 'testicle', 7458: '2x500mg', 7459: 'boob', 7460: 'pathology', 7461: 'eardrum', 7462: 'summed', 7463: 'gastroscope', 7464: 'rings', 7465: 'grandchildren', 7466: 'cloudiness', 7467: 'sporatically', 7468: 'reassuring', 7469: 'flexibility', 7470: 'schitsoaffective', 7471: 'clozaril', 7472: 'van', 7473: 'equalized', 7474: 'akathesia', 7475: 'vital', 7476: 'inflamation', 7477: 'secondly', 7478: 'flaura', 7479: 'looser', 7480: 'stoping', 7481: 'upbeat', 7482: 'droopy', 7483: 'soul', 7484: 'convience', 7485: 'backw', 7486: 'fatal', 7487: 'narcan', 7488: 'myrbetriq', 7489: 'discoid', 7490: 'sunscreens', 7491: 'cheerios', 7492: 'proportions', 7493: 'placquenil', 7494: 'adhering', 7495: 'flulike', 7496: 'lolo', 7497: 'mediate', 7498: 'mmy', 7499: 'placing', 7500: 'target', 7501: 'heated', 7502: 'reminds', 7503: 'comodegenic', 7504: 'costing', 7505: 'benzalkonium', 7506: 'chloride', 7507: 'conjunctivitis', 7508: 'orthoevra', 7509: 'fave', 7510: 'crosses', 7511: 'demanded', 7512: 'abad', 7513: 'consulting', 7514: 'attached', 7515: 'lavender', 7516: 'darling', 7517: 'easter', 7518: 'precious', 7519: 'naturopath', 7520: 'satisfactory', 7521: 'nexplannon', 7522: 'footlong', 7523: 'subway', 7524: 'hugging', 7525: 'tragedies', 7526: 'sprung', 7527: 'wham', 7528: 'seraquel', 7529: 'polydrugged', 7530: 'redone', 7531: '14yrs', 7532: '30yrs', 7533: 'porcelain', 7534: 'dermatologies', 7535: 'ezcema', 7536: 'moisturize', 7537: 'moisturizers', 7538: 'bleach', 7539: 'baths', 7540: 'bactroban', 7541: '90g', 7542: 'medicaton', 7543: 'distance', 7544: 'affter', 7545: 'blacked', 7546: 'chunky', 7547: '12pm', 7548: 'affair', 7549: 'happiest', 7550: 'socialize', 7551: '30mgs', 7552: 'blurr', 7553: 'paralyze', 7554: 'afteri', 7555: 'cardiac', 7556: 'amphetamines', 7557: 'ribarvarin', 7558: 'rotate', 7559: 'forearms', 7560: 'fluoroquinolones', 7561: 'soldiers', 7562: 'anthrax', 7563: 'supreme', 7564: 'court', 7565: '1hr', 7566: 'ticker', 7567: 'parade', 7568: 'indicates', 7569: 'emily', 7570: 'oster', 7571: 'fused', 7572: 'neurologyst', 7573: 'menu', 7574: 'kenalog', 7575: '1600mg', 7576: 'oxys', 7577: 'anchorage', 7578: 'hundred', 7579: 'gimmicks', 7580: 'plugging', 7581: 'alseep', 7582: '500mgx4', 7583: 'bulk', 7584: 'fastin', 7585: 'hydroxycut', 7586: 'skyrocket', 7587: 'yippee', 7588: 'intoxicated', 7589: 'july18', 7590: '288lb', 7591: '282lb', 7592: 'feeln', 7593: 'hottie', 7594: 'consultation', 7595: 'eruption', 7596: 'intensively', 7597: 'expereince', 7598: 'deprivation', 7599: 'faucet', 7600: 'fittings', 7601: 'seamstress', 7602: '75lbs', 7603: 'caffiene', 7604: 'endings', 7605: 'freezes', 7606: 'freaky', 7607: 'traveled', 7608: 'hatched', 7609: 'prayers', 7610: 'nit', 7611: 'magnifier', 7612: 'lamp', 7613: 'microscope', 7614: 'science', 7615: 'vacuumed', 7616: 'laundered', 7617: 'louse', 7618: 'retreated', 7619: 'meanest', 7620: 'diabolical', 7621: 'sklya\\r', 7622: 'psudotumor', 7623: 'toprimate', 7624: 'dentists', 7625: 'america', 7626: 'fort', 7627: 'smith', 7628: 'arkansas', 7629: 'floss', 7630: 'fluoride', 7631: 'seventh', 7632: 'zolmitriptan', 7633: 'refrigerated', 7634: 'gulping', 7635: 'tougher', 7636: 'expanded', 7637: 'filling', 7638: '20min', 7639: 'sales', 7640: 'trail', 7641: 'atempts', 7642: 'quiting', 7643: 'sicky', 7644: 'retinoid', 7645: 'pennies', 7646: 'cataflam', 7647: 'trinessna', 7648: 'checkups', 7649: 'mircette', 7650: 'route', 7651: 'averts', 7652: 'optimal', 7653: 'situps', 7654: 'postponed', 7655: 'tricyclics', 7656: 'adds', 7657: 'gripes', 7658: 'dysuria', 7659: 'search', 7660: 'repetitive', 7661: 'unisom', 7662: 'otitis', 7663: 'media', 7664: 'obsess', 7665: 'opportunities', 7666: 'incapacitated', 7667: 'startup', 7668: 'deployed', 7669: 'hadnt', 7670: 'hearted', 7671: 'junal', 7672: 'repulsed', 7673: 'bisphosphonate', 7674: 'fingernails', 7675: 'osteonecrosis', 7676: 'implants', 7677: 'ironing', 7678: 'anastrozole', 7679: 'zoladex', 7680: 'mishaps', 7681: 'clarinex', 7682: 'constipating', 7683: 'shelf', 7684: 'announcement', 7685: 'smokers', 7686: 'temptation', 7687: 'quiets', 7688: 'convalescing', 7689: 'abd', 7690: 'dozen', 7691: 'drool', 7692: 'grave', 7693: 'choppers', 7694: 'invented', 7695: 'abusive', 7696: 'predisposes', 7697: 'occassional', 7698: 'enthused', 7699: 'palatable', 7700: 'soluble', 7701: 'cordial', 7702: 'mouthfuls', 7703: 'curiously', 7704: 'features', 7705: 'bile', 7706: 'leak', 7707: 'multitask', 7708: 'unexpectantly', 7709: 'adored', 7710: 'luxury', 7711: 'jag', 7712: 'celebrating', 7713: 'lymphangiomatosis', 7714: 'appendix', 7715: 'fungul', 7716: 'record', 7717: 'knot', 7718: 'hypoglycemia', 7719: '188lb', 7720: '172lb', 7721: 'ejaculates', 7722: 'exciting', 7723: 'shifting', 7724: 'evaluate', 7725: 'yep', 7726: 'fabulously', 7727: 'remifemin', 7728: 'estroven', 7729: 'varying', 7730: 'unspectacular', 7731: 'haul', 7732: 'onward', 7733: 'albolene', 7734: 'removers', 7735: 'prebiotic', 7736: 'potty', 7737: 'restfull', 7738: 'clash', 7739: 'hydralazine', 7740: 'nifedipine', 7741: 'coronary', 7742: 'venous', 7743: 'abalation', 7744: 'hyperemesis', 7745: 'delcegis', 7746: 'nodes', 7747: 'dripped', 7748: 'chewed', 7749: 'unasisted', 7750: '6mths', 7751: 'superb', 7752: 'beth', 7753: 'israel', 7754: 'palliative', 7755: 'unit', 7756: 'nodded', 7757: 'abusers', 7758: 'relative', 7759: 'iga', 7760: 'forgets', 7761: '252lbs', 7762: '230lbs', 7763: 'antidepressent', 7764: 'continious', 7765: 'hypotension', 7766: 'trulance', 7767: 'goods', 7768: 'afternoons', 7769: 'destabilized', 7770: 'timesbefore', 7771: 'prepopkit', 7772: 'ion', 7773: 'aging', 7774: 'comm', 7775: 'golfer', 7776: 'phil', 7777: 'mickelson', 7778: 'fore', 7779: 'hauled', 7780: 'wheelbarrows', 7781: 'neighbors', 7782: 'tapper', 7783: '1xday', 7784: 'lansoprazole', 7785: 'stagger', 7786: 'microgestion', 7787: 'colouring', 7788: 'tartrazine', 7789: 'labels', 7790: 'colourings', 7791: 'azo', 7792: 'dyes', 7793: 'numbered', 7794: 'manual', 7795: 'spontaneous', 7796: 'timeline', 7797: 'stds', 7798: 'ins', 7799: 'zubs', 7800: 'zubsolvs', 7801: '4mgs', 7802: 'blead', 7803: 'constraint', 7804: 'foreplay', 7805: 'funnest', 7806: 'forxiga', 7807: 'supplemented', 7808: 'someday', 7809: 'zonked', 7810: 'intending', 7811: 'forestall', 7812: 'detached', 7813: 'pillows', 7814: 'ingested', 7815: 'seas', 7816: 'treseba', 7817: 'tastings', 7818: 'streets', 7819: 'community', 7820: 'screwed', 7821: 'injurious', 7822: 'restrain', 7823: 'callouses', 7824: 'vistarel', 7825: 'blaming', 7826: 'wings', 7827: 'favors', 7828: 'disappointing', 7829: 'phases', 7830: 'crazed', 7831: 'palm', 7832: 'bcc', 7833: 'sideburn', 7834: 'british', 7835: 'insect', 7836: 'showe', 7837: 'rto', 7838: 'server', 7839: 'wyeth', 7840: 'sill', 7841: 'bushy', 7842: 'tail', 7843: 'phrase', 7844: 'inappropriate', 7845: 'diaphoresis', 7846: 'taco', 7847: 'sacrifice', 7848: 'conscription', 7849: 'texansplus', 7850: 'disinterested', 7851: 'viruses', 7852: 'tomato', 7853: 'peanut', 7854: 'butter', 7855: 'chewables', 7856: 'mylanta', 7857: 'fryer', 7858: 'grease', 7859: '24fe', 7860: 'prescibed', 7861: 'yawn', 7862: 'stimulated', 7863: 'u2014not', 7864: 'downcast', 7865: 'brooding', 7866: 'u2014i', 7867: 'u201ccure', 7868: 'u201d', 7869: 'u2014like', 7870: 'yawned', 7871: 'reclusive', 7872: 'u2014even', 7873: 'greet', 7874: 'hi\\r', 7875: 'simulation', 7876: 'diethylpropion', 7877: 'synced', 7878: 'bugs', 7879: 'persisting', 7880: 'septa', 7881: 'incoherent', 7882: 'roofied', 7883: 'pots', 7884: 'sorted', 7885: 'escape', 7886: 'listens', 7887: 'classmates', 7888: 'drawings', 7889: 'vilolently', 7890: 'feverish', 7891: 'rides', 7892: 'theme', 7893: 'tan', 7894: 'bossy', 7895: 'steriod', 7896: '13yrs', 7897: '32nd', 7898: 'murmurs', 7899: 'nagging', 7900: 'stink', 7901: 'eighth', 7902: 'behavioral', 7903: 'angrier', 7904: 'oiliness', 7905: 'peacefully', 7906: '72mg', 7907: 'relevant', 7908: 'donot', 7909: 'u30', 7910: 'crumbly', 7911: 'selling', 7912: 'gorging', 7913: 'banishing', 7914: 'recurrent', 7915: 'uni', 7916: 'biotics', 7917: 'pose', 7918: 'shat', 7919: 'shitting', 7920: 'disturb', 7921: 'youtube', 7922: 'zovirax', 7923: 'diverticulitus', 7924: 'adbomen', 7925: 'speeches', 7926: 'whereby', 7927: 'influenced', 7928: 'nausous', 7929: 'diahrea', 7930: 'zenzedi', 7931: 'satisfying', 7932: 'sticks', 7933: 'teaching', 7934: 'teenagers', 7935: 'flux', 7936: 'blades', 7937: 'therapists', 7938: 'cocodamol', 7939: 'benzodiazepan', 7940: 'maui', 7941: 'ahi', 7942: 'martinis', 7943: 'overflowed', 7944: 'purine', 7945: 'bucket', 7946: 'whale', 7947: 'sustenna', 7948: '156mg', 7949: 'indiana', 7950: 'illinois', 7951: 'monotherapy', 7952: 'revolutionalized', 7953: 'master', 7954: 'crabby', 7955: 'fork', 7956: 'lateral', 7957: 'cushioned', 7958: 'seb', 7959: 'tgel', 7960: 'french', 7961: 'beret', 7962: 'surprises', 7963: 'property', 7964: 'peers', 7965: 'uselessness', 7966: 'antiviral', 7967: 'jul', 7968: 'tour', 7969: 'vietnam', 7970: 'disturbing', 7971: 'obsessions', 7972: 'occupied', 7973: 'shouting', 7974: 'spitting', 7975: 'classroom', 7976: 'bronchial', 7977: 'inert', 7978: 'fibroadenoma', 7979: 'fibrocystic', 7980: 'peri', 7981: 'acknowledged', 7982: 'occurring', 7983: 'incorrect', 7984: 'nicely', 7985: 'nessa', 7986: 'letrozole', 7987: 'railing', 7988: 'dialysis', 7989: 'sigh', 7990: 'gildesse', 7991: 'wieght', 7992: 'perimenopause', 7993: 'obligated', 7994: 'licrogel', 7995: 'scientific', 7996: 'botanicals', 7997: 'ole', 7998: 'soothed', 7999: 'disintegrate', 8000: 'acidic', 8001: 'forrest', 8002: 'phar', 8003: 'reformulated', 8004: 'amoxil', 8005: 'withdraws', 8006: 'ita', 8007: 'ant', 8008: 'plates', 8009: 'prof', 8010: 'accounting', 8011: 'multitudes', 8012: 'colleague', 8013: 'superiors', 8014: 'accollades', 8015: 'hospitalizations', 8016: 'tenure', 8017: 'universities', 8018: 'recoveries', 8019: 'substituting', 8020: 'football', 8021: 'acebutolol', 8022: 'sectral', 8023: '80s', 8024: '255lbs', 8025: 'shadows', 8026: 'prostatic', 8027: 'aroused', 8028: 'eli', 8029: 'leaning', 8030: 'crystalizing', 8031: 'agents', 8032: 'monstat', 8033: 'hourly', 8034: 'paining', 8035: 'cloting', 8036: 'surgically', 8037: 'checks', 8038: 'headaces', 8039: 'potentally', 8040: 'recorder', 8041: 'fatigue\\r', 8042: 'outbreak\\r', 8043: 'knees\\r', 8044: 'cough\\r', 8045: 'throat\\r', 8046: '20mgs', 8047: 'boring', 8048: 'subjects', 8049: 'hesitation', 8050: 'commenters', 8051: 'ibruprofen', 8052: 'rag', 8053: 'alice', 8054: 'wonderland', 8055: 'rabbit', 8056: 'baring', 8057: 'ideally', 8058: 'routines', 8059: 'rediculously', 8060: 'colorado', 8061: 'california', 8062: 'legalize', 8063: 'source', 8064: '30s', 8065: 'signal', 8066: 'colace', 8067: 'phenergen', 8068: 'imagined', 8069: 'lol\\r', 8070: '30hrs', 8071: 'showers', 8072: 'seniors', 8073: 'betterment', 8074: 'impairment', 8075: 'sincere', 8076: 'sincerely', 8077: 'dan', 8078: 'juan', 8079: 'puerto', 8080: 'rico', 8081: 'thankyou', 8082: 'botched', 8083: 'arose', 8084: 'encourages', 8085: 'palmetto', 8086: 'abused', 8087: 'cures', 8088: 'cadilac', 8089: 'injector', 8090: 'fades', 8091: 'boss', 8092: 'motherhood', 8093: 'inconsolable', 8094: 'yards', 8095: 'dysfunctional', 8096: 'dbt', 8097: 'follows', 8098: 'traits', 8099: 'worrier', 8100: 'imipramine', 8101: 'candy', 8102: 'coloured', 8103: '140lbs', 8104: 'tamfilu', 8105: 'publicity', 8106: 'trumped', 8107: 'whrn', 8108: 'companys', 8109: 'maker', 8110: 'contrace', 8111: 'photographic', 8112: 'strait', 8113: 'vulvodynia', 8114: 'oxytrol', 8115: 'unnoticed', 8116: 'gee', 8117: 'buti', 8118: 'detriment', 8119: 'glucosamine', 8120: 'chrondroitin', 8121: 'suits', 8122: 'endocet', 8123: 'lightend', 8124: 'lightley', 8125: 'worrisome', 8126: 'predicament', 8127: 'harshly', 8128: 'extremly', 8129: 'objects', 8130: 'clumsily', 8131: 'shredded', 8132: 'screen', 8133: 'beans', 8134: '16h', 8135: 'calls', 8136: 'evident', 8137: 'delivers', 8138: 'tap', 8139: 'psychotropic', 8140: 'visuals', 8141: 'plasma', 8142: 'unemployment', 8143: 'maintainence', 8144: 'amt', 8145: 'boredom', 8146: 'grabbed', 8147: 'hotel', 8148: 'spectro', 8149: 'hectic', 8150: 'retroverted', 8151: '6cm', 8152: 'bcs', 8153: 'ppgyno', 8154: 'toxicity', 8155: 'eniemic', 8156: 'rusty', 8157: '11am', 8158: 'wink', 8159: 'submitting', 8160: 'bubble', 8161: 'eardrums', 8162: 'jumpy', 8163: 'clinically', 8164: 'lengths', 8165: 'iowa', 8166: 'louisiana', 8167: 'lump', 8168: 'flights', 8169: 'apt', 8170: 'everest', 8171: 'wooziness', 8172: 'wakening', 8173: 'thirteen', 8174: 'maxillary', 8175: 'raptiva', 8176: 'mircale', 8177: 'sleeves', 8178: 'mestinon', 8179: 'cellcept', 8180: 'obama', 8181: 'fives', 8182: 'decemeber', 8183: 'imediallty', 8184: '7years', 8185: 'yell', 8186: 'consisting', 8187: 'lids', 8188: 'derealization', 8189: 'vicious', 8190: 'oops', 8191: 'chundered', 8192: 'nandos', 8193: 'sunset', 8194: 'burger', 8195: 'youre', 8196: 'raving', 8197: 'raft', 8198: 'ants', 8199: 'hunting', 8200: 'residence', 8201: '24hour', 8202: 'feed', 8203: 'theory', 8204: 'statistic', 8205: 'traumatizing', 8206: 'auntie', 8207: 'transderm', 8208: 'scop', 8209: 'apetite', 8210: 'cancel', 8211: 'handrails', 8212: 'cain', 8213: 'teach', 8214: 'houses', 8215: 'saddened', 8216: 'reco', 8217: 'revealed', 8218: 'dreamt', 8219: 'caregiver', 8220: 'bony', 8221: 'pics', 8222: 'starvation', 8223: 'generalised', 8224: 'nearsighted', 8225: 'attcks', 8226: '20mcg', 8227: 'apidex', 8228: 'failures', 8229: 'raynaud', 8230: 'wallet', 8231: 'oab', 8232: 'friction', 8233: 'calf', 8234: 'hmmm', 8235: 'indoor', 8236: 'singulair', 8237: 'misses', 8238: 'efexxor', 8239: 'dumping', 8240: 'wellbrutrin', 8241: 'zombi', 8242: 'tries', 8243: 'fuze', 8244: 'advantages', 8245: 'noticible', 8246: 'override', 8247: 'granola', 8248: 'bars', 8249: 'noodle', 8250: 'ciprofloxicin', 8251: 'menstruated', 8252: 'pig', 8253: 'laziness', 8254: 'goddamn', 8255: 'fortune', 8256: 'stemming', 8257: 'susprised', 8258: 'hesitated', 8259: 'participating', 8260: 'spirometry', 8261: 'xray', 8262: 'diazapan', 8263: 'melt', 8264: 'periodically', 8265: 'generate', 8266: 'recom', 8267: 'mend', 8268: 'restauraunt', 8269: 'to1', 8270: 'overreact', 8271: 'tunnels', 8272: 'skydive', 8273: 'builds', 8274: 'david', 8275: 'handbook', 8276: 'rambling', 8277: 'percs', 8278: 'roxys', 8279: 'input', 8280: 'actinic', 8281: 'keratosis', 8282: 'temples', 8283: 'merge', 8284: 'hairless', 8285: 'lit', 8286: 'session\\r', 8287: 'cappuccino', 8288: 'localize', 8289: 'settling', 8290: 'ance', 8291: 'mandates', 8292: 'coved', 8293: 'improvment', 8294: 'grandiose', 8295: 'forgetfullness', 8296: 'entex', 8297: 'raining', 8298: 'northwest', 8299: 'rain', 8300: 'mold', 8301: 'externally', 8302: 'cozy', 8303: 'citalpram', 8304: 'accommodate', 8305: 'uncontrallably', 8306: 'arnt', 8307: 'anxieties', 8308: 'piercing', 8309: 'pumping', 8310: 'kote', 8311: 'ruminating', 8312: 'socializing', 8313: 'told\\r', 8314: 'me', 8315: 'periungal', 8316: 'bandaid', 8317: 'my\\r', 8318: 'miconazole', 8319: 'wether', 8320: 'tonite', 8321: '3day', 8322: 'enhance', 8323: 'spiked', 8324: 'prudent', 8325: 'contacted', 8326: 'watchful', 8327: 'resolves', 8328: 'insterted', 8329: 'phillips', 8330: 'flavored', 8331: 'wrinkles', 8332: 'lumpectomy', 8333: 'aromatase', 8334: 'arimidex', 8335: 'groping', 8336: 'calcific', 8337: 'naloxone', 8338: 'strips', 8339: 'roxi', 8340: 'veramyst', 8341: 'levemir', 8342: 'flextouch', 8343: 'advocate', 8344: 'zelnorm', 8345: 'ematrol', 8346: 'untolerable', 8347: 'worthy', 8348: 'nation', 8349: 'wusses', 8350: 'mimic', 8351: 'lacking', 8352: '20pounds', 8353: 'alprostadil', 8354: '3hours', 8355: 'retard', 8356: 'scenario', 8357: 'belvid', 8358: 'leptiburn', 8359: 'enslaved', 8360: 'frustrations', 8361: 'cynicism', 8362: 'prevail', 8363: 'greaat', 8364: 'speeding', 8365: 'annoyance', 8366: 'catheterising', 8367: 'methotraxate', 8368: 'cage', 8369: 'degenerated', 8370: 'advance', 8371: 'sydney', 8372: 'vyvnase', 8373: 'comparing', 8374: 'freckles', 8375: 'fibromylgia', 8376: 'tumors', 8377: 'glaucoma', 8378: 'sticky', 8379: 'drys', 8380: 'manly', 8381: 'reallly', 8382: 'erect', 8383: 'dive', 8384: 'vigamox', 8385: 'scabbed', 8386: 'formulary', 8387: 'discounts', 8388: 'blankly', 8389: 'roxy', 8390: 'cripple', 8391: 'understands', 8392: 'draws', 8393: 'greatful', 8394: 'mints', 8395: 'smartphone', 8396: 'unemotional', 8397: 'acupuncture', 8398: 'shop', 8399: 'socialising', 8400: 'cookies', 8401: 'candies', 8402: 'platters', 8403: 'flour', 8404: '000vl', 8405: '10cd4', 8406: 'thinned', 8407: 'qualified', 8408: 'introductory', 8409: 'grooming', 8410: 'deficits', 8411: 'sleeps', 8412: 'assist', 8413: 'incurred', 8414: 'displaced', 8415: 'involuntary', 8416: 'carisoprodol', 8417: 'airlifted', 8418: 'labeled', 8419: 'holds', 8420: 'crocodile', 8421: '115lbs', 8422: '129lbs', 8423: 'seeming', 8424: 'authorization', 8425: 'election', 8426: 'climaxes', 8427: 'asprin', 8428: 'upcoming', 8429: 'speculated', 8430: 'reentered', 8431: 'crawl', 8432: 'giddy', 8433: 'glazed', 8434: 'positioned', 8435: 'congenital', 8436: 'statred', 8437: 'anaphylaxis', 8438: 'vengence', 8439: 'scales', 8440: 'uri', 8441: 'diarrhe', 8442: 'cosyntex', 8443: 'tinea', 8444: 'versicolor', 8445: 'administration', 8446: 'individuals', 8447: 'tighten', 8448: 'reposition', 8449: 'textured', 8450: 'mouthy', 8451: 'instructors', 8452: 'remarks', 8453: 'students', 8454: 'moderation', 8455: 'selected', 8456: 'mentioning', 8457: 'remote', 8458: 'sed', 8459: 'drown', 8460: 'downfalls', 8461: 'illegal', 8462: 'boned', 8463: 'aigust', 8464: 'stoop', 8465: 'differentiate', 8466: 'herniation', 8467: 'neurotin', 8468: 'auras', 8469: 'hugh', 8470: 'injectables', 8471: 'holistic', 8472: '3200mg', 8473: 'reappeared', 8474: 'tiniest', 8475: 'par', 8476: 'zanex', 8477: 'fetanyl', 8478: 'hemicrania', 8479: 'banding', 8480: 'occipital', 8481: 'prevailing', 8482: 'intercostal', 8483: 'disgusted', 8484: 'cheeseburger', 8485: 'puncture', 8486: 'thyroidectomy', 8487: 'averaged', 8488: 'marched', 8489: 'hypogonadism', 8490: 'vaporizer', 8491: 'ciggs', 8492: 'trooper', 8493: 'detetmine', 8494: 'enduring', 8495: 'leggings', 8496: 'collect', 8497: 'lint', 8498: 'swimming', 8499: 'midweek', 8500: 'conceiving', 8501: 'moisture', 8502: 'bombs', 8503: 'baghdad', 8504: 'tied', 8505: 'familial', 8506: 'hematologist', 8507: 'titration', 8508: 'wil', 8509: '19th', 8510: 'updates', 8511: 'web', 8512: 'inevitable', 8513: 't12', 8514: 'vertebra', 8515: 'soporific', 8516: 'merck', 8517: 'manufactures', 8518: 'altercation', 8519: 'susceptible', 8520: 'limping', 8521: 'burdened', 8522: 'scrubs', 8523: '150mgs', 8524: 'stil', 8525: 'resolving', 8526: 'interviews', 8527: 'conference', 8528: 'like15', 8529: '2days', 8530: 'unsuccessful', 8531: 'ketamine', 8532: 'symptomolgy', 8533: 'persistently', 8534: 'anticonvulsants', 8535: 'nevertheless', 8536: 'appalled', 8537: 'epileptic', 8538: 'motivational', 8539: 'hardworker', 8540: 'dedicated', 8541: 'partical', 8542: 'requiring', 8543: 'offs', 8544: 'costentyx', 8545: 'miscommunication', 8546: 'hotspots', 8547: 'fianally', 8548: 'impress', 8549: '40mins', 8550: 'aubagio', 8551: 'cellulitis', 8552: 'elimination', 8553: 'omfg', 8554: 'curreny', 8555: 'hing', 8556: 'direct', 8557: 'contol', 8558: 'theses', 8559: 'phoned', 8560: 'reply', 8561: 'churning', 8562: 'plot', 8563: 'curbing', 8564: 'admissions', 8565: 'resumed', 8566: 'radiating', 8567: 'takining', 8568: 'writhing', 8569: 'doppiness', 8570: 'crusted', 8571: '20hrs', 8572: 'pallindromic', 8573: 'weirdness', 8574: 'spur', 8575: 'termed', 8576: 'output', 8577: 'sleeper', 8578: 'plateaued', 8579: 'jazzed', 8580: 'disappointment', 8581: 'responder', 8582: 'imaginable', 8583: 'pancriatitis', 8584: 'stendra', 8585: 'prayer', 8586: 'tattooing', 8587: 'underneath', 8588: 'discoloration', 8589: 'tweaking', 8590: 'movantik', 8591: 'safyral', 8592: 'fuji', 8593: 'japan', 8594: 'zonisamide', 8595: 'treelimb', 8596: 'medtronics', 8597: 'linkage', 8598: '90s', 8599: 'multi', 8600: 'ranges', 8601: 'mongered', 8602: 'accountability', 8603: 'dealers', 8604: 'proventil', 8605: 'azmacort', 8606: 'govt', 8607: 'unavailable', 8608: 'ozone', 8609: 'fluxuates', 8610: 'improvments', 8611: 'undergo', 8612: 'comprehend', 8613: 'infinitely', 8614: 'parnate', 8615: '12yrs', 8616: 'submit', 8617: 'pennsaid', 8618: 'moxikind', 8619: 'cefixime', 8620: 'saxsenda', 8621: 'basics', 8622: 'wider', 8623: 'whoop', 8624: 'refridgerated', 8625: 'salmonella', 8626: 'trimethoprim', 8627: 'allegedly', 8628: 'neglecting', 8629: 'ccontrol', 8630: 'saggy', 8631: 'p90x', 8632: 'stanford', 8633: 'chromea', 8634: 'fighters', 8635: 'coke', 8636: 'splenda', 8637: 'symbacort', 8638: 'asthmatics', 8639: 'educate', 8640: 'alarmed', 8641: 'enviably', 8642: 'waterproof', 8643: 'rolled', 8644: 'town', 8645: 'towns', 8646: 'sheep', 8647: 'laser', 8648: 'eradicate', 8649: 'pituitary', 8650: 'carbegoline', 8651: 'opiod', 8652: 'roxicodone', 8653: 'metabolizes', 8654: 'varies', 8655: '21th', 8656: 'opcicon', 8657: 'hopped', 8658: 'smidge', 8659: 'biodentical', 8660: 'pellets', 8661: 'estradot', 8662: 'lizness', 8663: 'fewest', 8664: 'cholinergic', 8665: 'superior', 8666: 'benzotropine', 8667: 'mesylate', 8668: 'extrapyramidal', 8669: 'upwardly', 8670: 'stare', 8671: 'psuedo', 8672: 'shuffling', 8673: 'gait', 8674: 'akinesia', 8675: 'suffices', 8676: 'accommodation', 8677: 'anklosing', 8678: '1per', 8679: 'proteins', 8680: 'speck', 8681: 'hypomaniac', 8682: 'clomipramine', 8683: 'anorgasmia', 8684: 'gambler', 8685: 'introverted', 8686: 'absorption', 8687: 'orig', 8688: 'absorbing', 8689: 'dermatographism', 8690: 'chicks', 8691: 'cosmetic', 8692: 'persevered', 8693: 'pmt', 8694: '600mgs', 8695: 'contributed', 8696: 'pent', 8697: 'phenobarbitol', 8698: 'functioned', 8699: 'phenobarb', 8700: 'plead', 8701: '150xl', 8702: 'adam', 8703: 'chipper', 8704: 'slaying', 8705: 'atrocious', 8706: 'throats', 8707: 'constrictive', 8708: 'astounded', 8709: 'dismissive', 8710: 'labelled', 8711: 'profession', 8712: 'acknowledges', 8713: 'rehabilitation', 8714: 'addicts', 8715: 'alcoholics', 8716: '3lbs', 8717: '1500cals', 8718: 'substantially', 8719: 'charcoal', 8720: 'convultions', 8721: 'boby', 8722: 'illnessess', 8723: 'headach', 8724: 'activie', 8725: 'generalise', 8726: 'time10kg', 8727: 'excrutiating', 8728: 'hydromet', 8729: '197lbs', 8730: 'nanny', 8731: 'troublesome', 8732: 'prune', 8733: 'gymnastics', 8734: 'hepatitis', 8735: 'pricey\\r', 8736: 'neuropathic', 8737: '325mg', 8738: 'heave', 8739: 'tin', 8740: 'rushes', 8741: 'apatite', 8742: 'ether', 8743: 'moaning', 8744: '155lbs', 8745: '146lbs', 8746: 'synvisc', 8747: 'prp', 8748: 'migrane\\r', 8749: 'pierced', 8750: 'wiithdrawing', 8751: 'deppression', 8752: 'shorten', 8753: 'sentence', 8754: 'cramps\\r\\r', 8755: 'anxiety\\r\\r', 8756: 'vision\\r\\r', 8757: 'lowers', 8758: '8years', 8759: 'severed', 8760: 'fluke', 8761: 'wel', 8762: 'pairs', 8763: 'disastrous', 8764: 'tyred', 8765: 'whe', 8766: 'flue', 8767: 'simpthoms', 8768: 'rhinitis', 8769: 'simptomatic', 8770: 'embedded', 8771: 'rivaroxiban', 8772: 'circular', 8773: 'boiling', 8774: 'fooled', 8775: 'basement', 8776: 'drawer', 8777: 'crumbling', 8778: '70lbs', 8779: 'cursing', 8780: 'hypermobility', 8781: 'impetigo', 8782: 'eve', 8783: 'sticker', 8784: 'impatience', 8785: 'unhappiness', 8786: 'dietician', 8787: 'veggie', 8788: 'male\\r', 8789: '8weeks', 8790: 'feb3', 8791: '6million', 8792: 'enlisting', 8793: 'usaf', 8794: 'stank', 8795: 'lippy', 8796: 'dis', 8797: 'alchoholics', 8798: 'perimenopausal', 8799: 'naseau', 8800: 'deaf', 8801: 'postmenopausal', 8802: 'coveri', 8803: 'droop', 8804: 'blur', 8805: 'drooped', 8806: 'findings', 8807: 'bill', 8808: 'stem', 8809: 'jantoven', 8810: 'myeloma', 8811: 'grant', 8812: 'nonprofit', 8813: 'insult', 8814: 'tobacco', 8815: 'contraindicated', 8816: 'berry', 8817: 'propel', 8818: 'swigs', 8819: 'petroleum', 8820: 'chafe', 8821: 'unprotective', 8822: 'shins', 8823: 'energizer', 8824: 'bunny', 8825: 'simplest', 8826: 'lifesavior', 8827: 'periodical', 8828: 'pitting', 8829: 'contrary', 8830: 'beach', 8831: 'spf', 8832: 'withdrawn', 8833: 'precision', 8834: 'dehydrates', 8835: '2mo', 8836: '7mo', 8837: '8mo', 8838: 'dipped', 8839: 'buttocks', 8840: 'underwent', 8841: 'laminotomy', 8842: 'synovial', 8843: 'gabapention', 8844: 'errands', 8845: 'elevate', 8846: 'aromasin', 8847: 'incertion', 8848: 'vaginally', 8849: 'completing', 8850: 'akasthesia', 8851: 'ness', 8852: 'sterile', 8853: 'instrument', 8854: 'supplies', 8855: 'morphed', 8856: 'azithromyocin', 8857: 'retired', 8858: 'diy', 8859: 'dissappeared', 8860: 'veteran', 8861: 'upsets', 8862: 'prego', 8863: 'vodka', 8864: '14lbs', 8865: 'esitalo', 8866: '9mm', 8867: 'pour', 8868: 'clockwork', 8869: 'basilar', 8870: 'nearby', 8871: 'external', 8872: 'arthrotec75', 8873: 'fragment', 8874: 'pressing', 8875: 'lotrel', 8876: 'excludes', 8877: 'citizens', 8878: 'funding', 8879: 'klonopan', 8880: 'adzenys', 8881: 'dissolved', 8882: 'dissolvable', 8883: 'agitate', 8884: 'shout', 8885: 'forty', 8886: 'walker', 8887: 'majorly', 8888: 'channels', 8889: 'financial', 8890: 'surfer', 8891: 'skateboarding', 8892: 'upward', 8893: 'drill', 8894: 'shovel', 8895: 'thumps', 8896: 'frisky', 8897: 'unjudicious', 8898: 'particularly', 8899: 'trapper', 8900: 'gravity', 8901: 'sludge', 8902: 'swiped', 8903: 'waterbottle', 8904: 'pantry', 8905: 'hunched', 8906: 'waddle', 8907: 'confirm', 8908: 'rumors', 8909: 'saltines', 8910: 'exfoliating', 8911: 'clinique', 8912: 'dime', 8913: 'clusterers', 8914: 'forbids', 8915: 'education', 8916: 'supporting', 8917: 'spin', 8918: 'rightful', 8919: 'teva', 8920: 'preexisting', 8921: 'predisposition', 8922: 'diagnoses', 8923: 'psychologist', 8924: 'tallied', 8925: 'docter', 8926: 'chatty', 8927: 'niaspan', 8928: 'lipid', 8929: 'cholestrol', 8930: 'hashimoto', 8931: 'minomycin', 8932: 'widely', 8933: 'flaws', 8934: 'views', 8935: 'slender', 8936: 'uninterested', 8937: 'yearly', 8938: 'overpriced', 8939: 'boomers', 8940: 'quietly', 8941: '8oz', 8942: '9am', 8943: 'myth', 8944: 'platteau', 8945: 'metropolol', 8946: 'english', 8947: 'smarter', 8948: 'flashbacks', 8949: 'reprocess', 8950: '48h', 8951: 'trashy', 8952: 'travelling', 8953: 'interrupted', 8954: 'tablespoon', 8955: 'apprehension', 8956: 'facts', 8957: 'hooray', 8958: 'dermadew', 8959: 'nasally', 8960: 'tanna', 8961: 'pinky', 8962: 'otcl', 8963: 'rebalance', 8964: 'diarrhrea', 8965: 'elm', 8966: 'jackets', 8967: '31years', 8968: 'chuckle', 8969: 'effecting', 8970: 'deposit', 8971: 'pubis', 8972: 'straightening', 8973: 'curves', 8974: 'wacky', 8975: 'clonezapam', 8976: 'oppositional', 8977: 'orginally', 8978: 'serve', 8979: 'privacy', 8980: 'laws', 8981: 'pertaining', 8982: 'gambit', 8983: 'buzzkill', 8984: '60mgs', 8985: 'adjunct', 8986: 'forbid', 8987: 'tier', 8988: '4pm', 8989: 'container', 8990: '8pm', 8991: 'misfortune', 8992: 'rubbing', 8993: 'voiced', 8994: 'goiter', 8995: 'radioactive', 8996: 'iodine', 8997: '125mcg', 8998: '150mcg', 8999: 'idiot', 9000: 'handy', 9001: 'normalcy', 9002: 'tailspin', 9003: 'pscyh', 9004: 'hesitating', 9005: 'tax', 9006: 'pariah', 9007: 'disclaimer', 9008: 'liability', 9009: 'appeal', 9010: 'accord', 9011: 'hiatus', 9012: 'commonly', 9013: 'photogenic', 9014: 'extremities', 9015: 'grossing', 9016: 'nic', 9017: 'maine', 9018: 'microgynon', 9019: 'levlen', 9020: 'everynight', 9021: 'childproof', 9022: 'operable', 9023: 'dam', 9024: 'sued', 9025: 'knife', 9026: 'safety', 9027: 'brace', 9028: 'monophasic', 9029: 'contributing', 9030: 'cyclonenzapine', 9031: 'defiantly', 9032: 'fms', 9033: 'genetics', 9034: 'caveat', 9035: 'emptor', 9036: 'fortesta', 9037: 'fulfilling', 9038: 'mazing', 9039: 'muffler', 9040: 'propane', 9041: 'heater', 9042: 'forcing', 9043: 'vomitted', 9044: 'cancerous', 9045: 'factory', 9046: 'triggering', 9047: 'citizen', 9048: 'unwilling', 9049: 'racket', 9050: 'corrupt', 9051: 'penetrate', 9052: 'barrier', 9053: 'host', 9054: '227lbs', 9055: '166lbs', 9056: 'sprite', 9057: 'smooties', 9058: 'nutri', 9059: 'hydrocodoine', 9060: 'interdose', 9061: 'tragic', 9062: 'clench', 9063: 'unwillingness', 9064: 'tabitha57', 9065: 'sixth', 9066: 'hypoglycaemic', 9067: 'aneurysms', 9068: 'regimented', 9069: 'dabrafenib', 9070: 'mekinist', 9071: 'thread', 9072: 'descriptions', 9073: 'thanked', 9074: 'fullness', 9075: 'humidifier', 9076: 'moist', 9077: 'behave', 9078: 'gottten', 9079: 'stabbed', 9080: 'knifes', 9081: 'knuckles', 9082: 'initiate', 9083: 'creators', 9084: 'equipping', 9085: 'hydration', 9086: 'constricted', 9087: 'relating', 9088: 'stimulus', 9089: 'understood', 9090: 'atopy', 9091: 'brusing', 9092: 'stray', 9093: 'afer', 9094: 'duavee', 9095: 'admission', 9096: 'mainstay', 9097: 'shovered', 9098: 'ifor', 9099: 'recieved', 9100: 'verbal', 9101: 'expresses', 9102: 'sunk', 9103: 'weighted', 9104: '194lbs', 9105: 'hovered', 9106: 'indirect', 9107: 'immobilizing', 9108: 'attributing', 9109: 'chunks', 9110: 'progestrin', 9111: 'balling', 9112: 'dysmenorrhea', 9113: 'ultra', 9114: 'optom', 9115: 'irritiation', 9116: 'erratic', 9117: 'unchanged', 9118: 'intentional', 9119: 'pricks', 9120: 'twinges', 9121: 'examination', 9122: 'noo', 9123: 'lame', 9124: 'vagasil', 9125: 'vagisal', 9126: 'cider', 9127: 'vinegar', 9128: 'capable', 9129: 'hostility', 9130: 'lou', 9131: 'gehrig', 9132: 'piraformis', 9133: 'entrapment', 9134: 'tendinitis', 9135: 'subsequently', 9136: 'surfaced', 9137: 'freshwater', 9138: 'seafood', 9139: 'attire', 9140: 'chef', 9141: 'clips', 9142: 'medicater', 9143: 'epipens', 9144: 'diazapam', 9145: 'hypertriglycerides', 9146: 'deceiving', 9147: '37mg', 9148: 'beige', 9149: 'blogs', 9150: 'spurs', 9151: 'lowestrin', 9152: 'minstarin', 9153: '25lb', 9154: 'insomnia\\r\\r', 9155: 'narrowed', 9156: 'derma', 9157: 'pax', 9158: 'sycamore', 9159: 'pramipexole', 9160: 'timer', 9161: 'comforting', 9162: 'incase', 9163: 'twigged', 9164: 'perfection', 9165: 'paracetamol', 9166: 'rears', 9167: 'dangerously', 9168: 'amitrypraline', 9169: 'wishing', 9170: 'overtime', 9171: 'unreality', 9172: 'intellectual', 9173: 'capacity', 9174: 'distraction', 9175: 'authorities', 9176: 'competence', 9177: 'allowances', 9178: 'stereo', 9179: 'activist', 9180: 'confined', 9181: 'convalescent', 9182: 'exited', 9183: 'cytemel', 9184: 'whim', 9185: 'concussions', 9186: 'noradrenaline', 9187: 'concussion', 9188: 'bincar', 9189: 'acknowledge', 9190: 'amputated', 9191: 'heartache', 9192: 'avapro', 9193: 'aspercreme', 9194: 'advertisement', 9195: 'adhered', 9196: 'duct', 9197: 'throughly', 9198: 'criteque', 9199: 'usefulness', 9200: 'donnatal', 9201: 'flew', 9202: 'uneducated', 9203: 'acclimates', 9204: 'stabilise', 9205: 'corrects', 9206: 'shattered', 9207: 'freshly', 9208: 'gulps', 9209: 'chewing', 9210: 'spastisity', 9211: 'accounts', 9212: 'spastic', 9213: 'explore', 9214: 'peroid', 9215: 'chemically', 9216: 'nestle', 9217: 'deteriation', 9218: 'personalized', 9219: 'fiorecet', 9220: 'lone', 9221: 'predicting', 9222: 'coordinated', 9223: 'prophylactic', 9224: 'smashing', 9225: 'embarking', 9226: 'phenobarbital', 9227: 'fuzziness', 9228: 'bottomed', 9229: 'collapse', 9230: 'elevators', 9231: 'creep', 9232: 'haaa', 9233: 'dmards', 9234: 'hysterics', 9235: 'refusing', 9236: 'poz', 9237: 'was97', 9238: '30days', 9239: 'tha', 9240: 'hypomagnesia', 9241: 'hypercholerstolemia', 9242: 'dissolving', 9243: 'slimy', 9244: 'nulytely', 9245: 'splash', 9246: 'sprinkle', 9247: 'peach', 9248: 'crystals', 9249: 'sliced', 9250: 'divided', 9251: 'preps', 9252: 'poreless', 9253: 'relentless', 9254: 'downed', 9255: 'waterboarding', 9256: 'gentler', 9257: 'avanza', 9258: 'flying', 9259: 'centers', 9260: 'naprelan', 9261: 'engulfed', 9262: 'metabolizer', 9263: 'dysmorphia', 9264: 'providers', 9265: 'outdoors', 9266: 'miscarried', 9267: 'concieving', 9268: 'heartbreaking', 9269: 'scaly', 9270: 'colour', 9271: 'naproven', 9272: 'vitd', 9273: 'vertebrates', 9274: 'reformer', 9275: 'actvive', 9276: 'tivicay', 9277: 'epivir', 9278: 'compliant', 9279: 'regimens', 9280: 'anxiously', 9281: 'reviewed', 9282: 'sunscreen', 9283: 'sunburns', 9284: 'aquaphor', 9285: 'chapstick', 9286: 'scrapes', 9287: 'observations', 9288: 'buyer', 9289: 'ware', 9290: 'cloderm', 9291: 'revision', 9292: 'governed', 9293: '7hr', 9294: 'relpax', 9295: 'written', 9296: 'investors', 9297: 'fax', 9298: 'measurement', 9299: 'diahrreaing', 9300: 'violere', 9301: '630pm', 9302: 'distorted', 9303: 'halfed', 9304: 'inventors', 9305: '8ml', 9306: 'relented', 9307: 'glimerpride', 9308: 'researching', 9309: 'reflex', 9310: 'coloring', 9311: 'smartwater', 9312: 'minerals', 9313: 'fluorouracil', 9314: 'colorectal', 9315: 'metastasised', 9316: 'oxiplatin', 9317: 'memorize', 9318: 'memorizing', 9319: 'paragraph', 9320: 'express', 9321: 'tricare', 9322: 'threaten', 9323: 'intramuscularly', 9324: 'magnified', 9325: 'bmi', 9326: 'mercedes', 9327: 'urgencies', 9328: 'anywho', 9329: 'flipping', 9330: 'proactiv', 9331: 'neutrogena', 9332: 'delay', 9333: 'engaged', 9334: 'reckless', 9335: 'couldn\\r', 9336: 'licked', 9337: 'crust', 9338: 'protrusion', 9339: 'attenuated', 9340: '10oz', 9341: 'cranberry', 9342: 'sundays', 9343: '289lbs', 9344: 'tracking', 9345: 'juices', 9346: 'pricked', 9347: 'puppy', 9348: 'updating', 9349: 'survey', 9350: 'pessimism', 9351: 'naive', 9352: 'uncommon', 9353: 'prenatal', 9354: 'abstinent', 9355: 'oblasion', 9356: 'involutarily', 9357: 'jizzed', 9358: 'immed', 9359: 'crackhead', 9360: 'sought', 9361: 'cotin', 9362: 'continous', 9363: 'hookup', 9364: 'discharging', 9365: 'grumbling', 9366: 'smartest', 9367: 'telephone', 9368: 'rang', 9369: 'criticizing', 9370: 'traded', 9371: 'unipolar', 9372: 'emetic', 9373: 'slowdown', 9374: 'pronounced', 9375: 'vinca', 9376: 'alkaloid', 9377: 'soundly', 9378: 'latte', 9379: 'b12', 9380: 'cystoscopy', 9381: 'inj', 9382: 'jab', 9383: 'loo', 9384: 'chatting', 9385: 'elephant', 9386: 'hyperventilation', 9387: '05mg', 9388: 'staring', 9389: '26wks', 9390: 'nodoz', 9391: 'warped', 9392: 'perception', 9393: 'stems', 9394: 'rational', 9395: 'arch', 9396: 'incidence', 9397: '700dls', 9398: 'alzheimer', 9399: 'tenormin', 9400: 'atenenol', 9401: 'atenol', 9402: 'adapts', 9403: 'zinc', 9404: 'cereals', 9405: 'boosting', 9406: 'fluconase', 9407: 'singular', 9408: 'immunity', 9409: 'seemly', 9410: 'normotensive', 9411: 'losartan', 9412: 'arb', 9413: 'trialed', 9414: 'whiff', 9415: 'emphasis', 9416: 'pedal', 9417: 'diuretics', 9418: 'ratings', 9419: 'screamed', 9420: 'loudly', 9421: 'reception', 9422: 'neath', 9423: 'gunk', 9424: 'hulu', 9425: 'oddest', 9426: 'rendered', 9427: 'nonfunctional', 9428: 'experieced', 9429: 'eariler', 9430: 'reccommend', 9431: 'suspicious', 9432: 'praising', 9433: 'glaxo', 9434: 'robbed', 9435: 'banned', 9436: 'glimepride', 9437: 'ambian', 9438: 'ivig', 9439: 'cimzia', 9440: 'fastest', 9441: 'hive', 9442: 'rhabdomylosis', 9443: 'confinement', 9444: 'overload', 9445: 'favored', 9446: 'rust', 9447: 'roughage', 9448: 'corn', 9449: 'cob', 9450: 'thumsup', 9451: 'yeas', 9452: 'praluent', 9453: 'dexedrine', 9454: 'cylert', 9455: 'tourettes', 9456: 'cluck', 9457: 'doorknob', 9458: 'cam', 9459: 'transceiver', 9460: 'mouse', 9461: 'bluetooth', 9462: 'dissapointed', 9463: 'microtabs', 9464: 'alltogether', 9465: 'disaster', 9466: 'fissures', 9467: 'hopefuly', 9468: 'residual', 9469: 'gloves', 9470: 'capzasin', 9471: 'rewash', 9472: 'operative', 9473: 'surgeons', 9474: 'cheated', 9475: '21lbs', 9476: 'tripped', 9477: 'parking', 9478: 'marvelously', 9479: 'judgment', 9480: 'unrealistically', 9481: 'imagining', 9482: 'blacks', 9483: 'ghosts', 9484: 'sunburned', 9485: 'carries', 9486: 'intervals', 9487: 'indicating', 9488: 'unbalanced', 9489: 'natal', 9490: 'orthro', 9491: 'bronchospasms', 9492: 'supported', 9493: 'differing', 9494: 'lollipop', 9495: 'severest', 9496: 'fibromylagia', 9497: 'volunteer', 9498: 'lastly', 9499: 'participate', 9500: 'horses', 9501: 'frightens', 9502: '37yr', 9503: 'indescribably', 9504: 'cushion', 9505: '288lbs', 9506: '265lbs', 9507: 'xeralto', 9508: 'calves', 9509: 'albeit', 9510: 'roseacea', 9511: 'purple', 9512: 'hotline', 9513: 'supposedly', 9514: 'sits', 9515: 'sofa', 9516: 'checkup', 9517: 'supervised', 9518: 'stumbling', 9519: 'custody', 9520: 'creator', 9521: 'rrs', 9522: 'stemmed', 9523: 'dusty', 9524: 'heading', 9525: 'minoxidil', 9526: 'melted', 9527: 'terrifyingly', 9528: 'darkest', 9529: 'clog', 9530: 'stints', 9531: 'horrors', 9532: 'paralysis', 9533: 'mattress', 9534: 'grabbing', 9535: 'mended', 9536: 'summertime', 9537: 'nalteroxe', 9538: 'illusion', 9539: 'diarrohea', 9540: 'ecided', 9541: 'remarkably', 9542: 'bloatedness', 9543: 'coinciding', 9544: 'outgoing', 9545: 'thitd', 9546: 'buckets', 9547: 'tub', 9548: 'diapers', 9549: 'conservative', 9550: 'interstim', 9551: 'smack', 9552: 'phew', 9553: 'premarin', 9554: 'soaking', 9555: 'censtin', 9556: 'clinician', 9557: 'disliking', 9558: 'keen', 9559: 'mishap', 9560: 'disintegrating', 9561: 'denture', 9562: 'posed', 9563: 'hurray', 9564: 'annoy', 9565: 'gold', 9566: 'deformities', 9567: 'sweaters', 9568: 'sweater', 9569: 'diameter', 9570: 'hooded', 9571: 'sweatshirts', 9572: 'reveiws', 9573: 'toughed', 9574: 'daa', 9575: 'hga1c', 9576: 'glucophage', 9577: 'syrupy', 9578: 'hallucinated', 9579: 'reccommended', 9580: 'xenical', 9581: '6lb', 9582: 'memantine', 9583: 'sunpharma', 9584: 'coincidence', 9585: 'flesh', 9586: 'freakin', 9587: 'orthotricylcen', 9588: 'drives', 9589: 'merged', 9590: 'discoloured', 9591: 'efficiently', 9592: 'essays', 9593: 'answering', 9594: 'heather', 9595: 'demanding', 9596: 'alertness', 9597: 'attentiveness', 9598: 'incidents', 9599: 'eliquix', 9600: 'emailed', 9601: 'reddened', 9602: 'cardiogram', 9603: 'eliquis', 9604: 'sank', 9605: 'suggestes', 9606: 'tizandine', 9607: 'amlodopine', 9608: 'endowed', 9609: 'disappoint', 9610: 'mrsa', 9611: 'nonprocessed', 9612: 'delightful', 9613: 'retell', 9614: 'adenosylmethionine', 9615: 'vinpocetine', 9616: 'huperzin', 9617: 'chew', 9618: 'breather', 9619: 'cig', 9620: 'withgradually', 9621: 'depikote', 9622: 'lamotrogine', 9623: 'insanely', 9624: 'evoclin', 9625: 'foam', 9626: 'cleansing', 9627: 'cloths', 9628: 'ppi', 9629: 'ppis', 9630: 'nexuim', 9631: 'notch', 9632: 'rajani', 9633: 'craved', 9634: 'uninsured', 9635: 'promotion', 9636: 'expires', 9637: 'organization', 9638: 'sprained', 9639: 'plantar', 9640: 'facilities', 9641: 'provides', 9642: 'perephrial', 9643: 'hmo', 9644: 'belong', 9645: 'leaders', 9646: 'pregenancy', 9647: 'coumadin', 9648: 'multifocal', 9649: 'leukoencephalopathy', 9650: 'pml', 9651: 'canesten', 9652: 'setback', 9653: 'uncertain', 9654: 'curvature', 9655: 'pockets', 9656: 'coincide', 9657: 'respected', 9658: 'psychotics', 9659: 'kapavy', 9660: 'gabling', 9661: 'arent', 9662: 'cbt', 9663: 'counselling', 9664: 'gablin', 9665: 'nuedexta', 9666: 'dent', 9667: 'flareups', 9668: 'harmful', 9669: '123lbs', 9670: 'openly', 9671: 'compulsions', 9672: '3yrs', 9673: 'fxs', 9674: 'kneecap', 9675: 'veneers', 9676: 'piercings', 9677: 'minimize', 9678: 'vasovagal', 9679: 'elevating', 9680: 'manhandling', 9681: 'consciousness', 9682: 'naprosyn', 9683: 'maz', 9684: 'ing', 9685: 'coffie', 9686: 'recomend', 9687: 'bloodshot', 9688: 'plainly', 9689: 'oscillate', 9690: 'pencil', 9691: 'pebble', 9692: 'unconvinced', 9693: 'restperil', 9694: 'electricity', 9695: 'underarm', 9696: 'miami', 9697: 'blouse', 9698: 'planner', 9699: 'tortoise', 9700: 'golimumab', 9701: 'prefilled', 9702: 'syringes', 9703: 'pyralin', 9704: 'chop', 9705: 'holes', 9706: 'mirt', 9707: 'mirtzapine', 9708: 'traditional', 9709: 'centuries', 9710: 'pacific', 9711: 'islanders', 9712: 'sources', 9713: 'senna', 9714: 'element', 9715: 'mechnicial', 9716: 'tendancy', 9717: 'desiccated', 9718: 'rt3', 9719: 'taxing', 9720: 'adrenals', 9721: 'tedious', 9722: 'qualitest', 9723: 'powdered', 9724: 'silica', 9725: 'agent', 9726: 'gray', 9727: 'surrounded', 9728: 'deducted', 9729: 'vasoline', 9730: 'mao', 9731: 'cardiology', 9732: 'catheterization', 9733: 'saturation', 9734: 'letaris', 9735: 'reporting', 9736: 'finals', 9737: 'false', 9738: 'labour', 9739: 'pericarditis', 9740: 'toughest', 9741: 'hating', 9742: 'vertebrae', 9743: '80g', 9744: 'spill', 9745: 'restaurant', 9746: 'upside', 9747: 'expirience', 9748: 'vastly', 9749: 'waterworks', 9750: 'authorized', 9751: 'upfront', 9752: 'conservatively', 9753: 'believing', 9754: 'longitudinal', 9755: 'cda', 9756: 'requirement', 9757: 'dietetics', 9758: 'kcal', 9759: 'sedadting', 9760: 'hypnotic', 9761: 'crunchy', 9762: 'lessina', 9763: 'thrill', 9764: 'sulfate', 9765: 'wrenching', 9766: 'phoenominal', 9767: 'e45', 9768: 'cetraban', 9769: 'riding', 9770: 'unbroken', 9771: 'anatomically', 9772: 'technician', 9773: 'thwarted', 9774: 'photophobia', 9775: 'table', 9776: 'squirm', 9777: 'groan', 9778: 'trimmed', 9779: 'faze', 9780: 'lawmakers', 9781: 'camila', 9782: 'steadied', 9783: 'generically', 9784: 'disappears', 9785: 'regularity', 9786: 'cyclene', 9787: '2400mg', 9788: 'looong', 9789: 'mayyybe', 9790: 'emerge', 9791: '243lb', 9792: 'utter', 9793: 'importance', 9794: 'albuteral', 9795: 'vilest', 9796: 'clearance', 9797: 'mesalamine', 9798: 'antibodies', 9799: 'fixated', 9800: 'emts', 9801: '0mg', 9802: 'shortcuts', 9803: 'maul', 9804: 'monkeys', 9805: 'mals', 9806: 'googled', 9807: 'participated', 9808: 'pmd', 9809: 'vanish', 9810: 'uptight', 9811: 'deferring', 9812: 'shoes', 9813: 'mitigated', 9814: 'drawing', 9815: 'ogestrel', 9816: '34a', 9817: '125lbs', 9818: 'vasectomy', 9819: 'tending', 9820: 'protopic', 9821: 'dhe', 9822: 'allergens', 9823: 'neurons', 9824: 'fragmented', 9825: 'cyclical', 9826: '6months', 9827: 'commitment', 9828: 'rail', 9829: 'alley', 9830: 'strike', 9831: 'gutter', 9832: 'migranal', 9833: 'measures', 9834: 'plummetted', 9835: 'prisiq', 9836: 'neropathy', 9837: 'navy', 9838: 'antiperspirant', 9839: 'detergent', 9840: 'uniforms', 9841: 'wetness', 9842: 'avoids', 9843: 'pks', 9844: 'burny', 9845: 'shopped', 9846: 'costocondritis', 9847: 'cartilage', 9848: 'bursitis', 9849: 'abatement', 9850: 'combinations', 9851: 'rotations', 9852: 'destructive', 9853: 'biases', 9854: 'rigotitone', 9855: 'creates', 9856: 'groups', 9857: 'hypokalemia', 9858: 'matches', 9859: 'somber', 9860: '72hrs', 9861: '30minutes', 9862: 'ultracet', 9863: 'wretched', 9864: 'magnify', 9865: 'fold', 9866: 'spiky', 9867: 'intentions', 9868: 'legitimately', 9869: 'tripe', 9870: 'youth', 9871: '39th', 9872: 'blackhead', 9873: 'trustworthy', 9874: 'consequence', 9875: 'medicaid', 9876: 'bumbs', 9877: 'kidding', 9878: 'skins', 9879: 'thani', 9880: 'communication', 9881: 'terminal', 9882: 'ilieum', 9883: 'galloping', 9884: 'absorbency', 9885: 'oddball', 9886: 'rolls', 9887: 'amazon', 9888: 'password', 9889: 'spree', 9890: 'uninformed', 9891: 'clamping', 9892: 'plague', 9893: 'myriad', 9894: 'camping', 9895: 'rumbles', 9896: 'leg\\r', 9897: 'diarohea', 9898: 'controllable', 9899: 'emptiness', 9900: 'turmoil', 9901: 'suffocation', 9902: 'dys', 9903: 'epidural', 9904: 'sereve', 9905: 'bilateral', 9906: 'presented', 9907: '36yrs', 9908: 'breakup', 9909: 'dessert', 9910: 'dragged', 9911: 'willie', 9912: 'passive', 9913: 'partly', 9914: 'peoples', 9915: 'rooms', 9916: 'divide', 9917: 'transferred', 9918: 'spiking', 9919: 'bagged', 9920: 'obygn', 9921: 'contraption', 9922: 'writhe', 9923: 'abnormally', 9924: 'meanwhile', 9925: 'trainwreck', 9926: 'mimics', 9927: 'comatose', 9928: 'flakey', 9929: 'upwards', 9930: 'counteracting', 9931: 'gory', 9932: 'ticket', 9933: 'irritations', 9934: 'supred', 9935: 'hast', 9936: '3kgs', 9937: 'emotonal', 9938: 'concerntration', 9939: 'hydroxyurea', 9940: 'sickle', 9941: 'ropinirole', 9942: 'twisted', 9943: 'unstudied', 9944: '10mgs', 9945: 'preserved', 9946: 'flaked', 9947: 'lathargic', 9948: 'rite', 9949: 'successfull', 9950: 'diarhhea', 9951: 'buzzing', 9952: 'jeapordizing', 9953: 'pamphlet', 9954: 'consideration', 9955: 'judged', 9956: 'yawns', 9957: 'reoccur', 9958: 'suspecting', 9959: 'downright', 9960: 'alfuzosin', 9961: 'denavir', 9962: 'thousand', 9963: 'darn', 9964: 'dependance', 9965: 'subutex', 9966: 'oiled', 9967: 'smothered', 9968: 'noisy', 9969: 'circus', 9970: 'bid', 9971: 'fasciculations', 9972: 'erthematous', 9973: 'involvement', 9974: 'lymacycline', 9975: 'chronically', 9976: 'pessimistic', 9977: 'dianette', 9978: 'dermal', 9979: 'thaught', 9980: 'unfortunatley', 9981: 'tickling', 9982: 'horrifying', 9983: 'outta', 9984: 'drooled', 9985: 'beleived', 9986: 'compatible', 9987: 'transitions', 9988: 'neutral', 9989: 'moodswings', 9990: 'affording', 9991: 'rode', 9992: 'blinding', 9993: 'cyberknife', 9994: 'cypro', 9995: '1500mg', 9996: 'dyanavel', 9997: 'turbulent', 9998: 'overdosed', 9999: 'reared', 10000: 'laughter', 10001: 'propanalol', 10002: 'lasix', 10003: 'hates', 10004: 'extracurricular', 10005: 'mount', 10006: 'helena', 10007: 'dancing', 10008: 'goofy', 10009: 'freed', 10010: 'clogged', 10011: 'campus', 10012: 'plummeted', 10013: 'valsartan', 10014: 'indians', 10015: 'thou', 10016: 'shaped', 10017: 'disintegrated', 10018: 'filler', 10019: 'metro', 10020: 'exerting', 10021: 'soolantra', 10022: 'tinge', 10023: 'marking', 10024: 'pestosterone', 10025: 'releasing', 10026: 'privine', 10027: 'membrane', 10028: 'pharm', 10029: 'manufacture', 10030: 'obtainable', 10031: 'lydocain', 10032: 'reject', 10033: 'supplier', 10034: 'thearapist', 10035: 'raynauds', 10036: 'alternatives', 10037: 'episodic', 10038: '240mg', 10039: 'hint', 10040: 'mattered', 10041: 'underestimate', 10042: 'slings', 10043: 'arrows', 10044: 'frazzled', 10045: '301lbs', 10046: '279lbs', 10047: '199lbs', 10048: '3xd', 10049: 'unmedicated', 10050: 'selectively', 10051: 'incontinent', 10052: 'todays', 10053: 'dember', 10054: 'dizz', 10055: 'pseudotumor', 10056: 'outway', 10057: 'bounce', 10058: 'dismay', 10059: 'predicted', 10060: 'projected', 10061: 'doubtful', 10062: 'region', 10063: 'voila', 10064: 'recollection', 10065: 'enters', 10066: 'disarray', 10067: 'surges', 10068: 'purging', 10069: 'fad', 10070: 'wig', 10071: 'graduation', 10072: 'ceremony', 10073: 'prefills', 10074: 'razor', 10075: 'stupidly', 10076: 'applicators', 10077: 'showered', 10078: 'oseto', 10079: 'cephexin', 10080: 'abcess', 10081: 'mediciney', 10082: 'jello', 10083: 'ogyn', 10084: 'wimp', 10085: 'resuming', 10086: 'relayed', 10087: '43yo', 10088: '12lbs', 10089: 'spacey', 10090: 'keel', 10091: 'jeans', 10092: 'driver', 10093: 'estradiol', 10094: 'stiffening', 10095: 'wouldnt', 10096: 'functionable', 10097: '10kg', 10098: 'discipline', 10099: 'weighting', 10100: 'dieted', 10101: 'havnt', 10102: 'hungry❤', 10103: 'napping', 10104: 'skull', 10105: 'halving', 10106: 'anticonvulsant', 10107: 'rheum', 10108: 'withmy', 10109: 'rome', 10110: 'chlorpheniramine', 10111: 'phlegmitis', 10112: 'forum', 10113: 'sprays', 10114: 'mucolytics', 10115: 'decongestants', 10116: 'potentiating', 10117: 'trivada', 10118: 'encore', 10119: 'ciallis', 10120: 'better\\r', 10121: 'any', 10122: 'existence', 10123: 'amnesteem', 10124: 'smoother', 10125: 'emphasized', 10126: 'ppa', 10127: 'sprqodic', 10128: 'apnoea', 10129: 'devote', 10130: 'wakeup', 10131: 'midway', 10132: 'malpractice', 10133: 'congestive', 10134: 'followup', 10135: 'propelled', 10136: 'endstage', 10137: 'unplanned', 10138: 'installed', 10139: 'expiring', 10140: 'cocktails', 10141: 'organ', 10142: 'solids', 10143: 'incorporated', 10144: 'disrupting', 10145: 'dysthymia', 10146: 'inferno', 10147: 'warmth', 10148: 'sock', 10149: 'shoe', 10150: 'bmy', 10151: 'zeroed', 10152: 'ramipril', 10153: 'before', 10154: 'depo\\r\\r', 10155: 'hated\\r\\r', 10156: 'fat\\r\\r', 10157: 'just', 10158: 'prevalent', 10159: 'meniscus', 10160: 'hamstring', 10161: 'cantaloupe', 10162: 'sunshine', 10163: 'perk', 10164: 'replacing', 10165: 'brake', 10166: 'basketball', 10167: 'biopolar', 10168: '700mg', 10169: 'desperately', 10170: 'bound', 10171: 'amigo', 10172: 'rip', 10173: 'implying', 10174: 'emphasize', 10175: 'effing', 10176: 'ablutions', 10177: 'forties', 10178: 'shear', 10179: 'completion', 10180: 'wrinkled', 10181: 'fingertips', 10182: 'cookie', 10183: 'code', 10184: 'conrave', 10185: 'membership', 10186: 'digital', 10187: 'sends', 10188: 'wirelessly', 10189: 'leafy', 10190: 'habitual', 10191: 'iced', 10192: 'savory', 10193: 'overeating', 10194: 'veg', 10195: 'influenza', 10196: 'braces', 10197: 'otrivin', 10198: 'acetylcystein', 10199: 'hexal', 10200: 'resolve', 10201: 'weighthe', 10202: 'doable', 10203: 'furosemide', 10204: 'oxybutynin', 10205: 'eighteen', 10206: 'salbutamol', 10207: 'optifast', 10208: 'softener', 10209: 'excercize', 10210: 'constructive', 10211: 'criticism', 10212: 'handwriting', 10213: 'eucerin', 10214: 'discourage', 10215: 'tree', 10216: 'vaginits', 10217: 'apprehensive', 10218: 'prodding', 10219: 'denial', 10220: '225lb', 10221: '35yr', 10222: '145lb', 10223: 'induction', 10224: 'baloons', 10225: 'and\\r', 10226: 'taking\\r', 10227: 'through\\r', 10228: 'topomax', 10229: 'outlet', 10230: 'pencils', 10231: 'handling', 10232: 'restriction', 10233: 'avaine', 10234: 'metastities', 10235: 'aorta', 10236: 'cherish', 10237: 'erupted', 10238: 'flashback', 10239: 'rewards', 10240: 'photos', 10241: 'stuffed', 10242: 'levorphanol', 10243: 'disinterest', 10244: 'cherritussin', 10245: 'pseudoephedrine', 10246: 'plays', 10247: 'gasping', 10248: 'anoro', 10249: 'risperdone', 10250: 'visionary', 10251: 'livid', 10252: 'parent', 10253: 'bearing', 10254: 'picture', 10255: 'erlotinib', 10256: 'encouraging', 10257: 'imparing', 10258: 'reactive', 10259: 'snappy', 10260: 'logical', 10261: 'osteopenia', 10262: 'message', 10263: 'overlooking', 10264: 'hayfever', 10265: 'filters', 10266: 'deppressed', 10267: 'paleo', 10268: 'devoid', 10269: 'pores', 10270: 'kickback', 10271: 'crowded', 10272: 'annoyances', 10273: 'crampiness', 10274: 'professor', 10275: 'novels', 10276: 'lover', 10277: 'honeymoon', 10278: 'vie', 10279: 'pusher', 10280: 'posters', 10281: 'fir', 10282: 'invention', 10283: 'overlaps', 10284: 'biggie', 10285: 'prolonging', 10286: 'inviting', 10287: 'syringe', 10288: 'oak', 10289: 'inflamatory', 10290: 'vertiginous', 10291: 'circuit', 10292: 'circuits', 10293: 'leather', 10294: 'naproxyn', 10295: 'brintillex', 10296: 'phenetermine', 10297: '39lbs', 10298: 'supportive', 10299: 'suffere', 10300: 'vasaline', 10301: 'veins', 10302: 'qvar', 10303: 'nistatin', 10304: 'spacer', 10305: 'therasol', 10306: 'oratec', 10307: 'bayer', 10308: 'advanced', 10309: 'experimenting', 10310: 'celxa', 10311: 'morining', 10312: 'presume', 10313: 'concludes', 10314: 'diareah', 10315: 'osteoarthrititis', 10316: 'celebrix', 10317: 'senerio', 10318: 'freeway', 10319: 'foolish', 10320: 'flowing', 10321: 'grace', 10322: 'hydrozyzine', 10323: 'congrats', 10324: 'deny', 10325: 'curse', 10326: '10lb', 10327: 'phlegm', 10328: 'zydeco', 10329: 'guafenesin', 10330: 'expectorant', 10331: 'beeline', 10332: 'precipitated', 10333: 'yoa', 10334: '238lbs', 10335: 'sertralin', 10336: 'cellulite', 10337: 'solo', 10338: 'resuscitate', 10339: 'tiva', 10340: 'myrbetrig', 10341: '70yr', 10342: 'twirled', 10343: 'merry', 10344: 'goose', 10345: 'progresses', 10346: 'aiding', 10347: 'alligator', 10348: 'nada', 10349: 'desogen', 10350: 'spiralling', 10351: 'iwas', 10352: 'reddy', 10353: 'worthless', 10354: 'cute', 10355: '25th', 10356: 'pyschiatrist', 10357: 'pine', 10358: 'shaved', 10359: 'practical', 10360: '100mgs', 10361: 'winds', 10362: 'behing', 10363: 'depress', 10364: 'effet', 10365: 'ajust', 10366: 'circumstance', 10367: 'cerebral', 10368: 'paulsey', 10369: 'def', 10370: 'popsicle', 10371: 'superprep', 10372: 'desitin', 10373: 'nyquil', 10374: 'volume', 10375: '530am', 10376: 'names', 10377: 'eyelid', 10378: 'rituxan', 10379: 'jun', 10380: 'withdrawing', 10381: 'week\\r', 10382: 'orgasm\\r', 10383: 'it', 10384: 'pity', 10385: 'australians', 10386: 'several\\r', 10387: 'bathtub', 10388: 'examined', 10389: 'cellulitus', 10390: 'uselessly', 10391: 'mevecor', 10392: 'zocor', 10393: 'quadruple', 10394: '10mths', 10395: 'setraline', 10396: 'diphenhydramine', 10397: 'lightest', 10398: 'tacrolimus', 10399: 'scaley', 10400: 'vey', 10401: 'string', 10402: 'tangled', 10403: 'hhalf', 10404: 'motiviation', 10405: 'postive', 10406: 'vocalize', 10407: 'bledding', 10408: 'patched', 10409: 'lecture', 10410: 'polystic', 10411: 'ejeculation', 10412: 'flacid', 10413: 'stamina', 10414: 'automatically', 10415: 'googling', 10416: '500mgx2', 10417: 'proclaimed', 10418: 'snacker', 10419: 'snacked', 10420: 'pie', 10421: 'nonsteriodal', 10422: 'fertilized', 10423: 'iphone', 10424: 'counted', 10425: 'tenuate', 10426: 'prohibitive', 10427: 'mississippi', 10428: 'subscribed', 10429: 'drv', 10430: 'obsession', 10431: 'obsessed', 10432: 'zyclara', 10433: 'mohls', 10434: 'chewable', 10435: 'busty', 10436: 'groin', 10437: 'pac', 10438: 'hba1c', 10439: 'seat', 10440: 'wellish', 10441: 'thouroughly', 10442: 'std', 10443: 'homeless', 10444: 'coin', 10445: 'trilipix', 10446: 'glucotrol', 10447: '3x5ml', 10448: 'appreciated', 10449: 'hearburn', 10450: 'alka', 10451: 'seltzer', 10452: 'prophylaxis', 10453: 'prestiq', 10454: '9lbs', 10455: 'elated', 10456: '40yrs', 10457: 'panlor', 10458: 'fare', 10459: 'statement', 10460: 'antianxiety', 10461: 'breakdowns', 10462: 'anticipation', 10463: 'fairness', 10464: 'straying', 10465: 'substance', 10466: 'affective', 10467: 'booty', 10468: 'holter', 10469: '7hrs', 10470: 'purely', 10471: 'roommate', 10472: 'dug', 10473: 'hurry', 10474: 'slapping', 10475: 'brownish', 10476: 'determines', 10477: 'ovule', 10478: 'boating', 10479: 'attacked', 10480: 'vessels', 10481: 'avinza', 10482: 'enabling', 10483: 'spice', 10484: 'synthetic', 10485: 'bull', 10486: 'tightened', 10487: 'sustained', 10488: 'gritted', 10489: 'shortens', 10490: 'sliding', 10491: 'brittle', 10492: 'unaware', 10493: 'chemicals', 10494: 'dulls', 10495: 'gen', 10496: 'abstaining', 10497: 'bloods', 10498: 'terbinafine', 10499: 'curanail', 10500: 'urea', 10501: '100lbs', 10502: 'slave', 10503: 'methadones', 10504: 'metamosone', 10505: 'expired', 10506: 'diane', 10507: 'yikes', 10508: 'snowboarding', 10509: 'paddle', 10510: 'boarding', 10511: 'wakesurfing', 10512: 'wakeboarding', 10513: 'reputable', 10514: 'communicating', 10515: 'asserting', 10516: 'punctual', 10517: 'clubs', 10518: '5hrs', 10519: 'bringing', 10520: 'outweighing', 10521: 'skeptic', 10522: 'gynecology', 10523: 'friendships', 10524: 'vitroza', 10525: 'alluring', 10526: 'nether', 10527: 'regions', 10528: 'partnered', 10529: 'triger', 10530: 'diptession', 10531: 'favorit', 10532: 'quaetepine', 10533: 'splited', 10534: 'experiensed', 10535: 'heaving', 10536: 'unorganized', 10537: 'prediabetes', 10538: 'respire', 10539: 'accomplished', 10540: 'intelligent', 10541: 'consistantly', 10542: 'welchol', 10543: 'adhesions', 10544: 'norcos', 10545: 'butran', 10546: 'ramp', 10547: 'thyroiditis', 10548: 'diminishing', 10549: 'booze', 10550: 'sluggishness', 10551: 'codeine\\r', 10552: 'comparability', 10553: 'cuased', 10554: 'bereavement', 10555: 'dies', 10556: 'int', 10557: 'deer', 10558: 'headlights', 10559: 'rep', 10560: 'saviour', 10561: 'moisturised', 10562: 'cleansed', 10563: 'stun', 10564: 'beds', 10565: '24mg', 10566: 'mediations', 10567: 'hcp', 10568: 'inter', 10569: 'defeated', 10570: 'phenoxymethyl', 10571: 'squash', 10572: 'unbareable', 10573: '10hours', 10574: '5days', 10575: 'debilitation', 10576: 'unlucky', 10577: 'unfit', 10578: 'pumpkin', 10579: 'seeds', 10580: 'scattered', 10581: 'peeled', 10582: 'reveal', 10583: 'cuticle', 10584: 'dislocated', 10585: 'socket', 10586: '6days', 10587: 'deployment', 10588: 'biggies', 10589: 'spooky', 10590: 'angioplasties', 10591: 'baggy', 10592: 'eagerness', 10593: 'shaving', 10594: 'battery', 10595: 'obstructive', 10596: 'airway', 10597: 'desensitized', 10598: '6hours', 10599: 'calmly', 10600: 'pullout', 10601: 'heartily', 10602: 'notwithstanding', 10603: 'druggies', 10604: 'diabetics', 10605: 'preferred', 10606: 'hike', 10607: 'citaprolam', 10608: 'flakyness', 10609: 'hugely', 10610: 'flavour', 10611: 'depths', 10612: 'trd', 10613: 'spins', 10614: 'flora', 10615: 'annihilated', 10616: 'lochia', 10617: 'premenopause', 10618: 'topiramate', 10619: 'contraction', 10620: '14yr', 10621: 'metabolic', 10622: 'gleason', 10623: 'bicalutamide', 10624: 'bpd', 10625: 'inc', 10626: 'lim', 10627: 'esp', 10628: 'seizing', 10629: 'lexy', 10630: 'minimise', 10631: 'blunt', 10632: 'responses', 10633: 'eventual', 10634: 'antid', 10635: 'dermatomyositis', 10636: 'quinicrine', 10637: 'lichen', 10638: 'planus', 10639: 'compelled', 10640: 'u2026', 10641: 'curry', 10642: 'chinese', 10643: '32yrs', 10644: 'percosets', 10645: 'jail', 10646: 'eliminates', 10647: 'corrolate', 10648: 'conquering', 10649: 'permeated', 10650: 'shuts', 10651: 'map', 10652: 'thickened', 10653: 'oseltamivir', 10654: 'vaccinated', 10655: 'headache\\r', 10656: 'day3', 10657: 'appetite\\r', 10658: 'reviewing', 10659: 'vascular', 10660: 'necrosis', 10661: 'l11', 10662: 'vicidin', 10663: 'grandkids', 10664: 'murmur', 10665: 'gush', 10666: 'angels', 10667: 'zip', 10668: 'aggravate', 10669: 'evamist', 10670: 'provigal', 10671: 'tireness', 10672: 'dance', 10673: 'sing', 10674: 'tradjenta', 10675: 'methylin', 10676: 'illnesses', 10677: 'progvigl', 10678: 'acyanya', 10679: 'ulcer', 10680: 'pissing', 10681: 'butthole', 10682: 'elevation', 10683: 'curved', 10684: 'budget', 10685: 'fee', 10686: 'lysine', 10687: 'immense', 10688: 'ravenous', 10689: 'clindesse', 10690: 'electrified', 10691: 'knots', 10692: 'storms', 10693: 'mechanisms', 10694: 'joining', 10695: 'overeaters', 10696: 'anonymous', 10697: 'binging', 10698: 'vyvanase', 10699: 'bizarre', 10700: 'caving', 10701: 'temperamental', 10702: 'hbc', 10703: 'awarness', 10704: '27yo', 10705: 'punch', 10706: 'obsessing', 10707: 'mirana', 10708: 'yest', 10709: 'guesses', 10710: 'tearful', 10711: 'arguments', 10712: 'aspects', 10713: 'muscle\\r', 10714: 'energy\\r', 10715: 'after', 10716: 'results\\r', 10717: 'aerobic', 10718: 'exercises', 10719: 'squashed', 10720: 'softeners', 10721: 'mineral', 10722: 'menstral', 10723: 'standby', 10724: 'lsd', 10725: 'gabatin', 10726: 'insist', 10727: 'lovastatin', 10728: 'apologized', 10729: 'component', 10730: 'grouchier', 10731: 'argumentative', 10732: 'antisocial', 10733: 'grouchy', 10734: 'fats', 10735: 'relations', 10736: 'easing', 10737: 'elsewhere', 10738: 'frist', 10739: 'whooping', 10740: 'ben', 10741: 'myrbetric', 10742: 'print', 10743: '110lbs', 10744: 'tricyclen', 10745: 'lovaza', 10746: 'omacor', 10747: 'inevitably', 10748: 'permits', 10749: '13lbs'}\n"
          ]
        }
      ]
    },
    {
      "cell_type": "code",
      "source": [
        "reviews_encoded = []\n",
        "default_value=0\n",
        "for i,review in enumerate(review_cleans):\n",
        "  encoded_review =[sequence_dict.get(x, default_value) for x in review]\n",
        "\n",
        "reviews_encoded.append(encoded_review)\n"
      ],
      "metadata": {
        "id": "kYrN1Nblutbr"
      },
      "execution_count": null,
      "outputs": []
    },
    {
      "cell_type": "code",
      "source": [
        "lengths = [len(x) for x in reviews_encoded]\n",
        "plt.hist(lengths, bins=range(25))"
      ],
      "metadata": {
        "colab": {
          "base_uri": "https://localhost:8080/",
          "height": 517
        },
        "id": "177WrB-Ju0nd",
        "outputId": "327b0cf7-799e-46c2-f9c9-c0a5ebf328a2"
      },
      "execution_count": null,
      "outputs": [
        {
          "output_type": "execute_result",
          "data": {
            "text/plain": [
              "(array([0., 0., 0., 0., 0., 0., 0., 0., 0., 0., 0., 0., 0., 0., 0., 0., 0.,\n",
              "        0., 0., 0., 0., 0., 0., 0.]),\n",
              " array([ 0.,  1.,  2.,  3.,  4.,  5.,  6.,  7.,  8.,  9., 10., 11., 12.,\n",
              "        13., 14., 15., 16., 17., 18., 19., 20., 21., 22., 23., 24.]),\n",
              " <BarContainer object of 24 artists>)"
            ]
          },
          "metadata": {},
          "execution_count": 51
        },
        {
          "output_type": "display_data",
          "data": {
            "text/plain": [
              "<Figure size 640x480 with 1 Axes>"
            ],
            "image/png": "[encoded data removed]"
          },
          "metadata": {}
        }
      ]
    },
    {
      "cell_type": "code",
      "source": [
        "if len(reviews_encoded) > 135:\n",
        "    print(reviews_encoded[135])\n",
        "else:\n",
        "    print(\"Index 135 is out of range for the reviews_encoded list.\")\n"
      ],
      "metadata": {
        "colab": {
          "base_uri": "https://localhost:8080/"
        },
        "id": "EUArLoeVu12Y",
        "outputId": "3bd299d8-568f-4943-e05b-790ff25aac6e"
      },
      "execution_count": null,
      "outputs": [
        {
          "output_type": "stream",
          "name": "stdout",
          "text": [
            "Index 135 is out of range for the reviews_encoded list.\n"
          ]
        }
      ]
    },
    {
      "cell_type": "code",
      "source": [
        "if len(reviews_encoded) > 135:\n",
        "    print(reviews_encoded[135])\n",
        "else:\n",
        "    print(\"Index 135 is out of range for the reviews_encoded list.\")\n"
      ],
      "metadata": {
        "colab": {
          "base_uri": "https://localhost:8080/"
        },
        "id": "Vto4EN9pvAtL",
        "outputId": "23c26d12-460b-4f38-bd28-371e0e9ee6c8"
      },
      "execution_count": null,
      "outputs": [
        {
          "output_type": "stream",
          "name": "stdout",
          "text": [
            "Index 135 is out of range for the reviews_encoded list.\n"
          ]
        }
      ]
    },
    {
      "cell_type": "code",
      "source": [
        "max_cap =8;\n",
        "X = pad_sequences(reviews_encoded, maxlen=max_cap, truncating='post')\n",
        "Y = np.array([[0,1] if '0' in label else [1,0] for label in labels])"
      ],
      "metadata": {
        "id": "uiJVoc9_vHRF"
      },
      "execution_count": null,
      "outputs": []
    },
    {
      "cell_type": "code",
      "source": [
        "np.random.seed(1024);\n",
        "random_posits = np.arange(len(X))\n",
        "np.random.shuffle(random_posits);"
      ],
      "metadata": {
        "id": "Bmk9dnVxvL-7"
      },
      "execution_count": null,
      "outputs": []
    },
    {
      "cell_type": "code",
      "source": [
        "X = X[random_posits];\n",
        "Y = Y[random_posits];\n",
        "train_cap = int(0.85 * len(X));\n",
        "dev_cap = int(0.93 * len(X));\n",
        "X_train, Y_train = X[:train_cap], Y[:train_cap]\n",
        "X_dev, Y_dev = X[train_cap:dev_cap], Y[train_cap:dev_cap]\n",
        "X_test1, Y_test1 = X[dev_cap:], Y[dev_cap:]"
      ],
      "metadata": {
        "id": "gIS_ie-pvME7"
      },
      "execution_count": null,
      "outputs": []
    },
    {
      "cell_type": "code",
      "source": [
        "import numpy as np\n",
        "from keras.models import Sequential\n",
        "from keras.layers import Dense, LSTM\n",
        "from sklearn.model_selection import train_test_split\n",
        "\n",
        "# Assuming you have X_train, Y_train, X_dev, Y_dev, X_test1, Y_test1\n",
        "# Replace these with your actual data\n",
        "\n",
        "# Placeholder data (replace with your actual data)\n",
        "X_train = np.random.rand(100, 10, 1)  # Example: 100 samples, 10 time steps, 1 feature\n",
        "Y_train = np.random.randint(2, size=(100, 1))  # Binary labels (0 or 1)\n",
        "\n",
        "X_dev = np.random.rand(20, 10, 1)  # Example: 20 samples, 10 time steps, 1 feature\n",
        "Y_dev = np.random.randint(2, size=(20, 1))  # Binary labels (0 or 1)\n",
        "\n",
        "X_test1 = np.random.rand(30, 10, 1)  # Example: 30 samples, 10 time steps, 1 feature\n",
        "Y_test1 = np.random.randint(2, size=(30, 1))  # Binary labels (0 or 1)\n",
        "\n",
        "# Model architecture (replace with your actual model)\n",
        "model = Sequential()\n",
        "model.add(LSTM(units=64, activation='relu', input_shape=(10, 1)))  # Adjust input_shape based on your time steps and features\n",
        "model.add(Dense(units=1, activation='sigmoid'))  # Assuming binary classification\n",
        "\n",
        "model.compile(optimizer='adam', loss='binary_crossentropy', metrics=['accuracy'])\n",
        "\n",
        "# Split data for training and validation\n",
        "X_train, X_val, Y_train, Y_val = train_test_split(X_train, Y_train, test_size=0.3, random_state=42)\n",
        "\n",
        "# Fit model and run it for 5 epochs\n",
        "model.fit(X_train, Y_train, batch_size=16, epochs=5, validation_data=(X_val, Y_val))\n",
        "\n",
        "# Evaluate on test data\n",
        "score = model.evaluate(X_test1, Y_test1)\n",
        "print(\"Test accuracy: %0.4f%%\" % (score[1] * 100))\n"
      ],
      "metadata": {
        "colab": {
          "base_uri": "https://localhost:8080/"
        },
        "id": "KuWa0aRBv5fE",
        "outputId": "10815e10-be59-4f4b-cced-2c5c4748e63d"
      },
      "execution_count": null,
      "outputs": [
        {
          "output_type": "stream",
          "name": "stderr",
          "text": [
            "WARNING:tensorflow:Layer lstm_1 will not use cuDNN kernels since it doesn't meet the criteria. It will use a generic GPU kernel as fallback when running on GPU.\n"
          ]
        },
        {
          "output_type": "stream",
          "name": "stdout",
          "text": [
            "Epoch 1/5\n",
            "5/5 [==============================] - 3s 83ms/step - loss: 0.6931 - accuracy: 0.5000 - val_loss: 0.6970 - val_accuracy: 0.4000\n",
            "Epoch 2/5\n",
            "5/5 [==============================] - 0s 27ms/step - loss: 0.6898 - accuracy: 0.5714 - val_loss: 0.7024 - val_accuracy: 0.4000\n",
            "Epoch 3/5\n",
            "5/5 [==============================] - 0s 27ms/step - loss: 0.6881 - accuracy: 0.5714 - val_loss: 0.7096 - val_accuracy: 0.4000\n",
            "Epoch 4/5\n",
            "5/5 [==============================] - 0s 28ms/step - loss: 0.6869 - accuracy: 0.5714 - val_loss: 0.7160 - val_accuracy: 0.4000\n",
            "Epoch 5/5\n",
            "5/5 [==============================] - 0s 27ms/step - loss: 0.6847 - accuracy: 0.5714 - val_loss: 0.7207 - val_accuracy: 0.4000\n",
            "1/1 [==============================] - 0s 25ms/step - loss: 0.6727 - accuracy: 0.6333\n",
            "Test accuracy: 63.3333%\n"
          ]
        }
      ]
    }
  ]
}